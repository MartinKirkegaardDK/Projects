{
 "cells": [
  {
   "cell_type": "code",
   "execution_count": null,
   "id": "55bad56d",
   "metadata": {},
   "outputs": [],
   "source": [
    "import pandas as pd\n",
    "import numpy as np\n",
    "from collections import Counter\n",
    "import networkx as nx\n",
    "import random\n",
    "import matplotlib.pyplot as plt\n",
    "import warnings\n",
    "warnings.filterwarnings(\"ignore\", category=UserWarning)\n",
    "import folium\n",
    "import geojson\n",
    "import geopandas\n",
    "import mplleaflet"
   ]
  },
  {
   "cell_type": "markdown",
   "id": "cfd0c800",
   "metadata": {},
   "source": [
    "### Data loading"
   ]
  },
  {
   "cell_type": "code",
   "execution_count": null,
   "id": "b0f6d361",
   "metadata": {},
   "outputs": [],
   "source": [
    "airport_info = pd.read_csv(\"../Data/us-airports.csv\",delimiter=\",\")"
   ]
  },
  {
   "cell_type": "code",
   "execution_count": null,
   "id": "f56ae15e",
   "metadata": {},
   "outputs": [],
   "source": [
    "airport_info = airport_info[airport_info[\"type\"] != \"closed\"] #Removes closed airports"
   ]
  },
  {
   "cell_type": "code",
   "execution_count": null,
   "id": "ae2b43fb",
   "metadata": {},
   "outputs": [],
   "source": [
    "airport_names_origin = pd.read_csv(\"../Data/L_AIRPORT_ID.txt\",delimiter=\",\")"
   ]
  },
  {
   "cell_type": "code",
   "execution_count": null,
   "id": "c4960848",
   "metadata": {},
   "outputs": [],
   "source": [
    "#We drop the last entry since its an \"Unknown Point in Alaska\"\n",
    "airport_names_origin.drop(airport_names_origin.tail(1).index,inplace=True) # drop last n rows\n",
    "airport_names_origin"
   ]
  },
  {
   "cell_type": "code",
   "execution_count": null,
   "id": "20473918",
   "metadata": {
    "scrolled": true
   },
   "outputs": [],
   "source": [
    "airport_names_origin[\"Description\"] = [elm.split(\":\")[1].strip() for elm in airport_names_origin[\"Description\"]]"
   ]
  },
  {
   "cell_type": "code",
   "execution_count": null,
   "id": "eeb87a7b",
   "metadata": {},
   "outputs": [],
   "source": [
    "airport_names_dest = airport_names_origin.copy()"
   ]
  },
  {
   "cell_type": "code",
   "execution_count": null,
   "id": "b573cb5c",
   "metadata": {},
   "outputs": [],
   "source": [
    "#DO NOT CHANGE, MARTIN'S PEAK CODING\n",
    "airport_names_origin[\"ORIGIN_AIRPORT_ID\"] = airport_names_origin[\"Code\"]\n",
    "airport_names_origin[\"ORIGIN_AIRPORT\"] = airport_names_origin[\"Description\"]\n",
    "airport_names_origin = airport_names_origin.drop([\"Code\",\"Description\"], axis = 1)"
   ]
  },
  {
   "cell_type": "code",
   "execution_count": null,
   "id": "1317238d",
   "metadata": {},
   "outputs": [],
   "source": [
    "airport_names_dest[\"DEST_AIRPORT_ID\"] = airport_names_dest[\"Code\"]\n",
    "airport_names_dest[\"DEST_AIRPORT\"] = airport_names_dest[\"Description\"]\n",
    "airport_names_dest = airport_names_dest.drop([\"Code\",\"Description\"], axis = 1)"
   ]
  },
  {
   "cell_type": "code",
   "execution_count": null,
   "id": "276784e8",
   "metadata": {},
   "outputs": [],
   "source": [
    "data = pd.read_csv(\"../Data/T_T100D_SEGMENT_US_CARRIER_ONLY_2013_All.csv\",delimiter=\",\")"
   ]
  },
  {
   "cell_type": "code",
   "execution_count": null,
   "id": "ab362237",
   "metadata": {},
   "outputs": [],
   "source": [
    "data = pd.merge(data,airport_names_origin, on = [\"ORIGIN_AIRPORT_ID\"] )\n",
    "data = pd.merge(data,airport_names_dest, on = [\"DEST_AIRPORT_ID\"] )"
   ]
  },
  {
   "cell_type": "code",
   "execution_count": null,
   "id": "1ab4d4ef",
   "metadata": {},
   "outputs": [],
   "source": [
    "unique_airports = data.drop_duplicates(subset=['ORIGIN',\"DEST\"])"
   ]
  },
  {
   "cell_type": "code",
   "execution_count": null,
   "id": "e9c9b694",
   "metadata": {},
   "outputs": [],
   "source": [
    "unique_airports"
   ]
  },
  {
   "cell_type": "code",
   "execution_count": null,
   "id": "ee17d3d4",
   "metadata": {},
   "outputs": [],
   "source": [
    "#No idea what this does - Tak Martin\n",
    "airport_origin_coordinates = dict() \n",
    "airport_abv_coordinates = dict() #Abviviation of municipality\n",
    "airport_name_coordinates = dict() #The actual name of the airport\n",
    "for elm in unique_airports.iterrows():\n",
    "    #counter += 1\n",
    "    #print(elm[1][22])\n",
    "    #print(elm)\n",
    "    #break\n",
    "    local_code = elm[1][22]\n",
    "    sub = airport_info.loc[airport_info[\"local_code\"] == local_code]\n",
    "    if len(sub) == 0:\n",
    "        sub = airport_info.loc[airport_info[\"iata_code\"] == local_code]\n",
    "    if len(sub) == 0:\n",
    "        None\n",
    "    else:\n",
    "        lat_long = (float(sub[\"latitude_deg\"]),(float(sub[\"longitude_deg\"])))\n",
    "        airport_abv_coordinates[local_code] = lat_long\n",
    "        airport_origin_coordinates[elm[1][23]] = lat_long\n",
    "        airport_name_coordinates[elm[1][-2]] = lat_long"
   ]
  },
  {
   "cell_type": "code",
   "execution_count": null,
   "id": "2c32f670",
   "metadata": {},
   "outputs": [],
   "source": [
    "coordinates_df_origin = {\"ORIGIN\": list(airport_abv_coordinates.keys()),\"ORIGIN_COORDINATES\":list(airport_abv_coordinates.values())}\n",
    "coordinates_df_origin = pd.DataFrame(pd.DataFrame.from_dict(coordinates_df_origin))"
   ]
  },
  {
   "cell_type": "code",
   "execution_count": null,
   "id": "5c187b03",
   "metadata": {},
   "outputs": [],
   "source": [
    "coordinates_df_origin"
   ]
  },
  {
   "cell_type": "code",
   "execution_count": null,
   "id": "683d057a",
   "metadata": {},
   "outputs": [],
   "source": [
    "data = pd.merge(data,coordinates_df_origin, on = [\"ORIGIN\"] )"
   ]
  },
  {
   "cell_type": "code",
   "execution_count": null,
   "id": "0d55a0b7",
   "metadata": {},
   "outputs": [],
   "source": [
    "coordinates_df_dest = {\"DEST\": list(airport_abv_coordinates.keys()),\"DEST_COORDINATES\":list(airport_abv_coordinates.values())}\n",
    "coordinates_df_dest = pd.DataFrame(pd.DataFrame.from_dict(coordinates_df_dest))"
   ]
  },
  {
   "cell_type": "code",
   "execution_count": null,
   "id": "f42d9c80",
   "metadata": {},
   "outputs": [],
   "source": [
    "data = pd.merge(data,coordinates_df_dest, on = [\"DEST\"] )"
   ]
  },
  {
   "cell_type": "code",
   "execution_count": null,
   "id": "32f51d3e",
   "metadata": {},
   "outputs": [],
   "source": [
    "map1 = folium.Map()"
   ]
  },
  {
   "cell_type": "code",
   "execution_count": null,
   "id": "7c344b51",
   "metadata": {},
   "outputs": [],
   "source": [
    "gdf_coord = data[['ORIGIN_COORDINATES','DEST_COORDINATES']].drop_duplicates()"
   ]
  },
  {
   "cell_type": "code",
   "execution_count": null,
   "id": "824d070b",
   "metadata": {},
   "outputs": [],
   "source": [
    "gdf_coord"
   ]
  },
  {
   "cell_type": "code",
   "execution_count": null,
   "id": "932c16c1",
   "metadata": {},
   "outputs": [],
   "source": [
    "#for origin,name in zip(coordinates_df_origin['ORIGIN_COORDINATES'],coordinates_df_origin['ORIGIN']):\n",
    "#    folium.Marker(location= origin ,popup = name,icon=folium.Icon(color='lightgray', icon='plane',prefix = 'fa')).add_to(map1)"
   ]
  },
  {
   "cell_type": "code",
   "execution_count": null,
   "id": "e8a13270",
   "metadata": {},
   "outputs": [],
   "source": [
    "for points in zip(gdf_coord['ORIGIN_COORDINATES'],gdf_coord['DEST_COORDINATES']):\n",
    "    folium.PolyLine(points,color='black').add_to(map1)"
   ]
  },
  {
   "cell_type": "code",
   "execution_count": null,
   "id": "f5ad75b9",
   "metadata": {},
   "outputs": [],
   "source": [
    "asd = list(zip(gdf_coord['ORIGIN_COORDINATES'],gdf_coord['DEST_COORDINATES']))\n",
    "len(asd) # - very weird, it is different length in main v3"
   ]
  },
  {
   "cell_type": "code",
   "execution_count": null,
   "id": "a04e1455",
   "metadata": {},
   "outputs": [],
   "source": [
    "graph1 = data[['ORIGIN_CITY_NAME','DEST_CITY_NAME']].drop_duplicates().reset_index()"
   ]
  },
  {
   "cell_type": "code",
   "execution_count": null,
   "id": "2bd4a028",
   "metadata": {},
   "outputs": [],
   "source": [
    "graph1 = graph1.drop('index',axis = 1)"
   ]
  },
  {
   "cell_type": "code",
   "execution_count": null,
   "id": "c9a36567",
   "metadata": {},
   "outputs": [],
   "source": [
    "graph1 = graph1.sample(frac=1)"
   ]
  },
  {
   "cell_type": "code",
   "execution_count": null,
   "id": "5d57565a",
   "metadata": {},
   "outputs": [],
   "source": [
    "graph1 = graph1[graph1['ORIGIN_CITY_NAME'] != graph1['DEST_CITY_NAME']]"
   ]
  },
  {
   "cell_type": "code",
   "execution_count": null,
   "id": "0029f0a0",
   "metadata": {},
   "outputs": [],
   "source": [
    "graph1"
   ]
  },
  {
   "cell_type": "code",
   "execution_count": null,
   "id": "0d02bc97",
   "metadata": {},
   "outputs": [],
   "source": [
    "G = nx.MultiDiGraph()"
   ]
  },
  {
   "cell_type": "code",
   "execution_count": null,
   "id": "c8597d52",
   "metadata": {},
   "outputs": [],
   "source": [
    "G = nx.from_pandas_edgelist(graph1, 'ORIGIN_CITY_NAME', 'DEST_CITY_NAME')"
   ]
  },
  {
   "cell_type": "code",
   "execution_count": null,
   "id": "6aae5c71",
   "metadata": {},
   "outputs": [],
   "source": [
    "plt.figure(figsize=(100, 100))\n",
    "nx.draw(G, with_labels=True,node_color = 'grey',node_size = 1000)"
   ]
  },
  {
   "cell_type": "code",
   "execution_count": null,
   "id": "2ff7dd15",
   "metadata": {},
   "outputs": [],
   "source": []
  },
  {
   "cell_type": "code",
   "execution_count": null,
   "id": "3a3a08b4",
   "metadata": {},
   "outputs": [],
   "source": []
  },
  {
   "cell_type": "code",
   "execution_count": null,
   "id": "736f159c",
   "metadata": {},
   "outputs": [],
   "source": [
    "origin_airport = pd.DataFrame(gdf_coord[\"ORIGIN_COORDINATES\"].to_list(), columns=['x', 'y']).drop_duplicates()"
   ]
  },
  {
   "cell_type": "code",
   "execution_count": null,
   "id": "a726911f",
   "metadata": {},
   "outputs": [],
   "source": [
    "flights1 = pd.DataFrame(gdf_coord[\"ORIGIN_COORDINATES\"].to_list(), columns=['x1', 'y1'])\n",
    "flights2 = pd.DataFrame(gdf_coord[\"DEST_COORDINATES\"].to_list(), columns=['x2', 'y2'])"
   ]
  },
  {
   "cell_type": "code",
   "execution_count": null,
   "id": "e7db531b",
   "metadata": {},
   "outputs": [],
   "source": [
    "flights = pd.concat([flights1, flights2], axis=1, join='inner')"
   ]
  },
  {
   "cell_type": "code",
   "execution_count": null,
   "id": "65a22231",
   "metadata": {},
   "outputs": [],
   "source": []
  },
  {
   "cell_type": "code",
   "execution_count": null,
   "id": "afafa5b1",
   "metadata": {},
   "outputs": [],
   "source": []
  },
  {
   "cell_type": "code",
   "execution_count": null,
   "id": "83ec066d",
   "metadata": {},
   "outputs": [],
   "source": []
  },
  {
   "cell_type": "code",
   "execution_count": null,
   "id": "6f0a1e0e",
   "metadata": {},
   "outputs": [],
   "source": [
    "flights = flights[(flights['x1'] != flights['x2']) & (flights['y1'] != flights['y2'])]\n",
    "flights"
   ]
  },
  {
   "cell_type": "code",
   "execution_count": null,
   "id": "8c93484d",
   "metadata": {},
   "outputs": [],
   "source": [
    "flight_count = data[['ORIGIN_COORDINATES','DEST_COORDINATES']].groupby(data[['ORIGIN_COORDINATES','DEST_COORDINATES']].columns.tolist(),sort = False,as_index=False).size().drop(['ORIGIN_COORDINATES','DEST_COORDINATES'],axis = 1)"
   ]
  },
  {
   "cell_type": "code",
   "execution_count": null,
   "id": "e5dcd41d",
   "metadata": {},
   "outputs": [],
   "source": [
    "flight_count"
   ]
  },
  {
   "cell_type": "code",
   "execution_count": null,
   "id": "53279f57",
   "metadata": {},
   "outputs": [],
   "source": [
    "def NormalizeData(data):\n",
    "    return (data - np.min(data)) / (np.max(data) - np.min(data))"
   ]
  },
  {
   "cell_type": "code",
   "execution_count": null,
   "id": "f67c3457",
   "metadata": {},
   "outputs": [],
   "source": [
    "dds = NormalizeData(flight_count)"
   ]
  },
  {
   "cell_type": "code",
   "execution_count": null,
   "id": "dd87a26b",
   "metadata": {},
   "outputs": [],
   "source": []
  },
  {
   "cell_type": "code",
   "execution_count": null,
   "id": "f0ecfb5f",
   "metadata": {},
   "outputs": [],
   "source": [
    "destination = pd.DataFrame(gdf_coord[\"DEST_COORDINATES\"].to_list(), columns=['x', 'y']).drop_duplicates()"
   ]
  },
  {
   "cell_type": "code",
   "execution_count": null,
   "id": "01beefbb",
   "metadata": {},
   "outputs": [],
   "source": []
  },
  {
   "cell_type": "code",
   "execution_count": null,
   "id": "4679678b",
   "metadata": {},
   "outputs": [],
   "source": [
    "x_values = [flights.x1,flights.x2]\n",
    "y_values = [flights.y1,flights.y2]"
   ]
  },
  {
   "cell_type": "code",
   "execution_count": null,
   "id": "987adedf",
   "metadata": {},
   "outputs": [],
   "source": [
    "x_values"
   ]
  },
  {
   "cell_type": "code",
   "execution_count": null,
   "id": "d7b44ce1",
   "metadata": {
    "scrolled": true
   },
   "outputs": [],
   "source": [
    "#plot with the transparency of the line by the normalized value of the number of flights\n",
    "fig = plt.figure(figsize = (400,80))\n",
    "for i in range(len(x_values)):\n",
    "    plt.plot(y_values, x_values,'grey',alpha = dds['size'][i]);\n",
    "plt.scatter(y_values,x_values)\n",
    "plt.show()"
   ]
  },
  {
   "cell_type": "code",
   "execution_count": null,
   "id": "4c0f5718",
   "metadata": {},
   "outputs": [],
   "source": [
    "passengers = data[['PASSENGERS','ORIGIN_AIRPORT','DEST_AIRPORT']]"
   ]
  },
  {
   "cell_type": "code",
   "execution_count": null,
   "id": "57ea69e6",
   "metadata": {},
   "outputs": [],
   "source": [
    "passengers = passengers.groupby(['ORIGIN_AIRPORT','DEST_AIRPORT'],sort = False,as_index = False).sum().drop(['ORIGIN_AIRPORT','DEST_AIRPORT'],axis = 1)"
   ]
  },
  {
   "cell_type": "code",
   "execution_count": null,
   "id": "28baeb39",
   "metadata": {},
   "outputs": [],
   "source": [
    "passengers"
   ]
  },
  {
   "cell_type": "code",
   "execution_count": null,
   "id": "19cdd9eb",
   "metadata": {},
   "outputs": [],
   "source": [
    "dds1 = NormalizeData(passengers)\n",
    "pass_count = []\n",
    "for i in dds1['PASSENGERS']:\n",
    "    if i < 0.95:\n",
    "        i+= 0.05\n",
    "    pass_count.append(i)"
   ]
  },
  {
   "cell_type": "code",
   "execution_count": null,
   "id": "808bb01a",
   "metadata": {},
   "outputs": [],
   "source": []
  },
  {
   "cell_type": "code",
   "execution_count": null,
   "id": "b4a412b1",
   "metadata": {},
   "outputs": [],
   "source": []
  },
  {
   "cell_type": "code",
   "execution_count": null,
   "id": "ab6897a8",
   "metadata": {},
   "outputs": [],
   "source": []
  },
  {
   "cell_type": "code",
   "execution_count": null,
   "id": "1bc26076",
   "metadata": {
    "scrolled": false
   },
   "outputs": [],
   "source": [
    "#plot with the transparency of the line by the normalized value of the number of passengers + 0.05 due to values being too small\n",
    "fig,ax = plt.subplots(figsize = (400,80))\n",
    "for i in range(len(x_values)):\n",
    "    ax.plot(y_values, x_values,'grey',alpha = pass_count[i])\n",
    "#ax.scatter(y_values,x_values)\n",
    "plt.savefig('transparent.png', transparent=True)"
   ]
  },
  {
   "cell_type": "code",
   "execution_count": null,
   "id": "fb18778e",
   "metadata": {},
   "outputs": [],
   "source": [
    "x_values"
   ]
  },
  {
   "cell_type": "code",
   "execution_count": null,
   "id": "903accbc",
   "metadata": {},
   "outputs": [],
   "source": [
    "#plot with the transparency of the line by the normalized value of the number of passengers + 0.05 due to values being too small\n",
    "fig,ax = plt.subplots(figsize = (400,80))\n",
    "\n",
    "x_zip = zip(x_values[0],x_values[1])\n",
    "y_zip = zip(y_values[0],y_values[1])\n",
    "\n",
    "for i, (x,y) in enumerate(zip(x_zip,y_zip)):\n",
    "    ax.plot(y,x,'grey',alpha = pass_count[i])\n",
    "#ax.scatter(y_values,x_values)\n",
    "plt.show()"
   ]
  },
  {
   "cell_type": "code",
   "execution_count": null,
   "id": "a0359e7e",
   "metadata": {
    "scrolled": false
   },
   "outputs": [],
   "source": [
    "x = list(zip(x_values,x_values))\n",
    "y = list(zip(y_values,x_values))\n"
   ]
  },
  {
   "cell_type": "code",
   "execution_count": null,
   "id": "e3cfe77a",
   "metadata": {},
   "outputs": [],
   "source": [
    "fig,ax = plt.subplots(figsize = (100,20))\n",
    "for i in range(1000):\n",
    "    ax.plot(y[i],x[i])\n",
    "#ax.scatter(y_values,x_values)\n",
    "plt.show()"
   ]
  },
  {
   "cell_type": "code",
   "execution_count": null,
   "id": "9d77178d",
   "metadata": {},
   "outputs": [],
   "source": []
  },
  {
   "cell_type": "code",
   "execution_count": null,
   "id": "e28e4385",
   "metadata": {},
   "outputs": [],
   "source": []
  },
  {
   "cell_type": "code",
   "execution_count": null,
   "id": "6cba3932",
   "metadata": {},
   "outputs": [],
   "source": []
  }
 ],
 "metadata": {
  "kernelspec": {
   "display_name": "Python 3",
   "language": "python",
   "name": "python3"
  },
  "language_info": {
   "codemirror_mode": {
    "name": "ipython",
    "version": 3
   },
   "file_extension": ".py",
   "mimetype": "text/x-python",
   "name": "python",
   "nbconvert_exporter": "python",
   "pygments_lexer": "ipython3",
   "version": "3.8.8"
  }
 },
 "nbformat": 4,
 "nbformat_minor": 5
}

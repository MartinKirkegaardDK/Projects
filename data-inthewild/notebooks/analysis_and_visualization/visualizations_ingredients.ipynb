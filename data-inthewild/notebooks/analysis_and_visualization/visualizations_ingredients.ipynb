{
 "cells": [
  {
   "cell_type": "code",
   "execution_count": null,
   "metadata": {},
   "outputs": [],
   "source": [
    "import json\n",
    "import cartopy.crs as ccrs\n",
    "import matplotlib.pyplot as plt\n",
    "from collections import defaultdict, Counter\n",
    "import numpy as np\n",
    "import pandas as pd\n",
    "import seaborn as sns\n",
    "rc = {'figure.figsize':(10,5),\n",
    "      'axes.facecolor':'white',\n",
    "      'axes.grid' : False,\n",
    "      'axes.spines.bottom': False,\n",
    "      'axes.spines.left': False,\n",
    "      'axes.spines.right': False,\n",
    "      'axes.spines.top': False,}\n",
    "plt.rcParams.update(rc)\n",
    "\n",
    "from sklearn.decomposition import PCA\n",
    "from sklearn.cluster import KMeans\n",
    "from sklearn.preprocessing import MultiLabelBinarizer"
   ]
  },
  {
   "cell_type": "code",
   "execution_count": null,
   "metadata": {},
   "outputs": [],
   "source": [
    "DATA_PATH = '../../data/processed/data.json'\n",
    "VISUALIZATION_FOLDER = '../../visualizations/ingredients/'"
   ]
  },
  {
   "cell_type": "code",
   "execution_count": null,
   "metadata": {},
   "outputs": [],
   "source": [
    "with open(DATA_PATH, 'r', encoding='utf-8') as f:\n",
    "    data = json.load(f)\n",
    "keys = list(data.keys())"
   ]
  },
  {
   "cell_type": "code",
   "execution_count": null,
   "metadata": {},
   "outputs": [],
   "source": [
    "first_10 = keys"
   ]
  },
  {
   "cell_type": "code",
   "execution_count": null,
   "metadata": {},
   "outputs": [],
   "source": [
    "colors = {\n",
    "    'Africa': 'green',\n",
    "    'Asia': 'red',\n",
    "    'Brazil': 'yellow',\n",
    "    'United Kingdom': 'blue',\n",
    "    'Caribbean': 'yellow',\n",
    "    'Central and South America': 'yellow',\n",
    "    'China': 'red',\n",
    "    'Cuba': 'yellow',\n",
    "    'Dominican Republic': 'yellow',\n",
    "    'Ethiopia': 'green',\n",
    "    'Europe': 'blue',\n",
    "    'Philippines': 'red',\n",
    "    'France': 'blue',\n",
    "    'Germany': 'blue',\n",
    "    'Haiti': 'yellow',\n",
    "    'Hawaii': 'purple',\n",
    "    'India': 'orange',\n",
    "    'Italy': 'blue',\n",
    "    'Jamaica': 'yellow',\n",
    "    'Japan': 'red',\n",
    "    'Kenya': 'green',\n",
    "    'Korea': 'red',\n",
    "    'Laos': 'red',\n",
    "    'Lebanon': 'orange',\n",
    "    'Mediterranean': 'blue',\n",
    "    'Mexico': 'yellow',\n",
    "    'Middle East': 'orange',\n",
    "    'North America': 'purple',\n",
    "    'Persia': 'orange',\n",
    "    'Peru': 'yellow',\n",
    "    'Poland': 'blue',\n",
    "    'Puerto Rico': 'yellow',\n",
    "    'South Africa': 'green',\n",
    "    'Southern United States': 'purple',\n",
    "    'Southwestern United States': 'purple',\n",
    "    'Sweden': 'blue',\n",
    "    'Taiwan': 'red',\n",
    "    'Thailand': 'red',\n",
    "    'Venezuela': 'yellow',\n",
    "    'Vietnam': 'red',\n",
    "    'West Africa': 'green'\n",
    "}\n",
    "\n",
    "countries_from_colors = defaultdict(list)\n",
    "\n",
    "for country, color in colors.items():\n",
    "    countries_from_colors[color].append(country)"
   ]
  },
  {
   "cell_type": "code",
   "execution_count": null,
   "metadata": {},
   "outputs": [],
   "source": []
  },
  {
   "cell_type": "markdown",
   "metadata": {},
   "source": [
    "## Binarizing ingredients"
   ]
  },
  {
   "cell_type": "code",
   "execution_count": null,
   "metadata": {},
   "outputs": [],
   "source": [
    "ingredient_annotations = [recipe['ingredient_annotations'] for recipe \n",
    "                            in data.values()]\n",
    "\n",
    "unique_ingredients = set()\n",
    "\n",
    "for ingredients in ingredient_annotations:\n",
    "    for ingredient in ingredients:\n",
    "        unique_ingredients.add(ingredient)\n",
    "\n",
    "# make a binarized encoding of all ingredients\n",
    "recipes = list(data.keys())\n",
    "ingredient_columns = dict()\n",
    "\n",
    "for ingredient in unique_ingredients:\n",
    "    ingredient_columns[ingredient] = np.array([1 if ingredient in data[recipe]['ingredient_annotations'] else 0 for recipe in recipes])\n",
    "\n",
    "df = pd.DataFrame(ingredient_columns, index=recipes)"
   ]
  },
  {
   "cell_type": "code",
   "execution_count": null,
   "metadata": {},
   "outputs": [],
   "source": [
    "# frequency of ingredients in all recipes\n",
    "all_ingreds = []\n",
    "for val in data.values():\n",
    "    all_ingreds.extend(val[\"ingredient_annotations\"])\n",
    "\n",
    "ingred_counter = Counter(all_ingreds)\n",
    "\n",
    "most_common = [ingr for ingr, _ in sorted(list(ingred_counter.items()), key=lambda x: x[1], reverse=True)]\n",
    "\n",
    "# don't include the 15 most common ingredients -- This we found improved the PCA\n",
    "for ingr in most_common[:15]:\n",
    "    del df[ingr]"
   ]
  },
  {
   "cell_type": "markdown",
   "metadata": {},
   "source": [
    "## Distribution of ingredients"
   ]
  },
  {
   "cell_type": "code",
   "execution_count": null,
   "metadata": {},
   "outputs": [],
   "source": [
    "list_ingred_counter = sorted(list(ingred_counter.items()), key=lambda x: x[1], reverse=True)"
   ]
  },
  {
   "cell_type": "code",
   "execution_count": null,
   "metadata": {},
   "outputs": [],
   "source": [
    "fig = plt.figure(figsize=(12,6))\n",
    "\n",
    "ingr, num = list(zip(*list_ingred_counter[:40]))\n",
    "\n",
    "plt.fill_between(ingr, num, color='grey', alpha=0.5)\n",
    "plt.plot(ingr,num, color='green')\n",
    "plt.xticks(rotation=60, ha='right')\n",
    "plt.ylabel('# recipes with ingredient')\n",
    "\n",
    "plt.savefig(VISUALIZATION_FOLDER + 'ingredient_distribution.png', dpi=300, bbox_inches='tight')\n",
    "plt.show()"
   ]
  },
  {
   "cell_type": "markdown",
   "metadata": {},
   "source": [
    "## PCA of ingredients"
   ]
  },
  {
   "cell_type": "code",
   "execution_count": null,
   "metadata": {},
   "outputs": [],
   "source": [
    "# PCA with 2 components, for visualisation purposes\n",
    "pca_recipes = PCA(n_components=2)\n",
    "\n",
    "df_PCA= pd.DataFrame(data = pca_recipes.fit_transform(df), \n",
    "                     index=recipes)\n",
    "\n",
    "# using the clusters computed by KMeans\n",
    "#PCA_df['cluster'] = res"
   ]
  },
  {
   "cell_type": "code",
   "execution_count": null,
   "metadata": {},
   "outputs": [],
   "source": [
    "tags_to_use = {'Italy',\n",
    "               'China',\n",
    "               'Mexico',\n",
    "               'India'}\n",
    "\n",
    "colors_to_use = {\n",
    "    'Italy': 'magenta',\n",
    "    'China': 'turquoise',\n",
    "    'Mexico': 'black',\n",
    "    'India': 'yellow'\n",
    "\n",
    "}\n",
    "\n",
    "df_PCA['location'] = [\n",
    "    list(\n",
    "        tags_to_use.intersection(data[ind]['geographical_tags_updated'])\n",
    "    )[0]\n",
    "\n",
    "    if len(tags_to_use.intersection(data[ind]['geographical_tags_updated'])) == 1\n",
    "    \n",
    "    else 'Other'\n",
    "\n",
    "    for ind in df_PCA.index\n",
    "]\n",
    "\n",
    "plt.figure(figsize=(10, 10))\n",
    "#plt.rcParams['font.family'] = 'Computer Modern'\n",
    "\n",
    "# Filter the dataframe to separate 'Other' from the rest of the data\n",
    "other_data = df_PCA[df_PCA['location'] == 'Other']\n",
    "colored_data = df_PCA[df_PCA['location'] != 'Other']\n",
    "\n",
    "sns.scatterplot(x=other_data[0], y=other_data[1], color='grey', label='Other', alpha=0.5, s=50)\n",
    "sns.scatterplot(x=colored_data[0], y=colored_data[1], hue=colored_data['location'], palette=colors_to_use, s=50)\n",
    "\n",
    "# Add legend\n",
    "plt.legend(fontsize='large', framealpha=1, facecolor='white', edgecolor='gray', title=\"Cuisine\", title_fontsize='large')\n",
    "#plt.title('Principal Component Analysis of\\ningredients with selected tags highlighted')\n",
    "\n",
    "plt.xlabel('PCA1')\n",
    "plt.ylabel('PCA2')\n",
    "plt.savefig(VISUALIZATION_FOLDER + 'PCA.png', dpi=300, bbox_inches='tight')\n",
    "# Show the plot\n",
    "plt.show()"
   ]
  },
  {
   "cell_type": "markdown",
   "metadata": {},
   "source": [
    "## Clustering of ingredients"
   ]
  },
  {
   "cell_type": "code",
   "execution_count": null,
   "metadata": {},
   "outputs": [],
   "source": [
    "amount_clusters = 4\n",
    "\n",
    "kmeans = KMeans(n_clusters = amount_clusters, random_state = 10)\n",
    "res = kmeans.fit_predict(df)"
   ]
  },
  {
   "cell_type": "code",
   "execution_count": null,
   "metadata": {},
   "outputs": [],
   "source": [
    "cluster_colors = {\n",
    "    0: 'green',\n",
    "    1: 'orange',\n",
    "    2: 'blue',\n",
    "    3: 'red'\n",
    "}"
   ]
  },
  {
   "cell_type": "code",
   "execution_count": null,
   "metadata": {},
   "outputs": [],
   "source": [
    "df_clusters = df.copy()\n",
    "df_clusters['cluster'] = res\n",
    "df_PCA['cluster'] = res"
   ]
  },
  {
   "cell_type": "code",
   "execution_count": null,
   "metadata": {},
   "outputs": [],
   "source": [
    "plt.figure(figsize=(10, 10))\n",
    "\n",
    "sns.scatterplot(x=df_PCA[0], y=df_PCA[1], hue=df_PCA['cluster'], palette=cluster_colors, s=50)\n",
    "\n",
    "# Add legend\n",
    "plt.legend(title='KMeans cluster', framealpha=1, facecolor='white', edgecolor='gray', fontsize='large', title_fontsize='large')\n",
    "#plt.title('Principal Component Analysis of\\ningredients with selected tags highlighted')\n",
    "\n",
    "plt.xlabel('PCA1')\n",
    "plt.ylabel('PCA2')\n",
    "plt.savefig(VISUALIZATION_FOLDER + 'PCA_clusters.png', dpi=300, bbox_inches='tight')\n",
    "# Show the plot\n",
    "plt.show()\n"
   ]
  },
  {
   "cell_type": "markdown",
   "metadata": {},
   "source": [
    "#### Mapping"
   ]
  },
  {
   "cell_type": "code",
   "execution_count": null,
   "metadata": {},
   "outputs": [],
   "source": [
    "print(sns.color_palette('husl', 9).as_hex())"
   ]
  },
  {
   "cell_type": "code",
   "execution_count": null,
   "metadata": {},
   "outputs": [],
   "source": [
    "sns.set_theme(style='whitegrid')\n",
    "\n",
    "fig = plt.figure(figsize=(15,8))\n",
    "\n",
    "ax = plt.axes(projection=ccrs.Robinson())\n",
    "#ax.stock_img()\n",
    "ax.coastlines(color='gray')\n",
    "\n",
    "coords = defaultdict(lambda: {'lng_coords': [], 'lat_coords': []})\n",
    "\n",
    "for key in keys:\n",
    "    for item in data[key]['geographical_tags_updated_coords']:\n",
    "        for tag in item:\n",
    "            coords[df_clusters.loc[key]['cluster']]['lng_coords'].append(\n",
    "                    item[tag][0]['lng']\n",
    "            )\n",
    "            coords[df_clusters.loc[key]['cluster']]['lat_coords'].append(\n",
    "                    item[tag][0]['lat']\n",
    "            )\n",
    "\n",
    "for cluster in coords:\n",
    "    try:\n",
    "        jittered_lng_coords = [lng + np.random.normal(0, 8) for lng in coords[cluster]['lng_coords']]\n",
    "        jittered_lat_coords = [lat + np.random.normal(0, 5) for lat in coords[cluster]['lat_coords']]\n",
    "    except:\n",
    "        continue\n",
    "\n",
    "    plt.plot(jittered_lng_coords, jittered_lat_coords,\n",
    "            color=cluster_colors[cluster], label=cluster, linestyle='', \n",
    "                marker='o', markersize=3, markeredgewidth=0.5, markeredgecolor='gray', alpha=1, \n",
    "                transform=ccrs.Geodetic())\n",
    "\n",
    "\n",
    "plt.legend(ncol=1, fontsize='medium', loc='lower right', fancybox=True, framealpha=1, facecolor='white', edgecolor='gray', markerscale=3, title='KMeans cluster')\n",
    "\n",
    "plt.savefig(VISUALIZATION_FOLDER + 'map.png', dpi=300, bbox_inches='tight')\n",
    "plt.show()"
   ]
  },
  {
   "cell_type": "code",
   "execution_count": null,
   "metadata": {},
   "outputs": [],
   "source": []
  },
  {
   "cell_type": "code",
   "execution_count": null,
   "metadata": {},
   "outputs": [],
   "source": []
  }
 ],
 "metadata": {
  "kernelspec": {
   "display_name": "Python 3",
   "language": "python",
   "name": "python3"
  },
  "language_info": {
   "codemirror_mode": {
    "name": "ipython",
    "version": 3
   },
   "file_extension": ".py",
   "mimetype": "text/x-python",
   "name": "python",
   "nbconvert_exporter": "python",
   "pygments_lexer": "ipython3",
   "version": "3.10.11"
  }
 },
 "nbformat": 4,
 "nbformat_minor": 2
}

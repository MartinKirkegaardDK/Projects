{
 "cells": [
  {
   "cell_type": "code",
   "execution_count": 3,
   "metadata": {},
   "outputs": [],
   "source": [
    "import pandas as pd\n",
    "import numpy as np\n",
    "import networkx as nx\n",
    "import matplotlib.pyplot as plt\n",
    "import random"
   ]
  },
  {
   "cell_type": "code",
   "execution_count": 5,
   "metadata": {},
   "outputs": [],
   "source": [
    "df = pd.read_csv('../../Data/final_cool_dataset.csv')\n",
    "edges = [(row['ORIGIN'], row['DEST'], {'weight': row['PASSENGERS']}) for _, row in df.iterrows()]"
   ]
  },
  {
   "cell_type": "code",
   "execution_count": 59,
   "metadata": {},
   "outputs": [],
   "source": [
    "\n",
    "class Simulation:\n",
    "    \n",
    "    def __init__(self, edgelist):\n",
    "        self.Graph = nx.DiGraph()\n",
    "        self.Graph.add_edges_from(edgelist)\n",
    "        for node in self.Graph.nodes():\n",
    "            self.Graph.nodes[node]['sum_weight_root'] = np.sqrt(sum([self.Graph[node][i]['weight'] for i in self.Graph.neighbors(node)]) + 0.001)\n",
    "\n",
    "    def one_tick(self, beta, infected):\n",
    "        '''\n",
    "        simulates one tick, taking a beta value and a set of already infected nodes\n",
    "        returns a new set of infected nodes\n",
    "        '''\n",
    "        \n",
    "        add_to_set = set()\n",
    "        \n",
    "        for node in infected:\n",
    "\n",
    "            for neighbor in self.Graph.neighbors(node):\n",
    "                if neighbor not in infected:\n",
    "                    if beta * ((self.Graph[node][neighbor]['weight'] + 1) / self.Graph.nodes[node]['sum_weight_root']) > random.random():\n",
    "                        add_to_set.add(neighbor)\n",
    "                    \n",
    "        return infected | add_to_set\n",
    "    \n",
    "    def simulate_amount_of_ticks(self, beta, outset='random', ticks=1):\n",
    "        '''\n",
    "        simulates specified amount of ticks, taking a beta value, an amount of ticks \n",
    "        and an initial outset of infected nodes (defaults a random node)\n",
    "        returns a list of sets, each element being the set of infected nodes for each tick\n",
    "        '''\n",
    "        \n",
    "        if outset == 'random':\n",
    "            infected_list = [{random.choice(list(self.Graph.nodes()))}]\n",
    "        else:\n",
    "            infected_list = [outset]\n",
    "        \n",
    "        for _ in range(ticks):\n",
    "            infected_list.append(self.one_tick(beta, infected_list[-1]))\n",
    "    \n",
    "        return infected_list\n",
    "    \n",
    "    def simulate_until_threshold(self, beta, threshold, outset='random', limit=500):\n",
    "        '''\n",
    "        simulates until a certain number of nodes are infected, taking a beta value,\n",
    "        a threshold and a limit for amount of ticks\n",
    "        returns the amount of ticks to get to threshold\n",
    "        '''\n",
    "        \n",
    "        if outset == 'random':\n",
    "            infected = {random.choice(list(self.Graph.nodes()))}\n",
    "        else:\n",
    "            infected = outset\n",
    "        \n",
    "        for i in range(limit):\n",
    "            infected = self.one_tick(beta, infected)\n",
    "            \n",
    "            if len(infected) >= threshold:\n",
    "                return i\n",
    "    \n",
    "        return limit\n",
    "    \n",
    "    def threshold_trials(self, beta, threshold, outset='random', limit=500, trials=10):\n",
    "        '''\n",
    "        simulates a number of trials using the threshold method,\n",
    "        returning a list of the amount of ticks to reach threshold\n",
    "        '''\n",
    "        \n",
    "        return [self.simulate_until_threshold(beta=beta, threshold=threshold, outset=outset, limit=limit) for _ in range(trials)]   "
   ]
  },
  {
   "cell_type": "code",
   "execution_count": 60,
   "metadata": {},
   "outputs": [],
   "source": [
    "c = Simulation(edges)"
   ]
  },
  {
   "cell_type": "code",
   "execution_count": 61,
   "metadata": {},
   "outputs": [],
   "source": [
    "b = 0.005"
   ]
  },
  {
   "cell_type": "code",
   "execution_count": 62,
   "metadata": {},
   "outputs": [],
   "source": [
    "def p_r(count,x):\n",
    "    print(count)\n",
    "    return x"
   ]
  },
  {
   "cell_type": "code",
   "execution_count": 63,
   "metadata": {},
   "outputs": [
    {
     "name": "stdout",
     "output_type": "stream",
     "text": [
      "0\n",
      "1\n",
      "2\n",
      "3\n",
      "4\n",
      "5\n",
      "6\n",
      "7\n",
      "8\n",
      "9\n"
     ]
    }
   ],
   "source": [
    "test = [p_r(i,c.threshold_trials(b,250, trials=500)) for i in range(10)]"
   ]
  },
  {
   "cell_type": "code",
   "execution_count": 64,
   "metadata": {},
   "outputs": [
    {
     "data": {
      "text/plain": [
       "[24.256, 21.482, 21.08, 22.556, 21.608, 21.864, 23.502, 22.188, 23.822, 22.056]"
      ]
     },
     "execution_count": 64,
     "metadata": {},
     "output_type": "execute_result"
    }
   ],
   "source": [
    "[sum(i)/len(i) for i in test]"
   ]
  },
  {
   "cell_type": "code",
   "execution_count": 26,
   "metadata": {},
   "outputs": [
    {
     "data": {
      "text/plain": [
       "1000"
      ]
     },
     "execution_count": 26,
     "metadata": {},
     "output_type": "execute_result"
    }
   ],
   "source": [
    "len(c.Graph.nodes())"
   ]
  }
 ],
 "metadata": {
  "kernelspec": {
   "display_name": "Python 3",
   "language": "python",
   "name": "python3"
  },
  "language_info": {
   "codemirror_mode": {
    "name": "ipython",
    "version": 3
   },
   "file_extension": ".py",
   "mimetype": "text/x-python",
   "name": "python",
   "nbconvert_exporter": "python",
   "pygments_lexer": "ipython3",
   "version": "3.7.4"
  }
 },
 "nbformat": 4,
 "nbformat_minor": 2
}

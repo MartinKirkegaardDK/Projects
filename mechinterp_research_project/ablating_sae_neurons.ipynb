{
 "cells": [
  {
   "cell_type": "code",
   "execution_count": null,
   "metadata": {},
   "outputs": [],
   "source": []
  },
  {
   "cell_type": "code",
   "execution_count": 1,
   "metadata": {},
   "outputs": [],
   "source": [
    "import torch\n",
    "from torch import nn\n",
    "from transformers import AutoModelForCausalLM, AutoTokenizer\n",
    "\n",
    "import pandas as pd\n",
    "\n",
    "from src.sparse_autoencoders import SAE_topk\n",
    "\n",
    "device = torch.device(\"cuda\" if torch.cuda.is_available() else \"cpu\")"
   ]
  },
  {
   "cell_type": "code",
   "execution_count": null,
   "metadata": {},
   "outputs": [],
   "source": [
    "model_url = \"EleutherAI/pythia-14m\"\n",
    "model_name = model_url.split('/')[-1]\n",
    "model = AutoModelForCausalLM.from_pretrained(model_url).to(device)\n",
    "tokenizer = AutoTokenizer.from_pretrained(model_url)\n",
    "layer = 3\n",
    "k = 20\n",
    "\n",
    "hookpoint_name = 'gpt_neox.layers.$.mlp.act'\n",
    "hookpoint = hookpoint_name.replace('$', str(layer))\n",
    "\n",
    "input_size = model.config.intermediate_size\n",
    "expansion_factor = 4\n",
    "\n",
    "meta_data = {\n",
    "    'input_size': input_size,\n",
    "    'hidden_size': input_size * expansion_factor,\n",
    "    'k': k\n",
    "}\n",
    "\n",
    "sae = SAE_topk(meta_data=meta_data)\n",
    "\n",
    "sae.load_state_dict(torch.load(f'models/sparse_autoencoders/pythia-14m/topk{k}/{hookpoint}.pt', weights_only=True))\n",
    "\n",
    "acts_path = f'results/sparse_autoencoder_activations/{model_name}/{hookpoint}.csv'\n",
    "\n",
    "df = pd.read_csv(acts_path)"
   ]
  },
  {
   "cell_type": "code",
   "execution_count": 14,
   "metadata": {},
   "outputs": [],
   "source": [
    "avg_da = df['avg_da'].to_numpy()\n",
    "avg_en = df['avg_en'].to_numpy()"
   ]
  },
  {
   "cell_type": "code",
   "execution_count": 15,
   "metadata": {},
   "outputs": [
    {
     "data": {
      "text/plain": [
       "array([0.        , 0.        , 0.        , ..., 0.00562852, 0.00562852,\n",
       "       0.        ])"
      ]
     },
     "execution_count": 15,
     "metadata": {},
     "output_type": "execute_result"
    }
   ],
   "source": [
    "avg_da"
   ]
  },
  {
   "cell_type": "code",
   "execution_count": null,
   "metadata": {},
   "outputs": [],
   "source": [
    "def make_ablation_mask(size, neuron):\n",
    "    mask = torch.zeros(size)\n",
    "    mask[neuron] = 1\n",
    "\n",
    "    return mask "
   ]
  },
  {
   "cell_type": "code",
   "execution_count": null,
   "metadata": {},
   "outputs": [],
   "source": [
    "exceptions = []\n",
    "\n",
    "def generate_with_sae(model, sae, hookpoint, tokenized_input, ablation_mask=None):\n",
    "\n",
    "    def hook(module, _, outputs):\n",
    "\n",
    "\n",
    "        h = torch.relu(torch.matmul(outputs, sae.WT) + sae.b1)\n",
    "\n",
    "        if ablation_mask != None:\n",
    "            for i in range(h.shape[1]):\n",
    "                h[0][i][ablation_mask] = 0\n",
    "\n",
    "\n",
    "        outputs = torch.matmul(h, sae.W) + sae.b2\n",
    "\n",
    "        return outputs\n",
    "\n",
    "    attached_hook = model.get_submodule(hookpoint).register_forward_hook(hook)\n",
    "\n",
    "    try:\n",
    "        output = model.generate(tokenized_input['input_ids'],\n",
    "                                max_length=100,\n",
    "                                attention_mask=tokenized_input.attention_mask,\n",
    "                                pad_token_id=tokenizer.eos_token_id)\n",
    "    except Exception as e:\n",
    "        exceptions.append(e)\n",
    "\n",
    "    attached_hook.remove()\n",
    "\n",
    "    try:\n",
    "        return output\n",
    "    except:\n",
    "        return None"
   ]
  }
 ],
 "metadata": {
  "kernelspec": {
   "display_name": "rp",
   "language": "python",
   "name": "python3"
  },
  "language_info": {
   "codemirror_mode": {
    "name": "ipython",
    "version": 3
   },
   "file_extension": ".py",
   "mimetype": "text/x-python",
   "name": "python",
   "nbconvert_exporter": "python",
   "pygments_lexer": "ipython3",
   "version": "3.11.9"
  }
 },
 "nbformat": 4,
 "nbformat_minor": 2
}

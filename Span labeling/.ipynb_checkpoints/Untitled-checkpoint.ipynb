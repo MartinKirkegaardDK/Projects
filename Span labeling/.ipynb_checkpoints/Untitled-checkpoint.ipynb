{
 "cells": [
  {
   "cell_type": "code",
   "execution_count": 51,
   "id": "a642c446",
   "metadata": {},
   "outputs": [],
   "source": [
    "import gensim\n",
    "import pandas as pd\n",
    "import numpy as np"
   ]
  },
  {
   "cell_type": "code",
   "execution_count": 3,
   "id": "8e7314e1",
   "metadata": {},
   "outputs": [],
   "source": [
    "model = gensim.models.KeyedVectors.load_word2vec_format('lexvec.commoncrawl.ngramsubwords.300d.W.pos.vectors', binary=False)"
   ]
  },
  {
   "cell_type": "code",
   "execution_count": 41,
   "id": "411fc5fc",
   "metadata": {},
   "outputs": [],
   "source": [
    "train = pd.read_csv('opener_en-train.conll',sep = '\\t',header = None,encoding = 'utf-8',comment = '#')"
   ]
  },
  {
   "cell_type": "code",
   "execution_count": 45,
   "id": "cec5c33d",
   "metadata": {},
   "outputs": [],
   "source": [
    "def make_list_of_lists(data):\n",
    "    X = []\n",
    "    Y = []\n",
    "    first = True\n",
    "    for elm in data.iterrows():\n",
    "        if elm[1][0] == 1:\n",
    "            if first != True:\n",
    "                X.append(x)\n",
    "                Y.append(y)\n",
    "            x = []\n",
    "            y = []\n",
    "            first = False\n",
    "        x.append(elm[1][1])\n",
    "        y.append(elm[1][2])\n",
    "    X.append(x)\n",
    "    Y.append(y)\n",
    "    return X, Y"
   ]
  },
  {
   "cell_type": "code",
   "execution_count": 37,
   "id": "f40083be",
   "metadata": {},
   "outputs": [
    {
     "data": {
      "text/plain": [
       "[('Danes', 1.0),\n",
       " ('Swedes', 0.5757889747619629),\n",
       " ('danes', 0.5639198422431946),\n",
       " ('Norwegians', 0.5518159866333008),\n",
       " (\"Danes'\", 0.5404489636421204),\n",
       " ('Saxons', 0.49609145522117615),\n",
       " ('Scandinavians', 0.493010014295578),\n",
       " ('Normans', 0.46798714995384216),\n",
       " ('Finns', 0.4641171395778656),\n",
       " (\"Danes's\", 0.46144384145736694),\n",
       " ('Newfoundlanders', 0.45187658071517944),\n",
       " ('Pomeranians', 0.4513615369796753),\n",
       " ('Belgians', 0.4374130070209503),\n",
       " ('Persians', 0.4312816560268402),\n",
       " ('Britons', 0.4306424856185913),\n",
       " ('Newfoundlander', 0.4232172966003418),\n",
       " ('Dane', 0.4231990575790405),\n",
       " ('Estonians', 0.42207807302474976),\n",
       " ('Frisians', 0.42094236612319946),\n",
       " ('norwegians', 0.42064139246940613),\n",
       " ('Finlanders', 0.41781437397003174),\n",
       " ('Germans', 0.417672336101532),\n",
       " ('Dobermans', 0.4162985384464264),\n",
       " ('Britans', 0.41084975004196167),\n",
       " ('Icelanders', 0.4094843864440918),\n",
       " ('Scandanavians', 0.4077930450439453),\n",
       " ('Mercians', 0.4066046476364136),\n",
       " ('Hollanders', 0.4062851667404175),\n",
       " ('Mastiffs', 0.4042935371398926),\n",
       " ('Newfoundlands', 0.4014248549938202),\n",
       " ('Prussians', 0.40116313099861145),\n",
       " ('Briards', 0.3984278440475464),\n",
       " ('Italians', 0.3975740969181061),\n",
       " ('Greenlanders', 0.39567193388938904),\n",
       " ('Brits', 0.39558354020118713),\n",
       " ('Eurasiers', 0.39373549818992615),\n",
       " ('Hanoverians', 0.39149782061576843),\n",
       " ('Netherlanders', 0.39019298553466797),\n",
       " ('Irelanders', 0.39012324810028076),\n",
       " ('Elanders', 0.3885953724384308),\n",
       " ('Forlani', 0.38711100816726685),\n",
       " ('Denmark', 0.38681119680404663),\n",
       " ('Norsemen', 0.38669252395629883),\n",
       " ('Munsterlanders', 0.3865760564804077),\n",
       " ('Shetlanders', 0.3864227533340454),\n",
       " ('Formorians', 0.3859598934650421),\n",
       " ('Geats', 0.38474026322364807),\n",
       " ('Friesians', 0.384211927652359),\n",
       " ('Jutland', 0.38402998447418213),\n",
       " ('Britain', 0.3839735984802246)]"
      ]
     },
     "execution_count": 37,
     "metadata": {},
     "output_type": "execute_result"
    }
   ],
   "source": [
    "#model.similar_by_vector(model['Danes'],topn = 50, restrict_vocab = None)"
   ]
  },
  {
   "cell_type": "code",
   "execution_count": 74,
   "id": "e8f8914e",
   "metadata": {},
   "outputs": [],
   "source": [
    "X1, y1 = make_list_of_lists(train)"
   ]
  },
  {
   "cell_type": "code",
   "execution_count": 75,
   "id": "30e1bfd9",
   "metadata": {},
   "outputs": [],
   "source": [
    "def word2vec_list_of_lists(X, max_len, model):\n",
    "    li = []\n",
    "    \n",
    "    for elm in X:\n",
    "        t = []\n",
    "        for i in range(max_len):\n",
    "            if i >= len(elm):\n",
    "                t.append(np.array([0]*300).flatten())\n",
    "            else:\n",
    "                try: \n",
    "                    t.append(np.array(model[elm[i]]))\n",
    "                except:\n",
    "                    t.append(np.array([0]*300).flatten())\n",
    "        t = np.array(t)\n",
    "        li.append(t)\n",
    "    return np.array(li)"
   ]
  },
  {
   "cell_type": "code",
   "execution_count": 82,
   "id": "8815af6c",
   "metadata": {},
   "outputs": [],
   "source": [
    "max_len_train = max([len(elm) for elm in X1])"
   ]
  },
  {
   "cell_type": "code",
   "execution_count": 84,
   "id": "6bc0375e",
   "metadata": {},
   "outputs": [],
   "source": [
    "data = word2vec_list_of_lists(X1, max_len_train, model)"
   ]
  },
  {
   "cell_type": "code",
   "execution_count": 85,
   "id": "eac1aabc",
   "metadata": {},
   "outputs": [
    {
     "data": {
      "text/plain": [
       "(127, 300)"
      ]
     },
     "execution_count": 85,
     "metadata": {},
     "output_type": "execute_result"
    }
   ],
   "source": [
    "data[1].shape"
   ]
  },
  {
   "cell_type": "code",
   "execution_count": 1,
   "id": "9504f138",
   "metadata": {},
   "outputs": [
    {
     "ename": "NameError",
     "evalue": "name 'encode_list_of_lists' is not defined",
     "output_type": "error",
     "traceback": [
      "\u001b[0;31m---------------------------------------------------------------------------\u001b[0m",
      "\u001b[0;31mNameError\u001b[0m                                 Traceback (most recent call last)",
      "\u001b[0;32m/var/folders/4l/wfp4gjq50mb26f_4tbq4618w0000gn/T/ipykernel_36902/2070931103.py\u001b[0m in \u001b[0;36m<module>\u001b[0;34m\u001b[0m\n\u001b[0;32m----> 1\u001b[0;31m \u001b[0mX_train\u001b[0m \u001b[0;34m=\u001b[0m \u001b[0mencode_list_of_lists\u001b[0m\u001b[0;34m(\u001b[0m\u001b[0mX1\u001b[0m\u001b[0;34m,\u001b[0m \u001b[0mmax_len_train\u001b[0m\u001b[0;34m)\u001b[0m\u001b[0;34m\u001b[0m\u001b[0;34m\u001b[0m\u001b[0m\n\u001b[0m\u001b[1;32m      2\u001b[0m \u001b[0mY_train\u001b[0m \u001b[0;34m=\u001b[0m \u001b[0mencode_labels\u001b[0m\u001b[0;34m(\u001b[0m\u001b[0mY1\u001b[0m\u001b[0;34m,\u001b[0m \u001b[0mlookup_table\u001b[0m\u001b[0;34m,\u001b[0m \u001b[0mmax_len_train\u001b[0m\u001b[0;34m)\u001b[0m\u001b[0;34m\u001b[0m\u001b[0;34m\u001b[0m\u001b[0m\n",
      "\u001b[0;31mNameError\u001b[0m: name 'encode_list_of_lists' is not defined"
     ]
    }
   ],
   "source": []
  },
  {
   "cell_type": "code",
   "execution_count": null,
   "id": "df010682",
   "metadata": {},
   "outputs": [],
   "source": []
  }
 ],
 "metadata": {
  "kernelspec": {
   "display_name": "Python 3 (ipykernel)",
   "language": "python",
   "name": "python3"
  },
  "language_info": {
   "codemirror_mode": {
    "name": "ipython",
    "version": 3
   },
   "file_extension": ".py",
   "mimetype": "text/x-python",
   "name": "python",
   "nbconvert_exporter": "python",
   "pygments_lexer": "ipython3",
   "version": "3.7.11"
  }
 },
 "nbformat": 4,
 "nbformat_minor": 5
}

{
 "cells": [
  {
   "cell_type": "code",
   "execution_count": 1,
   "metadata": {},
   "outputs": [],
   "source": [
    "import pandas as pd\n",
    "import numpy as np\n",
    "from collections import Counter\n",
    "import networkx as nx\n",
    "import random\n",
    "import matplotlib.pyplot as plt\n",
    "import warnings\n",
    "warnings.filterwarnings(\"ignore\", category=UserWarning)\n",
    "import folium\n",
    "#import geojson\n",
    "#import geopandas\n",
    "#import mplleaflet\n",
    "import json"
   ]
  },
  {
   "cell_type": "code",
   "execution_count": 2,
   "metadata": {},
   "outputs": [],
   "source": [
    "data = pd.read_csv(\"../Data/T_T100D_SEGMENT_US_CARRIER_ONLY_2013_All.csv\",delimiter=\",\")"
   ]
  },
  {
   "cell_type": "code",
   "execution_count": 3,
   "metadata": {},
   "outputs": [
    {
     "data": {
      "text/html": [
       "<div>\n",
       "<style scoped>\n",
       "    .dataframe tbody tr th:only-of-type {\n",
       "        vertical-align: middle;\n",
       "    }\n",
       "\n",
       "    .dataframe tbody tr th {\n",
       "        vertical-align: top;\n",
       "    }\n",
       "\n",
       "    .dataframe thead th {\n",
       "        text-align: right;\n",
       "    }\n",
       "</style>\n",
       "<table border=\"1\" class=\"dataframe\">\n",
       "  <thead>\n",
       "    <tr style=\"text-align: right;\">\n",
       "      <th></th>\n",
       "      <th>DEPARTURES_SCHEDULED</th>\n",
       "      <th>DEPARTURES_PERFORMED</th>\n",
       "      <th>PAYLOAD</th>\n",
       "      <th>SEATS</th>\n",
       "      <th>PASSENGERS</th>\n",
       "      <th>FREIGHT</th>\n",
       "      <th>MAIL</th>\n",
       "      <th>DISTANCE</th>\n",
       "      <th>RAMP_TO_RAMP</th>\n",
       "      <th>AIR_TIME</th>\n",
       "      <th>...</th>\n",
       "      <th>DEST_WAC</th>\n",
       "      <th>AIRCRAFT_GROUP</th>\n",
       "      <th>AIRCRAFT_TYPE</th>\n",
       "      <th>AIRCRAFT_CONFIG</th>\n",
       "      <th>YEAR</th>\n",
       "      <th>QUARTER</th>\n",
       "      <th>MONTH</th>\n",
       "      <th>DISTANCE_GROUP</th>\n",
       "      <th>CLASS</th>\n",
       "      <th>EMPTYFIELD</th>\n",
       "    </tr>\n",
       "  </thead>\n",
       "  <tbody>\n",
       "  </tbody>\n",
       "</table>\n",
       "<p>0 rows × 46 columns</p>\n",
       "</div>"
      ],
      "text/plain": [
       "Empty DataFrame\n",
       "Columns: [DEPARTURES_SCHEDULED, DEPARTURES_PERFORMED, PAYLOAD, SEATS, PASSENGERS, FREIGHT, MAIL, DISTANCE, RAMP_TO_RAMP, AIR_TIME, UNIQUE_CARRIER, AIRLINE_ID, UNIQUE_CARRIER_NAME, UNIQUE_CARRIER_ENTITY, REGION, CARRIER, CARRIER_NAME, CARRIER_GROUP, CARRIER_GROUP_NEW, ORIGIN_AIRPORT_ID, ORIGIN_AIRPORT_SEQ_ID, ORIGIN_CITY_MARKET_ID, ORIGIN, ORIGIN_CITY_NAME, ORIGIN_STATE_ABR, ORIGIN_STATE_FIPS, ORIGIN_STATE_NM, ORIGIN_WAC, DEST_AIRPORT_ID, DEST_AIRPORT_SEQ_ID, DEST_CITY_MARKET_ID, DEST, DEST_CITY_NAME, DEST_STATE_ABR, DEST_STATE_FIPS, DEST_STATE_NM, DEST_WAC, AIRCRAFT_GROUP, AIRCRAFT_TYPE, AIRCRAFT_CONFIG, YEAR, QUARTER, MONTH, DISTANCE_GROUP, CLASS, EMPTYFIELD]\n",
       "Index: []\n",
       "\n",
       "[0 rows x 46 columns]"
      ]
     },
     "execution_count": 3,
     "metadata": {},
     "output_type": "execute_result"
    }
   ],
   "source": [
    "data[data['ORIGIN'] == 'PHN']"
   ]
  },
  {
   "cell_type": "code",
   "execution_count": 4,
   "metadata": {},
   "outputs": [],
   "source": [
    "airport_names_origin = pd.read_csv(\"../Data/L_AIRPORT_ID.txt\",delimiter=\",\")"
   ]
  },
  {
   "cell_type": "code",
   "execution_count": 5,
   "metadata": {},
   "outputs": [
    {
     "data": {
      "text/plain": [
       "Index(['DEPARTURES_SCHEDULED', 'DEPARTURES_PERFORMED', 'PAYLOAD', 'SEATS',\n",
       "       'PASSENGERS', 'FREIGHT', 'MAIL', 'DISTANCE', 'RAMP_TO_RAMP', 'AIR_TIME',\n",
       "       'UNIQUE_CARRIER', 'AIRLINE_ID', 'UNIQUE_CARRIER_NAME',\n",
       "       'UNIQUE_CARRIER_ENTITY', 'REGION', 'CARRIER', 'CARRIER_NAME',\n",
       "       'CARRIER_GROUP', 'CARRIER_GROUP_NEW', 'ORIGIN_AIRPORT_ID',\n",
       "       'ORIGIN_AIRPORT_SEQ_ID', 'ORIGIN_CITY_MARKET_ID', 'ORIGIN',\n",
       "       'ORIGIN_CITY_NAME', 'ORIGIN_STATE_ABR', 'ORIGIN_STATE_FIPS',\n",
       "       'ORIGIN_STATE_NM', 'ORIGIN_WAC', 'DEST_AIRPORT_ID',\n",
       "       'DEST_AIRPORT_SEQ_ID', 'DEST_CITY_MARKET_ID', 'DEST', 'DEST_CITY_NAME',\n",
       "       'DEST_STATE_ABR', 'DEST_STATE_FIPS', 'DEST_STATE_NM', 'DEST_WAC',\n",
       "       'AIRCRAFT_GROUP', 'AIRCRAFT_TYPE', 'AIRCRAFT_CONFIG', 'YEAR', 'QUARTER',\n",
       "       'MONTH', 'DISTANCE_GROUP', 'CLASS', 'EMPTYFIELD'],\n",
       "      dtype='object')"
      ]
     },
     "execution_count": 5,
     "metadata": {},
     "output_type": "execute_result"
    }
   ],
   "source": [
    "data.columns"
   ]
  },
  {
   "cell_type": "code",
   "execution_count": 6,
   "metadata": {},
   "outputs": [],
   "source": [
    "data = data[data['ORIGIN'] != data['DEST']]"
   ]
  },
  {
   "cell_type": "code",
   "execution_count": 7,
   "metadata": {},
   "outputs": [],
   "source": [
    "grouped = data.groupby([\"ORIGIN\",\"DEST\"]).agg({\"PAYLOAD\":\"sum\",\"DISTANCE\":\"mean\",\"SEATS\":\"sum\",\"PASSENGERS\":\"sum\",\"DEPARTURES_PERFORMED\":\"sum\",'CARRIER_NAME':'unique',\"ORIGIN_AIRPORT_ID\": \"mean\", \"DEST_AIRPORT_ID\": \"mean\"}).reset_index()"
   ]
  },
  {
   "cell_type": "code",
   "execution_count": 8,
   "metadata": {},
   "outputs": [
    {
     "data": {
      "text/html": [
       "<div>\n",
       "<style scoped>\n",
       "    .dataframe tbody tr th:only-of-type {\n",
       "        vertical-align: middle;\n",
       "    }\n",
       "\n",
       "    .dataframe tbody tr th {\n",
       "        vertical-align: top;\n",
       "    }\n",
       "\n",
       "    .dataframe thead th {\n",
       "        text-align: right;\n",
       "    }\n",
       "</style>\n",
       "<table border=\"1\" class=\"dataframe\">\n",
       "  <thead>\n",
       "    <tr style=\"text-align: right;\">\n",
       "      <th></th>\n",
       "      <th>ORIGIN</th>\n",
       "      <th>DEST</th>\n",
       "      <th>PAYLOAD</th>\n",
       "      <th>DISTANCE</th>\n",
       "      <th>SEATS</th>\n",
       "      <th>PASSENGERS</th>\n",
       "      <th>DEPARTURES_PERFORMED</th>\n",
       "      <th>CARRIER_NAME</th>\n",
       "      <th>ORIGIN_AIRPORT_ID</th>\n",
       "      <th>DEST_AIRPORT_ID</th>\n",
       "    </tr>\n",
       "  </thead>\n",
       "  <tbody>\n",
       "    <tr>\n",
       "      <td>0</td>\n",
       "      <td>03A</td>\n",
       "      <td>OME</td>\n",
       "      <td>39200.0</td>\n",
       "      <td>147.0</td>\n",
       "      <td>0.0</td>\n",
       "      <td>0.0</td>\n",
       "      <td>7.0</td>\n",
       "      <td>[Arctic Transportation]</td>\n",
       "      <td>10003</td>\n",
       "      <td>13873</td>\n",
       "    </tr>\n",
       "    <tr>\n",
       "      <td>1</td>\n",
       "      <td>03A</td>\n",
       "      <td>OTZ</td>\n",
       "      <td>1275.0</td>\n",
       "      <td>102.0</td>\n",
       "      <td>0.0</td>\n",
       "      <td>0.0</td>\n",
       "      <td>1.0</td>\n",
       "      <td>[Arctic Transportation]</td>\n",
       "      <td>10003</td>\n",
       "      <td>13970</td>\n",
       "    </tr>\n",
       "    <tr>\n",
       "      <td>2</td>\n",
       "      <td>04A</td>\n",
       "      <td>OTZ</td>\n",
       "      <td>22400.0</td>\n",
       "      <td>84.0</td>\n",
       "      <td>0.0</td>\n",
       "      <td>0.0</td>\n",
       "      <td>4.0</td>\n",
       "      <td>[Arctic Transportation]</td>\n",
       "      <td>10004</td>\n",
       "      <td>13970</td>\n",
       "    </tr>\n",
       "    <tr>\n",
       "      <td>3</td>\n",
       "      <td>05A</td>\n",
       "      <td>CXF</td>\n",
       "      <td>11954.0</td>\n",
       "      <td>58.0</td>\n",
       "      <td>45.0</td>\n",
       "      <td>12.0</td>\n",
       "      <td>5.0</td>\n",
       "      <td>[Tatonduk Outfitters Limited d/b/a Everts Air ...</td>\n",
       "      <td>10005</td>\n",
       "      <td>11214</td>\n",
       "    </tr>\n",
       "    <tr>\n",
       "      <td>4</td>\n",
       "      <td>05A</td>\n",
       "      <td>FAI</td>\n",
       "      <td>485589.0</td>\n",
       "      <td>191.0</td>\n",
       "      <td>831.0</td>\n",
       "      <td>148.0</td>\n",
       "      <td>118.0</td>\n",
       "      <td>[Tatonduk Outfitters Limited d/b/a Everts Air ...</td>\n",
       "      <td>10005</td>\n",
       "      <td>11630</td>\n",
       "    </tr>\n",
       "    <tr>\n",
       "      <td>...</td>\n",
       "      <td>...</td>\n",
       "      <td>...</td>\n",
       "      <td>...</td>\n",
       "      <td>...</td>\n",
       "      <td>...</td>\n",
       "      <td>...</td>\n",
       "      <td>...</td>\n",
       "      <td>...</td>\n",
       "      <td>...</td>\n",
       "      <td>...</td>\n",
       "    </tr>\n",
       "    <tr>\n",
       "      <td>21938</td>\n",
       "      <td>ZXN</td>\n",
       "      <td>WFB</td>\n",
       "      <td>130885.0</td>\n",
       "      <td>19.0</td>\n",
       "      <td>651.0</td>\n",
       "      <td>344.0</td>\n",
       "      <td>116.0</td>\n",
       "      <td>[Pacific Airways, Inc.]</td>\n",
       "      <td>16346</td>\n",
       "      <td>15741</td>\n",
       "    </tr>\n",
       "    <tr>\n",
       "      <td>21939</td>\n",
       "      <td>ZXU</td>\n",
       "      <td>ACK</td>\n",
       "      <td>26640.0</td>\n",
       "      <td>74.0</td>\n",
       "      <td>44.0</td>\n",
       "      <td>8.0</td>\n",
       "      <td>6.0</td>\n",
       "      <td>[Tradewind Aviation]</td>\n",
       "      <td>16353</td>\n",
       "      <td>10154</td>\n",
       "    </tr>\n",
       "    <tr>\n",
       "      <td>21940</td>\n",
       "      <td>ZXU</td>\n",
       "      <td>BTV</td>\n",
       "      <td>3450.0</td>\n",
       "      <td>217.0</td>\n",
       "      <td>8.0</td>\n",
       "      <td>2.0</td>\n",
       "      <td>1.0</td>\n",
       "      <td>[Tradewind Aviation]</td>\n",
       "      <td>16353</td>\n",
       "      <td>10785</td>\n",
       "    </tr>\n",
       "    <tr>\n",
       "      <td>21941</td>\n",
       "      <td>ZXU</td>\n",
       "      <td>LBB</td>\n",
       "      <td>2000.0</td>\n",
       "      <td>1745.0</td>\n",
       "      <td>8.0</td>\n",
       "      <td>1.0</td>\n",
       "      <td>1.0</td>\n",
       "      <td>[Avjet Corporation]</td>\n",
       "      <td>16353</td>\n",
       "      <td>12896</td>\n",
       "    </tr>\n",
       "    <tr>\n",
       "      <td>21942</td>\n",
       "      <td>ZXU</td>\n",
       "      <td>TEB</td>\n",
       "      <td>11040.0</td>\n",
       "      <td>147.0</td>\n",
       "      <td>36.0</td>\n",
       "      <td>8.0</td>\n",
       "      <td>4.0</td>\n",
       "      <td>[Tradewind Aviation]</td>\n",
       "      <td>16353</td>\n",
       "      <td>15167</td>\n",
       "    </tr>\n",
       "  </tbody>\n",
       "</table>\n",
       "<p>21943 rows × 10 columns</p>\n",
       "</div>"
      ],
      "text/plain": [
       "      ORIGIN DEST   PAYLOAD  DISTANCE  SEATS  PASSENGERS  \\\n",
       "0        03A  OME   39200.0     147.0    0.0         0.0   \n",
       "1        03A  OTZ    1275.0     102.0    0.0         0.0   \n",
       "2        04A  OTZ   22400.0      84.0    0.0         0.0   \n",
       "3        05A  CXF   11954.0      58.0   45.0        12.0   \n",
       "4        05A  FAI  485589.0     191.0  831.0       148.0   \n",
       "...      ...  ...       ...       ...    ...         ...   \n",
       "21938    ZXN  WFB  130885.0      19.0  651.0       344.0   \n",
       "21939    ZXU  ACK   26640.0      74.0   44.0         8.0   \n",
       "21940    ZXU  BTV    3450.0     217.0    8.0         2.0   \n",
       "21941    ZXU  LBB    2000.0    1745.0    8.0         1.0   \n",
       "21942    ZXU  TEB   11040.0     147.0   36.0         8.0   \n",
       "\n",
       "       DEPARTURES_PERFORMED  \\\n",
       "0                       7.0   \n",
       "1                       1.0   \n",
       "2                       4.0   \n",
       "3                       5.0   \n",
       "4                     118.0   \n",
       "...                     ...   \n",
       "21938                 116.0   \n",
       "21939                   6.0   \n",
       "21940                   1.0   \n",
       "21941                   1.0   \n",
       "21942                   4.0   \n",
       "\n",
       "                                            CARRIER_NAME  ORIGIN_AIRPORT_ID  \\\n",
       "0                                [Arctic Transportation]              10003   \n",
       "1                                [Arctic Transportation]              10003   \n",
       "2                                [Arctic Transportation]              10004   \n",
       "3      [Tatonduk Outfitters Limited d/b/a Everts Air ...              10005   \n",
       "4      [Tatonduk Outfitters Limited d/b/a Everts Air ...              10005   \n",
       "...                                                  ...                ...   \n",
       "21938                            [Pacific Airways, Inc.]              16346   \n",
       "21939                               [Tradewind Aviation]              16353   \n",
       "21940                               [Tradewind Aviation]              16353   \n",
       "21941                                [Avjet Corporation]              16353   \n",
       "21942                               [Tradewind Aviation]              16353   \n",
       "\n",
       "       DEST_AIRPORT_ID  \n",
       "0                13873  \n",
       "1                13970  \n",
       "2                13970  \n",
       "3                11214  \n",
       "4                11630  \n",
       "...                ...  \n",
       "21938            15741  \n",
       "21939            10154  \n",
       "21940            10785  \n",
       "21941            12896  \n",
       "21942            15167  \n",
       "\n",
       "[21943 rows x 10 columns]"
      ]
     },
     "execution_count": 8,
     "metadata": {},
     "output_type": "execute_result"
    }
   ],
   "source": [
    "grouped"
   ]
  },
  {
   "cell_type": "code",
   "execution_count": 9,
   "metadata": {},
   "outputs": [
    {
     "data": {
      "text/plain": [
       "1121"
      ]
     },
     "execution_count": 9,
     "metadata": {},
     "output_type": "execute_result"
    }
   ],
   "source": [
    "len(grouped[\"ORIGIN\"].unique())"
   ]
  },
  {
   "cell_type": "code",
   "execution_count": 10,
   "metadata": {
    "scrolled": true
   },
   "outputs": [],
   "source": [
    "#Merges the actual names of the airport on the id's of the airports\n",
    "airport_names_origin = airport_names_origin.rename(columns= {\"Code\":\"ORIGIN_AIRPORT_ID\"})\n",
    "\n",
    "grouped = grouped.merge(airport_names_origin, on = \"ORIGIN_AIRPORT_ID\")\n",
    "grouped = grouped.rename(columns = {\"Description\":\"ORIGIN_NAME\"})\n",
    "airport_names_origin =  airport_names_origin.rename(columns= {\"ORIGIN_AIRPORT_ID\":\"DEST_AIRPORT_ID\"})\n",
    "grouped = grouped.merge(airport_names_origin, on = \"DEST_AIRPORT_ID\")\n",
    "grouped = grouped.rename(columns = {\"Description\":\"DEST_NAME\"})"
   ]
  },
  {
   "cell_type": "code",
   "execution_count": 11,
   "metadata": {},
   "outputs": [],
   "source": [
    "#This is how we merge the two lookup tables (the scapped and the original)"
   ]
  },
  {
   "cell_type": "code",
   "execution_count": 12,
   "metadata": {},
   "outputs": [],
   "source": [
    "with open(\"../Data/abv_lookup_table.json\", \"r\") as file:\n",
    "    airport_lookup_table = json.load(file)"
   ]
  },
  {
   "cell_type": "code",
   "execution_count": 13,
   "metadata": {},
   "outputs": [],
   "source": [
    "with open(\"../Data/more_airports.json\", \"r\") as file:\n",
    "    more = json.load(file)"
   ]
  },
  {
   "cell_type": "code",
   "execution_count": 14,
   "metadata": {},
   "outputs": [],
   "source": [
    "airport_lookup_table = {**airport_lookup_table, **more}"
   ]
  },
  {
   "cell_type": "code",
   "execution_count": 15,
   "metadata": {},
   "outputs": [],
   "source": [
    "airport_lookup_float = {k:[float(v[0]), float(v[1])] for k, v in airport_lookup_table.items()}"
   ]
  },
  {
   "cell_type": "code",
   "execution_count": 16,
   "metadata": {},
   "outputs": [],
   "source": [
    "with open(\"../Data/total.json\", \"w\") as fp:\n",
    "    json.dump(airport_lookup_float, fp, sort_keys=True, indent=4)"
   ]
  },
  {
   "cell_type": "code",
   "execution_count": 17,
   "metadata": {},
   "outputs": [],
   "source": [
    "grouped = grouped[grouped[\"ORIGIN\"].isin(airport_lookup_table)]"
   ]
  },
  {
   "cell_type": "code",
   "execution_count": 18,
   "metadata": {},
   "outputs": [],
   "source": [
    "#21534"
   ]
  },
  {
   "cell_type": "code",
   "execution_count": 19,
   "metadata": {},
   "outputs": [],
   "source": [
    "grouped = grouped[grouped[\"DEST\"].isin(airport_lookup_table)]"
   ]
  },
  {
   "cell_type": "code",
   "execution_count": null,
   "metadata": {},
   "outputs": [],
   "source": []
  },
  {
   "cell_type": "code",
   "execution_count": null,
   "metadata": {},
   "outputs": [],
   "source": []
  },
  {
   "cell_type": "code",
   "execution_count": 20,
   "metadata": {},
   "outputs": [
    {
     "data": {
      "text/plain": [
       "1003"
      ]
     },
     "execution_count": 20,
     "metadata": {},
     "output_type": "execute_result"
    }
   ],
   "source": [
    "len(grouped[\"ORIGIN\"].unique())"
   ]
  },
  {
   "cell_type": "code",
   "execution_count": null,
   "metadata": {},
   "outputs": [],
   "source": []
  },
  {
   "cell_type": "code",
   "execution_count": 21,
   "metadata": {},
   "outputs": [],
   "source": [
    "edges = [(row['ORIGIN'], row['DEST'], {column:row[column] for column in grouped.columns}) for _, row in grouped.iterrows()]"
   ]
  },
  {
   "cell_type": "code",
   "execution_count": 22,
   "metadata": {},
   "outputs": [],
   "source": [
    "G = nx.DiGraph()\n",
    "G.add_edges_from(edges)"
   ]
  },
  {
   "cell_type": "code",
   "execution_count": 23,
   "metadata": {},
   "outputs": [],
   "source": [
    "#plt.figure(figsize=(100, 100))\n",
    "#nx.draw(G, with_labels=True,node_color = 'grey',node_size = 1000)"
   ]
  },
  {
   "cell_type": "code",
   "execution_count": 24,
   "metadata": {},
   "outputs": [],
   "source": [
    "component1 = np.array(sorted(nx.strongly_connected_components(G), key=len, reverse=True))[0]"
   ]
  },
  {
   "cell_type": "code",
   "execution_count": 25,
   "metadata": {},
   "outputs": [],
   "source": [
    "data_mask = (grouped['ORIGIN'].isin(component1) & (grouped[\"DEST\"].isin(component1)))\n",
    "grouped_filtered = grouped[data_mask]"
   ]
  },
  {
   "cell_type": "code",
   "execution_count": 26,
   "metadata": {},
   "outputs": [
    {
     "data": {
      "text/html": [
       "<div>\n",
       "<style scoped>\n",
       "    .dataframe tbody tr th:only-of-type {\n",
       "        vertical-align: middle;\n",
       "    }\n",
       "\n",
       "    .dataframe tbody tr th {\n",
       "        vertical-align: top;\n",
       "    }\n",
       "\n",
       "    .dataframe thead th {\n",
       "        text-align: right;\n",
       "    }\n",
       "</style>\n",
       "<table border=\"1\" class=\"dataframe\">\n",
       "  <thead>\n",
       "    <tr style=\"text-align: right;\">\n",
       "      <th></th>\n",
       "      <th>ORIGIN</th>\n",
       "      <th>DEST</th>\n",
       "      <th>PAYLOAD</th>\n",
       "      <th>DISTANCE</th>\n",
       "      <th>SEATS</th>\n",
       "      <th>PASSENGERS</th>\n",
       "      <th>DEPARTURES_PERFORMED</th>\n",
       "      <th>CARRIER_NAME</th>\n",
       "      <th>ORIGIN_AIRPORT_ID</th>\n",
       "      <th>DEST_AIRPORT_ID</th>\n",
       "      <th>ORIGIN_NAME</th>\n",
       "      <th>DEST_NAME</th>\n",
       "    </tr>\n",
       "  </thead>\n",
       "  <tbody>\n",
       "    <tr>\n",
       "      <td>1</td>\n",
       "      <td>ABL</td>\n",
       "      <td>OME</td>\n",
       "      <td>10500.0</td>\n",
       "      <td>280.0</td>\n",
       "      <td>4.0</td>\n",
       "      <td>0.0</td>\n",
       "      <td>2.0</td>\n",
       "      <td>[Bering Air Inc.]</td>\n",
       "      <td>10139</td>\n",
       "      <td>13873</td>\n",
       "      <td>Ambler, AK: Ambler River</td>\n",
       "      <td>Nome, AK: Nome Airport</td>\n",
       "    </tr>\n",
       "    <tr>\n",
       "      <td>2</td>\n",
       "      <td>AIN</td>\n",
       "      <td>OME</td>\n",
       "      <td>4500.0</td>\n",
       "      <td>448.0</td>\n",
       "      <td>19.0</td>\n",
       "      <td>0.0</td>\n",
       "      <td>1.0</td>\n",
       "      <td>[Hageland Aviation Service]</td>\n",
       "      <td>10225</td>\n",
       "      <td>13873</td>\n",
       "      <td>Wainwright, AK: Wainwright Airport</td>\n",
       "      <td>Nome, AK: Nome Airport</td>\n",
       "    </tr>\n",
       "    <tr>\n",
       "      <td>3</td>\n",
       "      <td>ANC</td>\n",
       "      <td>OME</td>\n",
       "      <td>33729908.0</td>\n",
       "      <td>539.0</td>\n",
       "      <td>31762.0</td>\n",
       "      <td>20623.0</td>\n",
       "      <td>1133.0</td>\n",
       "      <td>[Era Aviation, Alaska Airlines Inc., Tatonduk ...</td>\n",
       "      <td>10299</td>\n",
       "      <td>13873</td>\n",
       "      <td>Anchorage, AK: Ted Stevens Anchorage Internati...</td>\n",
       "      <td>Nome, AK: Nome Airport</td>\n",
       "    </tr>\n",
       "    <tr>\n",
       "      <td>4</td>\n",
       "      <td>ATK</td>\n",
       "      <td>OME</td>\n",
       "      <td>4500.0</td>\n",
       "      <td>463.0</td>\n",
       "      <td>19.0</td>\n",
       "      <td>0.0</td>\n",
       "      <td>1.0</td>\n",
       "      <td>[Hageland Aviation Service]</td>\n",
       "      <td>10396</td>\n",
       "      <td>13873</td>\n",
       "      <td>Atqasuk, AK: Atqasuk Edward Burnell Sr. Memorial</td>\n",
       "      <td>Nome, AK: Nome Airport</td>\n",
       "    </tr>\n",
       "    <tr>\n",
       "      <td>5</td>\n",
       "      <td>AUK</td>\n",
       "      <td>OME</td>\n",
       "      <td>39300.0</td>\n",
       "      <td>129.0</td>\n",
       "      <td>26.0</td>\n",
       "      <td>7.0</td>\n",
       "      <td>9.0</td>\n",
       "      <td>[Arctic Transportation, Bering Air Inc., Hagel...</td>\n",
       "      <td>10416</td>\n",
       "      <td>13873</td>\n",
       "      <td>Alakanuk, AK: Alakanuk Airport</td>\n",
       "      <td>Nome, AK: Nome Airport</td>\n",
       "    </tr>\n",
       "    <tr>\n",
       "      <td>...</td>\n",
       "      <td>...</td>\n",
       "      <td>...</td>\n",
       "      <td>...</td>\n",
       "      <td>...</td>\n",
       "      <td>...</td>\n",
       "      <td>...</td>\n",
       "      <td>...</td>\n",
       "      <td>...</td>\n",
       "      <td>...</td>\n",
       "      <td>...</td>\n",
       "      <td>...</td>\n",
       "      <td>...</td>\n",
       "    </tr>\n",
       "    <tr>\n",
       "      <td>21935</td>\n",
       "      <td>YIP</td>\n",
       "      <td>EOK</td>\n",
       "      <td>5600.0</td>\n",
       "      <td>428.0</td>\n",
       "      <td>0.0</td>\n",
       "      <td>0.0</td>\n",
       "      <td>1.0</td>\n",
       "      <td>[USA Jet Airlines Inc.]</td>\n",
       "      <td>16091</td>\n",
       "      <td>11566</td>\n",
       "      <td>Detroit, MI: Willow Run</td>\n",
       "      <td>Keokuk, IA: Keokuk Municipal</td>\n",
       "    </tr>\n",
       "    <tr>\n",
       "      <td>21936</td>\n",
       "      <td>YIP</td>\n",
       "      <td>GCY</td>\n",
       "      <td>5600.0</td>\n",
       "      <td>419.0</td>\n",
       "      <td>0.0</td>\n",
       "      <td>0.0</td>\n",
       "      <td>1.0</td>\n",
       "      <td>[USA Jet Airlines Inc.]</td>\n",
       "      <td>16091</td>\n",
       "      <td>11870</td>\n",
       "      <td>Detroit, MI: Willow Run</td>\n",
       "      <td>Greeneville, TN: Municipal</td>\n",
       "    </tr>\n",
       "    <tr>\n",
       "      <td>21938</td>\n",
       "      <td>YIP</td>\n",
       "      <td>MOP</td>\n",
       "      <td>5600.0</td>\n",
       "      <td>113.0</td>\n",
       "      <td>0.0</td>\n",
       "      <td>0.0</td>\n",
       "      <td>1.0</td>\n",
       "      <td>[USA Jet Airlines Inc.]</td>\n",
       "      <td>16091</td>\n",
       "      <td>13429</td>\n",
       "      <td>Detroit, MI: Willow Run</td>\n",
       "      <td>Mount Pleasant, MI: Mount Pleasant Municipal</td>\n",
       "    </tr>\n",
       "    <tr>\n",
       "      <td>21939</td>\n",
       "      <td>YIP</td>\n",
       "      <td>MVN</td>\n",
       "      <td>43000.0</td>\n",
       "      <td>390.0</td>\n",
       "      <td>0.0</td>\n",
       "      <td>0.0</td>\n",
       "      <td>2.0</td>\n",
       "      <td>[USA Jet Airlines Inc.]</td>\n",
       "      <td>16091</td>\n",
       "      <td>13537</td>\n",
       "      <td>Detroit, MI: Willow Run</td>\n",
       "      <td>Mount Vernon, IL: Mount Vernon Airport</td>\n",
       "    </tr>\n",
       "    <tr>\n",
       "      <td>21940</td>\n",
       "      <td>YIP</td>\n",
       "      <td>PSK</td>\n",
       "      <td>5600.0</td>\n",
       "      <td>383.0</td>\n",
       "      <td>0.0</td>\n",
       "      <td>0.0</td>\n",
       "      <td>1.0</td>\n",
       "      <td>[USA Jet Airlines Inc.]</td>\n",
       "      <td>16091</td>\n",
       "      <td>14258</td>\n",
       "      <td>Detroit, MI: Willow Run</td>\n",
       "      <td>Dublin, VA: New River Valley</td>\n",
       "    </tr>\n",
       "  </tbody>\n",
       "</table>\n",
       "<p>21149 rows × 12 columns</p>\n",
       "</div>"
      ],
      "text/plain": [
       "      ORIGIN DEST     PAYLOAD  DISTANCE    SEATS  PASSENGERS  \\\n",
       "1        ABL  OME     10500.0     280.0      4.0         0.0   \n",
       "2        AIN  OME      4500.0     448.0     19.0         0.0   \n",
       "3        ANC  OME  33729908.0     539.0  31762.0     20623.0   \n",
       "4        ATK  OME      4500.0     463.0     19.0         0.0   \n",
       "5        AUK  OME     39300.0     129.0     26.0         7.0   \n",
       "...      ...  ...         ...       ...      ...         ...   \n",
       "21935    YIP  EOK      5600.0     428.0      0.0         0.0   \n",
       "21936    YIP  GCY      5600.0     419.0      0.0         0.0   \n",
       "21938    YIP  MOP      5600.0     113.0      0.0         0.0   \n",
       "21939    YIP  MVN     43000.0     390.0      0.0         0.0   \n",
       "21940    YIP  PSK      5600.0     383.0      0.0         0.0   \n",
       "\n",
       "       DEPARTURES_PERFORMED  \\\n",
       "1                       2.0   \n",
       "2                       1.0   \n",
       "3                    1133.0   \n",
       "4                       1.0   \n",
       "5                       9.0   \n",
       "...                     ...   \n",
       "21935                   1.0   \n",
       "21936                   1.0   \n",
       "21938                   1.0   \n",
       "21939                   2.0   \n",
       "21940                   1.0   \n",
       "\n",
       "                                            CARRIER_NAME  ORIGIN_AIRPORT_ID  \\\n",
       "1                                      [Bering Air Inc.]              10139   \n",
       "2                            [Hageland Aviation Service]              10225   \n",
       "3      [Era Aviation, Alaska Airlines Inc., Tatonduk ...              10299   \n",
       "4                            [Hageland Aviation Service]              10396   \n",
       "5      [Arctic Transportation, Bering Air Inc., Hagel...              10416   \n",
       "...                                                  ...                ...   \n",
       "21935                            [USA Jet Airlines Inc.]              16091   \n",
       "21936                            [USA Jet Airlines Inc.]              16091   \n",
       "21938                            [USA Jet Airlines Inc.]              16091   \n",
       "21939                            [USA Jet Airlines Inc.]              16091   \n",
       "21940                            [USA Jet Airlines Inc.]              16091   \n",
       "\n",
       "       DEST_AIRPORT_ID                                        ORIGIN_NAME  \\\n",
       "1                13873                           Ambler, AK: Ambler River   \n",
       "2                13873                 Wainwright, AK: Wainwright Airport   \n",
       "3                13873  Anchorage, AK: Ted Stevens Anchorage Internati...   \n",
       "4                13873   Atqasuk, AK: Atqasuk Edward Burnell Sr. Memorial   \n",
       "5                13873                     Alakanuk, AK: Alakanuk Airport   \n",
       "...                ...                                                ...   \n",
       "21935            11566                            Detroit, MI: Willow Run   \n",
       "21936            11870                            Detroit, MI: Willow Run   \n",
       "21938            13429                            Detroit, MI: Willow Run   \n",
       "21939            13537                            Detroit, MI: Willow Run   \n",
       "21940            14258                            Detroit, MI: Willow Run   \n",
       "\n",
       "                                          DEST_NAME  \n",
       "1                            Nome, AK: Nome Airport  \n",
       "2                            Nome, AK: Nome Airport  \n",
       "3                            Nome, AK: Nome Airport  \n",
       "4                            Nome, AK: Nome Airport  \n",
       "5                            Nome, AK: Nome Airport  \n",
       "...                                             ...  \n",
       "21935                  Keokuk, IA: Keokuk Municipal  \n",
       "21936                    Greeneville, TN: Municipal  \n",
       "21938  Mount Pleasant, MI: Mount Pleasant Municipal  \n",
       "21939        Mount Vernon, IL: Mount Vernon Airport  \n",
       "21940                  Dublin, VA: New River Valley  \n",
       "\n",
       "[21149 rows x 12 columns]"
      ]
     },
     "execution_count": 26,
     "metadata": {},
     "output_type": "execute_result"
    }
   ],
   "source": [
    "grouped_filtered"
   ]
  },
  {
   "cell_type": "code",
   "execution_count": null,
   "metadata": {},
   "outputs": [],
   "source": []
  },
  {
   "cell_type": "code",
   "execution_count": 27,
   "metadata": {},
   "outputs": [
    {
     "data": {
      "text/html": [
       "<div>\n",
       "<style scoped>\n",
       "    .dataframe tbody tr th:only-of-type {\n",
       "        vertical-align: middle;\n",
       "    }\n",
       "\n",
       "    .dataframe tbody tr th {\n",
       "        vertical-align: top;\n",
       "    }\n",
       "\n",
       "    .dataframe thead th {\n",
       "        text-align: right;\n",
       "    }\n",
       "</style>\n",
       "<table border=\"1\" class=\"dataframe\">\n",
       "  <thead>\n",
       "    <tr style=\"text-align: right;\">\n",
       "      <th></th>\n",
       "      <th>ORIGIN</th>\n",
       "      <th>DEST</th>\n",
       "      <th>PAYLOAD</th>\n",
       "      <th>DISTANCE</th>\n",
       "      <th>SEATS</th>\n",
       "      <th>PASSENGERS</th>\n",
       "      <th>DEPARTURES_PERFORMED</th>\n",
       "      <th>CARRIER_NAME</th>\n",
       "      <th>ORIGIN_AIRPORT_ID</th>\n",
       "      <th>DEST_AIRPORT_ID</th>\n",
       "      <th>ORIGIN_NAME</th>\n",
       "      <th>DEST_NAME</th>\n",
       "    </tr>\n",
       "  </thead>\n",
       "  <tbody>\n",
       "    <tr>\n",
       "      <td>11533</td>\n",
       "      <td>PGC</td>\n",
       "      <td>BVY</td>\n",
       "      <td>1320.0</td>\n",
       "      <td>497.0</td>\n",
       "      <td>4.0</td>\n",
       "      <td>1.0</td>\n",
       "      <td>1.0</td>\n",
       "      <td>[Tradewind Aviation]</td>\n",
       "      <td>16524</td>\n",
       "      <td>10815</td>\n",
       "      <td>Petersburg, WV: Grant County</td>\n",
       "      <td>Beverly, MA: Beverly Municipal</td>\n",
       "    </tr>\n",
       "  </tbody>\n",
       "</table>\n",
       "</div>"
      ],
      "text/plain": [
       "      ORIGIN DEST  PAYLOAD  DISTANCE  SEATS  PASSENGERS  DEPARTURES_PERFORMED  \\\n",
       "11533    PGC  BVY   1320.0     497.0    4.0         1.0                   1.0   \n",
       "\n",
       "               CARRIER_NAME  ORIGIN_AIRPORT_ID  DEST_AIRPORT_ID  \\\n",
       "11533  [Tradewind Aviation]              16524            10815   \n",
       "\n",
       "                        ORIGIN_NAME                       DEST_NAME  \n",
       "11533  Petersburg, WV: Grant County  Beverly, MA: Beverly Municipal  "
      ]
     },
     "execution_count": 27,
     "metadata": {},
     "output_type": "execute_result"
    }
   ],
   "source": [
    "grouped_filtered[grouped_filtered[\"ORIGIN\"] ==\"PGC\"]"
   ]
  },
  {
   "cell_type": "code",
   "execution_count": 28,
   "metadata": {
    "scrolled": true
   },
   "outputs": [
    {
     "name": "stderr",
     "output_type": "stream",
     "text": [
      "C:\\Users\\tjupp\\Anaconda3\\lib\\site-packages\\pandas\\core\\generic.py:6786: SettingWithCopyWarning: \n",
      "A value is trying to be set on a copy of a slice from a DataFrame\n",
      "\n",
      "See the caveats in the documentation: http://pandas.pydata.org/pandas-docs/stable/user_guide/indexing.html#returning-a-view-versus-a-copy\n",
      "  self._update_inplace(new_data)\n"
     ]
    }
   ],
   "source": [
    "grouped_filtered[\"ORIGIN\"].replace({\"XXU\": \"AHM\"}, inplace=True)\n",
    "grouped_filtered[\"DEST\"].replace({\"XXU\": \"AHM\"}, inplace=True)"
   ]
  },
  {
   "cell_type": "code",
   "execution_count": 29,
   "metadata": {},
   "outputs": [],
   "source": [
    "grouped_filtered.to_csv(\"../Data/final_cool_dataset.csv\",index = False)"
   ]
  },
  {
   "cell_type": "code",
   "execution_count": null,
   "metadata": {},
   "outputs": [],
   "source": []
  },
  {
   "cell_type": "code",
   "execution_count": null,
   "metadata": {},
   "outputs": [],
   "source": []
  },
  {
   "cell_type": "code",
   "execution_count": null,
   "metadata": {},
   "outputs": [],
   "source": []
  },
  {
   "cell_type": "code",
   "execution_count": null,
   "metadata": {},
   "outputs": [],
   "source": []
  },
  {
   "cell_type": "code",
   "execution_count": null,
   "metadata": {},
   "outputs": [],
   "source": []
  }
 ],
 "metadata": {
  "kernelspec": {
   "display_name": "Python 3",
   "language": "python",
   "name": "python3"
  },
  "language_info": {
   "codemirror_mode": {
    "name": "ipython",
    "version": 3
   },
   "file_extension": ".py",
   "mimetype": "text/x-python",
   "name": "python",
   "nbconvert_exporter": "python",
   "pygments_lexer": "ipython3",
   "version": "3.7.4"
  }
 },
 "nbformat": 4,
 "nbformat_minor": 5
}

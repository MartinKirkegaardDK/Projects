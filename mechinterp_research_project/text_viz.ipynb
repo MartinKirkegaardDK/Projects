{
 "cells": [
  {
   "cell_type": "code",
   "execution_count": 30,
   "metadata": {},
   "outputs": [],
   "source": [
    "# absolute genius stuff form chatgpt\n",
    "\n",
    "def rgb_text(text, r, g, b, background=False):\n",
    "    \"\"\"Returns text formatted with 24-bit RGB color.\"\"\"\n",
    "    if background:\n",
    "        if (r + g + b) / 3 > 128:\n",
    "            return f\"\\033[38;2;0;0;0m\\033[48;2;{r};{g};{b}m{text}\\033[0m\" \n",
    "        else:\n",
    "            return f\"\\033[48;2;{r};{g};{b}m{text}\\033[0m\"\n",
    "    return f\"\\033[38;2;{r};{g};{b}m{text}\\033[0m\"\n"
   ]
  },
  {
   "cell_type": "code",
   "execution_count": 33,
   "metadata": {},
   "outputs": [
    {
     "name": "stdout",
     "output_type": "stream",
     "text": [
      "\u001b[38;2;0;0;0m\u001b[48;2;20;128;255mhej\u001b[0m\n"
     ]
    }
   ],
   "source": [
    "print(rgb_text('hej', 20, 128, 255, background=True))"
   ]
  },
  {
   "cell_type": "code",
   "execution_count": null,
   "metadata": {},
   "outputs": [],
   "source": []
  }
 ],
 "metadata": {
  "kernelspec": {
   "display_name": "rp",
   "language": "python",
   "name": "python3"
  },
  "language_info": {
   "codemirror_mode": {
    "name": "ipython",
    "version": 3
   },
   "file_extension": ".py",
   "mimetype": "text/x-python",
   "name": "python",
   "nbconvert_exporter": "python",
   "pygments_lexer": "ipython3",
   "version": "3.11.9"
  }
 },
 "nbformat": 4,
 "nbformat_minor": 2
}

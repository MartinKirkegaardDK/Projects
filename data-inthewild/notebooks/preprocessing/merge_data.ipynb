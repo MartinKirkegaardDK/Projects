{
 "cells": [
  {
   "cell_type": "code",
   "execution_count": 1,
   "metadata": {},
   "outputs": [],
   "source": [
    "import json"
   ]
  },
  {
   "cell_type": "code",
   "execution_count": 3,
   "metadata": {},
   "outputs": [],
   "source": [
    "ANNOTATED_DATA = '../../data/interim/annotation/data.json'\n",
    "GEOGRAPHICAL_TAGS_DATA = '../../data/interim/geographical_tags/data.json'\n",
    "\n",
    "OUT_PATH = '../../data/processed/data.json'"
   ]
  },
  {
   "cell_type": "code",
   "execution_count": 5,
   "metadata": {},
   "outputs": [],
   "source": [
    "with open(GEOGRAPHICAL_TAGS_DATA, 'r', encoding='utf-8') as f:\n",
    "    geo_tag_data = json.load(f)\n",
    "\n",
    "with open(ANNOTATED_DATA, 'r', encoding='utf-8') as f:\n",
    "    anno_data = json.load(f)\n",
    "\n",
    "for key in geo_tag_data:\n",
    "    geo_tag_data[key]['ingredient_annotations'] = anno_data[key]['ingredient_annotations']\n",
    "\n",
    "with open(OUT_PATH, 'w', encoding='utf-8') as f:\n",
    "    json.dump(geo_tag_data, f, indent=4, ensure_ascii=False)"
   ]
  },
  {
   "cell_type": "code",
   "execution_count": null,
   "metadata": {},
   "outputs": [],
   "source": []
  }
 ],
 "metadata": {
  "kernelspec": {
   "display_name": "Python 3",
   "language": "python",
   "name": "python3"
  },
  "language_info": {
   "codemirror_mode": {
    "name": "ipython",
    "version": 3
   },
   "file_extension": ".py",
   "mimetype": "text/x-python",
   "name": "python",
   "nbconvert_exporter": "python",
   "pygments_lexer": "ipython3",
   "version": "3.10.11"
  }
 },
 "nbformat": 4,
 "nbformat_minor": 2
}

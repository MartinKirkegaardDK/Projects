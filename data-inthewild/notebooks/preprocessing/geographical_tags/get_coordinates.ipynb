{
 "cells": [
  {
   "cell_type": "code",
   "execution_count": 1,
   "metadata": {},
   "outputs": [],
   "source": [
    "import os \n",
    "from dotenv import load_dotenv\n",
    "import requests\n",
    "import json\n",
    "import pandas as pd"
   ]
  },
  {
   "cell_type": "code",
   "execution_count": null,
   "metadata": {},
   "outputs": [],
   "source": [
    "COORDINATES_PATH = '../../../data/interim/geographical_tags/coordinates.json'\n",
    "\n",
    "url = 'https://maps.googleapis.com/maps/api/geocode/json'"
   ]
  },
  {
   "cell_type": "code",
   "execution_count": null,
   "metadata": {},
   "outputs": [],
   "source": [
    "load_dotenv()"
   ]
  },
  {
   "cell_type": "code",
   "execution_count": null,
   "metadata": {},
   "outputs": [],
   "source": [
    "maps_api = os.getenv('maps_key')"
   ]
  },
  {
   "cell_type": "code",
   "execution_count": null,
   "metadata": {},
   "outputs": [],
   "source": [
    "params = {'address':'european','key':maps_api}"
   ]
  },
  {
   "cell_type": "code",
   "execution_count": null,
   "metadata": {},
   "outputs": [],
   "source": [
    "r = requests.get(url,params=params)"
   ]
  },
  {
   "cell_type": "code",
   "execution_count": null,
   "metadata": {},
   "outputs": [],
   "source": [
    "r.json()['results'][0]['geometry']['location']"
   ]
  },
  {
   "cell_type": "code",
   "execution_count": null,
   "metadata": {},
   "outputs": [],
   "source": [
    "countries_list = ['India',\n",
    " 'Japan',\n",
    " 'Poland',\n",
    " 'Dominican Republic',\n",
    " 'Africa',\n",
    " 'Central and South America',\n",
    " 'Asia',\n",
    " 'Southwestern United States',\n",
    " 'Ethiopia',\n",
    " 'Caribbean',\n",
    " 'France',\n",
    " 'Jamaica',\n",
    " 'Cuba',\n",
    " 'West Africa',\n",
    " 'Vietnam',\n",
    " 'Mediterranean',\n",
    " 'Laos',\n",
    " 'Puerto Rico',\n",
    " 'Philippines',\n",
    " 'Italy',\n",
    " 'Hawaii',\n",
    " 'Sweden',\n",
    " 'Haiti',\n",
    " 'China',\n",
    " 'Kenya',\n",
    " 'Venezuela',\n",
    " 'United Kingdom',\n",
    " 'Mexico',\n",
    " 'Thailand',\n",
    " 'Europe',\n",
    " 'Middle East',\n",
    " 'Lebanon',\n",
    " 'Korea',\n",
    " 'Germany',\n",
    " 'Taiwan',\n",
    " 'North America',\n",
    " 'South Africa',\n",
    " 'Southern United States',\n",
    " 'Iran',\n",
    " 'Peru',\n",
    " 'Brazil']"
   ]
  },
  {
   "cell_type": "code",
   "execution_count": null,
   "metadata": {},
   "outputs": [],
   "source": [
    "countries_list = countries_list.strip(' ')"
   ]
  },
  {
   "cell_type": "code",
   "execution_count": null,
   "metadata": {},
   "outputs": [],
   "source": [
    "# API CALL - DO NOT RUN\n",
    "# loc = {}\n",
    "# for i in countries_list:\n",
    "#     params = {'address':i,'key':maps_api}\n",
    "#     r = requests.get(url,params=params)\n",
    "#     loc[i] = r.json()['results'][0]['geometry']['location']\n",
    "\n",
    "\n",
    "#with open(COORDINATES_PATH, \"w\") as outfile: \n",
    "#    json.dump(loc, outfile,indent = 4)\n",
    "    "
   ]
  }
 ],
 "metadata": {
  "kernelspec": {
   "display_name": "base",
   "language": "python",
   "name": "python3"
  },
  "language_info": {
   "codemirror_mode": {
    "name": "ipython",
    "version": 3
   },
   "file_extension": ".py",
   "mimetype": "text/x-python",
   "name": "python",
   "nbconvert_exporter": "python",
   "pygments_lexer": "ipython3",
   "version": "3.10.11"
  },
  "orig_nbformat": 4
 },
 "nbformat": 4,
 "nbformat_minor": 2
}

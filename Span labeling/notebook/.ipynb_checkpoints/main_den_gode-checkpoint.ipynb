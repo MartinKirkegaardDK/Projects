{
 "cells": [
  {
   "cell_type": "code",
   "execution_count": 1,
   "metadata": {},
   "outputs": [],
   "source": [
    "import numpy as np\n",
    "import pandas as pd\n",
    "import json\n",
    "#import missingno as msno\n",
    "\n",
    "import tensorflow as tf\n",
    "from tensorflow import keras\n",
    "from tensorflow.keras import layers\n",
    "\n",
    "from sklearn.feature_extraction.text import CountVectorizer\n",
    "from sklearn.metrics import classification_report\n",
    "from sklearn.metrics import f1_score\n",
    "from collections import defaultdict\n",
    "from collections import Counter\n",
    "import pp_functions as pp\n",
    "import nltk\n",
    "from nltk.stem import WordNetLemmatizer\n",
    "from nltk.corpus import wordnet\n",
    "import pp_functions as pp\n",
    "#nltk.download('wordnet')\n",
    "#nltk.download('omw-1.4')\n",
    "#nltk.download('averaged_perceptron_tagger')"
   ]
  },
  {
   "cell_type": "code",
   "execution_count": 2,
   "metadata": {},
   "outputs": [],
   "source": [
    "train_raw = pd.read_csv('../Data/seq_labeling/opener_en-train.conll',sep = '\\t',header = None,encoding = 'utf-8',comment = '#')\n",
    "val_raw = pd.read_csv('../Data/seq_labeling/opener_en-dev.conll',sep = '\\t',header = None,encoding = 'utf-8',comment = '#')"
   ]
  },
  {
   "cell_type": "code",
   "execution_count": 3,
   "metadata": {},
   "outputs": [],
   "source": [
    "train = pp.Preprocessor(train_raw)\n",
    "val = pp.Preprocessor(val_raw)"
   ]
  },
  {
   "cell_type": "markdown",
   "metadata": {},
   "source": [
    "## Baseline model"
   ]
  },
  {
   "cell_type": "code",
   "execution_count": 4,
   "metadata": {},
   "outputs": [],
   "source": [
    "train.fit_word2vec('../glove.6B.100d.txt')"
   ]
  },
  {
   "cell_type": "code",
   "execution_count": 5,
   "metadata": {},
   "outputs": [],
   "source": [
    "X_train_w2v = train.make_word2vec(train)\n",
    "Y_train = train.make_labels(train)\n",
    "\n",
    "X_val_w2v = val.make_word2vec(train)\n",
    "Y_val = val.make_labels(train)"
   ]
  },
  {
   "cell_type": "code",
   "execution_count": 6,
   "metadata": {},
   "outputs": [],
   "source": [
    "epochs = 10\n",
    "no_neurons = 50\n",
    "lr = 0.01"
   ]
  },
  {
   "cell_type": "code",
   "execution_count": 7,
   "metadata": {
    "jupyter": {
     "outputs_hidden": true
    },
    "scrolled": true,
    "tags": []
   },
   "outputs": [
    {
     "name": "stderr",
     "output_type": "stream",
     "text": [
      "2022-05-26 23:10:03.486007: I tensorflow/core/platform/cpu_feature_guard.cc:151] This TensorFlow binary is optimized with oneAPI Deep Neural Network Library (oneDNN) to use the following CPU instructions in performance-critical operations:  SSE4.1 SSE4.2\n",
      "To enable them in other operations, rebuild TensorFlow with the appropriate compiler flags.\n"
     ]
    },
    {
     "name": "stdout",
     "output_type": "stream",
     "text": [
      "Epoch 1/10\n",
      "55/55 [==============================] - 15s 122ms/step - loss: 0.0953 - accuracy: 0.7295\n",
      "Epoch 2/10\n",
      "55/55 [==============================] - 7s 128ms/step - loss: 0.0747 - accuracy: 0.7742\n",
      "Epoch 3/10\n",
      "55/55 [==============================] - 7s 127ms/step - loss: 0.0646 - accuracy: 0.7904\n",
      "Epoch 4/10\n",
      "55/55 [==============================] - 7s 129ms/step - loss: 0.0570 - accuracy: 0.8040\n",
      "Epoch 5/10\n",
      "55/55 [==============================] - 7s 125ms/step - loss: 0.0525 - accuracy: 0.8189\n",
      "Epoch 6/10\n",
      "55/55 [==============================] - 7s 118ms/step - loss: 0.0476 - accuracy: 0.8354\n",
      "Epoch 7/10\n",
      "55/55 [==============================] - 7s 124ms/step - loss: 0.0410 - accuracy: 0.8552\n",
      "Epoch 8/10\n",
      "55/55 [==============================] - 7s 120ms/step - loss: 0.0346 - accuracy: 0.8795\n",
      "Epoch 9/10\n",
      "55/55 [==============================] - 6s 117ms/step - loss: 0.0313 - accuracy: 0.8909\n",
      "Epoch 10/10\n",
      "55/55 [==============================] - 7s 123ms/step - loss: 0.0261 - accuracy: 0.9090\n",
      "Epoch 1/10\n",
      "55/55 [==============================] - 15s 124ms/step - loss: 0.0931 - accuracy: 0.7368\n",
      "Epoch 2/10\n",
      "55/55 [==============================] - 7s 121ms/step - loss: 0.0762 - accuracy: 0.7723\n",
      "Epoch 3/10\n",
      "55/55 [==============================] - 6s 116ms/step - loss: 0.0661 - accuracy: 0.7847\n",
      "Epoch 4/10\n",
      "55/55 [==============================] - 7s 124ms/step - loss: 0.0586 - accuracy: 0.8009\n",
      "Epoch 5/10\n",
      "55/55 [==============================] - 7s 127ms/step - loss: 0.0537 - accuracy: 0.8114\n",
      "Epoch 6/10\n",
      "55/55 [==============================] - 7s 133ms/step - loss: 0.0467 - accuracy: 0.8367\n",
      "Epoch 7/10\n",
      "55/55 [==============================] - 7s 127ms/step - loss: 0.0418 - accuracy: 0.8509\n",
      "Epoch 8/10\n",
      "55/55 [==============================] - 7s 122ms/step - loss: 0.0349 - accuracy: 0.8742\n",
      "Epoch 9/10\n",
      "55/55 [==============================] - 7s 119ms/step - loss: 0.0313 - accuracy: 0.8904\n",
      "Epoch 10/10\n",
      "55/55 [==============================] - 7s 122ms/step - loss: 0.0251 - accuracy: 0.9134\n",
      "Epoch 1/10\n",
      "55/55 [==============================] - 15s 122ms/step - loss: 0.0900 - accuracy: 0.7409\n",
      "Epoch 2/10\n",
      "55/55 [==============================] - 6s 117ms/step - loss: 0.0709 - accuracy: 0.7822\n",
      "Epoch 3/10\n",
      "55/55 [==============================] - 7s 119ms/step - loss: 0.0612 - accuracy: 0.7975\n",
      "Epoch 4/10\n",
      "55/55 [==============================] - 6s 113ms/step - loss: 0.0543 - accuracy: 0.8154\n",
      "Epoch 5/10\n",
      "55/55 [==============================] - 6s 115ms/step - loss: 0.0486 - accuracy: 0.8286\n",
      "Epoch 6/10\n",
      "55/55 [==============================] - 6s 115ms/step - loss: 0.0427 - accuracy: 0.8469\n",
      "Epoch 7/10\n",
      "55/55 [==============================] - 6s 114ms/step - loss: 0.0366 - accuracy: 0.8718\n",
      "Epoch 8/10\n",
      "55/55 [==============================] - 6s 113ms/step - loss: 0.0315 - accuracy: 0.8898\n",
      "Epoch 9/10\n",
      "55/55 [==============================] - 7s 119ms/step - loss: 0.0275 - accuracy: 0.9033\n",
      "Epoch 10/10\n",
      "55/55 [==============================] - 7s 120ms/step - loss: 0.0223 - accuracy: 0.9219\n",
      "Epoch 1/10\n",
      "55/55 [==============================] - 15s 123ms/step - loss: 0.0938 - accuracy: 0.7260\n",
      "Epoch 2/10\n",
      "55/55 [==============================] - 7s 119ms/step - loss: 0.0746 - accuracy: 0.7737\n",
      "Epoch 3/10\n",
      "55/55 [==============================] - 7s 122ms/step - loss: 0.0652 - accuracy: 0.7902\n",
      "Epoch 4/10\n",
      "55/55 [==============================] - 7s 122ms/step - loss: 0.0581 - accuracy: 0.8037\n",
      "Epoch 5/10\n",
      "55/55 [==============================] - 7s 119ms/step - loss: 0.0532 - accuracy: 0.8143\n",
      "Epoch 6/10\n",
      "55/55 [==============================] - 7s 120ms/step - loss: 0.0472 - accuracy: 0.8352\n",
      "Epoch 7/10\n",
      "55/55 [==============================] - 7s 121ms/step - loss: 0.0432 - accuracy: 0.8488\n",
      "Epoch 8/10\n",
      "55/55 [==============================] - 7s 121ms/step - loss: 0.0375 - accuracy: 0.8689\n",
      "Epoch 9/10\n",
      "55/55 [==============================] - 7s 121ms/step - loss: 0.0317 - accuracy: 0.8890\n",
      "Epoch 10/10\n",
      "55/55 [==============================] - 6s 118ms/step - loss: 0.0273 - accuracy: 0.9072\n",
      "Epoch 1/10\n",
      "55/55 [==============================] - 15s 134ms/step - loss: 0.0931 - accuracy: 0.7277\n",
      "Epoch 2/10\n",
      "55/55 [==============================] - 7s 120ms/step - loss: 0.0725 - accuracy: 0.7749\n",
      "Epoch 3/10\n",
      "55/55 [==============================] - 7s 118ms/step - loss: 0.0635 - accuracy: 0.7912\n",
      "Epoch 4/10\n",
      "55/55 [==============================] - 7s 125ms/step - loss: 0.0574 - accuracy: 0.8051\n",
      "Epoch 5/10\n",
      "55/55 [==============================] - 7s 121ms/step - loss: 0.0516 - accuracy: 0.8253\n",
      "Epoch 6/10\n",
      "55/55 [==============================] - 6s 117ms/step - loss: 0.0456 - accuracy: 0.8401\n",
      "Epoch 7/10\n",
      "55/55 [==============================] - 6s 116ms/step - loss: 0.0403 - accuracy: 0.8603\n",
      "Epoch 8/10\n",
      "55/55 [==============================] - 6s 117ms/step - loss: 0.0346 - accuracy: 0.8800\n",
      "Epoch 9/10\n",
      "55/55 [==============================] - 6s 105ms/step - loss: 0.0305 - accuracy: 0.8943\n",
      "Epoch 10/10\n",
      "55/55 [==============================] - 7s 123ms/step - loss: 0.0238 - accuracy: 0.9190\n"
     ]
    }
   ],
   "source": [
    "macro_avg_f1s = []\n",
    "for _ in range(5):\n",
    "    w2v_input = keras.Input(shape = (None,X_train_w2v.shape[2]))\n",
    "    w2v_mask = layers.Masking(mask_value = 0)(w2v_input)\n",
    "\n",
    "    lstm1 = layers.Bidirectional(layers.LSTM(no_neurons, return_sequences = True, activation='tanh'), merge_mode='sum')(w2v_mask)\n",
    "    lstm2 = layers.Bidirectional(layers.LSTM(no_neurons, return_sequences = True, activation='tanh'), merge_mode='sum')(lstm1)\n",
    "\n",
    "    outputs = layers.Dense(9, activation='Softmax')(lstm2)\n",
    "\n",
    "    model = keras.Model(inputs=w2v_input, outputs=outputs)\n",
    "    model.compile(optimizer = keras.optimizers.Adam(learning_rate=lr), loss = keras.losses.CategoricalCrossentropy(), metrics=[\"accuracy\"])\n",
    "    \n",
    "    model.fit(X_train_w2v, Y_train, epochs=epochs);\n",
    "    gt, pred = val.test_model(X_val_w2v, Y_val, model)\n",
    "    macro_avg_f1s.append(f1_score(gt, pred ,average = 'macro'))\n",
    "base_avgs = macro_avg_f1s"
   ]
  },
  {
   "cell_type": "code",
   "execution_count": 23,
   "metadata": {},
   "outputs": [
    {
     "name": "stdout",
     "output_type": "stream",
     "text": [
      "0.5407442405194707\n"
     ]
    }
   ],
   "source": [
    "print(np.mean(base_avgs))"
   ]
  },
  {
   "cell_type": "markdown",
   "metadata": {},
   "source": [
    "## Lemmatisation + Baseline"
   ]
  },
  {
   "cell_type": "code",
   "execution_count": null,
   "metadata": {},
   "outputs": [],
   "source": [
    "nltk.download('averaged_perceptron_tagger')"
   ]
  },
  {
   "cell_type": "code",
   "execution_count": 9,
   "metadata": {
    "scrolled": true
   },
   "outputs": [
    {
     "name": "stdout",
     "output_type": "stream",
     "text": [
      "lemmatized done\n",
      "fit complete\n",
      "lemmatized done\n"
     ]
    }
   ],
   "source": [
    "train_obj = pp.Lemmatize_groups(train.X_unencoded)      \n",
    "train_obj.fit_lemmatize()\n",
    "\n",
    "X_train_lem = train_obj.transform(train_obj)\n",
    "X_train_lem = pp.padding(X_train_lem,train.max_len)\n",
    "\n",
    "val_obj = pp.Lemmatize_groups(val.X_unencoded)  \n",
    "X_val_lem = val_obj.transform(train_obj)\n",
    "X_val_lem = pp.padding(X_val_lem, train.max_len)"
   ]
  },
  {
   "cell_type": "code",
   "execution_count": 10,
   "metadata": {},
   "outputs": [],
   "source": [
    "epochs = 10\n",
    "no_neurons = 50\n",
    "lr = 0.01"
   ]
  },
  {
   "cell_type": "code",
   "execution_count": 11,
   "metadata": {
    "scrolled": true
   },
   "outputs": [
    {
     "name": "stdout",
     "output_type": "stream",
     "text": [
      "Epoch 1/10\n",
      "55/55 [==============================] - 15s 103ms/step - loss: 0.0878 - accuracy: 0.7470\n",
      "Epoch 2/10\n",
      "55/55 [==============================] - 6s 100ms/step - loss: 0.0703 - accuracy: 0.7792\n",
      "Epoch 3/10\n",
      "55/55 [==============================] - 5s 95ms/step - loss: 0.0621 - accuracy: 0.7915\n",
      "Epoch 4/10\n",
      "55/55 [==============================] - 5s 96ms/step - loss: 0.0554 - accuracy: 0.8069\n",
      "Epoch 5/10\n",
      "55/55 [==============================] - 5s 95ms/step - loss: 0.0491 - accuracy: 0.8262\n",
      "Epoch 6/10\n",
      "55/55 [==============================] - 5s 95ms/step - loss: 0.0443 - accuracy: 0.8427\n",
      "Epoch 7/10\n",
      "55/55 [==============================] - 5s 95ms/step - loss: 0.0375 - accuracy: 0.8705\n",
      "Epoch 8/10\n",
      "55/55 [==============================] - 5s 95ms/step - loss: 0.0319 - accuracy: 0.8894\n",
      "Epoch 9/10\n",
      "55/55 [==============================] - 5s 95ms/step - loss: 0.0260 - accuracy: 0.9119\n",
      "Epoch 10/10\n",
      "55/55 [==============================] - 5s 95ms/step - loss: 0.0235 - accuracy: 0.9213\n",
      "Epoch 1/10\n",
      "55/55 [==============================] - 12s 106ms/step - loss: 0.0933 - accuracy: 0.7425\n",
      "Epoch 2/10\n",
      "55/55 [==============================] - 6s 104ms/step - loss: 0.0705 - accuracy: 0.7795\n",
      "Epoch 3/10\n",
      "55/55 [==============================] - 5s 100ms/step - loss: 0.0621 - accuracy: 0.7956\n",
      "Epoch 4/10\n",
      "55/55 [==============================] - 8s 155ms/step - loss: 0.0548 - accuracy: 0.8127\n",
      "Epoch 5/10\n",
      "55/55 [==============================] - 6s 116ms/step - loss: 0.0499 - accuracy: 0.8257\n",
      "Epoch 6/10\n",
      "55/55 [==============================] - 10s 182ms/step - loss: 0.0445 - accuracy: 0.8468\n",
      "Epoch 7/10\n",
      "55/55 [==============================] - 5s 98ms/step - loss: 0.0394 - accuracy: 0.8623\n",
      "Epoch 8/10\n",
      "55/55 [==============================] - 5s 96ms/step - loss: 0.0334 - accuracy: 0.8831\n",
      "Epoch 9/10\n",
      "55/55 [==============================] - 5s 96ms/step - loss: 0.0287 - accuracy: 0.9018\n",
      "Epoch 10/10\n",
      "55/55 [==============================] - 5s 97ms/step - loss: 0.0234 - accuracy: 0.9231\n",
      "Epoch 1/10\n",
      "55/55 [==============================] - 11s 96ms/step - loss: 0.0917 - accuracy: 0.7389\n",
      "Epoch 2/10\n",
      "55/55 [==============================] - 5s 96ms/step - loss: 0.0704 - accuracy: 0.7771\n",
      "Epoch 3/10\n",
      "55/55 [==============================] - 5s 97ms/step - loss: 0.0615 - accuracy: 0.7962\n",
      "Epoch 4/10\n",
      "55/55 [==============================] - 5s 96ms/step - loss: 0.0570 - accuracy: 0.8067\n",
      "Epoch 5/10\n",
      "55/55 [==============================] - 5s 96ms/step - loss: 0.0514 - accuracy: 0.8235\n",
      "Epoch 6/10\n",
      "55/55 [==============================] - 5s 96ms/step - loss: 0.0454 - accuracy: 0.8405\n",
      "Epoch 7/10\n",
      "55/55 [==============================] - 5s 96ms/step - loss: 0.0397 - accuracy: 0.8626\n",
      "Epoch 8/10\n",
      "55/55 [==============================] - 5s 96ms/step - loss: 0.0352 - accuracy: 0.8783\n",
      "Epoch 9/10\n",
      "55/55 [==============================] - 5s 96ms/step - loss: 0.0293 - accuracy: 0.8982\n",
      "Epoch 10/10\n",
      "55/55 [==============================] - 6s 104ms/step - loss: 0.0248 - accuracy: 0.9145\n",
      "Epoch 1/10\n",
      "55/55 [==============================] - 12s 96ms/step - loss: 0.0894 - accuracy: 0.7447\n",
      "Epoch 2/10\n",
      "55/55 [==============================] - 5s 95ms/step - loss: 0.0682 - accuracy: 0.7809\n",
      "Epoch 3/10\n",
      "55/55 [==============================] - 5s 95ms/step - loss: 0.0604 - accuracy: 0.7979\n",
      "Epoch 4/10\n",
      "55/55 [==============================] - 5s 96ms/step - loss: 0.0554 - accuracy: 0.8098\n",
      "Epoch 5/10\n",
      "55/55 [==============================] - 5s 95ms/step - loss: 0.0498 - accuracy: 0.8272\n",
      "Epoch 6/10\n",
      "55/55 [==============================] - 5s 95ms/step - loss: 0.0445 - accuracy: 0.8450\n",
      "Epoch 7/10\n",
      "55/55 [==============================] - 5s 95ms/step - loss: 0.0391 - accuracy: 0.8609\n",
      "Epoch 8/10\n",
      "55/55 [==============================] - 5s 94ms/step - loss: 0.0342 - accuracy: 0.8787\n",
      "Epoch 9/10\n",
      "55/55 [==============================] - 5s 95ms/step - loss: 0.0285 - accuracy: 0.9004\n",
      "Epoch 10/10\n",
      "55/55 [==============================] - 5s 96ms/step - loss: 0.0235 - accuracy: 0.9182\n",
      "Epoch 1/10\n",
      "55/55 [==============================] - 13s 111ms/step - loss: 0.0896 - accuracy: 0.7447\n",
      "Epoch 2/10\n",
      "55/55 [==============================] - 6s 105ms/step - loss: 0.0680 - accuracy: 0.7817\n",
      "Epoch 3/10\n",
      "55/55 [==============================] - 6s 109ms/step - loss: 0.0588 - accuracy: 0.8017\n",
      "Epoch 4/10\n",
      "55/55 [==============================] - 6s 117ms/step - loss: 0.0538 - accuracy: 0.8126\n",
      "Epoch 5/10\n",
      "55/55 [==============================] - 6s 113ms/step - loss: 0.0466 - accuracy: 0.8368\n",
      "Epoch 6/10\n",
      "55/55 [==============================] - 6s 101ms/step - loss: 0.0420 - accuracy: 0.8516\n",
      "Epoch 7/10\n",
      "55/55 [==============================] - 5s 96ms/step - loss: 0.0359 - accuracy: 0.8752\n",
      "Epoch 8/10\n",
      "55/55 [==============================] - 5s 99ms/step - loss: 0.0297 - accuracy: 0.8969\n",
      "Epoch 9/10\n",
      "55/55 [==============================] - 5s 100ms/step - loss: 0.0254 - accuracy: 0.9122\n",
      "Epoch 10/10\n",
      "55/55 [==============================] - 5s 98ms/step - loss: 0.0216 - accuracy: 0.9271\n"
     ]
    }
   ],
   "source": [
    "macro_avg_f1s = []\n",
    "for _ in range(5):\n",
    "    w2v_input = keras.Input(shape = (None,X_train_w2v.shape[2]))\n",
    "    w2v_mask = layers.Masking(mask_value = 0)(w2v_input)\n",
    "\n",
    "    lem_input = keras.Input(shape=(None,))\n",
    "    embed_layer = layers.Embedding(input_dim=sorted(train_obj.group_dict.values(),reverse= True)[0]+1, output_dim=10, mask_zero=True)(lem_input)\n",
    "\n",
    "    concat = layers.Concatenate()([w2v_mask] + [embed_layer])\n",
    "\n",
    "    lstm1 = layers.Bidirectional(layers.LSTM(no_neurons, return_sequences = True, activation='tanh'), merge_mode='sum')(concat)\n",
    "    lstm2 = layers.Bidirectional(layers.LSTM(no_neurons, return_sequences = True, activation='tanh'), merge_mode='sum')(lstm1)\n",
    "\n",
    "    outputs = layers.Dense(9, activation='Softmax')(lstm2)\n",
    "\n",
    "    model = keras.Model(inputs=[w2v_input, lem_input], outputs=outputs)\n",
    "    model.compile(optimizer = keras.optimizers.Adam(learning_rate=lr), loss = keras.losses.CategoricalCrossentropy(), metrics=[\"accuracy\"])\n",
    "    \n",
    "    model.fit([X_train_w2v, X_train_lem] , Y_train, epochs=epochs);\n",
    "    gt, pred = val.test_model([X_val_w2v, X_val_lem], Y_val, model)\n",
    "    macro_avg_f1s.append(f1_score(gt, pred, average = 'macro'))\n",
    "lem_avgs = macro_avg_f1s"
   ]
  },
  {
   "cell_type": "code",
   "execution_count": 24,
   "metadata": {},
   "outputs": [
    {
     "name": "stdout",
     "output_type": "stream",
     "text": [
      "0.549001481778295\n"
     ]
    }
   ],
   "source": [
    "print(np.mean(lem_avgs))"
   ]
  },
  {
   "cell_type": "markdown",
   "metadata": {},
   "source": [
    "## Affixes + Baseline"
   ]
  },
  {
   "cell_type": "code",
   "execution_count": null,
   "metadata": {},
   "outputs": [],
   "source": [
    "train.fit_affix_int(ngram_lengths=[3], min_occurences=40)"
   ]
  },
  {
   "cell_type": "code",
   "execution_count": null,
   "metadata": {},
   "outputs": [],
   "source": [
    "X_train_af = train.make_affix_int(train)\n",
    "X_val_af = val.make_affix_int(train)"
   ]
  },
  {
   "cell_type": "code",
   "execution_count": null,
   "metadata": {},
   "outputs": [],
   "source": [
    "epochs = 10\n",
    "no_neurons = 50\n",
    "lr = 0.01"
   ]
  },
  {
   "cell_type": "code",
   "execution_count": null,
   "metadata": {},
   "outputs": [],
   "source": [
    "macro_avg_f1s = []\n",
    "for _ in range(1):\n",
    "    w2v_input = keras.Input(shape = (None,X_train_w2v.shape[2]))\n",
    "    w2v_mask = layers.Masking(mask_value = 0)(w2v_input)\n",
    "\n",
    "    embed_layers = pp.make_embedding_layers(train, output_dim=10)\n",
    "\n",
    "    concat = layers.Concatenate()([w2v_mask] + embed_layers['embeddings'])\n",
    "\n",
    "    lstm1 = layers.Bidirectional(layers.LSTM(no_neurons, return_sequences = True, activation='tanh'), merge_mode='sum')(concat)\n",
    "    lstm2 = layers.Bidirectional(layers.LSTM(no_neurons, return_sequences = True, activation='tanh'), merge_mode='sum')(lstm1)\n",
    "\n",
    "    outputs = layers.Dense(9, activation='Softmax')(lstm2)\n",
    "    \n",
    "    model = keras.Model(inputs=[w2v_input] + embed_layers['inputs'], outputs=outputs)\n",
    "    model.compile(optimizer = keras.optimizers.Adam(learning_rate=lr), loss = keras.losses.CategoricalCrossentropy(), metrics=[\"accuracy\"])\n",
    "    \n",
    "    model.fit([X_train_w2v] + list(X_train_af), Y_train, epochs=1);\n",
    "    gt, pred = val.test_model([X_val_w2v] + list(X_val_af), Y_val, model)\n",
    "    macro_avg_f1s.append(f1_score(gt, pred, average = 'macro'))\n",
    "af_avgs = macro_avg_f1s"
   ]
  },
  {
   "cell_type": "code",
   "execution_count": null,
   "metadata": {},
   "outputs": [],
   "source": [
    "print(af_avgs)"
   ]
  },
  {
   "cell_type": "markdown",
   "metadata": {},
   "source": [
    "## POS-tags + Baseline"
   ]
  },
  {
   "cell_type": "code",
   "execution_count": 13,
   "metadata": {},
   "outputs": [],
   "source": [
    "X_train_pos = np.array(pp.pos_tag(train.X_unencoded, train.max_len, 'numbers'))\n",
    "X_val_pos = np.array(pp.pos_tag(val.X_unencoded, train.max_len, 'numbers'))"
   ]
  },
  {
   "cell_type": "code",
   "execution_count": 14,
   "metadata": {},
   "outputs": [],
   "source": [
    "epochs = 10\n",
    "no_neurons = 50\n",
    "lr = 0.01"
   ]
  },
  {
   "cell_type": "code",
   "execution_count": 17,
   "metadata": {
    "scrolled": true
   },
   "outputs": [
    {
     "name": "stdout",
     "output_type": "stream",
     "text": [
      "Epoch 1/10\n",
      "55/55 [==============================] - 12s 98ms/step - loss: 0.0881 - accuracy: 0.7451\n",
      "Epoch 2/10\n",
      "55/55 [==============================] - 6s 102ms/step - loss: 0.0663 - accuracy: 0.7848\n",
      "Epoch 3/10\n",
      "55/55 [==============================] - 5s 97ms/step - loss: 0.0588 - accuracy: 0.8005\n",
      "Epoch 4/10\n",
      "55/55 [==============================] - 5s 99ms/step - loss: 0.0526 - accuracy: 0.8192\n",
      "Epoch 5/10\n",
      "55/55 [==============================] - 5s 98ms/step - loss: 0.0492 - accuracy: 0.8261\n",
      "Epoch 6/10\n",
      "55/55 [==============================] - 5s 98ms/step - loss: 0.0416 - accuracy: 0.8550\n",
      "Epoch 7/10\n",
      "55/55 [==============================] - 5s 100ms/step - loss: 0.0376 - accuracy: 0.8690\n",
      "Epoch 8/10\n",
      "55/55 [==============================] - 5s 99ms/step - loss: 0.0318 - accuracy: 0.8918\n",
      "Epoch 9/10\n",
      "55/55 [==============================] - 6s 105ms/step - loss: 0.0267 - accuracy: 0.9073\n",
      "Epoch 10/10\n",
      "55/55 [==============================] - 5s 98ms/step - loss: 0.0219 - accuracy: 0.9250\n",
      "Epoch 1/10\n",
      "55/55 [==============================] - 12s 99ms/step - loss: 0.0881 - accuracy: 0.7400\n",
      "Epoch 2/10\n",
      "55/55 [==============================] - 6s 112ms/step - loss: 0.0683 - accuracy: 0.7789\n",
      "Epoch 3/10\n",
      "55/55 [==============================] - 6s 109ms/step - loss: 0.0615 - accuracy: 0.7932\n",
      "Epoch 4/10\n",
      "55/55 [==============================] - 5s 95ms/step - loss: 0.0568 - accuracy: 0.8070\n",
      "Epoch 5/10\n",
      "55/55 [==============================] - 5s 95ms/step - loss: 0.0502 - accuracy: 0.8242\n",
      "Epoch 6/10\n",
      "55/55 [==============================] - 5s 95ms/step - loss: 0.0461 - accuracy: 0.8367\n",
      "Epoch 7/10\n",
      "55/55 [==============================] - 5s 95ms/step - loss: 0.0406 - accuracy: 0.8564\n",
      "Epoch 8/10\n",
      "55/55 [==============================] - 5s 95ms/step - loss: 0.0362 - accuracy: 0.8757\n",
      "Epoch 9/10\n",
      "55/55 [==============================] - 5s 95ms/step - loss: 0.0306 - accuracy: 0.8934\n",
      "Epoch 10/10\n",
      "55/55 [==============================] - 6s 104ms/step - loss: 0.0265 - accuracy: 0.9079\n",
      "Epoch 1/10\n",
      "55/55 [==============================] - 12s 95ms/step - loss: 0.0903 - accuracy: 0.7390\n",
      "Epoch 2/10\n",
      "55/55 [==============================] - 5s 95ms/step - loss: 0.0701 - accuracy: 0.7789\n",
      "Epoch 3/10\n",
      "55/55 [==============================] - 6s 110ms/step - loss: 0.0614 - accuracy: 0.7937\n",
      "Epoch 4/10\n",
      "55/55 [==============================] - 5s 97ms/step - loss: 0.0550 - accuracy: 0.8098\n",
      "Epoch 5/10\n",
      "55/55 [==============================] - 5s 100ms/step - loss: 0.0499 - accuracy: 0.8244\n",
      "Epoch 6/10\n",
      "55/55 [==============================] - 5s 99ms/step - loss: 0.0452 - accuracy: 0.8405\n",
      "Epoch 7/10\n",
      "55/55 [==============================] - 5s 98ms/step - loss: 0.0395 - accuracy: 0.8605\n",
      "Epoch 8/10\n",
      "55/55 [==============================] - 5s 98ms/step - loss: 0.0334 - accuracy: 0.8857\n",
      "Epoch 9/10\n",
      "55/55 [==============================] - 6s 101ms/step - loss: 0.0285 - accuracy: 0.9033\n",
      "Epoch 10/10\n",
      "55/55 [==============================] - 6s 110ms/step - loss: 0.0254 - accuracy: 0.9115\n",
      "Epoch 1/10\n",
      "55/55 [==============================] - 12s 95ms/step - loss: 0.0935 - accuracy: 0.7408\n",
      "Epoch 2/10\n",
      "55/55 [==============================] - 5s 97ms/step - loss: 0.0707 - accuracy: 0.7765\n",
      "Epoch 3/10\n",
      "55/55 [==============================] - 5s 99ms/step - loss: 0.0619 - accuracy: 0.7908\n",
      "Epoch 4/10\n",
      "55/55 [==============================] - 5s 95ms/step - loss: 0.0553 - accuracy: 0.8091\n",
      "Epoch 5/10\n",
      "55/55 [==============================] - 6s 102ms/step - loss: 0.0500 - accuracy: 0.8252\n",
      "Epoch 6/10\n",
      "55/55 [==============================] - 6s 105ms/step - loss: 0.0439 - accuracy: 0.8422\n",
      "Epoch 7/10\n",
      "55/55 [==============================] - 5s 95ms/step - loss: 0.0398 - accuracy: 0.8618\n",
      "Epoch 8/10\n",
      "55/55 [==============================] - 6s 110ms/step - loss: 0.0330 - accuracy: 0.8865\n",
      "Epoch 9/10\n",
      "55/55 [==============================] - 6s 109ms/step - loss: 0.0285 - accuracy: 0.9005\n",
      "Epoch 10/10\n",
      "55/55 [==============================] - 6s 103ms/step - loss: 0.0237 - accuracy: 0.9203\n",
      "Epoch 1/10\n",
      "55/55 [==============================] - 12s 95ms/step - loss: 0.0890 - accuracy: 0.7403\n",
      "Epoch 2/10\n",
      "55/55 [==============================] - 5s 96ms/step - loss: 0.0707 - accuracy: 0.7764\n",
      "Epoch 3/10\n",
      "55/55 [==============================] - 5s 95ms/step - loss: 0.0609 - accuracy: 0.7968\n",
      "Epoch 4/10\n",
      "55/55 [==============================] - 5s 95ms/step - loss: 0.0562 - accuracy: 0.8074\n",
      "Epoch 5/10\n",
      "55/55 [==============================] - 5s 95ms/step - loss: 0.0499 - accuracy: 0.8245\n",
      "Epoch 6/10\n",
      "55/55 [==============================] - 6s 109ms/step - loss: 0.0454 - accuracy: 0.8420\n",
      "Epoch 7/10\n",
      "55/55 [==============================] - 6s 117ms/step - loss: 0.0388 - accuracy: 0.8650\n",
      "Epoch 8/10\n",
      "55/55 [==============================] - 6s 113ms/step - loss: 0.0329 - accuracy: 0.8851\n",
      "Epoch 9/10\n",
      "55/55 [==============================] - 6s 105ms/step - loss: 0.0274 - accuracy: 0.9048\n",
      "Epoch 10/10\n",
      "55/55 [==============================] - 6s 101ms/step - loss: 0.0245 - accuracy: 0.9190\n"
     ]
    }
   ],
   "source": [
    "macro_avg_f1s = []\n",
    "for _ in range(5):\n",
    "    w2v_input = keras.Input(shape = (None,X_train_w2v.shape[2]))\n",
    "    w2v_mask = layers.Masking(mask_value = 0)(w2v_input)\n",
    "\n",
    "    pos_input = keras.Input(shape=(None,))\n",
    "    embed_layer = layers.Embedding(input_dim=45+1, output_dim=10, mask_zero=True)(pos_input)\n",
    "\n",
    "    concat = layers.Concatenate()([w2v_mask] + [embed_layer])\n",
    "\n",
    "    lstm1 = layers.Bidirectional(layers.LSTM(no_neurons, return_sequences = True, activation='tanh'), merge_mode='sum')(concat)\n",
    "    lstm2 = layers.Bidirectional(layers.LSTM(no_neurons, return_sequences = True, activation='tanh'), merge_mode='sum')(lstm1)\n",
    "\n",
    "    outputs = layers.Dense(9, activation='Softmax')(lstm2)\n",
    "\n",
    "    model = keras.Model(inputs=[w2v_input, pos_input], outputs=outputs)\n",
    "    \n",
    "    \n",
    "    model.compile(optimizer = keras.optimizers.Adam(learning_rate=lr), loss = keras.losses.CategoricalCrossentropy(), metrics=[\"accuracy\"])\n",
    "    model.fit([X_train_w2v, X_train_pos] , Y_train, epochs=epochs);\n",
    "    gt, pred = val.test_model([X_val_w2v, X_val_pos], Y_val, model)\n",
    "    macro_avg_f1s.append(f1_score(gt, pred, average = 'macro'))\n",
    "pos_avgs = macro_avg_f1s"
   ]
  },
  {
   "cell_type": "code",
   "execution_count": 25,
   "metadata": {},
   "outputs": [
    {
     "name": "stdout",
     "output_type": "stream",
     "text": [
      "0.5425449612357641\n"
     ]
    }
   ],
   "source": [
    "print(np.mean(pos_avgs))"
   ]
  },
  {
   "cell_type": "markdown",
   "metadata": {},
   "source": [
    "# REMOVE IF KEPT OUT ALSO FROM PP FUNCTIONS"
   ]
  },
  {
   "cell_type": "markdown",
   "metadata": {},
   "source": [
    "## TF-IDF + Baseline"
   ]
  },
  {
   "cell_type": "code",
   "execution_count": 19,
   "metadata": {},
   "outputs": [],
   "source": [
    "from sklearn.feature_extraction.text import TfidfVectorizer\n",
    "corpus_train = []\n",
    "corpus_val = []\n",
    "for i in train.X_unencoded:\n",
    "    listToStr = ' '.join([str(elem) for elem in i])\n",
    "    corpus_train.append(listToStr)\n",
    "tfidf_obj = TfidfVectorizer()\n",
    "tfidf_dat = tfidf_obj.fit_transform(corpus_train)"
   ]
  },
  {
   "cell_type": "code",
   "execution_count": 20,
   "metadata": {},
   "outputs": [],
   "source": [
    "X_train_tf = pp.tfidf_repr(train.X_unencoded,train.max_len, tfidf_obj, tfidf_dat)\n",
    "X_val_tf = pp.tfidf_repr(val.X_unencoded,train.max_len, tfidf_obj, tfidf_dat)"
   ]
  },
  {
   "cell_type": "code",
   "execution_count": 21,
   "metadata": {
    "scrolled": true
   },
   "outputs": [
    {
     "name": "stdout",
     "output_type": "stream",
     "text": [
      "Epoch 1/10\n",
      "55/55 [==============================] - 18s 191ms/step - loss: 0.0569 - accuracy: 0.7117\n",
      "Epoch 2/10\n",
      "55/55 [==============================] - 10s 188ms/step - loss: 0.0449 - accuracy: 0.7583\n",
      "Epoch 3/10\n",
      "55/55 [==============================] - 10s 187ms/step - loss: 0.0412 - accuracy: 0.7687\n",
      "Epoch 4/10\n",
      "55/55 [==============================] - 10s 189ms/step - loss: 0.0375 - accuracy: 0.7821\n",
      "Epoch 5/10\n",
      "55/55 [==============================] - 10s 187ms/step - loss: 0.0335 - accuracy: 0.8012\n",
      "Epoch 6/10\n",
      "55/55 [==============================] - 10s 190ms/step - loss: 0.0308 - accuracy: 0.8174\n",
      "Epoch 7/10\n",
      "55/55 [==============================] - 11s 194ms/step - loss: 0.0293 - accuracy: 0.8236\n",
      "Epoch 8/10\n",
      "55/55 [==============================] - 11s 191ms/step - loss: 0.0262 - accuracy: 0.8418\n",
      "Epoch 9/10\n",
      "55/55 [==============================] - 10s 182ms/step - loss: 0.0231 - accuracy: 0.8619\n",
      "Epoch 10/10\n",
      "55/55 [==============================] - 11s 204ms/step - loss: 0.0205 - accuracy: 0.8729\n",
      "Epoch 1/10\n",
      "55/55 [==============================] - 18s 189ms/step - loss: 0.0557 - accuracy: 0.7161\n",
      "Epoch 2/10\n",
      "55/55 [==============================] - 10s 187ms/step - loss: 0.0449 - accuracy: 0.7628\n",
      "Epoch 3/10\n",
      "55/55 [==============================] - 10s 186ms/step - loss: 0.0403 - accuracy: 0.7738\n",
      "Epoch 4/10\n",
      "55/55 [==============================] - 10s 187ms/step - loss: 0.0374 - accuracy: 0.7832\n",
      "Epoch 5/10\n",
      "55/55 [==============================] - 10s 186ms/step - loss: 0.0344 - accuracy: 0.8008\n",
      "Epoch 6/10\n",
      "55/55 [==============================] - 10s 188ms/step - loss: 0.0310 - accuracy: 0.8167\n",
      "Epoch 7/10\n",
      "55/55 [==============================] - 10s 188ms/step - loss: 0.0283 - accuracy: 0.8250\n",
      "Epoch 8/10\n",
      "55/55 [==============================] - 10s 187ms/step - loss: 0.0248 - accuracy: 0.8531\n",
      "Epoch 9/10\n",
      "55/55 [==============================] - 11s 196ms/step - loss: 0.0229 - accuracy: 0.8625\n",
      "Epoch 10/10\n",
      "55/55 [==============================] - 12s 214ms/step - loss: 0.0189 - accuracy: 0.8842\n",
      "Epoch 1/10\n",
      "55/55 [==============================] - 19s 208ms/step - loss: 0.0561 - accuracy: 0.7147\n",
      "Epoch 2/10\n",
      "55/55 [==============================] - 12s 214ms/step - loss: 0.0447 - accuracy: 0.7606\n",
      "Epoch 3/10\n",
      "55/55 [==============================] - 12s 211ms/step - loss: 0.0397 - accuracy: 0.7750\n",
      "Epoch 4/10\n",
      "55/55 [==============================] - 12s 211ms/step - loss: 0.0363 - accuracy: 0.7878\n",
      "Epoch 5/10\n",
      "55/55 [==============================] - 11s 193ms/step - loss: 0.0334 - accuracy: 0.8020\n",
      "Epoch 6/10\n",
      "55/55 [==============================] - 10s 183ms/step - loss: 0.0302 - accuracy: 0.8183\n",
      "Epoch 7/10\n",
      "55/55 [==============================] - 10s 183ms/step - loss: 0.0269 - accuracy: 0.8412\n",
      "Epoch 8/10\n",
      "55/55 [==============================] - 11s 203ms/step - loss: 0.0242 - accuracy: 0.8516\n",
      "Epoch 9/10\n",
      "55/55 [==============================] - 11s 201ms/step - loss: 0.0219 - accuracy: 0.8675\n",
      "Epoch 10/10\n",
      "55/55 [==============================] - 11s 207ms/step - loss: 0.0194 - accuracy: 0.8820\n",
      "Epoch 1/10\n",
      "55/55 [==============================] - 18s 190ms/step - loss: 0.0567 - accuracy: 0.7163\n",
      "Epoch 2/10\n",
      "55/55 [==============================] - 10s 184ms/step - loss: 0.0461 - accuracy: 0.7563\n",
      "Epoch 3/10\n",
      "55/55 [==============================] - 10s 184ms/step - loss: 0.0401 - accuracy: 0.7747\n",
      "Epoch 4/10\n",
      "55/55 [==============================] - 10s 184ms/step - loss: 0.0369 - accuracy: 0.7846\n",
      "Epoch 5/10\n",
      "55/55 [==============================] - 10s 182ms/step - loss: 0.0327 - accuracy: 0.8038\n",
      "Epoch 6/10\n",
      "55/55 [==============================] - 10s 185ms/step - loss: 0.0302 - accuracy: 0.8179\n",
      "Epoch 7/10\n",
      "55/55 [==============================] - 10s 185ms/step - loss: 0.0272 - accuracy: 0.8387\n",
      "Epoch 8/10\n",
      "55/55 [==============================] - 10s 184ms/step - loss: 0.0256 - accuracy: 0.8505\n",
      "Epoch 9/10\n",
      "55/55 [==============================] - 11s 197ms/step - loss: 0.0221 - accuracy: 0.8678\n",
      "Epoch 10/10\n",
      "55/55 [==============================] - 12s 217ms/step - loss: 0.0190 - accuracy: 0.8843\n",
      "Epoch 1/10\n",
      "55/55 [==============================] - 17s 186ms/step - loss: 0.0585 - accuracy: 0.7082\n",
      "Epoch 2/10\n",
      "55/55 [==============================] - 12s 227ms/step - loss: 0.0466 - accuracy: 0.7540\n",
      "Epoch 3/10\n",
      "55/55 [==============================] - 11s 206ms/step - loss: 0.0420 - accuracy: 0.7631\n",
      "Epoch 4/10\n",
      "55/55 [==============================] - 10s 187ms/step - loss: 0.0377 - accuracy: 0.7798\n",
      "Epoch 5/10\n",
      "55/55 [==============================] - 11s 206ms/step - loss: 0.0351 - accuracy: 0.7919\n",
      "Epoch 6/10\n",
      "55/55 [==============================] - 12s 223ms/step - loss: 0.0315 - accuracy: 0.8113\n",
      "Epoch 7/10\n",
      "55/55 [==============================] - 11s 204ms/step - loss: 0.0297 - accuracy: 0.8201\n",
      "Epoch 8/10\n",
      "55/55 [==============================] - 12s 212ms/step - loss: 0.0265 - accuracy: 0.8401\n",
      "Epoch 9/10\n",
      "55/55 [==============================] - 12s 213ms/step - loss: 0.0240 - accuracy: 0.8557\n",
      "Epoch 10/10\n",
      "55/55 [==============================] - 11s 204ms/step - loss: 0.0207 - accuracy: 0.8753\n"
     ]
    }
   ],
   "source": [
    "macro_avg_f1s = []\n",
    "for _ in range(5):\n",
    "    w2v_input = keras.Input(shape = (None,X_train_w2v.shape[2]))\n",
    "    w2v_mask = layers.Masking(mask_value = 0)(w2v_input)\n",
    "\n",
    "    tfidf_input = keras.Input(shape=(None,X_train_tf.shape[2]))\n",
    "    tfidf_mask = layers.Masking(mask_value = 0)(tfidf_input)\n",
    "\n",
    "    concat = layers.Concatenate()([w2v_mask] + [tfidf_mask])\n",
    "\n",
    "    lstm1 = layers.Bidirectional(layers.LSTM(no_neurons, return_sequences = True, activation='tanh'), merge_mode='sum')(concat)\n",
    "    lstm2 = layers.Bidirectional(layers.LSTM(no_neurons, return_sequences = True, activation='tanh'), merge_mode='sum')(lstm1)\n",
    "\n",
    "    outputs = layers.Dense(9, activation='Softmax')(lstm2)\n",
    "\n",
    "    model = keras.Model(inputs=[w2v_input, tfidf_input], outputs=outputs)\n",
    "    \n",
    "    model.compile(optimizer = keras.optimizers.Adam(learning_rate=lr), loss = keras.losses.CategoricalCrossentropy(), metrics=[\"accuracy\"])\n",
    "    model.fit([X_train_w2v, X_train_tf] , Y_train, epochs=epochs);\n",
    "    gt, pred = val.test_model([X_val_w2v, X_val_tf], Y_val, model)\n",
    "    macro_avg_f1s.append(f1_score(gt, pred, average = 'macro'))\n",
    "tfidf_avgs = macro_avg_f1s"
   ]
  },
  {
   "cell_type": "code",
   "execution_count": 26,
   "metadata": {},
   "outputs": [
    {
     "name": "stdout",
     "output_type": "stream",
     "text": [
      "0.38712206300070506\n"
     ]
    }
   ],
   "source": [
    "print(np.mean(tfidf_avgs))"
   ]
  },
  {
   "cell_type": "code",
   "execution_count": null,
   "metadata": {},
   "outputs": [],
   "source": []
  },
  {
   "cell_type": "code",
   "execution_count": null,
   "metadata": {},
   "outputs": [],
   "source": []
  },
  {
   "cell_type": "code",
   "execution_count": null,
   "metadata": {},
   "outputs": [],
   "source": []
  },
  {
   "cell_type": "code",
   "execution_count": null,
   "metadata": {},
   "outputs": [],
   "source": []
  },
  {
   "cell_type": "code",
   "execution_count": null,
   "metadata": {},
   "outputs": [],
   "source": []
  },
  {
   "cell_type": "code",
   "execution_count": null,
   "metadata": {},
   "outputs": [],
   "source": []
  },
  {
   "cell_type": "code",
   "execution_count": null,
   "metadata": {},
   "outputs": [],
   "source": []
  },
  {
   "cell_type": "markdown",
   "metadata": {},
   "source": [
    "## "
   ]
  }
 ],
 "metadata": {
  "kernelspec": {
   "display_name": "Python 3 (ipykernel)",
   "language": "python",
   "name": "python3"
  },
  "language_info": {
   "codemirror_mode": {
    "name": "ipython",
    "version": 3
   },
   "file_extension": ".py",
   "mimetype": "text/x-python",
   "name": "python",
   "nbconvert_exporter": "python",
   "pygments_lexer": "ipython3",
   "version": "3.7.11"
  }
 },
 "nbformat": 4,
 "nbformat_minor": 4
}

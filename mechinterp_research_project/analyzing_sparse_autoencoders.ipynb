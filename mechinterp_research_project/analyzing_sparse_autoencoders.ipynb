{
  "cells": [
    {
      "cell_type": "code",
      "execution_count": 1,
      "metadata": {
        "colab": {
          "base_uri": "https://localhost:8080/"
        },
        "id": "xn3wqVXqmzoU",
        "outputId": "19b2963a-5d16-4abd-ff68-b1e415cabd34"
      },
      "outputs": [],
      "source": [
        "import os\n",
        "\n",
        "try:\n",
        "    has_changed_dir\n",
        "except:\n",
        "    has_changed_dir = False\n",
        "\n",
        "try:\n",
        "    import google.colab\n",
        "    IN_COLAB = True\n",
        "    print(\"Running as a Colab notebook\")\n",
        "except:\n",
        "    IN_COLAB = False\n",
        "\n",
        "if IN_COLAB:\n",
        "    %pip install datasets\n",
        "    %pip install translate-toolkit\n",
        "    %pip install bitsandbytes\n",
        "\n",
        "    !git clone https://github.com/MarkusSibbesen/mechinterp_research_project.git\n",
        "\n",
        "    from google.colab import drive\n",
        "    drive.mount('/content/drive/')\n",
        "\n",
        "    if not has_changed_dir:\n",
        "        os.chdir('mechinterp_research_project')\n",
        "        has_changed_dir = True\n",
        "else:\n",
        "    if not has_changed_dir:\n",
        "        os.chdir('.')\n",
        "        has_changed_dir = True"
      ]
    },
    {
      "cell_type": "code",
      "execution_count": 2,
      "metadata": {
        "id": "TfiNhhUjmzoW"
      },
      "outputs": [],
      "source": [
        "import torch\n",
        "device = torch.device(\"cuda\" if torch.cuda.is_available() else \"cpu\")\n",
        "from torch.utils.data import random_split, DataLoader\n",
        "from transformers import AutoModelForCausalLM, AutoTokenizer\n",
        "\n",
        "from collections import defaultdict\n",
        "import os\n",
        "import json\n",
        "from matplotlib import pyplot as plt\n",
        "import pandas as pd\n",
        "import numpy as np\n",
        "import math\n",
        "\n",
        "from src.dataset_handling import TextClassificationDataset\n",
        "from src.utils import get_activations_and_labels, get_hidden_activations\n",
        "from src.sparse_autoencoders import SAE_topk"
      ]
    },
    {
      "cell_type": "code",
      "execution_count": 3,
      "metadata": {
        "colab": {
          "base_uri": "https://localhost:8080/"
        },
        "id": "xM0HaI3AmzoX",
        "outputId": "05e05c06-1c38-4cf8-9603-78e4a3834cfe"
      },
      "outputs": [],
      "source": [
        "load_from_drive = False\n",
        "\n",
        "model_url = \"EleutherAI/pythia-14m\"\n",
        "model_name = model_url.split('/')[-1]\n",
        "hookpoint_name = 'gpt_neox.layers.$.mlp.act'\n",
        "layer = 3\n",
        "\n",
        "model = AutoModelForCausalLM.from_pretrained(model_url).to(device)\n",
        "tokenizer = AutoTokenizer.from_pretrained(model_url)\n",
        "\n",
        "num_hookpoints = model.config.num_hidden_layers\n",
        "hookpoint = hookpoint_name.replace('$', str(layer))\n",
        "input_size = model.config.intermediate_size"
      ]
    },
    {
      "cell_type": "code",
      "execution_count": 4,
      "metadata": {
        "id": "4FXTixrqmzoX"
      },
      "outputs": [],
      "source": [
        "expansion_factor = 4\n",
        "meta_data = {\n",
        "    'input_size': input_size,\n",
        "    'hidden_size': input_size * expansion_factor,\n",
        "    'k': 8,\n",
        "    \"pre_encoder_bias\": True,\n",
        "    \"same_W\": False\n",
        "}\n",
        "\n",
        "k = meta_data['k']\n",
        "\n",
        "sae = SAE_topk(meta_data=meta_data).to(device)\n",
        "\n",
        "if load_from_drive:\n",
        "    sae.load_state_dict(torch.load(f'../drive/MyDrive/models/{hookpoint}.pt', weights_only=True, map_location=device))\n",
        "else:\n",
        "    sae.load_state_dict(torch.load(f'models/sparse_autoencoders/pythia-14m/topk{k}/{hookpoint}.pt', weights_only=True, map_location=torch.device('cpu')))"
      ]
    },
    {
      "cell_type": "code",
      "execution_count": 5,
      "metadata": {
        "id": "l-C2a_semzoY"
      },
      "outputs": [],
      "source": [
        "def get_biling_acts(dataset, model, tokenizer, stop_after = 100):\n",
        "\n",
        "    da_acts = []\n",
        "    da_preacts = []\n",
        "    da_tokens = []\n",
        "    en_acts = []\n",
        "    en_preacts = []\n",
        "    en_tokens = []\n",
        "\n",
        "    for i in range(stop_after):\n",
        "\n",
        "        sent, label = dataset[i]\n",
        "\n",
        "        tokenized = [\n",
        "            tokenizer(input_, return_tensors='pt').to(device)\n",
        "            for input_ in [sent]\n",
        "        ]\n",
        "\n",
        "        transformer_acts = get_hidden_activations(model, hookpoint, tokenized)\n",
        "\n",
        "        sae_preacts = sae.get_preacts(transformer_acts)\n",
        "        sae_acts = sae.get_activations(transformer_acts)\n",
        "\n",
        "        for act_indices, preacts, token in zip(sae_acts.indices, sae_preacts, tokenized[0]['input_ids'][0]):\n",
        "\n",
        "            zeros = torch.zeros(input_size * expansion_factor)\n",
        "\n",
        "            zeros[act_indices] = 1\n",
        "\n",
        "            if label == 0:\n",
        "                da_acts.append(zeros.detach())\n",
        "                da_preacts.append(preacts.detach())\n",
        "                da_tokens.append(token.item())\n",
        "            else:\n",
        "                en_acts.append(zeros.detach())\n",
        "                en_preacts.append(preacts.detach())\n",
        "                en_tokens.append(token.item())\n",
        "\n",
        "    return (\n",
        "        torch.stack(da_acts).cpu().numpy(),\n",
        "        torch.stack(da_preacts).cpu().numpy(),\n",
        "        da_tokens,\n",
        "        torch.stack(en_acts).cpu().numpy(),\n",
        "        torch.stack(en_preacts).cpu().numpy(),\n",
        "        en_tokens\n",
        "    )\n",
        "\n",
        "\n",
        "def get_characteristic_tokens(preacts, tokens, neuron, value, less_than=False):\n",
        "    if less_than:\n",
        "        ids = np.array(tokens)[(preacts[:, neuron] < value)]\n",
        "    else:\n",
        "        ids = np.array(tokens)[(preacts[:, neuron] > value)]\n",
        "\n",
        "    return tokenizer.convert_ids_to_tokens(ids)\n",
        "\n",
        "\n",
        "def find_histogram_overlap(da_preacts, en_preacts, neuron, num_bins=30):\n",
        "\n",
        "    min_da_preact = np.min(da_preacts[:, neuron])\n",
        "    min_en_preact = np.min(en_preacts[:, neuron])\n",
        "    min_preact = min(min_da_preact, min_en_preact)\n",
        "\n",
        "    max_da_preact = np.max(da_preacts[:, neuron])\n",
        "    max_en_preact = np.max(en_preacts[:, neuron])\n",
        "    max_preact = max(max_da_preact, max_en_preact)\n",
        "\n",
        "    bins = np.linspace(min_preact, max_preact, num_bins)\n",
        "\n",
        "    da_hist = np.histogram(da_preacts[:,neuron], bins=bins)[0]\n",
        "    en_hist = np.histogram(en_preacts[:,neuron], bins=bins)[0]\n",
        "\n",
        "    da_hist = da_hist / np.sum(da_hist)\n",
        "    en_hist = en_hist / np.sum(en_hist)\n",
        "\n",
        "    overlap = np.sum(np.minimum(da_hist, en_hist))\n",
        "\n",
        "    avg_da_preact = np.mean(da_preacts[:, neuron])\n",
        "    avg_en_preact = np.mean(en_preacts[:, neuron])\n",
        "    if avg_da_preact > avg_en_preact:\n",
        "        return overlap, 'da'\n",
        "    else:\n",
        "        return overlap, 'en'\n",
        "\n",
        "\n",
        "\n",
        "def plot_difference_by_neuron(da_preacts, en_preacts, neuron, output_file=None):\n",
        "\n",
        "    # da_preacts_tnsr = torch.stack(da_preacts).detach().cpu()\n",
        "    # en_preacts_tnsr = torch.stack(en_preacts).detach().cpu()\n",
        "\n",
        "    fig, ax = plt.subplots(1, 1, figsize=(8, 4))\n",
        "\n",
        "    ax.set_title(f'Neuron {neuron}')\n",
        "    ax.hist(da_preacts[:, neuron], density=True, bins=30, alpha=0.5, color='blue',  label='Danish tokens')\n",
        "    ax.hist(en_preacts[:, neuron], density=True, bins=30, alpha=0.5, color='orange', label='English tokens')\n",
        "    ax.set_yticks([])\n",
        "    ax.set_xlabel('pre-activations')\n",
        "\n",
        "    fig.legend(loc='upper right', bbox_to_anchor=(0.9, 0.85))\n",
        "\n",
        "    fig.tight_layout()\n",
        "    fig.show()\n",
        "\n",
        "    if output_file:\n",
        "        fig.savefig(output_file)\n"
      ]
    },
    {
      "cell_type": "code",
      "execution_count": 6,
      "metadata": {
        "id": "1zfkirLbmzoY"
      },
      "outputs": [],
      "source": [
        "## TEXT PRINTING\n",
        "\n",
        "def format_chars(text):\n",
        "    formatted = (\n",
        "        text.replace('Ġ', ' ').\n",
        "            replace('Ã¥', 'å').\n",
        "            replace('Ã¦', 'æ').\n",
        "            replace('Ã¸', 'ø')\n",
        "    )\n",
        "    return formatted\n",
        "\n",
        "\n",
        "# absolute genius stuff form chatgpt\n",
        "\n",
        "def rgb_text(text, r, g, b, background=False):\n",
        "    \"\"\"Returns text formatted with 24-bit RGB color.\"\"\"\n",
        "    if background:\n",
        "        if (r + g + b) / 3 > 128:\n",
        "            return f\"\\033[38;2;0;0;0m\\033[48;2;{r};{g};{b}m{text}\\033[0m\"\n",
        "        else:\n",
        "            return f\"\\033[38;2;255;255;255m\\033[48;2;{r};{g};{b}m{text}\\033[0m\"\n",
        "    return f\"\\033[38;2;{r};{g};{b}m{text}\\033[0m\"\n",
        "\n",
        "\n",
        "\n",
        "\n",
        "def print_colored_preacts(tokens, preacts, neuron, tokenizer, stop_after=100):\n",
        "\n",
        "    min_preact = np.min(preacts[:, neuron])\n",
        "    max_preact = np.max(preacts[:, neuron])\n",
        "\n",
        "    for idx, (token, preact) in enumerate(zip(tokens, preacts)):\n",
        "        if idx == stop_after:\n",
        "            break\n",
        "        if idx % 20 == 0:\n",
        "            print('')\n",
        "        formatted = format_chars(tokenizer.convert_ids_to_tokens(token))\n",
        "        value = preact[neuron].item()\n",
        "\n",
        "        if value > 0:\n",
        "            print(rgb_text(formatted, r=int((abs(value) / abs(max_preact)) * 255), g=0, b=0, background=True), end='')\n",
        "        else:\n",
        "            print(rgb_text(formatted, r=0, g=0, b=int((abs(value) / abs(min_preact)) * 255), background=True), end='')\n",
        "\n",
        "\n",
        "def print_colored_acts(tokens, acts, neuron, tokenizer, stop_after=100):\n",
        "\n",
        "    for idx, (token, act) in enumerate(zip(tokens, acts)):\n",
        "        if idx == stop_after:\n",
        "            break\n",
        "        if idx % 20 == 0:\n",
        "            print('')\n",
        "\n",
        "        formatted = format_chars(tokenizer.convert_ids_to_tokens(token))\n",
        "        value = act[neuron].item()\n",
        "\n",
        "        if value:\n",
        "            print(rgb_text(formatted, r=255, g=0, b=0, background=True), end='')\n",
        "        else:\n",
        "            print(formatted, end='')\n",
        "\n",
        "\n"
      ]
    },
    {
      "cell_type": "code",
      "execution_count": 7,
      "metadata": {
        "id": "c51NZRKXmzoZ"
      },
      "outputs": [],
      "source": [
        "# for identifying neurons overrepresented in one language\n",
        "\n",
        "data_path = 'data/split/tedtalks_test.tsv'\n",
        "dataset = TextClassificationDataset.from_tsv(data_path)\n",
        "\n",
        "da_acts, da_preacts, da_tokens, en_acts, en_preacts, en_tokens = get_biling_acts(dataset, model, tokenizer, stop_after=100)\n",
        "\n",
        "\n",
        "# for checking those neurons\n",
        "\n",
        "data_path = 'data/parallel/ELRC_2923.tmx'\n",
        "dataset = TextClassificationDataset.from_tmx(data_path, 'da', 'en')\n",
        "\n",
        "da_acts2, da_preacts2, da_tokens2, en_acts2, en_preacts2, en_tokens2 = get_biling_acts(dataset, model, tokenizer, stop_after=100)"
      ]
    },
    {
      "cell_type": "code",
      "execution_count": 8,
      "metadata": {
        "id": "VYKKlgj5mzob"
      },
      "outputs": [],
      "source": [
        "# getting overrepresented neurons\n",
        "\n",
        "avg_da = sum(da_acts) / len(da_acts)\n",
        "avg_en = sum(en_acts) / len(en_acts)\n",
        "\n",
        "max_diff_neuron = np.argmax(avg_da - avg_en).item()\n",
        "sorted_by_diff = sorted([(diff, idx) for idx, diff in enumerate(avg_da - avg_en)], key=lambda x: x[0], reverse=True)\n",
        "\n",
        "overlaps = []\n",
        "\n",
        "for i in range(input_size*expansion_factor):\n",
        "    overlap, highest_lan = find_histogram_overlap(da_preacts, en_preacts, i, num_bins=30)\n",
        "    if highest_lan == 'da':\n",
        "        overlaps.append((overlap, i))\n",
        "\n",
        "\n",
        "overlaps = sorted(overlaps, key=lambda x: x[0])\n",
        "\n",
        "min_overlap_neuron = overlaps[0][1]"
      ]
    },
    {
      "cell_type": "code",
      "execution_count": 14,
      "metadata": {
        "id": "BLgzkGu50Na8"
      },
      "outputs": [],
      "source": [
        "neurons_common_in_da_but_not_en = np.where((avg_da > 0.2) & (avg_en < 0.05))\n",
        "\n",
        "neurons_to_plot = neurons_common_in_da_but_not_en[0]\n",
        "num_neurons_to_plot = len(neurons_to_plot)"
      ]
    },
    {
      "cell_type": "code",
      "execution_count": null,
      "metadata": {},
      "outputs": [
        {
          "data": {
            "image/png": "[encoded data removed]",
            "text/plain": [
              "<Figure size 1000x500 with 6 Axes>"
            ]
          },
          "metadata": {},
          "output_type": "display_data"
        }
      ],
      "source": [
        "\n",
        "\n",
        "fig, axs = plt.subplots(2, math.ceil(num_neurons_to_plot / 2), figsize=(10, 5))\n",
        "axs = axs.flatten()\n",
        "\n",
        "for idx, neuron in enumerate(neurons_to_plot):\n",
        "\n",
        "    ax = axs[idx]\n",
        "    ax.set_title(f'Neuron {neuron}')\n",
        "    if idx == 0:\n",
        "        ax.hist(da_preacts2[:, neuron], density=True, bins=30, alpha=0.5, color='blue',  label='Danish tokens')\n",
        "        ax.hist(en_preacts2[:, neuron], density=True, bins=30, alpha=0.5, color='orange', label='English tokens')\n",
        "    else:\n",
        "        ax.hist(da_preacts2[:, neuron], density=True, bins=30, alpha=0.5, color='blue')\n",
        "        ax.hist(en_preacts2[:, neuron], density=True, bins=30, alpha=0.5, color='orange')\n",
        "        \n",
        "    ax.set_yticks([])\n",
        "    ax.set_xlabel('pre-activations')\n",
        "\n",
        "fig.legend(loc='upper center', bbox_to_anchor=(0.5, 0))\n",
        "fig.tight_layout()\n",
        "\n",
        "fig.savefig('multiple_neurons_preacts.pdf', bbox_inches='tight')"
      ]
    },
    {
      "cell_type": "code",
      "execution_count": 57,
      "metadata": {
        "id": "rMAOkHvjxVfm"
      },
      "outputs": [],
      "source": [
        "neuron_to_use = 733"
      ]
    },
    {
      "cell_type": "code",
      "execution_count": 58,
      "metadata": {
        "colab": {
          "base_uri": "https://localhost:8080/",
          "height": 407
        },
        "id": "0lEm4Fc5xVfm",
        "outputId": "4722491a-bec6-4851-b165-9d5c46ab0bee"
      },
      "outputs": [
        {
          "name": "stderr",
          "output_type": "stream",
          "text": [
            "C:\\Users\\Bruger\\AppData\\Local\\Temp\\ipykernel_1520\\2144737987.py:103: UserWarning: FigureCanvasAgg is non-interactive, and thus cannot be shown\n",
            "  fig.show()\n"
          ]
        },
        {
          "data": {
            "image/png": "[encoded data removed]",
            "text/plain": [
              "<Figure size 800x400 with 1 Axes>"
            ]
          },
          "metadata": {},
          "output_type": "display_data"
        }
      ],
      "source": [
        "plot_difference_by_neuron(da_preacts2, en_preacts2, neuron_to_use, output_file='graph_overlap.pdf')"
      ]
    },
    {
      "cell_type": "code",
      "execution_count": 59,
      "metadata": {
        "colab": {
          "base_uri": "https://localhost:8080/"
        },
        "id": "uf9A7lUrmzoc",
        "outputId": "8ba0794d-14ad-408b-9df5-82765adf080c"
      },
      "outputs": [
        {
          "name": "stdout",
          "output_type": "stream",
          "text": [
            "\n",
            "Corona Response Investment Initiative .Rå\u001b[38;2;255;255;255m\u001b[48;2;255;0;0mdet\u001b[0m\u001b[38;2;255;255;255m\u001b[48;2;255;0;0m skal\u001b[0m\u001b[38;2;255;255;255m\u001b[48;2;255;0;0m nu\u001b[0m\u001b[38;2;255;255;255m\u001b[48;2;255;0;0m form\u001b[0melt\u001b[38;2;255;255;255m\u001b[48;2;255;0;0m god\u001b[0mk\u001b[38;2;255;255;255m\u001b[48;2;255;0;0mende\u001b[0m\u001b[38;2;255;255;255m\u001b[48;2;255;0;0m Parlament\u001b[0m\u001b[38;2;255;255;255m\u001b[48;2;255;0;0mets\u001b[0m\u001b[38;2;255;255;255m\u001b[48;2;255;0;0m hold\u001b[0m\u001b[38;2;255;255;255m\u001b[48;2;255;0;0mning\u001b[0m\n",
            ".Foranstaltningerne vil stille op\u001b[38;2;255;255;255m\u001b[48;2;255;0;0m til\u001b[0m 800 mio. EUR\u001b[38;2;255;255;255m\u001b[48;2;255;0;0m til\u001b[0m rå\n",
            "dig\u001b[38;2;255;255;255m\u001b[48;2;255;0;0mhed\u001b[0m\u001b[38;2;255;255;255m\u001b[48;2;255;0;0m for\u001b[0m\u001b[38;2;255;255;255m\u001b[48;2;255;0;0m EU\u001b[0m landene\u001b[38;2;255;255;255m\u001b[48;2;255;0;0m i\u001b[0m 2020.Næste skridtHasteforanst\n",
            "alt\u001b[38;2;255;255;255m\u001b[48;2;255;0;0mninger\u001b[0m,\u001b[38;2;255;255;255m\u001b[48;2;255;0;0m der\u001b[0m\u001b[38;2;255;255;255m\u001b[48;2;255;0;0m skal\u001b[0m hj\u001b[38;2;255;255;255m\u001b[48;2;255;0;0mæ\u001b[0mlpe b\u001b[38;2;255;255;255m\u001b[48;2;255;0;0morge\u001b[0m\u001b[38;2;255;255;255m\u001b[48;2;255;0;0mre\u001b[0m\u001b[38;2;255;255;255m\u001b[48;2;255;0;0m og\u001b[0m virks\u001b[38;2;255;255;255m\u001b[48;2;255;0;0mom\u001b[0mhe\u001b[38;2;255;255;255m\u001b[48;2;255;0;0mder\u001b[0m\u001b[38;2;255;255;255m\u001b[48;2;255;0;0m med\u001b[0m\n",
            "\u001b[38;2;255;255;255m\u001b[48;2;255;0;0m at\u001b[0m tackle krisen, ble\u001b[38;2;255;255;255m\u001b[48;2;255;0;0mv\u001b[0m sat\u001b[38;2;255;255;255m\u001b[48;2;255;0;0m til\u001b[0m\u001b[38;2;255;255;255m\u001b[48;2;255;0;0m af\u001b[0mstem\u001b[38;2;255;255;255m\u001b[48;2;255;0;0mning\u001b[0m\u001b[38;2;255;255;255m\u001b[48;2;255;0;0m på\u001b[0m\u001b[38;2;255;255;255m\u001b[48;2;255;0;0m et\u001b[0m plenarmøde\n",
            "\u001b[38;2;255;255;255m\u001b[48;2;255;0;0m mind\u001b[0m\u001b[38;2;255;255;255m\u001b[48;2;255;0;0mre\u001b[0m end to uger\u001b[38;2;255;255;255m\u001b[48;2;255;0;0m efter\u001b[0m,\u001b[38;2;255;255;255m\u001b[48;2;255;0;0m at\u001b[0m\u001b[38;2;255;255;255m\u001b[48;2;255;0;0m Kommission\u001b[0men fre\u001b[38;2;255;255;255m\u001b[48;2;255;0;0mms\u001b[0m\u001b[38;2;255;255;255m\u001b[48;2;255;0;0matte\u001b[0m\u001b[38;2;255;255;255m\u001b[48;2;255;0;0m sine\u001b[0m\u001b[38;2;255;255;255m\u001b[48;2;255;0;0m for\u001b[0m\u001b[38;2;255;255;255m\u001b[48;2;255;0;0msl\u001b[0mag\u001b[38;2;255;255;255m\u001b[48;2;255;0;0m.\u001b[0mMid\n",
            "lerne vil bl\u001b[38;2;255;255;255m\u001b[48;2;255;0;0mive\u001b[0m rettet mod sundhedssystemer, SMV'er,\n",
            " arbejdsmarkeder\u001b[38;2;255;255;255m\u001b[48;2;255;0;0m og\u001b[0m and\u001b[38;2;255;255;255m\u001b[48;2;255;0;0mre\u001b[0m\u001b[38;2;255;255;255m\u001b[48;2;255;0;0m så\u001b[0mrb\u001b[38;2;255;255;255m\u001b[48;2;255;0;0mare\u001b[0m dele\u001b[38;2;255;255;255m\u001b[48;2;255;0;0m af\u001b[0m\u001b[38;2;255;255;255m\u001b[48;2;255;0;0m EU\u001b[0m-medlemslandenes ø\n",
            "k\u001b[38;2;255;255;255m\u001b[48;2;255;0;0monom\u001b[0mier\u001b[38;2;255;255;255m\u001b[48;2;255;0;0m.\u001b[0mForm\u001b[38;2;255;255;255m\u001b[48;2;255;0;0må\u001b[0mlet\u001b[38;2;255;255;255m\u001b[48;2;255;0;0m med\u001b[0m\u001b[38;2;255;255;255m\u001b[48;2;255;0;0m disse\u001b[0m\u001b[38;2;255;255;255m\u001b[48;2;255;0;0m for\u001b[0manstalt\u001b[38;2;255;255;255m\u001b[48;2;255;0;0mninger\u001b[0m\u001b[38;2;255;255;255m\u001b[48;2;255;0;0m er\u001b[0m\u001b[38;2;255;255;255m\u001b[48;2;255;0;0m at\u001b[0m\u001b[38;2;255;255;255m\u001b[48;2;255;0;0m kan\u001b[0malise\u001b[38;2;255;255;255m\u001b[48;2;255;0;0mre\u001b[0m\n",
            " 37 mia. EUR\u001b[38;2;255;255;255m\u001b[48;2;255;0;0m fra\u001b[0m eksiste\u001b[38;2;255;255;255m\u001b[48;2;255;0;0mrende\u001b[0m EU-midler\u001b[38;2;255;255;255m\u001b[48;2;255;0;0m til\u001b[0m\u001b[38;2;255;255;255m\u001b[48;2;255;0;0m de\u001b[0m borgere,\n",
            " regioner\u001b[38;2;255;255;255m\u001b[48;2;255;0;0m og\u001b[0m\u001b[38;2;255;255;255m\u001b[48;2;255;0;0m land\u001b[0me,\u001b[38;2;255;255;255m\u001b[48;2;255;0;0m der\u001b[0m\u001b[38;2;255;255;255m\u001b[48;2;255;0;0m er\u001b[0m hårdest ramt\u001b[38;2;255;255;255m\u001b[48;2;255;0;0m af\u001b[0m\u001b[38;2;255;255;255m\u001b[48;2;255;0;0m Coron\u001b[0mavirus-pandemien\n",
            "\u001b[38;2;255;255;255m\u001b[48;2;255;0;0m så\u001b[0m hurt\u001b[38;2;255;255;255m\u001b[48;2;255;0;0migt\u001b[0m\u001b[38;2;255;255;255m\u001b[48;2;255;0;0m som\u001b[0m mul\u001b[38;2;255;255;255m\u001b[48;2;255;0;0migt\u001b[0m\u001b[38;2;255;255;255m\u001b[48;2;255;0;0m.\u001b[0mSom en del af EU's fælles svar\n",
            "\u001b[38;2;255;255;255m\u001b[48;2;255;0;0m mod\u001b[0m COVID-19-udbruddet ved\u001b[38;2;255;255;255m\u001b[48;2;255;0;0mt\u001b[0mog med\u001b[38;2;255;255;255m\u001b[48;2;255;0;0mlem\u001b[0mmerne næsten\u001b[38;2;255;255;255m\u001b[48;2;255;0;0m en\u001b[0m\n",
            "stemm\u001b[38;2;255;255;255m\u001b[48;2;255;0;0migt\u001b[0m tre hasteforslag\u001b[38;2;255;255;255m\u001b[48;2;255;0;0m på\u001b[0m\u001b[38;2;255;255;255m\u001b[48;2;255;0;0m en\u001b[0m ekstraordin\u001b[38;2;255;255;255m\u001b[48;2;255;0;0mær\u001b[0m plenarforsamling\u001b[38;2;255;255;255m\u001b[48;2;255;0;0m tors\u001b[0m\n",
            "dag.Dette vil\u001b[38;2;255;255;255m\u001b[48;2;255;0;0m for\u001b[0mhindre luftfartsselskaberne i at fly\n",
            "ve med tomme fly under pandemien.Støtteberettigede tiltag\u001b[38;2;255;255;255m\u001b[48;2;255;0;0m under\u001b[0m\n",
            " fonden,\u001b[38;2;255;255;255m\u001b[48;2;255;0;0m vil\u001b[0m bl\u001b[38;2;255;255;255m\u001b[48;2;255;0;0mive\u001b[0m\u001b[38;2;255;255;255m\u001b[48;2;255;0;0m ud\u001b[0mvidet\u001b[38;2;255;255;255m\u001b[48;2;255;0;0m til\u001b[0m\u001b[38;2;255;255;255m\u001b[48;2;255;0;0m også\u001b[0m\u001b[38;2;255;255;255m\u001b[48;2;255;0;0m at\u001b[0m\u001b[38;2;255;255;255m\u001b[48;2;255;0;0m om\u001b[0mfatte stø\u001b[38;2;255;255;255m\u001b[48;2;255;0;0mtte\u001b[0m\u001b[38;2;255;255;255m\u001b[48;2;255;0;0m i\u001b[0m\u001b[38;2;255;255;255m\u001b[48;2;255;0;0m for\u001b[0m\n",
            "\u001b[38;2;255;255;255m\u001b[48;2;255;0;0mbind\u001b[0m\u001b[38;2;255;255;255m\u001b[48;2;255;0;0melse\u001b[0m\u001b[38;2;255;255;255m\u001b[48;2;255;0;0m med\u001b[0m\u001b[38;2;255;255;255m\u001b[48;2;255;0;0m st\u001b[0m\u001b[38;2;255;255;255m\u001b[48;2;255;0;0mør\u001b[0mre folkesundhedskris\u001b[38;2;255;255;255m\u001b[48;2;255;0;0mer\u001b[0m\u001b[38;2;255;255;255m\u001b[48;2;255;0;0m,\u001b[0m herunder læ\u001b[38;2;255;255;255m\u001b[48;2;255;0;0mge\u001b[0mh\n",
            "jælp\u001b[38;2;255;255;255m\u001b[48;2;255;0;0m,\u001b[0m\u001b[38;2;255;255;255m\u001b[48;2;255;0;0m sam\u001b[0mt\u001b[38;2;255;255;255m\u001b[48;2;255;0;0m for\u001b[0manstalt\u001b[38;2;255;255;255m\u001b[48;2;255;0;0mninger\u001b[0m\u001b[38;2;255;255;255m\u001b[48;2;255;0;0m til\u001b[0m fore\u001b[38;2;255;255;255m\u001b[48;2;255;0;0mby\u001b[0mggelse\u001b[38;2;255;255;255m\u001b[48;2;255;0;0m,\u001b[0m\u001b[38;2;255;255;255m\u001b[48;2;255;0;0m over\u001b[0mvå\n",
            "gning\u001b[38;2;255;255;255m\u001b[48;2;255;0;0m eller\u001b[0m bekæmp\u001b[38;2;255;255;255m\u001b[48;2;255;0;0melse\u001b[0m\u001b[38;2;255;255;255m\u001b[48;2;255;0;0m af\u001b[0m\u001b[38;2;255;255;255m\u001b[48;2;255;0;0m sp\u001b[0mredning\u001b[38;2;255;255;255m\u001b[48;2;255;0;0m af\u001b[0m syg\u001b[38;2;255;255;255m\u001b[48;2;255;0;0mdom\u001b[0mme.Udvidel\n",
            "\n",
            "The Corona Response Investment Initiative .The Council has to formally approve\u001b[38;2;255;255;255m\u001b[48;2;255;0;0m Parliament\u001b[0m's position.The measures will\n",
            " make up to âĤ¬800 million available for European countries in 2020.Further informationThe\u001b[38;2;255;255;255m\u001b[48;2;255;0;0m urgent\u001b[0m measures to\u001b[38;2;255;255;255m\u001b[48;2;255;0;0m help\u001b[0m\n",
            " people and businesses tackle the crisis were voted on in plenary less than two weeks after the Commission t\n",
            "abled its proposals.The funds will be directed towards healthcare systems, SMEs, labour markets and\n",
            " other vulnerable parts of EU member states' economies.These measures are meant to channel âĤ¬37 billion from\n",
            " available EU funds as soon as possible to citizens, regions and countries hit the hardest by the Coronavirus\n",
            " pandemic.As part of the EU's joint response to the COVID-19 outbreak, MEPs almost\n",
            " unanimously adopted three urgent proposals in an extraordinary plenary session, on Thursday.This will stop air carriers\n",
            " from operating empty flights during the pandemic.Operations eligible under the Fund will be extended to include support\n",
            " in a major public health emergency, including medical assistance, as well as measures to prevent, monitor or\n",
            " control\u001b[38;2;255;255;255m\u001b[48;2;255;0;0m the\u001b[0m spread of diseases.The extension of the EU Solidarity Fund to cover public health emergencies.\n",
            "The adopted measures will enter into force once published in the\u001b[38;2;255;255;255m\u001b[48;2;255;0;0m Official\u001b[0m Journal\u001b[38;2;255;255;255m\u001b[48;2;255;0;0m of\u001b[0m the European Union in the coming\n",
            " days.Temporarily suspending EU rules on airport slots .The temporary suspension means\u001b[38;2;255;255;255m\u001b[48;2;255;0;0m that\u001b[0m airlines are\n",
            " not obliged to use their planned take-off and landing slots to keep them in the next corresponding season\n",
            ".The 'use it or lose it' rule\u001b[38;2;255;255;255m\u001b[48;2;255;0;0m will\u001b[0m be\u001b[38;2;255;255;255m\u001b[48;2;255;0;0m waived\u001b[0m\u001b[38;2;255;255;255m\u001b[48;2;255;0;0m for\u001b[0m the whole summer season, from\n",
            " 29 March until 24 October 2020.COVID-19: final vote in EP plenary to approve\n",
            " crucial EU support measures -\u001b[38;2;255;255;255m\u001b[48;2;255;0;0m Â©\u001b[0m EPThe proposal was adopted with 671 votes in favour, 3 against\n",
            " and 14 abstentions.The proposal was adopted with 683 votes in favour, 1 against and\n",
            " 4 abstentions.The proposal was adopted with 686 votes in favour, no votes against and\n",
            " 2 abstentions.developing new vaccinesProgrammes already in placeThe 140 research teams from across"
          ]
        }
      ],
      "source": [
        "begin_at = 0\n",
        "\n",
        "\n",
        "print_colored_acts(\n",
        "    da_tokens2[begin_at:],\n",
        "    da_acts2[begin_at:],\n",
        "    neuron_to_use,\n",
        "    tokenizer,\n",
        "    stop_after=400\n",
        ")\n",
        "print('')\n",
        "print_colored_acts(\n",
        "    en_tokens2[begin_at:],\n",
        "    en_acts2[begin_at:],\n",
        "    neuron_to_use,\n",
        "    tokenizer,\n",
        "    stop_after=400\n",
        ")"
      ]
    },
    {
      "cell_type": "code",
      "execution_count": 60,
      "metadata": {
        "colab": {
          "base_uri": "https://localhost:8080/"
        },
        "id": "soGLSKI5mzoc",
        "outputId": "dca99a56-cc7a-4f42-f0ce-afcc732523b4"
      },
      "outputs": [
        {
          "name": "stdout",
          "output_type": "stream",
          "text": [
            "\n",
            "\u001b[38;2;255;255;255m\u001b[48;2;0;0;88mCor\u001b[0m\u001b[38;2;255;255;255m\u001b[48;2;0;0;30mona\u001b[0m\u001b[38;2;255;255;255m\u001b[48;2;0;0;111m Response\u001b[0m\u001b[38;2;255;255;255m\u001b[48;2;0;0;46m Investment\u001b[0m\u001b[38;2;255;255;255m\u001b[48;2;0;0;106m Initiative\u001b[0m\u001b[38;2;255;255;255m\u001b[48;2;0;0;89m .\u001b[0m\u001b[38;2;255;255;255m\u001b[48;2;0;0;95mR\u001b[0m\u001b[38;2;255;255;255m\u001b[48;2;0;0;31må\u001b[0m\u001b[38;2;255;255;255m\u001b[48;2;38;0;0mdet\u001b[0m\u001b[38;2;255;255;255m\u001b[48;2;184;0;0m skal\u001b[0m\u001b[38;2;255;255;255m\u001b[48;2;84;0;0m nu\u001b[0m\u001b[38;2;255;255;255m\u001b[48;2;42;0;0m form\u001b[0m\u001b[38;2;255;255;255m\u001b[48;2;0;0;24melt\u001b[0m\u001b[38;2;255;255;255m\u001b[48;2;80;0;0m god\u001b[0m\u001b[38;2;255;255;255m\u001b[48;2;0;0;38mk\u001b[0m\u001b[38;2;255;255;255m\u001b[48;2;40;0;0mende\u001b[0m\u001b[38;2;255;255;255m\u001b[48;2;81;0;0m Parlament\u001b[0m\u001b[38;2;255;255;255m\u001b[48;2;62;0;0mets\u001b[0m\u001b[38;2;255;255;255m\u001b[48;2;73;0;0m hold\u001b[0m\u001b[38;2;255;255;255m\u001b[48;2;22;0;0mning\u001b[0m\n",
            "\u001b[38;2;255;255;255m\u001b[48;2;0;0;70m.\u001b[0m\u001b[38;2;255;255;255m\u001b[48;2;0;0;43mFor\u001b[0m\u001b[38;2;255;255;255m\u001b[48;2;0;0;128man\u001b[0m\u001b[38;2;255;255;255m\u001b[48;2;0;0;118mst\u001b[0m\u001b[38;2;255;255;255m\u001b[48;2;0;0;92malt\u001b[0m\u001b[38;2;255;255;255m\u001b[48;2;0;0;162mning\u001b[0m\u001b[38;2;255;255;255m\u001b[48;2;0;0;61merne\u001b[0m\u001b[38;2;255;255;255m\u001b[48;2;6;0;0m vil\u001b[0m\u001b[38;2;255;255;255m\u001b[48;2;2;0;0m st\u001b[0m\u001b[38;2;255;255;255m\u001b[48;2;0;0;0mille\u001b[0m\u001b[38;2;255;255;255m\u001b[48;2;0;0;0m op\u001b[0m\u001b[38;2;255;255;255m\u001b[48;2;136;0;0m til\u001b[0m\u001b[38;2;255;255;255m\u001b[48;2;0;0;149m 800\u001b[0m\u001b[38;2;255;255;255m\u001b[48;2;0;0;3m m\u001b[0m\u001b[38;2;255;255;255m\u001b[48;2;2;0;0mio\u001b[0m\u001b[38;2;255;255;255m\u001b[48;2;0;0;47m.\u001b[0m\u001b[38;2;255;255;255m\u001b[48;2;0;0;76m EUR\u001b[0m\u001b[38;2;255;255;255m\u001b[48;2;87;0;0m til\u001b[0m\u001b[38;2;255;255;255m\u001b[48;2;0;0;97m r\u001b[0m\u001b[38;2;255;255;255m\u001b[48;2;21;0;0må\u001b[0m\n",
            "\u001b[38;2;255;255;255m\u001b[48;2;19;0;0mdig\u001b[0m\u001b[38;2;255;255;255m\u001b[48;2;88;0;0mhed\u001b[0m\u001b[38;2;255;255;255m\u001b[48;2;107;0;0m for\u001b[0m\u001b[38;2;255;255;255m\u001b[48;2;42;0;0m EU\u001b[0m\u001b[38;2;255;255;255m\u001b[48;2;0;0;42m land\u001b[0m\u001b[38;2;255;255;255m\u001b[48;2;0;0;2mene\u001b[0m\u001b[38;2;255;255;255m\u001b[48;2;40;0;0m i\u001b[0m\u001b[38;2;255;255;255m\u001b[48;2;0;0;144m 2020\u001b[0m\u001b[38;2;255;255;255m\u001b[48;2;0;0;46m.\u001b[0m\u001b[38;2;255;255;255m\u001b[48;2;0;0;71mN\u001b[0m\u001b[38;2;255;255;255m\u001b[48;2;0;0;25mæ\u001b[0m\u001b[38;2;255;255;255m\u001b[48;2;0;0;2mste\u001b[0m\u001b[38;2;255;255;255m\u001b[48;2;0;0;7m sk\u001b[0m\u001b[38;2;255;255;255m\u001b[48;2;0;0;32mrid\u001b[0m\u001b[38;2;255;255;255m\u001b[48;2;0;0;43mt\u001b[0m\u001b[38;2;255;255;255m\u001b[48;2;0;0;73mH\u001b[0m\u001b[38;2;255;255;255m\u001b[48;2;0;0;28maste\u001b[0m\u001b[38;2;255;255;255m\u001b[48;2;0;0;66mfor\u001b[0m\u001b[38;2;255;255;255m\u001b[48;2;0;0;119man\u001b[0m\u001b[38;2;255;255;255m\u001b[48;2;0;0;137mst\u001b[0m\n",
            "\u001b[38;2;255;255;255m\u001b[48;2;0;0;93malt\u001b[0m\u001b[38;2;255;255;255m\u001b[48;2;21;0;0mninger\u001b[0m\u001b[38;2;255;255;255m\u001b[48;2;0;0;70m,\u001b[0m\u001b[38;2;255;255;255m\u001b[48;2;68;0;0m der\u001b[0m\u001b[38;2;255;255;255m\u001b[48;2;176;0;0m skal\u001b[0m\u001b[38;2;255;255;255m\u001b[48;2;29;0;0m h\u001b[0m\u001b[38;2;255;255;255m\u001b[48;2;15;0;0mj\u001b[0m\u001b[38;2;255;255;255m\u001b[48;2;41;0;0mæ\u001b[0m\u001b[38;2;255;255;255m\u001b[48;2;0;0;11ml\u001b[0m\u001b[38;2;255;255;255m\u001b[48;2;0;0;2mpe\u001b[0m\u001b[38;2;255;255;255m\u001b[48;2;1;0;0m b\u001b[0m\u001b[38;2;255;255;255m\u001b[48;2;64;0;0morge\u001b[0m\u001b[38;2;255;255;255m\u001b[48;2;42;0;0mre\u001b[0m\u001b[38;2;255;255;255m\u001b[48;2;189;0;0m og\u001b[0m\u001b[38;2;255;255;255m\u001b[48;2;0;0;32m vir\u001b[0m\u001b[38;2;255;255;255m\u001b[48;2;5;0;0mks\u001b[0m\u001b[38;2;255;255;255m\u001b[48;2;91;0;0mom\u001b[0m\u001b[38;2;255;255;255m\u001b[48;2;6;0;0mhe\u001b[0m\u001b[38;2;255;255;255m\u001b[48;2;63;0;0mder\u001b[0m\u001b[38;2;255;255;255m\u001b[48;2;112;0;0m med\u001b[0m\n",
            "\u001b[38;2;255;255;255m\u001b[48;2;145;0;0m at\u001b[0m\u001b[38;2;255;255;255m\u001b[48;2;0;0;18m tackle\u001b[0m\u001b[38;2;255;255;255m\u001b[48;2;29;0;0m k\u001b[0m\u001b[38;2;255;255;255m\u001b[48;2;0;0;46mris\u001b[0m\u001b[38;2;255;255;255m\u001b[48;2;0;0;62men\u001b[0m\u001b[38;2;255;255;255m\u001b[48;2;0;0;10m,\u001b[0m\u001b[38;2;255;255;255m\u001b[48;2;28;0;0m ble\u001b[0m\u001b[38;2;255;255;255m\u001b[48;2;51;0;0mv\u001b[0m\u001b[38;2;255;255;255m\u001b[48;2;0;0;21m sat\u001b[0m\u001b[38;2;255;255;255m\u001b[48;2;163;0;0m til\u001b[0m\u001b[38;2;255;255;255m\u001b[48;2;101;0;0m af\u001b[0m\u001b[38;2;255;255;255m\u001b[48;2;25;0;0mstem\u001b[0m\u001b[38;2;255;255;255m\u001b[48;2;17;0;0mning\u001b[0m\u001b[38;2;255;255;255m\u001b[48;2;135;0;0m på\u001b[0m\u001b[38;2;255;255;255m\u001b[48;2;83;0;0m et\u001b[0m\u001b[38;2;255;255;255m\u001b[48;2;0;0;99m pl\u001b[0m\u001b[38;2;255;255;255m\u001b[48;2;5;0;0men\u001b[0m\u001b[38;2;255;255;255m\u001b[48;2;0;0;45marm\u001b[0m\u001b[38;2;255;255;255m\u001b[48;2;11;0;0mø\u001b[0m\u001b[38;2;255;255;255m\u001b[48;2;0;0;24mde\u001b[0m\n",
            "\u001b[38;2;255;255;255m\u001b[48;2;86;0;0m mind\u001b[0m\u001b[38;2;255;255;255m\u001b[48;2;24;0;0mre\u001b[0m\u001b[38;2;255;255;255m\u001b[48;2;0;0;53m end\u001b[0m\u001b[38;2;255;255;255m\u001b[48;2;0;0;0m to\u001b[0m\u001b[38;2;255;255;255m\u001b[48;2;0;0;10m ug\u001b[0m\u001b[38;2;255;255;255m\u001b[48;2;7;0;0mer\u001b[0m\u001b[38;2;255;255;255m\u001b[48;2;137;0;0m efter\u001b[0m\u001b[38;2;255;255;255m\u001b[48;2;2;0;0m,\u001b[0m\u001b[38;2;255;255;255m\u001b[48;2;129;0;0m at\u001b[0m\u001b[38;2;255;255;255m\u001b[48;2;65;0;0m Kommission\u001b[0m\u001b[38;2;255;255;255m\u001b[48;2;0;0;24men\u001b[0m\u001b[38;2;255;255;255m\u001b[48;2;0;0;2m fre\u001b[0m\u001b[38;2;255;255;255m\u001b[48;2;25;0;0mms\u001b[0m\u001b[38;2;255;255;255m\u001b[48;2;63;0;0matte\u001b[0m\u001b[38;2;255;255;255m\u001b[48;2;61;0;0m sine\u001b[0m\u001b[38;2;255;255;255m\u001b[48;2;117;0;0m for\u001b[0m\u001b[38;2;255;255;255m\u001b[48;2;65;0;0msl\u001b[0m\u001b[38;2;255;255;255m\u001b[48;2;0;0;21mag\u001b[0m\u001b[38;2;255;255;255m\u001b[48;2;5;0;0m.\u001b[0m\u001b[38;2;255;255;255m\u001b[48;2;0;0;92mMid\u001b[0m\n",
            "\u001b[38;2;255;255;255m\u001b[48;2;0;0;27mler\u001b[0m\u001b[38;2;255;255;255m\u001b[48;2;0;0;78mne\u001b[0m\u001b[38;2;255;255;255m\u001b[48;2;0;0;69m vil\u001b[0m\u001b[38;2;255;255;255m\u001b[48;2;0;0;73m bl\u001b[0m\u001b[38;2;255;255;255m\u001b[48;2;1;0;0mive\u001b[0m\u001b[38;2;255;255;255m\u001b[48;2;0;0;35m ret\u001b[0m\u001b[38;2;255;255;255m\u001b[48;2;0;0;13mtet\u001b[0m\u001b[38;2;255;255;255m\u001b[48;2;6;0;0m mod\u001b[0m\u001b[38;2;255;255;255m\u001b[48;2;11;0;0m s\u001b[0m\u001b[38;2;255;255;255m\u001b[48;2;0;0;74mund\u001b[0m\u001b[38;2;255;255;255m\u001b[48;2;0;0;39mhed\u001b[0m\u001b[38;2;255;255;255m\u001b[48;2;0;0;16mss\u001b[0m\u001b[38;2;255;255;255m\u001b[48;2;0;0;7mystem\u001b[0m\u001b[38;2;255;255;255m\u001b[48;2;0;0;37mer\u001b[0m\u001b[38;2;255;255;255m\u001b[48;2;0;0;93m,\u001b[0m\u001b[38;2;255;255;255m\u001b[48;2;0;0;118m SM\u001b[0m\u001b[38;2;255;255;255m\u001b[48;2;0;0;116mV\u001b[0m\u001b[38;2;255;255;255m\u001b[48;2;0;0;71m'\u001b[0m\u001b[38;2;255;255;255m\u001b[48;2;0;0;14mer\u001b[0m\u001b[38;2;255;255;255m\u001b[48;2;0;0;68m,\u001b[0m\n",
            "\u001b[38;2;255;255;255m\u001b[48;2;0;0;64m arbe\u001b[0m\u001b[38;2;255;255;255m\u001b[48;2;0;0;132mj\u001b[0m\u001b[38;2;255;255;255m\u001b[48;2;0;0;101mds\u001b[0m\u001b[38;2;255;255;255m\u001b[48;2;0;0;108mmark\u001b[0m\u001b[38;2;255;255;255m\u001b[48;2;0;0;49meder\u001b[0m\u001b[38;2;255;255;255m\u001b[48;2;121;0;0m og\u001b[0m\u001b[38;2;255;255;255m\u001b[48;2;0;0;42m and\u001b[0m\u001b[38;2;255;255;255m\u001b[48;2;34;0;0mre\u001b[0m\u001b[38;2;255;255;255m\u001b[48;2;110;0;0m så\u001b[0m\u001b[38;2;255;255;255m\u001b[48;2;0;0;79mrb\u001b[0m\u001b[38;2;255;255;255m\u001b[48;2;44;0;0mare\u001b[0m\u001b[38;2;255;255;255m\u001b[48;2;5;0;0m dele\u001b[0m\u001b[38;2;255;255;255m\u001b[48;2;52;0;0m af\u001b[0m\u001b[38;2;255;255;255m\u001b[48;2;66;0;0m EU\u001b[0m\u001b[38;2;255;255;255m\u001b[48;2;0;0;74m-\u001b[0m\u001b[38;2;255;255;255m\u001b[48;2;0;0;138mmed\u001b[0m\u001b[38;2;255;255;255m\u001b[48;2;6;0;0mlems\u001b[0m\u001b[38;2;255;255;255m\u001b[48;2;0;0;80mland\u001b[0m\u001b[38;2;255;255;255m\u001b[48;2;0;0;14menes\u001b[0m\u001b[38;2;255;255;255m\u001b[48;2;0;0;86m ø\u001b[0m\n",
            "\u001b[38;2;255;255;255m\u001b[48;2;1;0;0mk\u001b[0m\u001b[38;2;255;255;255m\u001b[48;2;32;0;0monom\u001b[0m\u001b[38;2;255;255;255m\u001b[48;2;7;0;0mier\u001b[0m\u001b[38;2;255;255;255m\u001b[48;2;6;0;0m.\u001b[0m\u001b[38;2;255;255;255m\u001b[48;2;0;0;54mForm\u001b[0m\u001b[38;2;255;255;255m\u001b[48;2;46;0;0må\u001b[0m\u001b[38;2;255;255;255m\u001b[48;2;0;0;6mlet\u001b[0m\u001b[38;2;255;255;255m\u001b[48;2;53;0;0m med\u001b[0m\u001b[38;2;255;255;255m\u001b[48;2;160;0;0m disse\u001b[0m\u001b[38;2;255;255;255m\u001b[48;2;60;0;0m for\u001b[0m\u001b[38;2;255;255;255m\u001b[48;2;0;0;50man\u001b[0m\u001b[38;2;255;255;255m\u001b[48;2;0;0;107mst\u001b[0m\u001b[38;2;255;255;255m\u001b[48;2;0;0;48malt\u001b[0m\u001b[38;2;255;255;255m\u001b[48;2;82;0;0mninger\u001b[0m\u001b[38;2;255;255;255m\u001b[48;2;86;0;0m er\u001b[0m\u001b[38;2;255;255;255m\u001b[48;2;28;0;0m at\u001b[0m\u001b[38;2;255;255;255m\u001b[48;2;189;0;0m kan\u001b[0m\u001b[38;2;255;255;255m\u001b[48;2;6;0;0mal\u001b[0m\u001b[38;2;255;255;255m\u001b[48;2;0;0;11mise\u001b[0m\u001b[38;2;255;255;255m\u001b[48;2;11;0;0mre\u001b[0m\n",
            "\u001b[38;2;255;255;255m\u001b[48;2;0;0;164m 37\u001b[0m\u001b[38;2;255;255;255m\u001b[48;2;0;0;65m m\u001b[0m\u001b[38;2;255;255;255m\u001b[48;2;0;0;46mia\u001b[0m\u001b[38;2;255;255;255m\u001b[48;2;0;0;29m.\u001b[0m\u001b[38;2;255;255;255m\u001b[48;2;0;0;81m EUR\u001b[0m\u001b[38;2;255;255;255m\u001b[48;2;49;0;0m fra\u001b[0m\u001b[38;2;255;255;255m\u001b[48;2;0;0;68m e\u001b[0m\u001b[38;2;255;255;255m\u001b[48;2;0;0;55mks\u001b[0m\u001b[38;2;255;255;255m\u001b[48;2;0;0;47miste\u001b[0m\u001b[38;2;255;255;255m\u001b[48;2;63;0;0mrende\u001b[0m\u001b[38;2;255;255;255m\u001b[48;2;10;0;0m EU\u001b[0m\u001b[38;2;255;255;255m\u001b[48;2;0;0;93m-\u001b[0m\u001b[38;2;255;255;255m\u001b[48;2;0;0;108mmid\u001b[0m\u001b[38;2;255;255;255m\u001b[48;2;0;0;70mler\u001b[0m\u001b[38;2;255;255;255m\u001b[48;2;115;0;0m til\u001b[0m\u001b[38;2;255;255;255m\u001b[48;2;61;0;0m de\u001b[0m\u001b[38;2;255;255;255m\u001b[48;2;0;0;45m b\u001b[0m\u001b[38;2;255;255;255m\u001b[48;2;11;0;0morge\u001b[0m\u001b[38;2;255;255;255m\u001b[48;2;0;0;16mre\u001b[0m\u001b[38;2;255;255;255m\u001b[48;2;0;0;2m,\u001b[0m\n",
            "\u001b[38;2;255;255;255m\u001b[48;2;0;0;75m region\u001b[0m\u001b[38;2;255;255;255m\u001b[48;2;0;0;77mer\u001b[0m\u001b[38;2;255;255;255m\u001b[48;2;161;0;0m og\u001b[0m\u001b[38;2;255;255;255m\u001b[48;2;13;0;0m land\u001b[0m\u001b[38;2;255;255;255m\u001b[48;2;0;0;56me\u001b[0m\u001b[38;2;255;255;255m\u001b[48;2;0;0;34m,\u001b[0m\u001b[38;2;255;255;255m\u001b[48;2;140;0;0m der\u001b[0m\u001b[38;2;255;255;255m\u001b[48;2;83;0;0m er\u001b[0m\u001b[38;2;255;255;255m\u001b[48;2;0;0;22m hå\u001b[0m\u001b[38;2;255;255;255m\u001b[48;2;0;0;53mrd\u001b[0m\u001b[38;2;255;255;255m\u001b[48;2;0;0;12mest\u001b[0m\u001b[38;2;255;255;255m\u001b[48;2;21;0;0m ram\u001b[0m\u001b[38;2;255;255;255m\u001b[48;2;0;0;25mt\u001b[0m\u001b[38;2;255;255;255m\u001b[48;2;105;0;0m af\u001b[0m\u001b[38;2;255;255;255m\u001b[48;2;26;0;0m Coron\u001b[0m\u001b[38;2;255;255;255m\u001b[48;2;0;0;121mavirus\u001b[0m\u001b[38;2;255;255;255m\u001b[48;2;0;0;85m-\u001b[0m\u001b[38;2;255;255;255m\u001b[48;2;0;0;108mp\u001b[0m\u001b[38;2;255;255;255m\u001b[48;2;0;0;21mandem\u001b[0m\u001b[38;2;255;255;255m\u001b[48;2;0;0;28mien\u001b[0m\n",
            "\u001b[38;2;255;255;255m\u001b[48;2;88;0;0m så\u001b[0m\u001b[38;2;255;255;255m\u001b[48;2;20;0;0m hurt\u001b[0m\u001b[38;2;255;255;255m\u001b[48;2;115;0;0migt\u001b[0m\u001b[38;2;255;255;255m\u001b[48;2;154;0;0m som\u001b[0m\u001b[38;2;255;255;255m\u001b[48;2;0;0;2m mul\u001b[0m\u001b[38;2;255;255;255m\u001b[48;2;114;0;0migt\u001b[0m\u001b[38;2;255;255;255m\u001b[48;2;6;0;0m.\u001b[0m\u001b[38;2;255;255;255m\u001b[48;2;0;0;82mS\u001b[0m\u001b[38;2;255;255;255m\u001b[48;2;0;0;99mom\u001b[0m\u001b[38;2;255;255;255m\u001b[48;2;0;0;50m en\u001b[0m\u001b[38;2;255;255;255m\u001b[48;2;0;0;39m del\u001b[0m\u001b[38;2;255;255;255m\u001b[48;2;0;0;119m af\u001b[0m\u001b[38;2;255;255;255m\u001b[48;2;0;0;0m EU\u001b[0m\u001b[38;2;255;255;255m\u001b[48;2;0;0;38m's\u001b[0m\u001b[38;2;255;255;255m\u001b[48;2;0;0;121m f\u001b[0m\u001b[38;2;255;255;255m\u001b[48;2;0;0;18mæ\u001b[0m\u001b[38;2;255;255;255m\u001b[48;2;0;0;45mll\u001b[0m\u001b[38;2;255;255;255m\u001b[48;2;0;0;68mes\u001b[0m\u001b[38;2;255;255;255m\u001b[48;2;0;0;118m s\u001b[0m\u001b[38;2;255;255;255m\u001b[48;2;0;0;49mvar\u001b[0m\n",
            "\u001b[38;2;255;255;255m\u001b[48;2;20;0;0m mod\u001b[0m\u001b[38;2;255;255;255m\u001b[48;2;0;0;26m COVID\u001b[0m\u001b[38;2;255;255;255m\u001b[48;2;0;0;75m-\u001b[0m\u001b[38;2;255;255;255m\u001b[48;2;0;0;178m19\u001b[0m\u001b[38;2;255;255;255m\u001b[48;2;0;0;152m-\u001b[0m\u001b[38;2;255;255;255m\u001b[48;2;0;0;86mud\u001b[0m\u001b[38;2;255;255;255m\u001b[48;2;0;0;27mbr\u001b[0m\u001b[38;2;255;255;255m\u001b[48;2;0;0;95mud\u001b[0m\u001b[38;2;255;255;255m\u001b[48;2;0;0;48mdet\u001b[0m\u001b[38;2;255;255;255m\u001b[48;2;22;0;0m ved\u001b[0m\u001b[38;2;255;255;255m\u001b[48;2;14;0;0mt\u001b[0m\u001b[38;2;255;255;255m\u001b[48;2;0;0;7mog\u001b[0m\u001b[38;2;255;255;255m\u001b[48;2;17;0;0m med\u001b[0m\u001b[38;2;255;255;255m\u001b[48;2;19;0;0mlem\u001b[0m\u001b[38;2;255;255;255m\u001b[48;2;0;0;74mmer\u001b[0m\u001b[38;2;255;255;255m\u001b[48;2;0;0;31mne\u001b[0m\u001b[38;2;255;255;255m\u001b[48;2;0;0;108m n\u001b[0m\u001b[38;2;255;255;255m\u001b[48;2;0;0;8mæ\u001b[0m\u001b[38;2;255;255;255m\u001b[48;2;4;0;0msten\u001b[0m\u001b[38;2;255;255;255m\u001b[48;2;20;0;0m en\u001b[0m\n",
            "\u001b[38;2;255;255;255m\u001b[48;2;0;0;106mstem\u001b[0m\u001b[38;2;255;255;255m\u001b[48;2;0;0;29mm\u001b[0m\u001b[38;2;255;255;255m\u001b[48;2;81;0;0migt\u001b[0m\u001b[38;2;255;255;255m\u001b[48;2;0;0;40m tre\u001b[0m\u001b[38;2;255;255;255m\u001b[48;2;0;0;18m haste\u001b[0m\u001b[38;2;255;255;255m\u001b[48;2;0;0;18mfors\u001b[0m\u001b[38;2;255;255;255m\u001b[48;2;0;0;62mlag\u001b[0m\u001b[38;2;255;255;255m\u001b[48;2;128;0;0m på\u001b[0m\u001b[38;2;255;255;255m\u001b[48;2;47;0;0m en\u001b[0m\u001b[38;2;255;255;255m\u001b[48;2;0;0;26m ek\u001b[0m\u001b[38;2;255;255;255m\u001b[48;2;0;0;67mstra\u001b[0m\u001b[38;2;255;255;255m\u001b[48;2;0;0;36mordin\u001b[0m\u001b[38;2;255;255;255m\u001b[48;2;34;0;0mær\u001b[0m\u001b[38;2;255;255;255m\u001b[48;2;0;0;69m pl\u001b[0m\u001b[38;2;255;255;255m\u001b[48;2;7;0;0men\u001b[0m\u001b[38;2;255;255;255m\u001b[48;2;0;0;116marf\u001b[0m\u001b[38;2;255;255;255m\u001b[48;2;0;0;97mors\u001b[0m\u001b[38;2;255;255;255m\u001b[48;2;0;0;85mam\u001b[0m\u001b[38;2;255;255;255m\u001b[48;2;0;0;123mling\u001b[0m\u001b[38;2;255;255;255m\u001b[48;2;36;0;0m tors\u001b[0m\n",
            "\u001b[38;2;255;255;255m\u001b[48;2;0;0;110mdag\u001b[0m\u001b[38;2;255;255;255m\u001b[48;2;0;0;41m.\u001b[0m\u001b[38;2;255;255;255m\u001b[48;2;0;0;77mD\u001b[0m\u001b[38;2;255;255;255m\u001b[48;2;0;0;78mette\u001b[0m\u001b[38;2;255;255;255m\u001b[48;2;0;0;65m vil\u001b[0m\u001b[38;2;255;255;255m\u001b[48;2;15;0;0m for\u001b[0m\u001b[38;2;255;255;255m\u001b[48;2;8;0;0mhind\u001b[0m\u001b[38;2;255;255;255m\u001b[48;2;0;0;60mre\u001b[0m\u001b[38;2;255;255;255m\u001b[48;2;0;0;50m lu\u001b[0m\u001b[38;2;255;255;255m\u001b[48;2;0;0;129mft\u001b[0m\u001b[38;2;255;255;255m\u001b[48;2;0;0;84mf\u001b[0m\u001b[38;2;255;255;255m\u001b[48;2;0;0;79mart\u001b[0m\u001b[38;2;255;255;255m\u001b[48;2;0;0;77mss\u001b[0m\u001b[38;2;255;255;255m\u001b[48;2;0;0;89mels\u001b[0m\u001b[38;2;255;255;255m\u001b[48;2;0;0;163mk\u001b[0m\u001b[38;2;255;255;255m\u001b[48;2;0;0;131maber\u001b[0m\u001b[38;2;255;255;255m\u001b[48;2;0;0;97mne\u001b[0m\u001b[38;2;255;255;255m\u001b[48;2;0;0;78m i\u001b[0m\u001b[38;2;255;255;255m\u001b[48;2;0;0;77m at\u001b[0m\u001b[38;2;255;255;255m\u001b[48;2;0;0;92m fly\u001b[0m\n",
            "\u001b[38;2;255;255;255m\u001b[48;2;0;0;84mve\u001b[0m\u001b[38;2;255;255;255m\u001b[48;2;0;0;91m med\u001b[0m\u001b[38;2;255;255;255m\u001b[48;2;0;0;47m tom\u001b[0m\u001b[38;2;255;255;255m\u001b[48;2;0;0;54mme\u001b[0m\u001b[38;2;255;255;255m\u001b[48;2;0;0;71m fly\u001b[0m\u001b[38;2;255;255;255m\u001b[48;2;0;0;39m under\u001b[0m\u001b[38;2;255;255;255m\u001b[48;2;0;0;73m pand\u001b[0m\u001b[38;2;255;255;255m\u001b[48;2;0;0;0mem\u001b[0m\u001b[38;2;255;255;255m\u001b[48;2;0;0;19mien\u001b[0m\u001b[38;2;255;255;255m\u001b[48;2;0;0;36m.\u001b[0m\u001b[38;2;255;255;255m\u001b[48;2;0;0;89mSt\u001b[0m\u001b[38;2;255;255;255m\u001b[48;2;0;0;77mø\u001b[0m\u001b[38;2;255;255;255m\u001b[48;2;0;0;21mtte\u001b[0m\u001b[38;2;255;255;255m\u001b[48;2;0;0;28mbe\u001b[0m\u001b[38;2;255;255;255m\u001b[48;2;0;0;52mrett\u001b[0m\u001b[38;2;255;255;255m\u001b[48;2;0;0;49mig\u001b[0m\u001b[38;2;255;255;255m\u001b[48;2;0;0;16mede\u001b[0m\u001b[38;2;255;255;255m\u001b[48;2;0;0;0m tilt\u001b[0m\u001b[38;2;255;255;255m\u001b[48;2;0;0;14mag\u001b[0m\u001b[38;2;255;255;255m\u001b[48;2;35;0;0m under\u001b[0m\n",
            "\u001b[38;2;255;255;255m\u001b[48;2;0;0;84m fond\u001b[0m\u001b[38;2;255;255;255m\u001b[48;2;0;0;39men\u001b[0m\u001b[38;2;255;255;255m\u001b[48;2;0;0;97m,\u001b[0m\u001b[38;2;255;255;255m\u001b[48;2;242;0;0m vil\u001b[0m\u001b[38;2;255;255;255m\u001b[48;2;43;0;0m bl\u001b[0m\u001b[38;2;255;255;255m\u001b[48;2;62;0;0mive\u001b[0m\u001b[38;2;255;255;255m\u001b[48;2;49;0;0m ud\u001b[0m\u001b[38;2;255;255;255m\u001b[48;2;26;0;0mvid\u001b[0m\u001b[38;2;255;255;255m\u001b[48;2;0;0;47met\u001b[0m\u001b[38;2;255;255;255m\u001b[48;2;154;0;0m til\u001b[0m\u001b[38;2;255;255;255m\u001b[48;2;248;0;0m også\u001b[0m\u001b[38;2;255;255;255m\u001b[48;2;141;0;0m at\u001b[0m\u001b[38;2;255;255;255m\u001b[48;2;213;0;0m om\u001b[0m\u001b[38;2;255;255;255m\u001b[48;2;0;0;15mfat\u001b[0m\u001b[38;2;255;255;255m\u001b[48;2;3;0;0mte\u001b[0m\u001b[38;2;255;255;255m\u001b[48;2;26;0;0m st\u001b[0m\u001b[38;2;255;255;255m\u001b[48;2;20;0;0mø\u001b[0m\u001b[38;2;255;255;255m\u001b[48;2;32;0;0mtte\u001b[0m\u001b[38;2;255;255;255m\u001b[48;2;56;0;0m i\u001b[0m\u001b[38;2;255;255;255m\u001b[48;2;128;0;0m for\u001b[0m\n",
            "\u001b[38;2;255;255;255m\u001b[48;2;64;0;0mbind\u001b[0m\u001b[38;2;255;255;255m\u001b[48;2;24;0;0melse\u001b[0m\u001b[38;2;255;255;255m\u001b[48;2;96;0;0m med\u001b[0m\u001b[38;2;255;255;255m\u001b[48;2;31;0;0m st\u001b[0m\u001b[38;2;255;255;255m\u001b[48;2;68;0;0mør\u001b[0m\u001b[38;2;255;255;255m\u001b[48;2;0;0;53mre\u001b[0m\u001b[38;2;255;255;255m\u001b[48;2;0;0;211m fol\u001b[0m\u001b[38;2;255;255;255m\u001b[48;2;1;0;0mkes\u001b[0m\u001b[38;2;255;255;255m\u001b[48;2;0;0;23mund\u001b[0m\u001b[38;2;255;255;255m\u001b[48;2;0;0;24mhed\u001b[0m\u001b[38;2;255;255;255m\u001b[48;2;0;0;58msk\u001b[0m\u001b[38;2;255;255;255m\u001b[48;2;0;0;66mris\u001b[0m\u001b[38;2;255;255;255m\u001b[48;2;28;0;0mer\u001b[0m\u001b[38;2;255;255;255m\u001b[48;2;23;0;0m,\u001b[0m\u001b[38;2;255;255;255m\u001b[48;2;0;0;58m her\u001b[0m\u001b[38;2;255;255;255m\u001b[48;2;0;0;27munder\u001b[0m\u001b[38;2;255;255;255m\u001b[48;2;0;0;74m l\u001b[0m\u001b[38;2;255;255;255m\u001b[48;2;10;0;0mæ\u001b[0m\u001b[38;2;255;255;255m\u001b[48;2;1;0;0mge\u001b[0m\u001b[38;2;255;255;255m\u001b[48;2;0;0;44mh\u001b[0m\n",
            "\u001b[38;2;255;255;255m\u001b[48;2;0;0;57mj\u001b[0m\u001b[38;2;255;255;255m\u001b[48;2;12;0;0mæ\u001b[0m\u001b[38;2;255;255;255m\u001b[48;2;0;0;99mlp\u001b[0m\u001b[38;2;255;255;255m\u001b[48;2;21;0;0m,\u001b[0m\u001b[38;2;255;255;255m\u001b[48;2;58;0;0m sam\u001b[0m\u001b[38;2;255;255;255m\u001b[48;2;16;0;0mt\u001b[0m\u001b[38;2;255;255;255m\u001b[48;2;98;0;0m for\u001b[0m\u001b[38;2;255;255;255m\u001b[48;2;0;0;51man\u001b[0m\u001b[38;2;255;255;255m\u001b[48;2;0;0;93mst\u001b[0m\u001b[38;2;255;255;255m\u001b[48;2;0;0;13malt\u001b[0m\u001b[38;2;255;255;255m\u001b[48;2;72;0;0mninger\u001b[0m\u001b[38;2;255;255;255m\u001b[48;2;159;0;0m til\u001b[0m\u001b[38;2;255;255;255m\u001b[48;2;0;0;40m fore\u001b[0m\u001b[38;2;255;255;255m\u001b[48;2;14;0;0mby\u001b[0m\u001b[38;2;255;255;255m\u001b[48;2;10;0;0mgg\u001b[0m\u001b[38;2;255;255;255m\u001b[48;2;0;0;78melse\u001b[0m\u001b[38;2;255;255;255m\u001b[48;2;29;0;0m,\u001b[0m\u001b[38;2;255;255;255m\u001b[48;2;13;0;0m over\u001b[0m\u001b[38;2;255;255;255m\u001b[48;2;0;0;47mv\u001b[0m\u001b[38;2;255;255;255m\u001b[48;2;35;0;0må\u001b[0m\n",
            "\u001b[38;2;255;255;255m\u001b[48;2;0;0;36mg\u001b[0m\u001b[38;2;255;255;255m\u001b[48;2;0;0;17mning\u001b[0m\u001b[38;2;255;255;255m\u001b[48;2;189;0;0m eller\u001b[0m\u001b[38;2;255;255;255m\u001b[48;2;0;0;25m bek\u001b[0m\u001b[38;2;255;255;255m\u001b[48;2;0;0;35mæ\u001b[0m\u001b[38;2;255;255;255m\u001b[48;2;2;0;0mmp\u001b[0m\u001b[38;2;255;255;255m\u001b[48;2;7;0;0melse\u001b[0m\u001b[38;2;255;255;255m\u001b[48;2;101;0;0m af\u001b[0m\u001b[38;2;255;255;255m\u001b[48;2;67;0;0m sp\u001b[0m\u001b[38;2;255;255;255m\u001b[48;2;0;0;38mred\u001b[0m\u001b[38;2;255;255;255m\u001b[48;2;2;0;0mning\u001b[0m\u001b[38;2;255;255;255m\u001b[48;2;98;0;0m af\u001b[0m\u001b[38;2;255;255;255m\u001b[48;2;11;0;0m sy\u001b[0m\u001b[38;2;255;255;255m\u001b[48;2;14;0;0mg\u001b[0m\u001b[38;2;255;255;255m\u001b[48;2;21;0;0mdom\u001b[0m\u001b[38;2;255;255;255m\u001b[48;2;0;0;10mme\u001b[0m\u001b[38;2;255;255;255m\u001b[48;2;0;0;1m.\u001b[0m\u001b[38;2;255;255;255m\u001b[48;2;0;0;78mU\u001b[0m\u001b[38;2;255;255;255m\u001b[48;2;0;0;104mdv\u001b[0m\u001b[38;2;255;255;255m\u001b[48;2;0;0;103midel\u001b[0m\n",
            "\n",
            "\u001b[38;2;255;255;255m\u001b[48;2;0;0;35mThe\u001b[0m\u001b[38;2;255;255;255m\u001b[48;2;0;0;102m Cor\u001b[0m\u001b[38;2;255;255;255m\u001b[48;2;0;0;99mona\u001b[0m\u001b[38;2;255;255;255m\u001b[48;2;0;0;141m Response\u001b[0m\u001b[38;2;255;255;255m\u001b[48;2;0;0;37m Investment\u001b[0m\u001b[38;2;255;255;255m\u001b[48;2;0;0;80m Initiative\u001b[0m\u001b[38;2;255;255;255m\u001b[48;2;0;0;97m .\u001b[0m\u001b[38;2;255;255;255m\u001b[48;2;0;0;35mThe\u001b[0m\u001b[38;2;255;255;255m\u001b[48;2;0;0;28m Council\u001b[0m\u001b[38;2;255;255;255m\u001b[48;2;0;0;31m has\u001b[0m\u001b[38;2;255;255;255m\u001b[48;2;0;0;76m to\u001b[0m\u001b[38;2;255;255;255m\u001b[48;2;14;0;0m formally\u001b[0m\u001b[38;2;255;255;255m\u001b[48;2;0;0;24m approve\u001b[0m\u001b[38;2;255;255;255m\u001b[48;2;5;0;0m Parliament\u001b[0m\u001b[38;2;255;255;255m\u001b[48;2;0;0;23m's\u001b[0m\u001b[38;2;255;255;255m\u001b[48;2;0;0;82m position\u001b[0m\u001b[38;2;255;255;255m\u001b[48;2;0;0;53m.\u001b[0m\u001b[38;2;255;255;255m\u001b[48;2;0;0;35mThe\u001b[0m\u001b[38;2;255;255;255m\u001b[48;2;0;0;49m measures\u001b[0m\u001b[38;2;255;255;255m\u001b[48;2;0;0;52m will\u001b[0m\n",
            "\u001b[38;2;255;255;255m\u001b[48;2;0;0;32m make\u001b[0m\u001b[38;2;255;255;255m\u001b[48;2;0;0;99m up\u001b[0m\u001b[38;2;255;255;255m\u001b[48;2;0;0;50m to\u001b[0m\u001b[38;2;255;255;255m\u001b[48;2;0;0;97m âĤ¬\u001b[0m\u001b[38;2;255;255;255m\u001b[48;2;0;0;165m800\u001b[0m\u001b[38;2;255;255;255m\u001b[48;2;0;0;128m million\u001b[0m\u001b[38;2;255;255;255m\u001b[48;2;0;0;82m available\u001b[0m\u001b[38;2;255;255;255m\u001b[48;2;0;0;34m for\u001b[0m\u001b[38;2;255;255;255m\u001b[48;2;0;0;5m European\u001b[0m\u001b[38;2;255;255;255m\u001b[48;2;0;0;38m countries\u001b[0m\u001b[38;2;255;255;255m\u001b[48;2;0;0;109m in\u001b[0m\u001b[38;2;255;255;255m\u001b[48;2;0;0;120m 2020\u001b[0m\u001b[38;2;255;255;255m\u001b[48;2;0;0;40m.\u001b[0m\u001b[38;2;255;255;255m\u001b[48;2;0;0;42mFurther\u001b[0m\u001b[38;2;255;255;255m\u001b[48;2;0;0;20m information\u001b[0m\u001b[38;2;255;255;255m\u001b[48;2;0;0;35mThe\u001b[0m\u001b[38;2;255;255;255m\u001b[48;2;73;0;0m urgent\u001b[0m\u001b[38;2;255;255;255m\u001b[48;2;0;0;35m measures\u001b[0m\u001b[38;2;255;255;255m\u001b[48;2;0;0;28m to\u001b[0m\u001b[38;2;255;255;255m\u001b[48;2;152;0;0m help\u001b[0m\n",
            "\u001b[38;2;255;255;255m\u001b[48;2;0;0;19m people\u001b[0m\u001b[38;2;255;255;255m\u001b[48;2;0;0;139m and\u001b[0m\u001b[38;2;255;255;255m\u001b[48;2;0;0;48m businesses\u001b[0m\u001b[38;2;255;255;255m\u001b[48;2;0;0;91m tackle\u001b[0m\u001b[38;2;255;255;255m\u001b[48;2;0;0;45m the\u001b[0m\u001b[38;2;255;255;255m\u001b[48;2;0;0;66m crisis\u001b[0m\u001b[38;2;255;255;255m\u001b[48;2;0;0;71m were\u001b[0m\u001b[38;2;255;255;255m\u001b[48;2;0;0;92m voted\u001b[0m\u001b[38;2;255;255;255m\u001b[48;2;0;0;48m on\u001b[0m\u001b[38;2;255;255;255m\u001b[48;2;0;0;66m in\u001b[0m\u001b[38;2;255;255;255m\u001b[48;2;0;0;204m pl\u001b[0m\u001b[38;2;255;255;255m\u001b[48;2;0;0;39menary\u001b[0m\u001b[38;2;255;255;255m\u001b[48;2;0;0;30m less\u001b[0m\u001b[38;2;255;255;255m\u001b[48;2;0;0;64m than\u001b[0m\u001b[38;2;255;255;255m\u001b[48;2;0;0;115m two\u001b[0m\u001b[38;2;255;255;255m\u001b[48;2;0;0;95m weeks\u001b[0m\u001b[38;2;255;255;255m\u001b[48;2;0;0;52m after\u001b[0m\u001b[38;2;255;255;255m\u001b[48;2;0;0;13m the\u001b[0m\u001b[38;2;255;255;255m\u001b[48;2;0;0;41m Commission\u001b[0m\u001b[38;2;255;255;255m\u001b[48;2;0;0;170m t\u001b[0m\n",
            "\u001b[38;2;255;255;255m\u001b[48;2;0;0;18mabled\u001b[0m\u001b[38;2;255;255;255m\u001b[48;2;0;0;2m its\u001b[0m\u001b[38;2;255;255;255m\u001b[48;2;0;0;68m proposals\u001b[0m\u001b[38;2;255;255;255m\u001b[48;2;0;0;32m.\u001b[0m\u001b[38;2;255;255;255m\u001b[48;2;0;0;35mThe\u001b[0m\u001b[38;2;255;255;255m\u001b[48;2;0;0;76m funds\u001b[0m\u001b[38;2;255;255;255m\u001b[48;2;0;0;42m will\u001b[0m\u001b[38;2;255;255;255m\u001b[48;2;0;0;99m be\u001b[0m\u001b[38;2;255;255;255m\u001b[48;2;0;0;12m directed\u001b[0m\u001b[38;2;255;255;255m\u001b[48;2;0;0;42m towards\u001b[0m\u001b[38;2;255;255;255m\u001b[48;2;0;0;43m healthcare\u001b[0m\u001b[38;2;255;255;255m\u001b[48;2;0;0;70m systems\u001b[0m\u001b[38;2;255;255;255m\u001b[48;2;0;0;116m,\u001b[0m\u001b[38;2;255;255;255m\u001b[48;2;0;0;136m S\u001b[0m\u001b[38;2;255;255;255m\u001b[48;2;0;0;166mME\u001b[0m\u001b[38;2;255;255;255m\u001b[48;2;0;0;97ms\u001b[0m\u001b[38;2;255;255;255m\u001b[48;2;0;0;111m,\u001b[0m\u001b[38;2;255;255;255m\u001b[48;2;0;0;106m labour\u001b[0m\u001b[38;2;255;255;255m\u001b[48;2;0;0;97m markets\u001b[0m\u001b[38;2;255;255;255m\u001b[48;2;0;0;97m and\u001b[0m\n",
            "\u001b[38;2;255;255;255m\u001b[48;2;0;0;92m other\u001b[0m\u001b[38;2;255;255;255m\u001b[48;2;0;0;81m vulnerable\u001b[0m\u001b[38;2;255;255;255m\u001b[48;2;0;0;89m parts\u001b[0m\u001b[38;2;255;255;255m\u001b[48;2;0;0;73m of\u001b[0m\u001b[38;2;255;255;255m\u001b[48;2;0;0;31m EU\u001b[0m\u001b[38;2;255;255;255m\u001b[48;2;0;0;56m member\u001b[0m\u001b[38;2;255;255;255m\u001b[48;2;0;0;54m states\u001b[0m\u001b[38;2;255;255;255m\u001b[48;2;0;0;65m'\u001b[0m\u001b[38;2;255;255;255m\u001b[48;2;0;0;49m economies\u001b[0m\u001b[38;2;255;255;255m\u001b[48;2;0;0;77m.\u001b[0m\u001b[38;2;255;255;255m\u001b[48;2;0;0;42mThese\u001b[0m\u001b[38;2;255;255;255m\u001b[48;2;0;0;59m measures\u001b[0m\u001b[38;2;255;255;255m\u001b[48;2;0;0;152m are\u001b[0m\u001b[38;2;255;255;255m\u001b[48;2;0;0;71m meant\u001b[0m\u001b[38;2;255;255;255m\u001b[48;2;0;0;76m to\u001b[0m\u001b[38;2;255;255;255m\u001b[48;2;0;0;94m channel\u001b[0m\u001b[38;2;255;255;255m\u001b[48;2;0;0;103m âĤ¬\u001b[0m\u001b[38;2;255;255;255m\u001b[48;2;0;0;173m37\u001b[0m\u001b[38;2;255;255;255m\u001b[48;2;0;0;134m billion\u001b[0m\u001b[38;2;255;255;255m\u001b[48;2;0;0;89m from\u001b[0m\n",
            "\u001b[38;2;255;255;255m\u001b[48;2;0;0;100m available\u001b[0m\u001b[38;2;255;255;255m\u001b[48;2;0;0;26m EU\u001b[0m\u001b[38;2;255;255;255m\u001b[48;2;0;0;94m funds\u001b[0m\u001b[38;2;255;255;255m\u001b[48;2;0;0;116m as\u001b[0m\u001b[38;2;255;255;255m\u001b[48;2;0;0;54m soon\u001b[0m\u001b[38;2;255;255;255m\u001b[48;2;0;0;47m as\u001b[0m\u001b[38;2;255;255;255m\u001b[48;2;0;0;65m possible\u001b[0m\u001b[38;2;255;255;255m\u001b[48;2;0;0;22m to\u001b[0m\u001b[38;2;255;255;255m\u001b[48;2;0;0;27m citizens\u001b[0m\u001b[38;2;255;255;255m\u001b[48;2;0;0;118m,\u001b[0m\u001b[38;2;255;255;255m\u001b[48;2;0;0;72m regions\u001b[0m\u001b[38;2;255;255;255m\u001b[48;2;0;0;144m and\u001b[0m\u001b[38;2;255;255;255m\u001b[48;2;0;0;68m countries\u001b[0m\u001b[38;2;255;255;255m\u001b[48;2;0;0;103m hit\u001b[0m\u001b[38;2;255;255;255m\u001b[48;2;0;0;46m the\u001b[0m\u001b[38;2;255;255;255m\u001b[48;2;0;0;64m hardest\u001b[0m\u001b[38;2;255;255;255m\u001b[48;2;0;0;36m by\u001b[0m\u001b[38;2;255;255;255m\u001b[48;2;0;0;41m the\u001b[0m\u001b[38;2;255;255;255m\u001b[48;2;0;0;91m Coron\u001b[0m\u001b[38;2;255;255;255m\u001b[48;2;0;0;78mavirus\u001b[0m\n",
            "\u001b[38;2;255;255;255m\u001b[48;2;0;0;45m pandemic\u001b[0m\u001b[38;2;255;255;255m\u001b[48;2;0;0;13m.\u001b[0m\u001b[38;2;255;255;255m\u001b[48;2;0;0;48mAs\u001b[0m\u001b[38;2;255;255;255m\u001b[48;2;0;0;88m part\u001b[0m\u001b[38;2;255;255;255m\u001b[48;2;0;0;55m of\u001b[0m\u001b[38;2;255;255;255m\u001b[48;2;0;0;47m the\u001b[0m\u001b[38;2;255;255;255m\u001b[48;2;0;0;20m EU\u001b[0m\u001b[38;2;255;255;255m\u001b[48;2;0;0;52m's\u001b[0m\u001b[38;2;255;255;255m\u001b[48;2;0;0;94m joint\u001b[0m\u001b[38;2;255;255;255m\u001b[48;2;0;0;130m response\u001b[0m\u001b[38;2;255;255;255m\u001b[48;2;0;0;26m to\u001b[0m\u001b[38;2;255;255;255m\u001b[48;2;0;0;22m the\u001b[0m\u001b[38;2;255;255;255m\u001b[48;2;0;0;87m COVID\u001b[0m\u001b[38;2;255;255;255m\u001b[48;2;0;0;152m-\u001b[0m\u001b[38;2;255;255;255m\u001b[48;2;0;0;145m19\u001b[0m\u001b[38;2;255;255;255m\u001b[48;2;0;0;49m outbreak\u001b[0m\u001b[38;2;255;255;255m\u001b[48;2;0;0;49m,\u001b[0m\u001b[38;2;255;255;255m\u001b[48;2;0;0;108m ME\u001b[0m\u001b[38;2;255;255;255m\u001b[48;2;0;0;32mPs\u001b[0m\u001b[38;2;255;255;255m\u001b[48;2;0;0;42m almost\u001b[0m\n",
            "\u001b[38;2;255;255;255m\u001b[48;2;0;0;53m unanimously\u001b[0m\u001b[38;2;255;255;255m\u001b[48;2;0;0;44m adopted\u001b[0m\u001b[38;2;255;255;255m\u001b[48;2;0;0;89m three\u001b[0m\u001b[38;2;255;255;255m\u001b[48;2;0;0;20m urgent\u001b[0m\u001b[38;2;255;255;255m\u001b[48;2;0;0;44m proposals\u001b[0m\u001b[38;2;255;255;255m\u001b[48;2;0;0;52m in\u001b[0m\u001b[38;2;255;255;255m\u001b[48;2;0;0;101m an\u001b[0m\u001b[38;2;255;255;255m\u001b[48;2;0;0;17m extraordinary\u001b[0m\u001b[38;2;255;255;255m\u001b[48;2;0;0;219m pl\u001b[0m\u001b[38;2;255;255;255m\u001b[48;2;0;0;18menary\u001b[0m\u001b[38;2;255;255;255m\u001b[48;2;0;0;61m session\u001b[0m\u001b[38;2;255;255;255m\u001b[48;2;0;0;74m,\u001b[0m\u001b[38;2;255;255;255m\u001b[48;2;0;0;115m on\u001b[0m\u001b[38;2;255;255;255m\u001b[48;2;0;0;31m Thursday\u001b[0m\u001b[38;2;255;255;255m\u001b[48;2;0;0;16m.\u001b[0m\u001b[38;2;255;255;255m\u001b[48;2;0;0;50mThis\u001b[0m\u001b[38;2;255;255;255m\u001b[48;2;0;0;62m will\u001b[0m\u001b[38;2;255;255;255m\u001b[48;2;0;0;86m stop\u001b[0m\u001b[38;2;255;255;255m\u001b[48;2;0;0;101m air\u001b[0m\u001b[38;2;255;255;255m\u001b[48;2;0;0;90m carriers\u001b[0m\n",
            "\u001b[38;2;255;255;255m\u001b[48;2;0;0;88m from\u001b[0m\u001b[38;2;255;255;255m\u001b[48;2;0;0;77m operating\u001b[0m\u001b[38;2;255;255;255m\u001b[48;2;0;0;81m empty\u001b[0m\u001b[38;2;255;255;255m\u001b[48;2;0;0;98m flights\u001b[0m\u001b[38;2;255;255;255m\u001b[48;2;0;0;42m during\u001b[0m\u001b[38;2;255;255;255m\u001b[48;2;0;0;36m the\u001b[0m\u001b[38;2;255;255;255m\u001b[48;2;0;0;44m pandemic\u001b[0m\u001b[38;2;255;255;255m\u001b[48;2;0;0;44m.\u001b[0m\u001b[38;2;255;255;255m\u001b[48;2;0;0;51mOper\u001b[0m\u001b[38;2;255;255;255m\u001b[48;2;0;0;24mations\u001b[0m\u001b[38;2;255;255;255m\u001b[48;2;0;0;59m eligible\u001b[0m\u001b[38;2;255;255;255m\u001b[48;2;0;0;60m under\u001b[0m\u001b[38;2;255;255;255m\u001b[48;2;0;0;53m the\u001b[0m\u001b[38;2;255;255;255m\u001b[48;2;0;0;44m Fund\u001b[0m\u001b[38;2;255;255;255m\u001b[48;2;0;0;15m will\u001b[0m\u001b[38;2;255;255;255m\u001b[48;2;0;0;70m be\u001b[0m\u001b[38;2;255;255;255m\u001b[48;2;0;0;76m extended\u001b[0m\u001b[38;2;255;255;255m\u001b[48;2;0;0;29m to\u001b[0m\u001b[38;2;255;255;255m\u001b[48;2;0;0;55m include\u001b[0m\u001b[38;2;255;255;255m\u001b[48;2;0;0;51m support\u001b[0m\n",
            "\u001b[38;2;255;255;255m\u001b[48;2;0;0;40m in\u001b[0m\u001b[38;2;255;255;255m\u001b[48;2;0;0;75m a\u001b[0m\u001b[38;2;255;255;255m\u001b[48;2;0;0;39m major\u001b[0m\u001b[38;2;255;255;255m\u001b[48;2;0;0;66m public\u001b[0m\u001b[38;2;255;255;255m\u001b[48;2;0;0;63m health\u001b[0m\u001b[38;2;255;255;255m\u001b[48;2;0;0;25m emergency\u001b[0m\u001b[38;2;255;255;255m\u001b[48;2;0;0;61m,\u001b[0m\u001b[38;2;255;255;255m\u001b[48;2;0;0;63m including\u001b[0m\u001b[38;2;255;255;255m\u001b[48;2;0;0;58m medical\u001b[0m\u001b[38;2;255;255;255m\u001b[48;2;0;0;49m assistance\u001b[0m\u001b[38;2;255;255;255m\u001b[48;2;0;0;93m,\u001b[0m\u001b[38;2;255;255;255m\u001b[48;2;0;0;87m as\u001b[0m\u001b[38;2;255;255;255m\u001b[48;2;0;0;43m well\u001b[0m\u001b[38;2;255;255;255m\u001b[48;2;0;0;55m as\u001b[0m\u001b[38;2;255;255;255m\u001b[48;2;0;0;67m measures\u001b[0m\u001b[38;2;255;255;255m\u001b[48;2;0;0;59m to\u001b[0m\u001b[38;2;255;255;255m\u001b[48;2;0;0;7m prevent\u001b[0m\u001b[38;2;255;255;255m\u001b[48;2;0;0;124m,\u001b[0m\u001b[38;2;255;255;255m\u001b[48;2;0;0;54m monitor\u001b[0m\u001b[38;2;255;255;255m\u001b[48;2;0;0;76m or\u001b[0m\n",
            "\u001b[38;2;255;255;255m\u001b[48;2;0;0;86m control\u001b[0m\u001b[38;2;255;255;255m\u001b[48;2;0;0;0m the\u001b[0m\u001b[38;2;255;255;255m\u001b[48;2;0;0;33m spread\u001b[0m\u001b[38;2;255;255;255m\u001b[48;2;0;0;21m of\u001b[0m\u001b[38;2;255;255;255m\u001b[48;2;0;0;27m diseases\u001b[0m\u001b[38;2;255;255;255m\u001b[48;2;0;0;37m.\u001b[0m\u001b[38;2;255;255;255m\u001b[48;2;0;0;35mThe\u001b[0m\u001b[38;2;255;255;255m\u001b[48;2;0;0;72m extension\u001b[0m\u001b[38;2;255;255;255m\u001b[48;2;0;0;66m of\u001b[0m\u001b[38;2;255;255;255m\u001b[48;2;0;0;46m the\u001b[0m\u001b[38;2;255;255;255m\u001b[48;2;0;0;11m EU\u001b[0m\u001b[38;2;255;255;255m\u001b[48;2;0;0;167m Solid\u001b[0m\u001b[38;2;255;255;255m\u001b[48;2;0;0;70marity\u001b[0m\u001b[38;2;255;255;255m\u001b[48;2;0;0;40m Fund\u001b[0m\u001b[38;2;255;255;255m\u001b[48;2;0;0;48m to\u001b[0m\u001b[38;2;255;255;255m\u001b[48;2;0;0;102m cover\u001b[0m\u001b[38;2;255;255;255m\u001b[48;2;0;0;73m public\u001b[0m\u001b[38;2;255;255;255m\u001b[48;2;0;0;75m health\u001b[0m\u001b[38;2;255;255;255m\u001b[48;2;0;0;33m emergencies\u001b[0m\u001b[38;2;255;255;255m\u001b[48;2;0;0;57m.\u001b[0m\n",
            "\u001b[38;2;255;255;255m\u001b[48;2;0;0;35mThe\u001b[0m\u001b[38;2;255;255;255m\u001b[48;2;0;0;0m adopted\u001b[0m\u001b[38;2;255;255;255m\u001b[48;2;0;0;47m measures\u001b[0m\u001b[38;2;255;255;255m\u001b[48;2;0;0;19m will\u001b[0m\u001b[38;2;255;255;255m\u001b[48;2;0;0;34m enter\u001b[0m\u001b[38;2;255;255;255m\u001b[48;2;0;0;51m into\u001b[0m\u001b[38;2;255;255;255m\u001b[48;2;0;0;79m force\u001b[0m\u001b[38;2;255;255;255m\u001b[48;2;0;0;83m once\u001b[0m\u001b[38;2;255;255;255m\u001b[48;2;0;0;63m published\u001b[0m\u001b[38;2;255;255;255m\u001b[48;2;0;0;58m in\u001b[0m\u001b[38;2;255;255;255m\u001b[48;2;0;0;41m the\u001b[0m\u001b[38;2;255;255;255m\u001b[48;2;59;0;0m Official\u001b[0m\u001b[38;2;255;255;255m\u001b[48;2;0;0;77m Journal\u001b[0m\u001b[38;2;255;255;255m\u001b[48;2;177;0;0m of\u001b[0m\u001b[38;2;255;255;255m\u001b[48;2;0;0;35m the\u001b[0m\u001b[38;2;255;255;255m\u001b[48;2;0;0;4m European\u001b[0m\u001b[38;2;255;255;255m\u001b[48;2;0;0;55m Union\u001b[0m\u001b[38;2;255;255;255m\u001b[48;2;0;0;63m in\u001b[0m\u001b[38;2;255;255;255m\u001b[48;2;0;0;72m the\u001b[0m\u001b[38;2;255;255;255m\u001b[48;2;0;0;59m coming\u001b[0m\n",
            "\u001b[38;2;255;255;255m\u001b[48;2;0;0;70m days\u001b[0m\u001b[38;2;255;255;255m\u001b[48;2;0;0;58m.\u001b[0m\u001b[38;2;255;255;255m\u001b[48;2;0;0;51mTem\u001b[0m\u001b[38;2;255;255;255m\u001b[48;2;0;0;26mpor\u001b[0m\u001b[38;2;255;255;255m\u001b[48;2;0;0;11marily\u001b[0m\u001b[38;2;255;255;255m\u001b[48;2;0;0;144m susp\u001b[0m\u001b[38;2;255;255;255m\u001b[48;2;0;0;10mending\u001b[0m\u001b[38;2;255;255;255m\u001b[48;2;0;0;58m EU\u001b[0m\u001b[38;2;255;255;255m\u001b[48;2;0;0;35m rules\u001b[0m\u001b[38;2;255;255;255m\u001b[48;2;0;0;24m on\u001b[0m\u001b[38;2;255;255;255m\u001b[48;2;0;0;58m airport\u001b[0m\u001b[38;2;255;255;255m\u001b[48;2;0;0;68m slots\u001b[0m\u001b[38;2;255;255;255m\u001b[48;2;0;0;95m .\u001b[0m\u001b[38;2;255;255;255m\u001b[48;2;0;0;35mThe\u001b[0m\u001b[38;2;255;255;255m\u001b[48;2;0;0;35m temporary\u001b[0m\u001b[38;2;255;255;255m\u001b[48;2;0;0;99m suspension\u001b[0m\u001b[38;2;255;255;255m\u001b[48;2;0;0;27m means\u001b[0m\u001b[38;2;255;255;255m\u001b[48;2;109;0;0m that\u001b[0m\u001b[38;2;255;255;255m\u001b[48;2;0;0;4m airlines\u001b[0m\u001b[38;2;255;255;255m\u001b[48;2;0;0;119m are\u001b[0m\n",
            "\u001b[38;2;255;255;255m\u001b[48;2;0;0;39m not\u001b[0m\u001b[38;2;255;255;255m\u001b[48;2;0;0;35m obliged\u001b[0m\u001b[38;2;255;255;255m\u001b[48;2;0;0;28m to\u001b[0m\u001b[38;2;255;255;255m\u001b[48;2;0;0;50m use\u001b[0m\u001b[38;2;255;255;255m\u001b[48;2;0;0;35m their\u001b[0m\u001b[38;2;255;255;255m\u001b[48;2;0;0;70m planned\u001b[0m\u001b[38;2;255;255;255m\u001b[48;2;0;0;78m take\u001b[0m\u001b[38;2;255;255;255m\u001b[48;2;0;0;80m-\u001b[0m\u001b[38;2;255;255;255m\u001b[48;2;0;0;86moff\u001b[0m\u001b[38;2;255;255;255m\u001b[48;2;0;0;99m and\u001b[0m\u001b[38;2;255;255;255m\u001b[48;2;0;0;113m landing\u001b[0m\u001b[38;2;255;255;255m\u001b[48;2;0;0;67m slots\u001b[0m\u001b[38;2;255;255;255m\u001b[48;2;0;0;78m to\u001b[0m\u001b[38;2;255;255;255m\u001b[48;2;0;0;46m keep\u001b[0m\u001b[38;2;255;255;255m\u001b[48;2;0;0;96m them\u001b[0m\u001b[38;2;255;255;255m\u001b[48;2;0;0;138m in\u001b[0m\u001b[38;2;255;255;255m\u001b[48;2;0;0;47m the\u001b[0m\u001b[38;2;255;255;255m\u001b[48;2;0;0;64m next\u001b[0m\u001b[38;2;255;255;255m\u001b[48;2;0;0;68m corresponding\u001b[0m\u001b[38;2;255;255;255m\u001b[48;2;0;0;47m season\u001b[0m\n",
            "\u001b[38;2;255;255;255m\u001b[48;2;0;0;19m.\u001b[0m\u001b[38;2;255;255;255m\u001b[48;2;0;0;35mThe\u001b[0m\u001b[38;2;255;255;255m\u001b[48;2;0;0;28m '\u001b[0m\u001b[38;2;255;255;255m\u001b[48;2;0;0;17muse\u001b[0m\u001b[38;2;255;255;255m\u001b[48;2;0;0;106m it\u001b[0m\u001b[38;2;255;255;255m\u001b[48;2;0;0;109m or\u001b[0m\u001b[38;2;255;255;255m\u001b[48;2;0;0;42m lose\u001b[0m\u001b[38;2;255;255;255m\u001b[48;2;0;0;107m it\u001b[0m\u001b[38;2;255;255;255m\u001b[48;2;0;0;70m'\u001b[0m\u001b[38;2;255;255;255m\u001b[48;2;0;0;7m rule\u001b[0m\u001b[38;2;255;255;255m\u001b[48;2;117;0;0m will\u001b[0m\u001b[38;2;255;255;255m\u001b[48;2;0;0;36m be\u001b[0m\u001b[38;2;255;255;255m\u001b[48;2;255;0;0m waived\u001b[0m\u001b[38;2;255;255;255m\u001b[48;2;154;0;0m for\u001b[0m\u001b[38;2;255;255;255m\u001b[48;2;0;0;44m the\u001b[0m\u001b[38;2;255;255;255m\u001b[48;2;0;0;26m whole\u001b[0m\u001b[38;2;255;255;255m\u001b[48;2;0;0;104m summer\u001b[0m\u001b[38;2;255;255;255m\u001b[48;2;0;0;40m season\u001b[0m\u001b[38;2;255;255;255m\u001b[48;2;0;0;62m,\u001b[0m\u001b[38;2;255;255;255m\u001b[48;2;0;0;65m from\u001b[0m\n",
            "\u001b[38;2;255;255;255m\u001b[48;2;0;0;197m 29\u001b[0m\u001b[38;2;255;255;255m\u001b[48;2;0;0;90m March\u001b[0m\u001b[38;2;255;255;255m\u001b[48;2;0;0;27m until\u001b[0m\u001b[38;2;255;255;255m\u001b[48;2;0;0;169m 24\u001b[0m\u001b[38;2;255;255;255m\u001b[48;2;0;0;80m October\u001b[0m\u001b[38;2;255;255;255m\u001b[48;2;0;0;154m 2020\u001b[0m\u001b[38;2;255;255;255m\u001b[48;2;0;0;32m.\u001b[0m\u001b[38;2;255;255;255m\u001b[48;2;0;0;70mC\u001b[0m\u001b[38;2;255;255;255m\u001b[48;2;0;0;79mOVID\u001b[0m\u001b[38;2;255;255;255m\u001b[48;2;0;0;75m-\u001b[0m\u001b[38;2;255;255;255m\u001b[48;2;0;0;148m19\u001b[0m\u001b[38;2;255;255;255m\u001b[48;2;0;0;73m:\u001b[0m\u001b[38;2;255;255;255m\u001b[48;2;0;0;16m final\u001b[0m\u001b[38;2;255;255;255m\u001b[48;2;0;0;95m vote\u001b[0m\u001b[38;2;255;255;255m\u001b[48;2;0;0;37m in\u001b[0m\u001b[38;2;255;255;255m\u001b[48;2;0;0;144m EP\u001b[0m\u001b[38;2;255;255;255m\u001b[48;2;0;0;132m pl\u001b[0m\u001b[38;2;255;255;255m\u001b[48;2;0;0;48menary\u001b[0m\u001b[38;2;255;255;255m\u001b[48;2;0;0;33m to\u001b[0m\u001b[38;2;255;255;255m\u001b[48;2;0;0;42m approve\u001b[0m\n",
            "\u001b[38;2;255;255;255m\u001b[48;2;0;0;24m crucial\u001b[0m\u001b[38;2;255;255;255m\u001b[48;2;0;0;11m EU\u001b[0m\u001b[38;2;255;255;255m\u001b[48;2;0;0;25m support\u001b[0m\u001b[38;2;255;255;255m\u001b[48;2;0;0;24m measures\u001b[0m\u001b[38;2;255;255;255m\u001b[48;2;0;0;40m -\u001b[0m\u001b[38;2;255;255;255m\u001b[48;2;132;0;0m Â©\u001b[0m\u001b[38;2;255;255;255m\u001b[48;2;0;0;105m EP\u001b[0m\u001b[38;2;255;255;255m\u001b[48;2;0;0;35mThe\u001b[0m\u001b[38;2;255;255;255m\u001b[48;2;0;0;79m proposal\u001b[0m\u001b[38;2;255;255;255m\u001b[48;2;0;0;66m was\u001b[0m\u001b[38;2;255;255;255m\u001b[48;2;0;0;38m adopted\u001b[0m\u001b[38;2;255;255;255m\u001b[48;2;0;0;12m with\u001b[0m\u001b[38;2;255;255;255m\u001b[48;2;0;0;126m 6\u001b[0m\u001b[38;2;255;255;255m\u001b[48;2;0;0;197m71\u001b[0m\u001b[38;2;255;255;255m\u001b[48;2;0;0;56m votes\u001b[0m\u001b[38;2;255;255;255m\u001b[48;2;0;0;41m in\u001b[0m\u001b[38;2;255;255;255m\u001b[48;2;0;0;68m favour\u001b[0m\u001b[38;2;255;255;255m\u001b[48;2;0;0;110m,\u001b[0m\u001b[38;2;255;255;255m\u001b[48;2;0;0;122m 3\u001b[0m\u001b[38;2;255;255;255m\u001b[48;2;0;0;18m against\u001b[0m\n",
            "\u001b[38;2;255;255;255m\u001b[48;2;0;0;119m and\u001b[0m\u001b[38;2;255;255;255m\u001b[48;2;0;0;148m 14\u001b[0m\u001b[38;2;255;255;255m\u001b[48;2;0;0;83m abst\u001b[0m\u001b[38;2;255;255;255m\u001b[48;2;0;0;22ment\u001b[0m\u001b[38;2;255;255;255m\u001b[48;2;0;0;48mions\u001b[0m\u001b[38;2;255;255;255m\u001b[48;2;0;0;34m.\u001b[0m\u001b[38;2;255;255;255m\u001b[48;2;0;0;35mThe\u001b[0m\u001b[38;2;255;255;255m\u001b[48;2;0;0;79m proposal\u001b[0m\u001b[38;2;255;255;255m\u001b[48;2;0;0;66m was\u001b[0m\u001b[38;2;255;255;255m\u001b[48;2;0;0;38m adopted\u001b[0m\u001b[38;2;255;255;255m\u001b[48;2;0;0;12m with\u001b[0m\u001b[38;2;255;255;255m\u001b[48;2;0;0;126m 6\u001b[0m\u001b[38;2;255;255;255m\u001b[48;2;0;0;181m83\u001b[0m\u001b[38;2;255;255;255m\u001b[48;2;0;0;51m votes\u001b[0m\u001b[38;2;255;255;255m\u001b[48;2;0;0;39m in\u001b[0m\u001b[38;2;255;255;255m\u001b[48;2;0;0;69m favour\u001b[0m\u001b[38;2;255;255;255m\u001b[48;2;0;0;109m,\u001b[0m\u001b[38;2;255;255;255m\u001b[48;2;0;0;112m 1\u001b[0m\u001b[38;2;255;255;255m\u001b[48;2;0;0;28m against\u001b[0m\u001b[38;2;255;255;255m\u001b[48;2;0;0;121m and\u001b[0m\n",
            "\u001b[38;2;255;255;255m\u001b[48;2;0;0;151m 4\u001b[0m\u001b[38;2;255;255;255m\u001b[48;2;0;0;98m abst\u001b[0m\u001b[38;2;255;255;255m\u001b[48;2;0;0;25ment\u001b[0m\u001b[38;2;255;255;255m\u001b[48;2;0;0;50mions\u001b[0m\u001b[38;2;255;255;255m\u001b[48;2;0;0;35m.\u001b[0m\u001b[38;2;255;255;255m\u001b[48;2;0;0;35mThe\u001b[0m\u001b[38;2;255;255;255m\u001b[48;2;0;0;79m proposal\u001b[0m\u001b[38;2;255;255;255m\u001b[48;2;0;0;66m was\u001b[0m\u001b[38;2;255;255;255m\u001b[48;2;0;0;38m adopted\u001b[0m\u001b[38;2;255;255;255m\u001b[48;2;0;0;12m with\u001b[0m\u001b[38;2;255;255;255m\u001b[48;2;0;0;126m 6\u001b[0m\u001b[38;2;255;255;255m\u001b[48;2;0;0;216m86\u001b[0m\u001b[38;2;255;255;255m\u001b[48;2;0;0;48m votes\u001b[0m\u001b[38;2;255;255;255m\u001b[48;2;0;0;41m in\u001b[0m\u001b[38;2;255;255;255m\u001b[48;2;0;0;69m favour\u001b[0m\u001b[38;2;255;255;255m\u001b[48;2;0;0;107m,\u001b[0m\u001b[38;2;255;255;255m\u001b[48;2;0;0;44m no\u001b[0m\u001b[38;2;255;255;255m\u001b[48;2;0;0;30m votes\u001b[0m\u001b[38;2;255;255;255m\u001b[48;2;0;0;4m against\u001b[0m\u001b[38;2;255;255;255m\u001b[48;2;0;0;99m and\u001b[0m\n",
            "\u001b[38;2;255;255;255m\u001b[48;2;0;0;115m 2\u001b[0m\u001b[38;2;255;255;255m\u001b[48;2;0;0;95m abst\u001b[0m\u001b[38;2;255;255;255m\u001b[48;2;0;0;17ment\u001b[0m\u001b[38;2;255;255;255m\u001b[48;2;0;0;38mions\u001b[0m\u001b[38;2;255;255;255m\u001b[48;2;0;0;22m.\u001b[0m\u001b[38;2;255;255;255m\u001b[48;2;0;0;41mdevelop\u001b[0m\u001b[38;2;255;255;255m\u001b[48;2;0;0;27ming\u001b[0m\u001b[38;2;255;255;255m\u001b[48;2;0;0;20m new\u001b[0m\u001b[38;2;255;255;255m\u001b[48;2;0;0;7m vaccines\u001b[0m\u001b[38;2;255;255;255m\u001b[48;2;0;0;45mProgram\u001b[0m\u001b[38;2;255;255;255m\u001b[48;2;0;0;27mmes\u001b[0m\u001b[38;2;255;255;255m\u001b[48;2;0;0;70m already\u001b[0m\u001b[38;2;255;255;255m\u001b[48;2;0;0;61m in\u001b[0m\u001b[38;2;255;255;255m\u001b[48;2;0;0;88m place\u001b[0m\u001b[38;2;255;255;255m\u001b[48;2;0;0;35mThe\u001b[0m\u001b[38;2;255;255;255m\u001b[48;2;0;0;163m 140\u001b[0m\u001b[38;2;255;255;255m\u001b[48;2;0;0;101m research\u001b[0m\u001b[38;2;255;255;255m\u001b[48;2;0;0;45m teams\u001b[0m\u001b[38;2;255;255;255m\u001b[48;2;0;0;43m from\u001b[0m\u001b[38;2;255;255;255m\u001b[48;2;0;0;95m across\u001b[0m"
          ]
        }
      ],
      "source": [
        "print_colored_preacts(\n",
        "    da_tokens2[begin_at:],\n",
        "    da_preacts2[begin_at:],\n",
        "    neuron_to_use,\n",
        "    tokenizer,\n",
        "    stop_after=400\n",
        ")\n",
        "print('')\n",
        "print_colored_preacts(\n",
        "    en_tokens2[begin_at:],\n",
        "    en_preacts2[begin_at:],\n",
        "    neuron_to_use,\n",
        "    tokenizer,\n",
        "    stop_after=400\n",
        ")"
      ]
    },
    {
      "cell_type": "code",
      "execution_count": 61,
      "metadata": {
        "id": "jEAG8u9Zmzoc",
        "outputId": "9c448198-5e93-4513-8d2c-93f4953620b5"
      },
      "outputs": [
        {
          "ename": "AttributeError",
          "evalue": "'numpy.ndarray' object has no attribute 'numpy'",
          "output_type": "error",
          "traceback": [
            "\u001b[1;31m---------------------------------------------------------------------------\u001b[0m",
            "\u001b[1;31mAttributeError\u001b[0m                            Traceback (most recent call last)",
            "Cell \u001b[1;32mIn[61], line 9\u001b[0m\n\u001b[0;32m      6\u001b[0m \u001b[38;5;28;01mif\u001b[39;00m \u001b[38;5;129;01mnot\u001b[39;00m os\u001b[38;5;241m.\u001b[39mpath\u001b[38;5;241m.\u001b[39misdir(\u001b[38;5;124mf\u001b[39m\u001b[38;5;124m'\u001b[39m\u001b[38;5;132;01m{\u001b[39;00mhidden_acts_outfolder\u001b[38;5;132;01m}\u001b[39;00m\u001b[38;5;124m/\u001b[39m\u001b[38;5;132;01m{\u001b[39;00mmodel_name\u001b[38;5;132;01m}\u001b[39;00m\u001b[38;5;124m'\u001b[39m):\n\u001b[0;32m      7\u001b[0m     os\u001b[38;5;241m.\u001b[39mmkdir(\u001b[38;5;124mf\u001b[39m\u001b[38;5;124m'\u001b[39m\u001b[38;5;132;01m{\u001b[39;00mhidden_acts_outfolder\u001b[38;5;132;01m}\u001b[39;00m\u001b[38;5;124m/\u001b[39m\u001b[38;5;132;01m{\u001b[39;00mmodel_name\u001b[38;5;132;01m}\u001b[39;00m\u001b[38;5;124m'\u001b[39m)\n\u001b[1;32m----> 9\u001b[0m df \u001b[38;5;241m=\u001b[39m pd\u001b[38;5;241m.\u001b[39mDataFrame({\u001b[38;5;124m'\u001b[39m\u001b[38;5;124mavg_da\u001b[39m\u001b[38;5;124m'\u001b[39m: \u001b[43mavg_da\u001b[49m\u001b[38;5;241;43m.\u001b[39;49m\u001b[43mnumpy\u001b[49m(), \u001b[38;5;124m'\u001b[39m\u001b[38;5;124mavg_en\u001b[39m\u001b[38;5;124m'\u001b[39m: avg_en\u001b[38;5;241m.\u001b[39mnumpy()})\n\u001b[0;32m     10\u001b[0m df\u001b[38;5;241m.\u001b[39mto_csv(\u001b[38;5;124mf\u001b[39m\u001b[38;5;124m'\u001b[39m\u001b[38;5;132;01m{\u001b[39;00mhidden_acts_outfolder\u001b[38;5;132;01m}\u001b[39;00m\u001b[38;5;124m/\u001b[39m\u001b[38;5;132;01m{\u001b[39;00mmodel_name\u001b[38;5;132;01m}\u001b[39;00m\u001b[38;5;124m/\u001b[39m\u001b[38;5;132;01m{\u001b[39;00mhookpoint\u001b[38;5;132;01m}\u001b[39;00m\u001b[38;5;124m.csv\u001b[39m\u001b[38;5;124m'\u001b[39m, index\u001b[38;5;241m=\u001b[39m\u001b[38;5;28;01mFalse\u001b[39;00m)\n",
            "\u001b[1;31mAttributeError\u001b[0m: 'numpy.ndarray' object has no attribute 'numpy'"
          ]
        }
      ],
      "source": [
        "hidden_acts_outfolder = 'results/sparse_autoencoder_activations'\n",
        "\n",
        "if not os.path.isdir(f'{hidden_acts_outfolder}'):\n",
        "    os.mkdir(f'{hidden_acts_outfolder}')\n",
        "\n",
        "if not os.path.isdir(f'{hidden_acts_outfolder}/{model_name}'):\n",
        "    os.mkdir(f'{hidden_acts_outfolder}/{model_name}')\n",
        "\n",
        "df = pd.DataFrame({'avg_da': avg_da.numpy(), 'avg_en': avg_en.numpy()})\n",
        "df.to_csv(f'{hidden_acts_outfolder}/{model_name}/{hookpoint}.csv', index=False)"
      ]
    },
    {
      "cell_type": "code",
      "execution_count": null,
      "metadata": {
        "id": "2zTUQKmImzoc"
      },
      "outputs": [],
      "source": []
    }
  ],
  "metadata": {
    "accelerator": "GPU",
    "colab": {
      "gpuType": "T4",
      "provenance": []
    },
    "kernelspec": {
      "display_name": "rp",
      "language": "python",
      "name": "python3"
    },
    "language_info": {
      "codemirror_mode": {
        "name": "ipython",
        "version": 3
      },
      "file_extension": ".py",
      "mimetype": "text/x-python",
      "name": "python",
      "nbconvert_exporter": "python",
      "pygments_lexer": "ipython3",
      "version": "3.11.9"
    }
  },
  "nbformat": 4,
  "nbformat_minor": 0
}

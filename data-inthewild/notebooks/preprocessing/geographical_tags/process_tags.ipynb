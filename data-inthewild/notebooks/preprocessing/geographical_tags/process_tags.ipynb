{
 "cells": [
  {
   "cell_type": "code",
   "execution_count": 1,
   "metadata": {},
   "outputs": [],
   "source": [
    "import pandas as pd\n",
    "import json"
   ]
  },
  {
   "cell_type": "code",
   "execution_count": 11,
   "metadata": {},
   "outputs": [],
   "source": [
    "COORDINATES_PATH = '../../../data/interim/geographical_tags/coordinates.json'\n",
    "CUISINE_TO_COUNTRY_PATH = '../../../data/interim/geographical_tags/cuisine_to_country.json'\n",
    "RAW_DATA_PATH = '../../../data/raw/data_raw.json'\n",
    "OUT_DATA_PATH = '../../../data/interim/geographical_tags/data.json'"
   ]
  },
  {
   "cell_type": "code",
   "execution_count": 3,
   "metadata": {},
   "outputs": [],
   "source": [
    "with open(RAW_DATA_PATH,'r', encoding='utf-8') as f:\n",
    "    dict2 = dict(json.load(f))"
   ]
  },
  {
   "cell_type": "code",
   "execution_count": 4,
   "metadata": {},
   "outputs": [],
   "source": [
    "geographical = {\n",
    "    'African',\n",
    "    'Asian',\n",
    "    'Brazilian',\n",
    "    'British',\n",
    "    'Caribbean',\n",
    "    'Central & South American',\n",
    "    'Chinese',\n",
    "    'Cuban',\n",
    "    'Dominican',\n",
    "    'Ethiopian',\n",
    "    'European',\n",
    "    'Filipino',\n",
    "    'French',\n",
    "    'German',\n",
    "    'Haitian',\n",
    "    'Hawaiian',\n",
    "    'Indian',\n",
    "    'Italian',\n",
    "    'Jamaican',\n",
    "    'Japanese',\n",
    "    'Kenyan',\n",
    "    'Korean',\n",
    "    'Laotian',\n",
    "    'Lebanese',\n",
    "    'Mediterranean',\n",
    "    'Mexican',\n",
    "    'Middle Eastern',\n",
    "    'North American',\n",
    "    'Persian',\n",
    "    'Peruvian',\n",
    "    'Polish',\n",
    "    'Puerto Rican',\n",
    "    'South African',\n",
    "    'Southern',\n",
    "    'Southwestern',\n",
    "    'Swedish',\n",
    "    'Taiwanese',\n",
    "    'Thai',\n",
    "    'Venezuelan',\n",
    "    'Vietnamese',\n",
    "    'West African'\n",
    "}"
   ]
  },
  {
   "cell_type": "code",
   "execution_count": 6,
   "metadata": {},
   "outputs": [],
   "source": [
    "dict_t = {}\n",
    "for i in dict2:\n",
    "    for j in dict2[i]['Tags']:\n",
    "        if j in geographical:\n",
    "            dict_t.setdefault(i,[]).append(j)"
   ]
  },
  {
   "cell_type": "code",
   "execution_count": 7,
   "metadata": {},
   "outputs": [],
   "source": [
    "for i in dict2:\n",
    "    if i in list(dict_t.keys()):\n",
    "        dict2[i]['geographical_tags'] = dict_t[i]\n",
    "    else:\n",
    "        dict2[i]['geographical_tags'] = []"
   ]
  },
  {
   "cell_type": "markdown",
   "metadata": {},
   "source": [
    "## Converting to the new geographical tags"
   ]
  },
  {
   "cell_type": "code",
   "execution_count": 12,
   "metadata": {},
   "outputs": [],
   "source": [
    "with open(CUISINE_TO_COUNTRY_PATH) as f:\n",
    "    cuisine_to_country = json.load(f)"
   ]
  },
  {
   "cell_type": "code",
   "execution_count": 13,
   "metadata": {},
   "outputs": [],
   "source": [
    "with open(COORDINATES_PATH,'r') as loc:\n",
    "    location = json.load(loc)"
   ]
  },
  {
   "cell_type": "code",
   "execution_count": 14,
   "metadata": {},
   "outputs": [],
   "source": [
    "for i in dict2:\n",
    "    dict2[i]['geographical_tags_updated_coords'] = []\n",
    "    dict2[i]['geographical_tags_updated'] = []\n"
   ]
  },
  {
   "cell_type": "code",
   "execution_count": 15,
   "metadata": {},
   "outputs": [],
   "source": [
    "dict_test = {}\n",
    "for i in dict2:\n",
    "    for j in dict2[i]['geographical_tags']:\n",
    "        dict2[i]['geographical_tags_updated'].append(cuisine_to_country[j])\n",
    "        dict2[i]['geographical_tags_updated_coords'].append({cuisine_to_country[j] : [location[cuisine_to_country[j]]]})"
   ]
  },
  {
   "cell_type": "code",
   "execution_count": 16,
   "metadata": {},
   "outputs": [],
   "source": [
    "with open(OUT_DATA_PATH, \"w\",encoding = 'utf-8') as outfile: \n",
    "    json.dump(dict2, outfile,indent = 4,ensure_ascii=False)"
   ]
  },
  {
   "cell_type": "code",
   "execution_count": null,
   "metadata": {},
   "outputs": [],
   "source": []
  }
 ],
 "metadata": {
  "kernelspec": {
   "display_name": "base",
   "language": "python",
   "name": "python3"
  },
  "language_info": {
   "codemirror_mode": {
    "name": "ipython",
    "version": 3
   },
   "file_extension": ".py",
   "mimetype": "text/x-python",
   "name": "python",
   "nbconvert_exporter": "python",
   "pygments_lexer": "ipython3",
   "version": "3.10.11"
  },
  "orig_nbformat": 4
 },
 "nbformat": 4,
 "nbformat_minor": 2
}

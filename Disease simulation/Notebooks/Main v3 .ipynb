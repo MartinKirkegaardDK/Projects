{
 "cells": [
  {
   "cell_type": "markdown",
   "metadata": {},
   "source": [
    "# Group 1 - Network Analysis\n",
    "\n",
    "### Data Science at ITU\n",
    "\n",
    "## Project name\n",
    "\n",
    "Group/contact:\n",
    "- Martin Kirkegaard\n",
    "- Florian Micliuc (flmi@itu.dk)\n",
    "- Markus Kristoffer Sibbesen\n",
    "- Constantin-Bogdan Craciun\n",
    "- Josephine Tia Højer Holst\n",
    "- Jacob Andreas Sneding Rohde"
   ]
  },
  {
   "cell_type": "markdown",
   "metadata": {},
   "source": [
    "Key points about our network:\n",
    "- directed graph (weighted) (we made it weighted)\n",
    "- unipartite\n",
    "- cyclic\n",
    "- one single strongly connected component (we made it)\n",
    "- no self-loops (we removed self-loops)"
   ]
  },
  {
   "cell_type": "markdown",
   "metadata": {},
   "source": [
    "Done so far:\n",
    "- Description of the network\n",
    "- Filtering/Cleaning of the datasets\n",
    "- Statistics\n",
    "- Visuallysation\n",
    "- Si-Model\n",
    "- Communities\n",
    "- link prediction (not yet)"
   ]
  },
  {
   "cell_type": "markdown",
   "metadata": {},
   "source": [
    "Questions:\n",
    "- the direction\n",
    "- research question\n",
    "- discussion\n",
    "- conclusion"
   ]
  },
  {
   "cell_type": "markdown",
   "metadata": {},
   "source": [
    "Ideas:\n",
    "- spreading disease or whatever\n",
    "- crucial nodes/edges\n",
    "- max flow\n",
    "- bridges\n",
    "- Si-model(some kind)"
   ]
  },
  {
   "cell_type": "markdown",
   "metadata": {},
   "source": [
    "# Project outline (1)\n",
    "\n",
    "1. Data description - how did we construct the graph? (preprocessing, motivate choices for nodes/edges/weights)\n",
    "2. Basic properties and statistics\n",
    "3. **RQ: How does different measures of sturctural importance influence the spread of a potential disease in the SI(/SIR) model? - and which are most impprtant for preventing / stopping the spread?**\n",
    "4. Propose disease model SI(/SIR): Justify choice of model. Justify edge weight = passengers.\n",
    "5. Propose candidate metrics for measurinc structural importance of nodes (airport) /edges (routes).\n",
    "\n",
    "_E.g. degree centrality, bridges/borders/communities, degree, others?_\n",
    "\n",
    "6. Run different simulations by removing/starting at different nodes/edges. Alter network according to some importance criteria (specify above) and report the consequences / effect.\n",
    "\n",
    "_What should our measure of 'success' be (e.g. amount of 'steps')?_\n",
    "\n",
    "7. Discuss the effect on spread with different alterations.\n",
    "8. Conclude on discussion\n",
    "\n",
    "### Important assumptions / simplifications to remember\n",
    "- Accumulated values/weights over the entire year 2013. Assuming a uniform distribution of passengers?\n",
    "- In our networ, nodes consist of airports - not individuals. Therefore, the mechanism of infecting a node is highly simplified. An entire airport is wither infected or it is not.\n",
    "- For simplification, the entire network is considered in isolation. This means that infection spreading from airport to airport through other transportation types are not considered."
   ]
  },
  {
   "cell_type": "markdown",
   "metadata": {},
   "source": [
    "# Imports"
   ]
  },
  {
   "cell_type": "code",
   "execution_count": 6,
   "metadata": {},
   "outputs": [],
   "source": [
    "import pandas as pd\n",
    "import numpy as np\n",
    "from collections import Counter\n",
    "import networkx as nx\n",
    "import random\n",
    "import matplotlib.pyplot as plt\n",
    "import warnings\n",
    "warnings.filterwarnings(\"ignore\", category=UserWarning)\n",
    "import folium\n",
    "#import geojson\n",
    "#import geopandas\n",
    "import mplleaflet\n",
    "from folium.plugins import HeatMap\n",
    "import json\n",
    "from networkx.algorithms.community.centrality import girvan_newman"
   ]
  },
  {
   "cell_type": "markdown",
   "metadata": {},
   "source": [
    "# Functions"
   ]
  },
  {
   "cell_type": "code",
   "execution_count": 7,
   "metadata": {},
   "outputs": [],
   "source": [
    "def NormalizeData(data):\n",
    "    return (data - np.min(data)) / (np.max(data) - np.min(data))"
   ]
  },
  {
   "cell_type": "code",
   "execution_count": null,
   "metadata": {},
   "outputs": [],
   "source": []
  },
  {
   "cell_type": "code",
   "execution_count": 9,
   "metadata": {},
   "outputs": [],
   "source": [
    "def plot_degree_dist_hist(G):\n",
    "    degrees = [G.out_degree(n) for n in G.nodes()]\n",
    "    fig = plt.figure(figsize = (10,10))\n",
    "    plt.hist(degrees, bins = 30,color = 'gray',edgecolor = 'black')\n",
    "    plt.xlabel('Node out-degree',fontsize = 15)\n",
    "    plt.ylabel('No. of nodes',fontsize = 15)\n",
    "    plt.title('Histogram of out-degree',fontsize = 15);\n",
    "    plt.show()"
   ]
  },
  {
   "cell_type": "code",
   "execution_count": 10,
   "metadata": {},
   "outputs": [],
   "source": [
    "def one_tick(G, infected_set, beta):\n",
    "    add_to_set = set()\n",
    "    for node in infected_set:\n",
    "        sum_weight_root = np.sqrt(sum([G[node][i]['weight'] for i in G.neighbors(node)]) + 0.001)\n",
    "        for neighbor in G.neighbors(node):\n",
    "            if beta * ((G[node][neighbor]['weight'] + 1) / sum_weight_root) > random.random():\n",
    "                add_to_set.add(neighbor)\n",
    "    return add_to_set"
   ]
  },
  {
   "cell_type": "code",
   "execution_count": 11,
   "metadata": {},
   "outputs": [],
   "source": [
    "def inverse_squareroot(x,sum_var):\n",
    "    return (x + 1)/np.sqrt(sum_var)\n",
    "def exp_func(x):\n",
    "    return 0.0682*(x**0.4729)"
   ]
  },
  {
   "cell_type": "markdown",
   "metadata": {},
   "source": [
    "# Classes"
   ]
  },
  {
   "cell_type": "code",
   "execution_count": 12,
   "metadata": {},
   "outputs": [
    {
     "data": {
      "text/plain": [
       "0.994157990221247"
      ]
     },
     "execution_count": 12,
     "metadata": {},
     "output_type": "execute_result"
    }
   ],
   "source": [
    "random.random()"
   ]
  },
  {
   "cell_type": "code",
   "execution_count": null,
   "metadata": {},
   "outputs": [],
   "source": []
  },
  {
   "cell_type": "code",
   "execution_count": 13,
   "metadata": {},
   "outputs": [],
   "source": [
    "\n",
    "class Simulation:\n",
    "    \n",
    "    def __init__(self, edgelist):\n",
    "        self.Graph = nx.DiGraph()\n",
    "        self.Graph.add_edges_from(edgelist)\n",
    "        for node in self.Graph.nodes():\n",
    "            self.Graph.nodes[node]['sum_weight_root'] = np.sqrt(sum([self.Graph[node][i]['weight'] for i in self.Graph.neighbors(node)]) + 0.001)\n",
    "\n",
    "    def one_tick(self, infected):\n",
    "        '''\n",
    "        simulates one tick, taking a beta value and a set of already infected nodes\n",
    "        returns a new set of infected nodes\n",
    "        '''\n",
    "        \n",
    "        add_to_set = set()\n",
    "        \n",
    "        for node in infected:\n",
    "\n",
    "            for neighbor in self.Graph.neighbors(node):\n",
    "                if neighbor not in infected:\n",
    "                    passengers = self.Graph[node][neighbor]['weight'] + 1\n",
    "                    sum_var = self.Graph.nodes[node]['sum_weight_root']\n",
    "                    x = inverse_squareroot(passengers, sum_var)\n",
    "                    prob = exp_func(x)\n",
    "                    if prob > random.randint(0,100):\n",
    "                        add_to_set.add(neighbor)\n",
    "                    \n",
    "        return infected | add_to_set\n",
    "    \n",
    "    def simulate_amount_of_ticks(self, outset='random', ticks=1):\n",
    "        '''\n",
    "        simulates specified amount of ticks, taking a beta value, an amount of ticks \n",
    "        and an initial outset of infected nodes (defaults a random node)\n",
    "        returns a list of sets, each element being the set of infected nodes for each tick\n",
    "        '''\n",
    "        \n",
    "        if outset == 'random':\n",
    "            infected_list = [{random.choice(list(self.Graph.nodes()))}]\n",
    "        else:\n",
    "            infected_list = [outset]\n",
    "        \n",
    "        for _ in range(ticks):\n",
    "            infected_list.append(self.one_tick(infected_list[-1]))\n",
    "    \n",
    "        return infected_list\n",
    "    \n",
    "    def simulate_until_threshold(self, threshold, outset='random', limit=500):\n",
    "        '''\n",
    "        simulates until a certain number of nodes are infected, taking a beta value,\n",
    "        a threshold and a limit for amount of ticks\n",
    "        returns the amount of ticks to get to threshold\n",
    "        '''\n",
    "        \n",
    "        if outset == 'random':\n",
    "            infected = {random.choice(list(self.Graph.nodes()))}\n",
    "        else:\n",
    "            infected = outset\n",
    "        \n",
    "        for i in range(limit):\n",
    "            infected = self.one_tick(infected)\n",
    "            \n",
    "            if len(infected) >= threshold:\n",
    "                return i\n",
    "    \n",
    "        return limit\n",
    "    \n",
    "    def threshold_trials(self, threshold, outset='random', limit=500, trials=10):\n",
    "        '''\n",
    "        simulates a number of trials using the threshold method,\n",
    "        returning a list of the amount of ticks to reach threshold\n",
    "        '''\n",
    "        li = []\n",
    "        percent = 0.1\n",
    "        for i in range(trials):\n",
    "            n = trials * percent\n",
    "            if i > n:\n",
    "                #print(int(percent * 100),\"% done\")\n",
    "                percent += 0.1\n",
    "            li.append(self.simulate_until_threshold(threshold=threshold, outset=outset, limit=limit))\n",
    "            \n",
    "        return li"
   ]
  },
  {
   "cell_type": "markdown",
   "metadata": {},
   "source": [
    "# I. Data filtering and cleaning"
   ]
  },
  {
   "cell_type": "markdown",
   "metadata": {},
   "source": [
    "Loading the coordinates data"
   ]
  },
  {
   "cell_type": "code",
   "execution_count": 14,
   "metadata": {},
   "outputs": [],
   "source": [
    "coords = pd.read_json('../Data/total.json')"
   ]
  },
  {
   "cell_type": "code",
   "execution_count": 15,
   "metadata": {},
   "outputs": [],
   "source": [
    "coords = coords.T.reset_index()"
   ]
  },
  {
   "cell_type": "code",
   "execution_count": 16,
   "metadata": {},
   "outputs": [],
   "source": [
    "coords_origin = coords.rename(columns = {'index':'ORIGIN',0:'longitude_origin',1:'latitude_origin'})\n",
    "coords_dest = coords.rename(columns = {'index':'DEST',0:'longitude_dest',1:'latitude_dest'})"
   ]
  },
  {
   "cell_type": "markdown",
   "metadata": {},
   "source": [
    "Loading the main dataset and merging everything into 'data_merged'"
   ]
  },
  {
   "cell_type": "code",
   "execution_count": 17,
   "metadata": {},
   "outputs": [],
   "source": [
    "data_filtered = pd.read_csv('../Data/final_cool_dataset.csv',delimiter = ',')"
   ]
  },
  {
   "cell_type": "code",
   "execution_count": 18,
   "metadata": {},
   "outputs": [],
   "source": [
    "data_filtered_coord = pd.merge(data_filtered,coords_origin, on = ['ORIGIN'])\n",
    "data_filtered_coord = pd.merge(data_filtered_coord,coords_dest, on = [\"DEST\"])"
   ]
  },
  {
   "cell_type": "code",
   "execution_count": 19,
   "metadata": {
    "scrolled": true
   },
   "outputs": [
    {
     "data": {
      "text/plain": [
       "Index(['ORIGIN', 'DEST', 'PAYLOAD', 'DISTANCE', 'SEATS', 'PASSENGERS',\n",
       "       'DEPARTURES_PERFORMED', 'CARRIER_NAME', 'ORIGIN_AIRPORT_ID',\n",
       "       'DEST_AIRPORT_ID', 'ORIGIN_NAME', 'DEST_NAME'],\n",
       "      dtype='object')"
      ]
     },
     "execution_count": 19,
     "metadata": {},
     "output_type": "execute_result"
    }
   ],
   "source": [
    "data_filtered.columns"
   ]
  },
  {
   "cell_type": "markdown",
   "metadata": {},
   "source": [
    "# II. Network generation"
   ]
  },
  {
   "cell_type": "code",
   "execution_count": 20,
   "metadata": {},
   "outputs": [],
   "source": [
    "graph = data_filtered_coord[['ORIGIN','DEST']]"
   ]
  },
  {
   "cell_type": "code",
   "execution_count": 21,
   "metadata": {},
   "outputs": [],
   "source": [
    "G = nx.DiGraph()"
   ]
  },
  {
   "cell_type": "code",
   "execution_count": 22,
   "metadata": {},
   "outputs": [],
   "source": [
    "for i,j in zip(graph['ORIGIN'],graph['DEST']):\n",
    "    G.add_edge(i,j)"
   ]
  },
  {
   "cell_type": "code",
   "execution_count": 23,
   "metadata": {},
   "outputs": [],
   "source": [
    "#plt.figure(figsize=(300, 200))\n",
    "#nx.draw(G, with_labels=True,node_size = 10000,font_color = 'white',node_color = 'gray')"
   ]
  },
  {
   "cell_type": "markdown",
   "metadata": {},
   "source": [
    "# III. Statistical analysis "
   ]
  },
  {
   "cell_type": "markdown",
   "metadata": {},
   "source": [
    "Here we find that the diameter of the graph is 7\n",
    "This means that you can get from any airport to any airport in at most 7 steps. \n",
    "The longest shortest path is 7"
   ]
  },
  {
   "cell_type": "code",
   "execution_count": 24,
   "metadata": {},
   "outputs": [
    {
     "data": {
      "text/plain": [
       "7"
      ]
     },
     "execution_count": 24,
     "metadata": {},
     "output_type": "execute_result"
    }
   ],
   "source": [
    "nx.diameter(G)"
   ]
  },
  {
   "cell_type": "markdown",
   "metadata": {},
   "source": [
    "This is the average shortest path of the network. Meaning on average if you pick two nodes at random the distance is a path with the length of 3"
   ]
  },
  {
   "cell_type": "code",
   "execution_count": 25,
   "metadata": {},
   "outputs": [
    {
     "data": {
      "text/plain": [
       "3.1020730730730732"
      ]
     },
     "execution_count": 25,
     "metadata": {},
     "output_type": "execute_result"
    }
   ],
   "source": [
    "nx.average_shortest_path_length(G)"
   ]
  },
  {
   "cell_type": "markdown",
   "metadata": {},
   "source": [
    "### Finding the longest shortest paths"
   ]
  },
  {
   "cell_type": "code",
   "execution_count": 26,
   "metadata": {},
   "outputs": [],
   "source": [
    "li = []\n",
    "for node in G.nodes():\n",
    "    start_end_nodes = [(node, k) for k,v in nx.shortest_path_length(G, node).items() if v == 7]\n",
    "    if start_end_nodes != []:\n",
    "        li.append(start_end_nodes)"
   ]
  },
  {
   "cell_type": "code",
   "execution_count": 27,
   "metadata": {},
   "outputs": [],
   "source": [
    "with open(\"../Data/total.json\", \"r\") as file:\n",
    "    airport_lookup_table = json.load(file)"
   ]
  },
  {
   "cell_type": "code",
   "execution_count": 28,
   "metadata": {},
   "outputs": [
    {
     "data": {
      "text/plain": [
       "{'04A': [31.7363, -86.262497],\n",
       " '06A': [32.460499, -85.680002],\n",
       " '08A': [32.5294, -86.328201],\n",
       " '1B1': [42.2913017273, -73.7102966309],\n",
       " '1G4': [35.985787, -113.817072],\n",
       " '1N7': [40.9710998535, -74.99749755859999],\n",
       " '6B0': [43.9847984314, -73.09590148929999],\n",
       " '7AK': [54.14459, -165.604332],\n",
       " 'A14': [58.9065, -157.714],\n",
       " 'A26': [41.18600082397461, -120.9520034790039],\n",
       " 'A27': [59.439335, -151.720805],\n",
       " 'A29': [57.052101135253906, -135.3459930419922],\n",
       " 'A40': [71.057926, -154.73912],\n",
       " 'A63': [59.07559967041, -160.27299499512],\n",
       " 'ABE': [40.651773, -75.442797],\n",
       " 'ABI': [32.4113006592, -99.68190002440001],\n",
       " 'ABL': [67.1, -157.81666666666666],\n",
       " 'ABQ': [35.040199, -106.609001],\n",
       " 'ABR': [45.449100494384766, -98.42179870605469],\n",
       " 'ABY': [31.532946, -84.196215],\n",
       " 'ACK': [41.25310135, -70.06020355],\n",
       " 'ACT': [31.611299514770508, -97.23049926757812],\n",
       " 'ACV': [40.978101, -124.109],\n",
       " 'ACY': [39.45759963989258, -74.57720184326172],\n",
       " 'ADK': [51.883564, -176.642783],\n",
       " 'ADQ': [57.75, -152.4940033],\n",
       " 'ADS': [32.9686012268, -96.8364028931],\n",
       " 'ADW': [38.810799, -76.866997],\n",
       " 'AET': [66.55, -152.65],\n",
       " 'AEX': [31.3274, -92.549797],\n",
       " 'AFK': [40.60689926, -95.86569977],\n",
       " 'AFW': [32.9875984192, -97.31880187990001],\n",
       " 'AGC': [40.354400634765625, -79.9301986694336],\n",
       " 'AGN': [57.497097, -134.56722],\n",
       " 'AGS': [33.36989974975586, -81.9645004272461],\n",
       " 'AHM': [42.1903, -122.6610031],\n",
       " 'AHN': [33.94860076904297, -83.32630157470703],\n",
       " 'AIA': [42.0531997681, -102.804000854],\n",
       " 'AIN': [70.63333333333334, -160.03333333333333],\n",
       " 'AK5': [60.25559997558594, -151.30299377441406],\n",
       " 'AK7': [64.1989974975586, -147.92799377441406],\n",
       " 'AKB': [52.2, -174.2],\n",
       " 'AKI': [60.9029006958, -161.231002808],\n",
       " 'AKK': [56.9387016296, -154.182998657],\n",
       " 'AKN': [58.677845, -156.651965],\n",
       " 'AKP': [68.13359833, -151.7429962],\n",
       " 'ALB': [42.74829864501953, -73.80169677734375],\n",
       " 'ALO': [42.557098388671875, -92.40029907226562],\n",
       " 'ALS': [37.434898, -105.866997],\n",
       " 'ALW': [46.09489822, -118.288002],\n",
       " 'ALZ': [56.8995018005, -154.248001099],\n",
       " 'AMA': [35.219398, -101.706001],\n",
       " 'ANB': [33.5882, -85.8581],\n",
       " 'ANC': [61.1744, -149.996002],\n",
       " 'AND': [34.4945983887, -82.70939636230001],\n",
       " 'ANI': [61.581600189208984, -159.54299926757812],\n",
       " 'ANP': [38.942902, -76.568398],\n",
       " 'ANV': [62.646702, -160.190994],\n",
       " 'AOO': [40.29639816, -78.31999969],\n",
       " 'AOS': [57.46666666666667, -153.83333333333334],\n",
       " 'APA': [39.57009888, -104.848999],\n",
       " 'APC': [38.2132, -122.280998],\n",
       " 'APF': [26.1525993347, -81.7752990723],\n",
       " 'APN': [45.0780983, -83.56030273],\n",
       " 'ARA': [30.0378, -91.883904],\n",
       " 'ARC': [68.1147, -145.578995],\n",
       " 'ART': [43.99190139770508, -76.02169799804688],\n",
       " 'ASE': [39.22320175, -106.8690033],\n",
       " 'ASH': [42.7817, -71.514801],\n",
       " 'ASN': [33.569900512699995, -86.05090332030001],\n",
       " 'ATK': [70.46704, -157.436013],\n",
       " 'ATL': [33.6367, -84.428101],\n",
       " 'ATS': [32.8525009155, -104.468002319],\n",
       " 'ATT': [61.0, -162.75],\n",
       " 'ATW': [44.258098602299995, -88.5190963745],\n",
       " 'ATY': [44.91400146, -97.15470123],\n",
       " 'AUG': [44.320598602299995, -69.7973022461],\n",
       " 'AUK': [62.680042266799994, -164.659927368],\n",
       " 'AUS': [30.197535, -97.662015],\n",
       " 'AVL': [35.436199, -82.541801],\n",
       " 'AVP': [41.338500976599995, -75.72339630130001],\n",
       " 'AXV': [40.49340057, -84.29889679],\n",
       " 'AZO': [42.234901428222656, -85.5521011352539],\n",
       " 'BAF': [42.157799, -72.715599],\n",
       " 'BBW': [41.4365005493, -99.6421966553],\n",
       " 'BCE': [37.706401825, -112.144996643],\n",
       " 'BDL': [41.9388999939, -72.68319702149999],\n",
       " 'BDR': [41.16350173950195, -73.1261978149414],\n",
       " 'BED': [42.47000122, -71.28900146],\n",
       " 'BEH': [42.128601074200006, -86.4284973145],\n",
       " 'BET': [60.77980042, -161.8379974],\n",
       " 'BFB': [58.18333333333333, -152.13333333333333],\n",
       " 'BFD': [41.8031005859375, -78.64009857177734],\n",
       " 'BFF': [41.87400055, -103.5960007],\n",
       " 'BFI': [47.529999, -122.302002],\n",
       " 'BFL': [35.433601, -119.056999],\n",
       " 'BFM': [30.626800537100003, -88.06809997559999],\n",
       " 'BFT': [32.416666666666664, -80.63333333333334],\n",
       " 'BGM': [42.20869827, -75.97979736],\n",
       " 'BGR': [44.80739974975586, -68.8281021118164],\n",
       " 'BHB': [44.45000076, -68.3615036],\n",
       " 'BHM': [33.56290054, -86.75350189],\n",
       " 'BID': [41.1680984497, -71.577796936],\n",
       " 'BIF': [31.84950066, -106.3799973],\n",
       " 'BIH': [37.3731002808, -118.363998413],\n",
       " 'BIL': [45.807701110839844, -108.54299926757812],\n",
       " 'BIS': [46.772701263427734, -100.74600219726562],\n",
       " 'BJC': [39.90879822, -105.1169968],\n",
       " 'BJI': [47.50939941, -94.93370056],\n",
       " 'BKC': [65.98333333333333, -161.16666666666666],\n",
       " 'BKG': [36.53194444444444, -93.20055555555555],\n",
       " 'BKL': [41.51750183105469, -81.68329620361328],\n",
       " 'BKW': [37.787300109899995, -81.1241989136],\n",
       " 'BLD': [35.947222222222216, -114.86027777777777],\n",
       " 'BLI': [48.79280090332031, -122.53800201416016],\n",
       " 'BLM': [40.18690109, -74.12490082],\n",
       " 'BLV': [38.5452, -89.835197],\n",
       " 'BMG': [39.145999908447266, -86.61669921875],\n",
       " 'BMI': [40.47710037, -88.91590118],\n",
       " 'BNA': [36.1245002746582, -86.6781997680664],\n",
       " 'BOI': [43.5644, -116.223],\n",
       " 'BOK': [42.0746, -124.290001],\n",
       " 'BOS': [42.3643, -71.005203],\n",
       " 'BPT': [29.9508, -94.020699],\n",
       " 'BQK': [31.258800506591797, -81.46649932861328],\n",
       " 'BRD': [46.39830017, -94.13809967],\n",
       " 'BRL': [40.783199310302734, -91.12550354003906],\n",
       " 'BRO': [25.90679931640625, -97.4259033203125],\n",
       " 'BRW': [71.285402, -156.766008],\n",
       " 'BTI': [70.134003, -143.582001],\n",
       " 'BTL': [42.307301, -85.251503],\n",
       " 'BTM': [45.95479965209961, -112.49700164794922],\n",
       " 'BTR': [30.533199, -91.149597],\n",
       " 'BTT': [66.91390228, -151.529007],\n",
       " 'BTV': [44.471900939899996, -73.15329742429999],\n",
       " 'BUF': [42.94049835, -78.73220062],\n",
       " 'BUR': [34.197703, -118.356378],\n",
       " 'BVO': [36.76250076, -96.01119995],\n",
       " 'BVU': [35.947498, -114.861],\n",
       " 'BVY': [42.584202, -70.916496],\n",
       " 'BWD': [31.793600082399998, -98.9564971924],\n",
       " 'BWG': [36.964500427199994, -86.41970062259999],\n",
       " 'BWI': [39.1754, -76.668297],\n",
       " 'BYA': [64.0783004761, -141.113006592],\n",
       " 'BZN': [45.77750015, -111.1529999],\n",
       " 'CAE': [33.93880081176758, -81.11949920654297],\n",
       " 'CAK': [40.916099548339844, -81.44219970703125],\n",
       " 'CCR': [37.9897003174, -122.056999207],\n",
       " 'CDB': [55.20610046386719, -162.72500610351562],\n",
       " 'CDC': [37.70100021362305, -113.0989990234375],\n",
       " 'CDL': [65.9, -161.91666666666666],\n",
       " 'CDR': [42.837600708, -103.095001221],\n",
       " 'CDV': [60.491798, -145.477997],\n",
       " 'CEC': [41.78020096, -124.2369995],\n",
       " 'CEF': [42.19400024, -72.53479767],\n",
       " 'CEM': [65.57379913, -144.7830048],\n",
       " 'CEU': [34.6719017, -82.8864975],\n",
       " 'CEZ': [37.3030014038, -108.627998352],\n",
       " 'CGA': [55.47880172729492, -133.1479949951172],\n",
       " 'CGI': [37.22529983520508, -89.57080078125],\n",
       " 'CHA': [35.035301, -85.203796],\n",
       " 'CHD': [33.2691, -111.810997],\n",
       " 'CHO': [38.13859939575195, -78.4529037475586],\n",
       " 'CHP': [65.485496521, -144.610992432],\n",
       " 'CHS': [32.898602, -80.040497],\n",
       " 'CHU': [43.59640121459961, -91.50389862060547],\n",
       " 'CIC': [39.79539871, -121.8580017],\n",
       " 'CID': [41.884701, -91.7108],\n",
       " 'CIK': [66.6449966431, -143.740005493],\n",
       " 'CIL': [64.9, -163.73333333333332],\n",
       " 'CIU': [46.25080108642578, -84.47239685058594],\n",
       " 'CKB': [39.2966003418, -80.2281036377],\n",
       " 'CKD': [61.86666666666667, -158.13333333333333],\n",
       " 'CKU': [60.5438995361, -145.727005005],\n",
       " 'CKV': [36.6218986511, -87.4150009155],\n",
       " 'CKX': [64.0712966919, -141.95199585],\n",
       " 'CLD': [33.11666666666667, -117.26666666666667],\n",
       " 'CLE': [41.4117012024, -81.8498001099],\n",
       " 'CLL': [30.58860016, -96.36380005],\n",
       " 'CLM': [48.120201110839844, -123.5],\n",
       " 'CLP': [58.83369827, -158.529007],\n",
       " 'CLT': [35.2140007019043, -80.94309997558594],\n",
       " 'CLU': [39.13333333333333, -85.93333333333334],\n",
       " 'CMH': [39.998001, -82.891899],\n",
       " 'CMI': [40.03919983, -88.27809906],\n",
       " 'CMX': [47.168399810791016, -88.48909759521484],\n",
       " 'CNM': [32.337501525878906, -104.26300048828125],\n",
       " 'CNO': [33.97470093, -117.637001],\n",
       " 'CNY': [38.75500107, -109.7549973],\n",
       " 'COD': [44.520198822, -109.024002075],\n",
       " 'COE': [47.77429962, -116.8199997],\n",
       " 'CON': [43.20270157, -71.50229645],\n",
       " 'COS': [38.805801, -104.700996],\n",
       " 'COU': [38.8181, -92.219597],\n",
       " 'CPR': [42.908001, -106.463997],\n",
       " 'CPS': [38.570701599100005, -90.1561965942],\n",
       " 'CRP': [27.77039909362793, -97.5011978149414],\n",
       " 'CRW': [38.37310028076172, -81.59320068359375],\n",
       " 'CSG': [32.516300201416016, -84.93890380859375],\n",
       " 'CVG': [39.048801, -84.667801],\n",
       " 'CVN': [34.4250984192, -103.07900238],\n",
       " 'CVO': [44.49720001, -123.2900009],\n",
       " 'CWA': [44.7775993347, -89.6668014526],\n",
       " 'CWF': [30.2105998993, -93.14320373540001],\n",
       " 'CXF': [67.25219726559999, -150.203994751],\n",
       " 'CYF': [60.2, -164.18333333333334],\n",
       " 'CYM': [57.5, -134.75],\n",
       " 'CYS': [41.15570068, -104.8119965],\n",
       " 'CZF': [61.78030014, -166.0390015],\n",
       " 'CZN': [62.0712013245, -142.04800415],\n",
       " 'DAB': [29.179899, -81.058098],\n",
       " 'DAL': [32.847099, -96.851799],\n",
       " 'DAY': [39.902400970458984, -84.21939849853516],\n",
       " 'DBQ': [42.402, -90.709503],\n",
       " 'DCA': [38.8521, -77.037697],\n",
       " 'DCK': [66.9432983398, -156.904998779],\n",
       " 'DCU': [34.652698516799994, -86.94539642330001],\n",
       " 'DDC': [37.76340103149414, -99.9655990600586],\n",
       " 'DEC': [39.834598541259766, -88.8656997680664],\n",
       " 'DEN': [39.861698150635, -104.672996521],\n",
       " 'DET': [42.40919876, -83.00990295],\n",
       " 'DFW': [32.896801, -97.038002],\n",
       " 'DGB': [58.083333333333336, -152.75],\n",
       " 'DHN': [31.321300506591797, -85.44960021972656],\n",
       " 'DIK': [46.7974014282, -102.802001953],\n",
       " 'DIO': [65.75, -168.95],\n",
       " 'DJN': [64.03333333333333, -145.68333333333334],\n",
       " 'DLG': [59.04470062, -158.5050049],\n",
       " 'DLH': [46.8420982361, -92.19360351559999],\n",
       " 'DLS': [45.620979, -121.170777],\n",
       " 'DMA': [32.1665000916, -110.883003235],\n",
       " 'DOF': [55.212500000000006, -132.26666666666668],\n",
       " 'DOV': [39.12950134, -75.46600342],\n",
       " 'DPA': [41.90779877, -88.24859619],\n",
       " 'DQH': [31.4767, -82.860497],\n",
       " 'DRF': [60.583333333333336, -152.15],\n",
       " 'DRG': [66.08333333333333, -162.76666666666668],\n",
       " 'DRO': [37.1515007019, -107.753997803],\n",
       " 'DRT': [29.3742008209, -100.927001953],\n",
       " 'DSM': [41.534, -93.663101],\n",
       " 'DTO': [33.2006988525, -97.19799804690001],\n",
       " 'DTW': [42.212398529052734, -83.35340118408203],\n",
       " 'DUJ': [41.17829895, -78.8986969],\n",
       " 'DUT': [53.89881, -166.544996],\n",
       " 'DVL': [48.11420059, -98.90879822],\n",
       " 'DVN': [41.61029816, -90.58830261],\n",
       " 'DVT': [33.6883010864, -112.083000183],\n",
       " 'DWA': [38.57910156, -121.8570023],\n",
       " 'DXR': [41.371498107899995, -73.48220062259999],\n",
       " 'EAA': [64.77639771, -141.151001],\n",
       " 'EAR': [40.72700119, -99.00679779],\n",
       " 'EAT': [47.3988990784, -120.207000732],\n",
       " 'EAU': [44.86579895019531, -91.48429870605469],\n",
       " 'ECP': [30.357106, -85.795414],\n",
       " 'EDA': [55.95, -133.66666666666666],\n",
       " 'EDE': [36.027698516799994, -76.56710052490001],\n",
       " 'EDF': [61.250999450683594, -149.8070068359375],\n",
       " 'EDW': [34.905399, -117.884003],\n",
       " 'EEK': [60.21367264, -162.0438843],\n",
       " 'EFD': [29.607299804700002, -95.1587982178],\n",
       " 'EGE': [39.64260101, -106.9179993],\n",
       " 'EGX': [58.21666666666667, -157.36666666666667],\n",
       " 'EHM': [58.646400451699996, -162.06300354],\n",
       " 'EIL': [64.66570282, -147.102005],\n",
       " 'EKA': [40.803398132299996, -124.112998962],\n",
       " 'EKO': [40.82490158081055, -115.79199981689453],\n",
       " 'EKX': [37.686001, -85.925003],\n",
       " 'ELD': [33.22100067138672, -92.81330108642578],\n",
       " 'ELI': [64.61470032, -162.2720032],\n",
       " 'ELM': [42.1599006652832, -76.8916015625],\n",
       " 'ELP': [31.80719948, -106.3779984],\n",
       " 'ELV': [58.195201873799995, -136.347000122],\n",
       " 'ELY': [39.29970169, -114.8420029],\n",
       " 'EMK': [62.766666666666666, -164.5],\n",
       " 'ENA': [60.57310104370117, -151.2449951171875],\n",
       " 'ENN': [64.54730224609375, -149.07400512695312],\n",
       " 'ENV': [40.7187004089, -114.03099823],\n",
       " 'EOK': [40.459899902299995, -91.4284973145],\n",
       " 'EPH': [47.30759811, -119.5159988],\n",
       " 'ERI': [42.0831270134, -80.1738667488],\n",
       " 'ESC': [45.7226982117, -87.0936965942],\n",
       " 'ESD': [48.71666666666667, -122.81666666666666],\n",
       " 'EUG': [44.12459945678711, -123.21199798583984],\n",
       " 'EVV': [38.0369987488, -87.5324020386],\n",
       " 'EWB': [41.67610168457031, -70.95690155029297],\n",
       " 'EWN': [35.0730018616, -77.04290008539999],\n",
       " 'EWR': [40.692501, -74.168701],\n",
       " 'EXI': [58.420502, -135.449005],\n",
       " 'EYW': [24.556101, -81.759598],\n",
       " 'FAI': [64.81510162, -147.8560028],\n",
       " 'FAR': [46.92070007324219, -96.81580352783203],\n",
       " 'FAT': [36.776199, -119.718002],\n",
       " 'FAY': [34.991199, -78.880302],\n",
       " 'FBK': [64.83750153, -147.6139984],\n",
       " 'FCA': [48.31666666666667, -114.26666666666667],\n",
       " 'FDY': [41.013500213600004, -83.66870117190001],\n",
       " 'FHU': [31.587383, -110.348225],\n",
       " 'FID': [41.266666666666666, -72.03333333333333],\n",
       " 'FKL': [41.3778991699, -79.8603973389],\n",
       " 'FLG': [35.1385, -111.670998],\n",
       " 'FLL': [26.072599, -80.152702],\n",
       " 'FLO': [34.18539810180664, -79.7238998413086],\n",
       " 'FLT': [62.452598571799996, -157.988998413],\n",
       " 'FMN': [36.741199493399996, -108.230003357],\n",
       " 'FNL': [40.448763, -105.011244],\n",
       " 'FNR': [58.2543983459, -134.897994995],\n",
       " 'FNT': [42.96540069580078, -83.74359893798828],\n",
       " 'FOD': [42.55149841, -94.19259644],\n",
       " 'FOE': [38.950901, -95.663597],\n",
       " 'FOK': [40.8437004089, -72.6317977905],\n",
       " 'FRD': [48.52194444444444, -123.02444444444444],\n",
       " 'FRG': [40.7288017273, -73.4133987427],\n",
       " 'FRY': [44.016666666666666, -70.98333333333333],\n",
       " 'FSD': [43.585463, -96.741152],\n",
       " 'FSM': [35.33660125732422, -94.36740112304688],\n",
       " 'FTW': [32.819801, -97.362396],\n",
       " 'FWA': [40.97850037, -85.19509888],\n",
       " 'FWL': [62.516666666666666, -153.9],\n",
       " 'FWS': [32.56520080566406, -97.30809783935547],\n",
       " 'FXE': [26.1972999573, -80.1707000732],\n",
       " 'FYU': [66.57150268554688, -145.25],\n",
       " 'FYV': [36.00510025024414, -94.17009735107422],\n",
       " 'GAI': [39.168300628699996, -77.1660003662],\n",
       " 'GAL': [64.73619843, -156.9369965],\n",
       " 'GAM': [63.76679992675781, -171.73300170898438],\n",
       " 'GBD': [38.3442993164, -98.8591995239],\n",
       " 'GBH': [68.4796981812, -149.490005493],\n",
       " 'GCC': [44.348899841299996, -105.539001465],\n",
       " 'GCK': [37.9275016785, -100.723999023],\n",
       " 'GCN': [35.95240020751953, -112.14700317382812],\n",
       " 'GCY': [36.193001, -82.815102],\n",
       " 'GDV': [47.13869858, -104.8069992],\n",
       " 'GED': [38.689201, -75.358902],\n",
       " 'GEG': [47.61989974975586, -117.53399658203125],\n",
       " 'GEK': [62.983333333333334, -156.5],\n",
       " 'GFK': [47.949299, -97.176102],\n",
       " 'GFL': [43.3412017822, -73.6102981567],\n",
       " 'GGG': [32.38399887084961, -94.71150207519531],\n",
       " 'GGW': [48.212502, -106.614998],\n",
       " 'GJT': [39.1223983765, -108.527000427],\n",
       " 'GKN': [62.1548996, -145.4570007],\n",
       " 'GLD': [39.37060165, -101.6989975],\n",
       " 'GLH': [33.4828987121582, -90.98560333251953],\n",
       " 'GLR': [45.013500213600004, -84.7035980225],\n",
       " 'GLV': [64.5504989624, -163.007003784],\n",
       " 'GMT': [65.4, -161.28333333333333],\n",
       " 'GNU': [59.117401123, -161.57699585],\n",
       " 'GNV': [29.6900997162, -82.2717971802],\n",
       " 'GON': [41.330101013183594, -72.04509735107422],\n",
       " 'GPT': [30.40730094909668, -89.07009887695312],\n",
       " 'GRB': [44.48509979248047, -88.12960052490234],\n",
       " 'GRI': [40.967498779296875, -98.30960083007812],\n",
       " 'GRK': [31.0672, -97.828903],\n",
       " 'GRR': [42.88079834, -85.52279663],\n",
       " 'GSH': [41.526401519800004, -85.79290008539999],\n",
       " 'GSO': [36.097801208496094, -79.93730163574219],\n",
       " 'GSP': [34.895699, -82.218903],\n",
       " 'GST': [58.4253006, -135.7070007],\n",
       " 'GTF': [47.48199844, -111.3710022],\n",
       " 'GTR': [33.450298309299995, -88.5914001465],\n",
       " 'GUC': [38.53390121, -106.9329987],\n",
       " 'GUP': [35.511100769, -108.789001465],\n",
       " 'GUS': [40.648101806599996, -86.1520996094],\n",
       " 'GYY': [41.61629867553711, -87.41280364990234],\n",
       " 'HAO': [39.363800048799995, -84.5220031738],\n",
       " 'HAR': [40.215833333333336, -76.85194444444444],\n",
       " 'HBH': [57.40833333333333, -133.46666666666667],\n",
       " 'HCR': [40.4818, -111.429001],\n",
       " 'HDN': [40.48120117, -107.2180023],\n",
       " 'HES': [38.6534996033, -122.899002075],\n",
       " 'HEZ': [31.613738, -91.297313],\n",
       " 'HFD': [41.736698150635, -72.649398803711],\n",
       " 'HGR': [39.707901, -77.72949982],\n",
       " 'HGZ': [66.18333333333334, -155.66666666666666],\n",
       " 'HHH': [32.224444444444444, -80.6975],\n",
       " 'HIB': [47.38660049, -92.83899689],\n",
       " 'HII': [34.571098, -114.358002],\n",
       " 'HIO': [45.540401, -122.949997],\n",
       " 'HKB': [63.86666666666667, -148.96666666666667],\n",
       " 'HKS': [32.33449936, -90.22219849],\n",
       " 'HKY': [35.74110031, -81.38950348],\n",
       " 'HLI': [36.85, -121.4],\n",
       " 'HLN': [46.6068000793457, -111.98300170898438],\n",
       " 'HNH': [58.0961, -135.410111],\n",
       " 'HNL': [21.32062, -157.924228],\n",
       " 'HNM': [20.79560089111328, -156.01400756835938],\n",
       " 'HNS': [59.24380111694336, -135.5240020751953],\n",
       " 'HOB': [32.6875, -103.2170029],\n",
       " 'HOM': [59.645599365234375, -151.4770050048828],\n",
       " 'HON': [44.38520050048828, -98.22850036621094],\n",
       " 'HOP': [36.668598175, -87.49620056150002],\n",
       " 'HOT': [34.47800064086914, -93.09619903564453],\n",
       " 'HOU': [29.64539909, -95.27890015],\n",
       " 'HPB': [61.52389908, -166.1470032],\n",
       " 'HPN': [41.06700134277344, -73.70760345458984],\n",
       " 'HRL': [26.228500366210938, -97.65440368652344],\n",
       " 'HRO': [36.26150131225586, -93.15470123291016],\n",
       " 'HSH': [35.968333333333334, -115.11916666666666],\n",
       " 'HSL': [65.7, -156.41666666666666],\n",
       " 'HSV': [34.637199401855, -86.775100708008],\n",
       " 'HTO': [40.95959854, -72.25180054],\n",
       " 'HTS': [38.36669922, -82.55799866],\n",
       " 'HUF': [39.4515, -87.307602],\n",
       " 'HUM': [29.5664997101, -90.6604003906],\n",
       " 'HUS': [66.04109955, -154.2630005],\n",
       " 'HVC': [36.856998443603516, -87.4551010131836],\n",
       " 'HVN': [41.26369858, -72.88680267],\n",
       " 'HVR': [48.54299927, -109.762001],\n",
       " 'HYA': [41.66930008, -70.28040314],\n",
       " 'HYG': [55.206298828125, -132.8280029296875],\n",
       " 'HYL': [55.4816017151, -132.645996094],\n",
       " 'HYS': [38.84220123, -99.27320099],\n",
       " 'IAB': [37.62189865, -97.26820374],\n",
       " 'IAD': [38.9445, -77.455803],\n",
       " 'IAG': [43.1073, -78.946198],\n",
       " 'IAH': [29.984399795532227, -95.34140014648438],\n",
       " 'IAN': [66.9759979248, -160.43699646],\n",
       " 'ICT': [37.649899, -97.433098],\n",
       " 'IDA': [43.514599, -112.070999],\n",
       " 'IFP': [35.15739822, -114.5599976],\n",
       " 'IGG': [59.32400131225586, -155.90199279785156],\n",
       " 'IGM': [35.259498596191406, -113.93800354003906],\n",
       " 'IJX': [39.774600982666016, -90.23829650878906],\n",
       " 'IKO': [52.94160079956055, -168.8489990234375],\n",
       " 'IKV': [41.69139862060547, -93.56639862060547],\n",
       " 'ILG': [39.67869949, -75.60649872],\n",
       " 'ILI': [59.75439835, -154.9109955],\n",
       " 'ILM': [34.270599365234375, -77.90260314941406],\n",
       " 'ILN': [39.427898407, -83.792098999],\n",
       " 'IMT': [45.8184013367, -88.1145019531],\n",
       " 'IN2': [41.729858, -85.032575],\n",
       " 'IND': [39.7173, -86.294403],\n",
       " 'INL': [48.566200256347656, -93.4030990600586],\n",
       " 'INT': [36.13370132446289, -80.22200012207031],\n",
       " 'IPL': [32.834201812699995, -115.57900238],\n",
       " 'IPT': [41.241798400878906, -76.92109680175781],\n",
       " 'IRC': [65.83333333333333, -144.08333333333334],\n",
       " 'IRK': [40.09349822998047, -92.5448989868164],\n",
       " 'ISM': [28.2898006439, -81.4371032715],\n",
       " 'ISN': [48.177898, -103.641998],\n",
       " 'ISO': [35.331401825, -77.60880279540001],\n",
       " 'ISP': [40.79520035, -73.10019684],\n",
       " 'ISS': [43.96944444444445, -69.71666666666667],\n",
       " 'ITH': [42.49100112915039, -76.4583969116211],\n",
       " 'ITO': [19.721399307250977, -155.04800415039062],\n",
       " 'IWD': [46.527500152600005, -90.131401062],\n",
       " 'IYK': [35.65879822, -117.8300018],\n",
       " 'JAC': [43.6072998046875, -110.73799896240234],\n",
       " 'JAN': [32.3111991882, -90.0758972168],\n",
       " 'JAX': [30.49410057067871, -81.68789672851562],\n",
       " 'JBR': [35.83169937133789, -90.64640045166016],\n",
       " 'JFK': [40.639801, -73.7789],\n",
       " 'JHM': [20.962900161743164, -156.67300415039062],\n",
       " 'JHW': [42.15340042, -79.25800323],\n",
       " 'JLN': [37.151798248291016, -94.49829864501953],\n",
       " 'JMS': [46.92969894, -98.67819977],\n",
       " 'JNU': [58.35499954223633, -134.5760040283203],\n",
       " 'JQF': [35.387798, -80.709099],\n",
       " 'JST': [40.31610107421875, -78.83390045166016],\n",
       " 'JVL': [42.620300293, -89.0416030884],\n",
       " 'KAE': [56.973, -133.945999],\n",
       " 'KAL': [64.31909943, -158.7409973],\n",
       " 'KBC': [66.26666666666667, -145.8],\n",
       " 'KCC': [56.003200531, -132.841995239],\n",
       " 'KCG': [56.3, -158.4],\n",
       " 'KCL': [56.31119919, -158.5359955],\n",
       " 'KCQ': [56.26111111111111, -158.7777777777778],\n",
       " 'KCR': [63.5676994324, -155.988998413],\n",
       " 'KEB': [59.3521003723, -151.925003052],\n",
       " 'KEH': [47.73833333333334, -122.26805555555555],\n",
       " 'KEK': [59.3568000793457, -157.4709930419922],\n",
       " 'KFP': [54.8474006652832, -163.41000366210938],\n",
       " 'KGK': [59.78333333333333, -157.33333333333334],\n",
       " 'KGX': [62.895187, -160.066289],\n",
       " 'KKA': [64.9394989014, -161.154006958],\n",
       " 'KKB': [58.1908988953, -152.369995117],\n",
       " 'KKH': [59.96666666666667, -162.75],\n",
       " 'KKI': [60.9079017639, -161.434997559],\n",
       " 'KLG': [61.53630065917969, -160.34100341796875],\n",
       " 'KLL': [59.11666666666667, -156.88333333333333],\n",
       " 'KLN': [57.53333333333333, -154.0],\n",
       " 'KLW': [55.55, -133.1],\n",
       " 'KMO': [58.96666666666667, -159.05],\n",
       " 'KMY': [57.0256, -154.145996],\n",
       " 'KNK': [59.43333333333333, -154.85],\n",
       " 'KNW': [59.4499015808, -157.32800293],\n",
       " 'KOA': [19.738783, -156.045603],\n",
       " 'KOT': [63.03333333333333, -163.53333333333333],\n",
       " 'KOY': [57.161499023400005, -154.229995728],\n",
       " 'KOZ': [57.916666666666664, -152.48333333333332],\n",
       " 'KPB': [56.3518981934, -133.623001099],\n",
       " 'KPC': [65.2537002563, -166.85899353],\n",
       " 'KPN': [59.93333333333333, -164.03333333333333],\n",
       " 'KPR': [58.4901008606, -152.582000732],\n",
       " 'KPV': [55.9, -159.13333333333333],\n",
       " 'KPY': [57.930099487300005, -153.041000366],\n",
       " 'KQA': [54.13377, -165.778896],\n",
       " 'KSM': [62.0605011, -163.302002],\n",
       " 'KTB': [55.687999725299996, -132.537002563],\n",
       " 'KTN': [55.35559845, -131.7140045],\n",
       " 'KTS': [65.3312988281, -166.466003418],\n",
       " 'KUK': [60.86666666666667, -162.53333333333333],\n",
       " 'KVC': [55.11629867553711, -162.26600646972656],\n",
       " 'KVL': [67.73619842529297, -164.56300354003906],\n",
       " 'KWF': [55.296298980699994, -133.242996216],\n",
       " 'KWK': [59.8367, -163.139999],\n",
       " 'KWN': [59.75, -161.91666666666666],\n",
       " 'KWP': [57.770099639899996, -153.548995972],\n",
       " 'KWT': [60.790298461899994, -161.444000244],\n",
       " 'KXA': [55.537399292, -132.397994995],\n",
       " 'KYK': [57.5671005249, -154.449996948],\n",
       " 'KYU': [64.8760986328, -157.727005005],\n",
       " 'KZB': [57.553001, -153.746052],\n",
       " 'L41': [36.8125, -111.64700317382812],\n",
       " 'LAF': [40.41230010986328, -86.93689727783203],\n",
       " 'LAL': [27.988899, -82.018602],\n",
       " 'LAM': [35.8797988892, -106.268997192],\n",
       " 'LAN': [42.77870178222656, -84.58740234375],\n",
       " 'LAR': [41.31209945678711, -105.67500305175781],\n",
       " 'LAS': [36.08010101, -115.1520004],\n",
       " 'LAW': [34.5676994324, -98.4166030884],\n",
       " 'LAX': [33.942501, -118.407997],\n",
       " 'LBB': [33.663601, -101.822998],\n",
       " 'LBE': [40.27590179, -79.40480042],\n",
       " 'LBF': [41.12620163, -100.6839981],\n",
       " 'LBL': [37.0442009, -100.9599991],\n",
       " 'LCH': [30.126100540161133, -93.22329711914062],\n",
       " 'LCI': [43.572701, -71.4189],\n",
       " 'LCK': [39.813801, -82.927803],\n",
       " 'LEB': [43.626098632799994, -72.30419921880001],\n",
       " 'LEW': [44.048500061, -70.2835006714],\n",
       " 'LEX': [38.0364990234375, -84.60590362548828],\n",
       " 'LFI': [37.082901001, -76.360496521],\n",
       " 'LFT': [30.20529938, -91.98760223],\n",
       " 'LGA': [40.777199, -73.872597],\n",
       " 'LGB': [33.817699, -118.152],\n",
       " 'LGC': [33.008873, -85.074331],\n",
       " 'LGD': [45.2901992798, -118.007003784],\n",
       " 'LGU': [41.7911987305, -111.851997375],\n",
       " 'LIH': [21.97599983215332, -159.33900451660156],\n",
       " 'LIJ': [54.9, -132.75],\n",
       " 'LIT': [34.729582, -92.223728],\n",
       " 'LIV': [65.4725, -148.66916666666665],\n",
       " 'LKE': [47.62888888888889, -122.3386111111111],\n",
       " 'LKK': [58.9821014404, -155.121002197],\n",
       " 'LKP': [44.2644996643, -73.96189880370001],\n",
       " 'LKV': [42.161098480199996, -120.399002075],\n",
       " 'LMA': [63.88333333333333, -152.31666666666666],\n",
       " 'LMT': [42.156101, -121.733002],\n",
       " 'LNI': [70.91666666666667, -153.25],\n",
       " 'LNK': [40.85100173950195, -96.75920104980469],\n",
       " 'LNS': [40.121700286865234, -76.29609680175781],\n",
       " 'LNY': [20.785600662231445, -156.9510040283203],\n",
       " 'LPR': [41.34429932, -82.17759705],\n",
       " 'LPS': [48.483333333333334, -122.93611111111112],\n",
       " 'LRD': [27.543800354003906, -99.46160125732422],\n",
       " 'LSE': [43.879002, -91.256699],\n",
       " 'LSV': [36.2361984253, -115.033996582],\n",
       " 'LUK': [39.10329819, -84.41860199],\n",
       " 'LUP': [21.21100044, -156.973999],\n",
       " 'LUR': [68.87509918, -166.1100006],\n",
       " 'LVD': [61.35, -155.46666666666667],\n",
       " 'LVK': [37.6934013367, -121.819999695],\n",
       " 'LWB': [37.8582992554, -80.3994979858],\n",
       " 'LWC': [39.01119995, -95.21659851],\n",
       " 'LWM': [42.717201232899995, -71.1233978271],\n",
       " 'LWS': [46.3745002746582, -117.01499938964844],\n",
       " 'LWT': [47.04930114746094, -109.46700286865234],\n",
       " 'LYH': [37.326698303222656, -79.20040130615234],\n",
       " 'LZU': [33.97809982, -83.96240234],\n",
       " 'MAF': [31.9424991607666, -102.2020034790039],\n",
       " 'MBS': [43.532901763916016, -84.07959747314453],\n",
       " 'MCE': [37.28469849, -120.5139999],\n",
       " 'MCG': [62.95289993, -155.6060028],\n",
       " 'MCI': [39.2976, -94.713898],\n",
       " 'MCK': [40.20629883, -100.5920029],\n",
       " 'MCN': [32.69279861450195, -83.64920043945312],\n",
       " 'MCO': [28.429399490356445, -81.30899810791016],\n",
       " 'MCW': [43.157798767100005, -93.3312988281],\n",
       " 'MDH': [37.778099060058594, -89.25199890136719],\n",
       " 'MDO': [59.4499015808, -146.307006836],\n",
       " 'MDR': [63.1, -154.71666666666667],\n",
       " 'MDT': [40.1935005188, -76.7633972168],\n",
       " 'MDW': [41.785999, -87.752403],\n",
       " 'ME3': [46.39580154418945, -69.00499725341797],\n",
       " 'MEI': [32.3326, -88.7519],\n",
       " 'MEM': [35.04240036010742, -89.97669982910156],\n",
       " 'MEO': [35.91111111111111, -75.7],\n",
       " 'MFD': [40.82139968869999, -82.5166015625],\n",
       " 'MFE': [26.176141, -98.237965],\n",
       " 'MFI': [44.6369018555, -90.18930053710001],\n",
       " 'MFR': [42.37419891357422, -122.87300109863281],\n",
       " 'MGM': [32.30059814, -86.39399719],\n",
       " 'MGW': [39.64289856, -79.91629791],\n",
       " 'MHK': [39.14099884033203, -96.6707992553711],\n",
       " 'MHM': [63.886002, -152.302002],\n",
       " 'MHR': [38.553902, -121.297997],\n",
       " 'MHT': [42.932598, -71.435699],\n",
       " 'MIA': [25.79319953918457, -80.29060363769531],\n",
       " 'MIE': [40.2422981262207, -85.3958969116211],\n",
       " 'MJX': [39.92750168, -74.29239655],\n",
       " 'MKC': [39.123199462890625, -94.5927963256836],\n",
       " 'MKE': [42.947200775146484, -87.89659881591797],\n",
       " 'MKG': [43.169498, -86.238197],\n",
       " 'MKK': [21.15290069580078, -157.0959930419922],\n",
       " 'MKL': [35.599899, -88.915604],\n",
       " 'MLB': [28.1028, -80.645302],\n",
       " 'MLI': [41.44850158691406, -90.50749969482422],\n",
       " 'MLL': [61.88333333333333, -162.06666666666666],\n",
       " 'MLS': [46.428001403808594, -105.88600158691406],\n",
       " 'MLU': [32.51089859008789, -92.0376968383789],\n",
       " 'MLY': [64.99759674069999, -150.643997192],\n",
       " 'MMH': [37.62409973, -118.8379974],\n",
       " 'MMU': [40.799400329589844, -74.41490173339844],\n",
       " 'MNT': [64.9, -149.16666666666666],\n",
       " 'MNZ': [31.6658992767334, -98.14859771728516],\n",
       " 'MOB': [30.691200256348, -88.242797851562],\n",
       " 'MOD': [37.625801, -120.954002],\n",
       " 'MOP': [43.621700286865234, -84.73750305175781],\n",
       " 'MOS': [64.694116, -162.060699],\n",
       " 'MOT': [48.2593994140625, -101.27999877929688],\n",
       " 'MOU': [62.095401763916016, -163.6820068359375],\n",
       " 'MQT': [46.53333333333333, -87.56666666666666],\n",
       " 'MQY': [36.0089988708, -86.5201034546],\n",
       " 'MRB': [39.40190125, -77.98459625],\n",
       " 'MRC': [35.5541000366, -87.17890167239999],\n",
       " 'MRI': [61.2135009765625, -149.843994140625],\n",
       " 'MRY': [36.58700180053711, -121.84300231933594],\n",
       " 'MSL': [34.74530029, -87.61019897],\n",
       " 'MSN': [43.1399, -89.337502],\n",
       " 'MSO': [46.91630173, -114.0910034],\n",
       " 'MSP': [44.882, -93.221802],\n",
       " 'MSS': [44.93579864501953, -74.84559631347656],\n",
       " 'MSY': [29.99340057373047, -90.25800323486328],\n",
       " 'MTH': [24.726101, -81.051399],\n",
       " 'MTJ': [38.509799957300004, -107.893997192],\n",
       " 'MTM': [55.131001, -131.578003],\n",
       " 'MTO': [39.477901, -88.279198],\n",
       " 'MTP': [41.0765, -71.920797],\n",
       " 'MUE': [20.001301, -155.667999],\n",
       " 'MVL': [44.53459930419999, -72.6139984131],\n",
       " 'MVM': [44.70309829711914, -67.47859954833984],\n",
       " 'MVN': [38.322774, -88.859257],\n",
       " 'MVW': [48.416666666666664, -122.33333333333333],\n",
       " 'MVY': [41.3931007385, -70.6143035889],\n",
       " 'MWA': [37.751208, -89.016568],\n",
       " 'MWH': [47.20769882, -119.3199997],\n",
       " 'MXY': [61.416666666666664, -142.91666666666666],\n",
       " 'MYK': [61.3357009888, -142.68699646],\n",
       " 'MYR': [33.6796989441, -78.9282989502],\n",
       " 'MYU': [60.37139892578125, -166.27099609375],\n",
       " 'MZJ': [32.5106010437, -111.32800293],\n",
       " 'NCN': [60.00111111111111, -148.00833333333333],\n",
       " 'NEW': [30.042400360107, -90.028297424316],\n",
       " 'NGU': [36.937599, -76.289299],\n",
       " 'NHZ': [43.89222222222222, -69.9388888888889],\n",
       " 'NIB': [63.016666666666666, -154.38333333333333],\n",
       " 'NIN': [60.020198822021484, -151.58900451660156],\n",
       " 'NJK': [32.829201, -115.671996],\n",
       " 'NKI': [55.855555555555554, -133.18333333333334],\n",
       " 'NKT': [34.90090179, -76.88069916],\n",
       " 'NKX': [32.86840057, -117.1429977],\n",
       " 'NLG': [56.016666666666666, -161.15],\n",
       " 'NME': [60.483333333333334, -164.0],\n",
       " 'NNK': [58.75, -156.53333333333333],\n",
       " 'NNL': [60.0, -154.81666666666666],\n",
       " 'NPT': [41.6, -71.41666666666667],\n",
       " 'NTD': [34.120300293, -119.121002197],\n",
       " 'NUI': [38.145999908447266, -76.42859649658203],\n",
       " 'NUL': [64.729301, -158.074005],\n",
       " 'NUP': [60.88333333333333, -162.46666666666667],\n",
       " 'NUQ': [37.4161, -122.049004],\n",
       " 'NUW': [48.351799, -122.655998],\n",
       " 'NY1': [42.350101470947266, -73.63710021972656],\n",
       " 'NYL': [32.656601, -114.606003],\n",
       " 'NZY': [32.69919968, -117.2149963],\n",
       " 'OAJ': [34.829201, -77.612099],\n",
       " 'OAK': [37.721298, -122.221001],\n",
       " 'OBU': [66.9123001099, -156.897003174],\n",
       " 'OCF': [29.17259979, -82.22419739],\n",
       " 'ODW': [48.28333333333333, -122.61666666666666],\n",
       " 'OGD': [41.195899963379, -112.0120010376],\n",
       " 'OGG': [20.8986, -156.429993],\n",
       " 'OGS': [44.6819000244, -75.46549987790002],\n",
       " 'OHC': [63.31666666666667, -168.96666666666667],\n",
       " 'OKC': [35.39310073852539, -97.60070037841797],\n",
       " 'OKK': [40.528198242188, -86.05899810791],\n",
       " 'OLF': [48.094501495399996, -105.574996948],\n",
       " 'OLH': [57.2, -153.31666666666666],\n",
       " 'OLM': [46.9693985, -122.9029999],\n",
       " 'OLS': [31.4177, -110.848],\n",
       " 'OLU': [41.44800186, -97.34259796],\n",
       " 'OLV': [34.9786987305, -89.78690338130001],\n",
       " 'OMA': [41.3032, -95.894096],\n",
       " 'OME': [64.51219940185547, -165.44500732421875],\n",
       " 'ONP': [44.580399, -124.057999],\n",
       " 'ONT': [34.055999755859375, -117.60099792480469],\n",
       " 'OOK': [60.54140091, -165.0870056],\n",
       " 'OPF': [25.907, -80.278397],\n",
       " 'ORD': [41.9786, -87.9048],\n",
       " 'ORF': [36.89459991455078, -76.20120239257812],\n",
       " 'ORH': [42.2673, -71.875702],\n",
       " 'ORI': [57.885399, -152.845993],\n",
       " 'ORL': [28.5455, -81.332901],\n",
       " 'ORT': [62.9612999, -141.9290009],\n",
       " 'ORV': [66.83333333333333, -161.03333333333333],\n",
       " 'OSC': [44.451599, -83.394096],\n",
       " 'OTH': [43.41709899902344, -124.24600219726562],\n",
       " 'OTM': [41.10660172, -92.44789886],\n",
       " 'OTS': [48.5, -122.61666666666666],\n",
       " 'OTZ': [66.88469696, -162.598999],\n",
       " 'OWB': [37.74010086, -87.16680145],\n",
       " 'OWD': [42.1904983521, -71.1728973389],\n",
       " 'OXC': [41.47859954834, -73.135200500488],\n",
       " 'OXR': [34.200801849365, -119.20700073242],\n",
       " 'PAE': [47.9063, -122.281998],\n",
       " 'PAH': [37.06079864501953, -88.7738037109375],\n",
       " 'PAQ': [61.594898, -149.08901],\n",
       " 'PBF': [34.1731, -91.9356],\n",
       " 'PBG': [44.650901794433594, -73.46810150146484],\n",
       " 'PBI': [26.68320083618164, -80.09559631347656],\n",
       " 'PBK': [57.8, -134.4],\n",
       " 'PCA': [32.6627893853, -111.487970352],\n",
       " 'PCT': [40.35, -74.66666666666667],\n",
       " 'PDB': [59.78333333333333, -154.11666666666667],\n",
       " 'PDK': [33.8755989075, -84.3020019531],\n",
       " 'PDT': [45.695098877, -118.841003418],\n",
       " 'PDX': [45.58869934, -122.5979996],\n",
       " 'PEC': [57.955200195312, -136.23599243164],\n",
       " 'PGA': [36.92610168, -111.447998],\n",
       " 'PGC': [39.0, -79.11666666666666],\n",
       " 'PGD': [26.92020035, -81.9905014],\n",
       " 'PGM': [59.348300933838, -151.83200073242],\n",
       " 'PGV': [35.6352005, -77.38529968],\n",
       " 'PHF': [37.13190079, -76.49299622],\n",
       " 'PHL': [39.87189865112305, -75.24109649658203],\n",
       " 'PHO': [68.34880065917969, -166.7989959716797],\n",
       " 'PHX': [33.435302, -112.005905],\n",
       " 'PIA': [40.664199829100006, -89.6932983398],\n",
       " 'PIB': [31.467100143432617, -89.33709716796875],\n",
       " 'PIE': [27.91020012, -82.68740082],\n",
       " 'PIH': [42.9098014831543, -112.59600067138672],\n",
       " 'PIP': [57.58027777777778, -157.57194444444445],\n",
       " 'PIR': [44.38270187, -100.2860031],\n",
       " 'PIT': [40.49150085, -80.23290253],\n",
       " 'PIZ': [69.73290253, -163.0050049],\n",
       " 'PKA': [60.70289993, -161.7779999],\n",
       " 'PKB': [39.34510040283203, -81.43920135498047],\n",
       " 'PLN': [45.57089996, -84.79669952],\n",
       " 'PML': [55.983333333333334, -160.53333333333333],\n",
       " 'PNE': [40.081902, -75.010597],\n",
       " 'PNS': [30.4734, -87.1866],\n",
       " 'POB': [35.1708984375, -79.014503479004],\n",
       " 'POU': [41.6265983581543, -73.88420104980469],\n",
       " 'PPC': [66.814102172852, -150.64399719238],\n",
       " 'PPV': [56.333333333333336, -133.66666666666666],\n",
       " 'PQI': [46.688999, -68.0448],\n",
       " 'PQS': [61.93333333333333, -162.88333333333333],\n",
       " 'PRB': [35.67290115, -120.6269989],\n",
       " 'PRC': [34.654499, -112.419998],\n",
       " 'PSC': [46.26470184326172, -119.11900329589844],\n",
       " 'PSF': [42.4268, -73.2929],\n",
       " 'PSG': [56.80170059, -132.9450073],\n",
       " 'PSK': [37.137298583984, -80.678497314453],\n",
       " 'PSM': [43.0778999329, -70.8233032227],\n",
       " 'PSP': [33.8297, -116.507004],\n",
       " 'PTA': [60.2, -154.33333333333334],\n",
       " 'PTD': [44.67670059, -74.9484024],\n",
       " 'PTH': [56.959359, -158.62106],\n",
       " 'PTK': [42.665500640869, -83.420097351074],\n",
       " 'PTU': [59.01139831542969, -161.82000732421875],\n",
       " 'PUB': [38.289101, -104.497002],\n",
       " 'PUO': [70.2519, -148.343],\n",
       " 'PUW': [46.7439, -117.110001],\n",
       " 'PVC': [42.0718994141, -70.2213973999],\n",
       " 'PVD': [41.732601, -71.420403],\n",
       " 'PVU': [40.2192, -111.723],\n",
       " 'PWK': [42.114222, -87.901494],\n",
       " 'PWM': [43.646198, -70.309303],\n",
       " 'PYM': [41.909, -70.728798],\n",
       " 'RAC': [42.7606010437, -87.8152008057],\n",
       " 'RAP': [44.0452995300293, -103.05699920654297],\n",
       " 'RBG': [43.238800048799995, -123.356002808],\n",
       " 'RBH': [58.55, -155.8],\n",
       " 'RBN': [19.833, -72.5],\n",
       " 'RBW': [32.921001434299995, -80.6406021118],\n",
       " 'RBY': [64.72720337, -155.4700012],\n",
       " 'RDB': [68.03222222222222, -162.89916666666667],\n",
       " 'RDD': [40.50899887, -122.2929993],\n",
       " 'RDG': [40.378502, -75.965202],\n",
       " 'RDM': [44.2541008, -121.1500015],\n",
       " 'RDU': [35.877601623535156, -78.7874984741211],\n",
       " 'RDV': [61.7881011963, -157.350006104],\n",
       " 'RFD': [42.19540023803711, -89.09719848632812],\n",
       " 'RHI': [45.63119888305664, -89.46749877929688],\n",
       " 'RIC': [37.50519943237305, -77.3197021484375],\n",
       " 'RIL': [39.526299, -107.726997],\n",
       " 'RIV': [33.880699, -117.259003],\n",
       " 'RIW': [43.064201355, -108.459999084],\n",
       " 'RKD': [44.06010056, -69.09919739],\n",
       " 'RKS': [41.5942, -109.065001],\n",
       " 'RLU': [67.1, -156.93333333333334],\n",
       " 'RME': [43.23379898, -75.40699768],\n",
       " 'RMP': [65.507896, -150.141007],\n",
       " 'RNO': [39.49909973144531, -119.76799774169922],\n",
       " 'ROA': [37.3255, -79.975403],\n",
       " 'ROC': [43.1189, -77.672401],\n",
       " 'ROG': [36.37229919, -94.10690308],\n",
       " 'ROP': [14.166666666666666, 145.25],\n",
       " 'ROW': [33.301601, -104.530998],\n",
       " 'RSH': [61.7788848877, -161.319458008],\n",
       " 'RSJ': [48.63333333333333, -122.85],\n",
       " 'RST': [43.90829849243164, -92.5],\n",
       " 'RSW': [26.53619956970215, -81.75520324707031],\n",
       " 'RUT': [43.52939987, -72.94960022],\n",
       " 'RWI': [35.856300354003906, -77.89189910888672],\n",
       " 'SAF': [35.617099762, -106.088996887],\n",
       " 'SAN': [32.7336006165, -117.190002441],\n",
       " 'SAT': [29.533701, -98.469803],\n",
       " 'SAV': [32.12760162, -81.20210266],\n",
       " 'SBA': [34.42620087, -119.8399963],\n",
       " 'SBD': [34.095402, -117.235001],\n",
       " 'SBN': [41.708698, -86.317299],\n",
       " 'SBP': [35.236801147499996, -120.641998291],\n",
       " 'SBY': [38.34049987792969, -75.51029968261719],\n",
       " 'SCC': [70.19470215, -148.4649963],\n",
       " 'SCE': [40.77222222222222, -77.88333333333334],\n",
       " 'SCF': [33.5, -111.93333333333334],\n",
       " 'SCH': [42.852500915527, -73.928901672363],\n",
       " 'SCK': [37.894199371338, -121.2379989624],\n",
       " 'SCM': [61.845298767100005, -165.570999146],\n",
       " 'SDF': [38.1744, -85.736],\n",
       " 'SDM': [32.572299957275, -116.98000335693],\n",
       " 'SDP': [55.314998626708984, -160.5229949951172],\n",
       " 'SDY': [47.706902, -104.193001],\n",
       " 'SEA': [47.449001, -122.308998],\n",
       " 'SEG': [40.820598602295, -76.863899230957],\n",
       " 'SFB': [28.777599334716797, -81.23750305175781],\n",
       " 'SFM': [43.393901824951, -70.708000183105],\n",
       " 'SFO': [37.61899948120117, -122.375],\n",
       " 'SGF': [37.24570084, -93.38860321],\n",
       " 'SGH': [39.840301513672, -83.840202331543],\n",
       " 'SGR': [29.622299194336, -95.65650177002],\n",
       " 'SGU': [37.036389, -113.510306],\n",
       " 'SGY': [59.46009826660156, -135.3159942626953],\n",
       " 'SHD': [38.2638015747, -78.8964004517],\n",
       " 'SHG': [66.88809967041, -157.16200256348],\n",
       " 'SHH': [66.249604, -166.089112],\n",
       " 'SHR': [44.76919937133789, -106.9800033569336],\n",
       " 'SHV': [32.446602, -93.8256],\n",
       " 'SHX': [62.6922988892, -159.569000244],\n",
       " 'SIT': [57.04710006713867, -135.36199951171875],\n",
       " 'SJC': [37.362598, -121.929001],\n",
       " 'SJT': [31.35770034790039, -100.49600219726562],\n",
       " 'SKF': [29.38419914, -98.58110046],\n",
       " 'SKJ': [56.5378, -154.1412],\n",
       " 'SKK': [64.38333333333334, -161.1],\n",
       " 'SKW': [61.9653015137, -151.190994263],\n",
       " 'SLC': [40.785749, -111.979746],\n",
       " 'SLE': [44.90950012, -123.0029984],\n",
       " 'SLK': [44.38529968261719, -74.2061996459961],\n",
       " 'SLN': [38.79100036621094, -97.6521987915039],\n",
       " 'SLQ': [61.7005004883, -157.166000366],\n",
       " 'SMF': [38.69540023803711, -121.59100341796875],\n",
       " 'SMK': [63.49010086, -162.1100006],\n",
       " 'SMO': [34.0158, -118.450996],\n",
       " 'SMX': [34.89889908, -120.4570007],\n",
       " 'SNA': [33.675701, -117.867996],\n",
       " 'SNP': [57.166311, -170.222555],\n",
       " 'SOV': [59.442401885986, -151.70399475098],\n",
       " 'SOW': [34.265049, -110.007084],\n",
       " 'SPI': [39.84410095, -89.67790222],\n",
       " 'SPN': [15.11888888888889, 145.72944444444445],\n",
       " 'SPS': [33.9888, -98.491898],\n",
       " 'SRQ': [27.39539909362793, -82.55439758300781],\n",
       " 'SRV': [61.7896995544, -156.589004517],\n",
       " 'SSI': [31.1518, -81.391296],\n",
       " 'STC': [45.5466, -94.059898],\n",
       " 'STG': [56.6, -169.53333333333333],\n",
       " 'STL': [38.748697, -90.370003],\n",
       " 'STP': [44.93450164794922, -93.05999755859375],\n",
       " 'STS': [38.50899887, -122.8130035],\n",
       " 'SUN': [43.50439835, -114.2959976],\n",
       " 'SUS': [38.662101745605, -90.652000427246],\n",
       " 'SUU': [38.262699, -121.927002],\n",
       " 'SUX': [42.397605, -96.382237],\n",
       " 'SVA': [63.6864013671875, -170.4929962158203],\n",
       " 'SVC': [32.632293, -108.154263],\n",
       " 'SVS': [66.0172, -149.0545],\n",
       " 'SVW': [61.09740067, -155.5740051],\n",
       " 'SWF': [41.504101, -74.104797],\n",
       " 'SWO': [36.161201477051, -97.08570098877],\n",
       " 'SXP': [62.520599, -164.848006],\n",
       " 'SXQ': [60.474935, -151.038471],\n",
       " 'SYA': [52.71229935, 174.1139984],\n",
       " 'SYB': [58.166666666666664, -152.5],\n",
       " 'SYR': [43.11119842529297, -76.1063003540039],\n",
       " 'SZL': [38.73030090332, -93.547897338867],\n",
       " 'TAL': [65.1744003296, -152.10899353],\n",
       " 'TBN': [37.74160004, -92.14070129],\n",
       " 'TCL': [33.220600128174, -87.611396789551],\n",
       " 'TCM': [47.1376991272, -122.475997925],\n",
       " 'TCT': [62.993206, -156.029026],\n",
       " 'TDF': [36.284901, -78.9842],\n",
       " 'TEB': [40.85010147089999, -74.060798645],\n",
       " 'TEH': [63.1, -142.5],\n",
       " 'TEK': [60.8725, -146.69111111111113],\n",
       " 'TEX': [37.9538002, -107.9079971],\n",
       " 'TIQ': [14.999166666666666, 145.61944444444444],\n",
       " 'TKA': [62.320499420166, -150.09399414062],\n",
       " 'TKE': [57.77970123291, -135.21800231934],\n",
       " 'TKJ': [63.303333, -143.001111],\n",
       " 'TLA': [65.24027777777778, -166.33944444444447],\n",
       " 'TLH': [30.396499633789062, -84.35030364990234],\n",
       " 'TLJ': [62.894401550299996, -155.977005005],\n",
       " 'TLT': [61.096801757799994, -160.968994141],\n",
       " 'TMB': [25.6479, -80.4328],\n",
       " 'TNC': [65.56310272, -167.9219971],\n",
       " 'TNK': [72.03333333333333, -80.91666666666667],\n",
       " 'TOG': [59.052799224853516, -160.39700317382812],\n",
       " 'TOL': [41.5868, -83.8078],\n",
       " 'TOR': [42.0644989, -104.1529999],\n",
       " 'TPA': [27.975500106811523, -82.533203125],\n",
       " 'TRI': [36.475201, -82.407401],\n",
       " 'TRM': [33.62670135498, -116.16000366211],\n",
       " 'TSP': [35.134998321533, -118.43900299072],\n",
       " 'TTD': [45.54940032959, -122.40100097656],\n",
       " 'TTN': [40.27669906616211, -74.8134994506836],\n",
       " 'TUL': [36.19839859008789, -95.88809967041016],\n",
       " 'TUP': [34.26810073852539, -88.7698974609375],\n",
       " 'TUS': [32.115004, -110.938053],\n",
       " 'TVC': [44.74140167236328, -85.58219909667969],\n",
       " 'TVF': [48.06570053, -96.18499756],\n",
       " 'TWA': [59.074444444444445, -160.275],\n",
       " 'TWD': [48.11666666666667, -122.76666666666667],\n",
       " 'TWF': [42.4818, -114.487999],\n",
       " 'TX1': [32.0791751, -95.4324805],\n",
       " 'TXK': [33.45370101928711, -93.99099731445312],\n",
       " 'TYE': [61.076556, -151.131363],\n",
       " 'TYR': [32.35409927368164, -95.40239715576172],\n",
       " 'TYS': [35.81100082, -83.9940033],\n",
       " 'UGI': [57.88333333333333, -153.5],\n",
       " 'UGN': [42.422199249268, -87.867897033691],\n",
       " 'UIN': [39.94269943, -91.19460297],\n",
       " 'UKI': [39.125999450684, -123.20099639893],\n",
       " 'UMT': [69.37110138, -152.1360016],\n",
       " 'UNK': [63.88840103, -160.798996],\n",
       " 'UOX': [34.384300231934, -89.536796569824],\n",
       " 'UST': [29.95, -81.33333333333333],\n",
       " 'UTM': [34.684999999999995, -90.34777777777778],\n",
       " 'UTO': [65.99279785, -153.7039948],\n",
       " 'UUK': [70.41666666666667, -148.91666666666666],\n",
       " 'UVA': [29.2112998962, -99.743598938],\n",
       " 'VAD': [30.9678001404, -83.1930007935],\n",
       " 'VAK': [61.5409, -165.6005],\n",
       " 'VCT': [28.85260009765625, -96.91850280761719],\n",
       " 'VCV': [34.597499847399995, -117.383003235],\n",
       " 'VDZ': [61.1339, -146.248001],\n",
       " 'VEE': [67.0086975098, -146.365997314],\n",
       " 'VEL': [40.4408989, -109.5100021],\n",
       " 'VGC': [42.84379959, -75.56140137],\n",
       " 'VGT': [36.210701, -115.194],\n",
       " 'VIK': [69.6767763888889, -146.90004583333334],\n",
       " 'VIS': [36.318699, -119.392998],\n",
       " 'VLD': [30.782499313354492, -83.27670288085938],\n",
       " 'VNY': [34.209800720215, -118.48999786377],\n",
       " 'VPS': [30.4832, -86.525398],\n",
       " 'VRB': [27.6556, -80.417901],\n",
       " 'WAA': [65.66666666666667, -168.08333333333334],\n",
       " 'WBB': [63.5159988403, -162.277999878],\n",
       " 'WBQ': [66.362197876, -147.406997681],\n",
       " 'WCR': [67.5045013428, -148.483001709],\n",
       " 'WFB': [55.36666666666667, -131.65],\n",
       " 'WHD': [55.916666666666664, -130.01666666666668],\n",
       " 'WJF': [34.74110031, -118.2190018],\n",
       " 'WKK': [59.266666666666666, -158.63333333333333],\n",
       " 'WLK': [66.60009766, -159.9859924],\n",
       " 'WMK': [55.733333333333334, -132.2],\n",
       " 'WMO': [64.689201355, -163.412994385],\n",
       " 'WNA': [60.69029998779297, -161.97900390625],\n",
       " 'WOW': [61.75, -150.05],\n",
       " 'WRG': [56.48429871, -132.3699951],\n",
       " 'WRI': [40.0155983, -74.59169769],\n",
       " 'WRL': [43.965698, -107.950996],\n",
       " 'WSB': [55.532662, -133.638167],\n",
       " 'WSJ': [57.7304, -153.320999],\n",
       " 'WSN': [58.703202, -157.006373],\n",
       " 'WST': [41.3496017456, -71.8033981323],\n",
       " 'WSX': [48.666666666666664, -122.88333333333334],\n",
       " 'WTK': [67.56610107421875, -162.97500610351562],\n",
       " 'WTL': [60.33527777777778, -162.66694444444443],\n",
       " 'WWA': [61.583333333333336, -149.43333333333334],\n",
       " 'WWP': [56.11666666666667, -133.125],\n",
       " 'WWT': [60.935, -164.6267],\n",
       " 'WYB': [55.916666666666664, -131.8],\n",
       " 'WYS': [44.68840027, -111.1179962],\n",
       " 'XNA': [36.281898, -94.306801],\n",
       " 'XWA': [48.258387, -103.748797],\n",
       " 'YAK': [59.508717, -139.660435],\n",
       " 'YIP': [42.23789978, -83.53040314],\n",
       " ...}"
      ]
     },
     "execution_count": 28,
     "metadata": {},
     "output_type": "execute_result"
    }
   ],
   "source": [
    "airport_lookup_table"
   ]
  },
  {
   "cell_type": "code",
   "execution_count": 29,
   "metadata": {},
   "outputs": [],
   "source": [
    "routes = dict()\n",
    "coord = dict()\n",
    "for elm in li:\n",
    "    from_ = elm[0][0]\n",
    "    #routes[from_] = []\n",
    "    routes_dict = dict()\n",
    "    coord_dict = dict()\n",
    "    for i in elm:\n",
    "        to_ = i[1]\n",
    "        shortest_path = nx.shortest_path(G, from_, to_)\n",
    "        \n",
    "        routes_dict[to_] = shortest_path\n",
    "        coord_dict[to_] = [airport_lookup_table[x] for x in shortest_path]\n",
    "        #airport_name_coordinates\n",
    "        #coord_dict[to_] = [airport_name_coordinates(x) for x in shortest_path]\n",
    "    coord[from_] = coord_dict\n",
    "    routes[from_] = routes_dict"
   ]
  },
  {
   "cell_type": "code",
   "execution_count": 30,
   "metadata": {},
   "outputs": [],
   "source": [
    "from_ = []\n",
    "dest_ = []\n",
    "coordinates = []\n",
    "path = []\n",
    "for elm in coord.items():\n",
    "    fr = elm[0]\n",
    "    \n",
    "    for i in elm[1].keys():\n",
    "        dest_.append(i)\n",
    "        path.append(routes[fr][i])\n",
    "        from_.append(fr)\n",
    "    for i in elm[1].values():\n",
    "        coordinates.append(i)"
   ]
  },
  {
   "cell_type": "code",
   "execution_count": 31,
   "metadata": {},
   "outputs": [],
   "source": [
    "d = {\"from\": from_, \"dest\": dest_, \"path\": path, \"coordinates\": coordinates}\n",
    "df_paths = pd.DataFrame(data=d)\n",
    "#df_paths.to_csv('../Data/to_florian_dataframe_longest_paths.csv', index=False)"
   ]
  },
  {
   "cell_type": "code",
   "execution_count": null,
   "metadata": {},
   "outputs": [],
   "source": []
  },
  {
   "cell_type": "markdown",
   "metadata": {},
   "source": [
    "### Centrality\n",
    "\n",
    "In graph theory and network analysis, indicators of centrality assign numbers or rankings to nodes within a graph corresponding to their network position. Applications include identifying the most influential person(s) in a social network,"
   ]
  },
  {
   "cell_type": "code",
   "execution_count": 32,
   "metadata": {},
   "outputs": [
    {
     "data": {
      "text/plain": [
       "['ATL',\n",
       " 'MSP',\n",
       " 'DEN',\n",
       " 'ORD',\n",
       " 'DFW',\n",
       " 'ANC',\n",
       " 'MEM',\n",
       " 'DTW',\n",
       " 'IAH',\n",
       " 'LAS',\n",
       " 'LAX',\n",
       " 'SDF',\n",
       " 'IAD',\n",
       " 'YIP',\n",
       " 'EWR',\n",
       " 'CLT',\n",
       " 'IND',\n",
       " 'BUR',\n",
       " 'BWI',\n",
       " 'MIA']"
      ]
     },
     "execution_count": 32,
     "metadata": {},
     "output_type": "execute_result"
    }
   ],
   "source": [
    "sorted_degree_centrality = sorted(nx.degree_centrality(G).items(), key=lambda x: x[1], reverse=True)\n",
    "sorted_degree_centrality = [x[0] for x in sorted_degree_centrality[0:20]]\n",
    "#These are the most \"central\" nodes in the graph\n",
    "sorted_degree_centrality"
   ]
  },
  {
   "cell_type": "markdown",
   "metadata": {},
   "source": [
    "### Clustering coefficient"
   ]
  },
  {
   "cell_type": "markdown",
   "metadata": {},
   "source": [
    "Clustering coefficient is how many of a nodes neighboors are connected. If the clustering coefficient of a node is 0.5, it means half the nodes neighbors are connected"
   ]
  },
  {
   "cell_type": "code",
   "execution_count": 33,
   "metadata": {},
   "outputs": [
    {
     "data": {
      "text/plain": [
       "0.5732241413139196"
      ]
     },
     "execution_count": 33,
     "metadata": {},
     "output_type": "execute_result"
    }
   ],
   "source": [
    "#The average clustering coefficient of the network is 0.56\n",
    "nx.average_clustering(G)"
   ]
  },
  {
   "cell_type": "code",
   "execution_count": 34,
   "metadata": {},
   "outputs": [
    {
     "data": {
      "text/plain": [
       "[('DIO', 1.0),\n",
       " ('KPC', 1.0),\n",
       " ('MOS', 1.0),\n",
       " ('OHC', 1.0),\n",
       " ('04A', 1.0),\n",
       " ('A26', 1.0),\n",
       " ('A63', 1.0),\n",
       " ('AK5', 1.0),\n",
       " ('CKX', 1.0),\n",
       " ('CZN', 1.0),\n",
       " ('HGZ', 1.0),\n",
       " ('LIV', 1.0),\n",
       " ('ORT', 1.0),\n",
       " ('UUK', 1.0),\n",
       " ('7AK', 1.0),\n",
       " ('DRF', 1.0),\n",
       " ('MDO', 1.0),\n",
       " ('MXY', 1.0),\n",
       " ('NCN', 1.0),\n",
       " ('PUO', 1.0),\n",
       " ('TEK', 1.0),\n",
       " ('A29', 1.0),\n",
       " ('BFB', 1.0),\n",
       " ('DGB', 1.0),\n",
       " ('SKJ', 1.0),\n",
       " ('08A', 1.0),\n",
       " ('SOV', 1.0),\n",
       " ('GUS', 1.0),\n",
       " ('MTP', 1.0),\n",
       " ('ELD', 1.0),\n",
       " ('BRL', 1.0),\n",
       " ('DEC', 1.0),\n",
       " ('VAD', 1.0),\n",
       " ('CWF', 1.0),\n",
       " ('BWD', 1.0),\n",
       " ('HSH', 1.0),\n",
       " ('SCH', 1.0),\n",
       " ('CLD', 1.0),\n",
       " ('HIO', 1.0),\n",
       " ('LVK', 1.0),\n",
       " ('LWC', 1.0),\n",
       " ('NEW', 1.0),\n",
       " ('RAC', 1.0),\n",
       " ('SBD', 1.0),\n",
       " ('SCF', 1.0),\n",
       " ('MZJ', 1.0),\n",
       " ('VCT', 1.0),\n",
       " ('GBD', 1.0),\n",
       " ('MCK', 1.0),\n",
       " ('SVC', 1.0),\n",
       " ('ALW', 1.0),\n",
       " ('CLM', 1.0),\n",
       " ('MVW', 1.0),\n",
       " ('WYS', 1.0),\n",
       " ('DVN', 1.0),\n",
       " ('GSH', 1.0),\n",
       " ('IKV', 1.0),\n",
       " ('MVN', 1.0),\n",
       " ('OTM', 1.0),\n",
       " ('SGH', 1.0),\n",
       " ('AXV', 1.0),\n",
       " ('LKK', 1.0),\n",
       " ('RBH', 1.0),\n",
       " ('PCA', 1.0),\n",
       " ('KCR', 1.0),\n",
       " ('MDR', 1.0),\n",
       " ('WOW', 1.0),\n",
       " ('KWF', 1.0),\n",
       " ('WSB', 1.0),\n",
       " ('XWA', 1.0),\n",
       " ('EPH', 1.0),\n",
       " ('HES', 1.0),\n",
       " ('LUP', 1.0),\n",
       " ('WHD', 1.0),\n",
       " ('DJN', 1.0),\n",
       " ('TEH', 1.0),\n",
       " ('CHP', 1.0),\n",
       " ('EIL', 1.0),\n",
       " ('MVM', 1.0),\n",
       " ('AUG', 1.0),\n",
       " ('LCI', 1.0),\n",
       " ('NHZ', 1.0),\n",
       " ('PVC', 1.0),\n",
       " ('AFK', 1.0),\n",
       " ('AGC', 1.0),\n",
       " ('BEH', 1.0),\n",
       " ('MNZ', 1.0),\n",
       " ('MVL', 1.0),\n",
       " ('SFM', 1.0),\n",
       " ('VRB', 1.0),\n",
       " ('JVL', 1.0),\n",
       " ('PWK', 1.0),\n",
       " ('BKW', 1.0),\n",
       " ('ORL', 1.0),\n",
       " ('RDG', 1.0),\n",
       " ('HUM', 1.0),\n",
       " ('MEO', 1.0),\n",
       " ('NKX', 1.0),\n",
       " ('EWB', 1.0),\n",
       " ('ISS', 1.0),\n",
       " ('NY1', 1.0),\n",
       " ('PCT', 1.0),\n",
       " ('PSK', 1.0),\n",
       " ('HLI', 1.0),\n",
       " ('SKF', 1.0),\n",
       " ('FHU', 1.0),\n",
       " ('RUT', 1.0),\n",
       " ('LKP', 1.0),\n",
       " ('MTH', 1.0),\n",
       " ('TOR', 1.0),\n",
       " ('TSP', 1.0),\n",
       " ('GGW', 1.0),\n",
       " ('HVR', 1.0),\n",
       " ('LWT', 1.0),\n",
       " ('MLS', 1.0),\n",
       " ('BTL', 1.0),\n",
       " ('MFD', 1.0),\n",
       " ('GCY', 1.0),\n",
       " ('GLD', 1.0),\n",
       " ('ATS', 1.0),\n",
       " ('DLS', 1.0),\n",
       " ('LKV', 1.0),\n",
       " ('RSJ', 1.0),\n",
       " ('1B1', 1.0),\n",
       " ('6B0', 1.0),\n",
       " ('GED', 1.0),\n",
       " ('EOK', 1.0),\n",
       " ('BBW', 1.0),\n",
       " ('PRB', 1.0),\n",
       " ('UVA', 1.0),\n",
       " ('WMK', 1.0),\n",
       " ('BOK', 1.0),\n",
       " ('ODW', 1.0),\n",
       " ('TWD', 1.0),\n",
       " ('STS', 0.9897959183673469),\n",
       " ('GEK', 0.9848484848484849),\n",
       " ('ITO', 0.9666666666666667),\n",
       " ('WCR', 0.96),\n",
       " ('STG', 0.9591836734693877),\n",
       " ('GUC', 0.9545454545454546),\n",
       " ('WSJ', 0.9444444444444444),\n",
       " ('TWA', 0.9444444444444444),\n",
       " ('LNS', 0.9444444444444444),\n",
       " ('LPS', 0.9375),\n",
       " ('HOB', 0.9230769230769231),\n",
       " ('BTM', 0.9230769230769231),\n",
       " ('MRB', 0.9230769230769231),\n",
       " ('PBK', 0.9230769230769231),\n",
       " ('SRV', 0.9183673469387755),\n",
       " ('KOZ', 0.9166666666666666),\n",
       " ('RIL', 0.9),\n",
       " ('MRC', 0.9),\n",
       " ('HIB', 0.8947368421052632),\n",
       " ('PGM', 0.8888888888888888),\n",
       " ('RLU', 0.88),\n",
       " ('PPV', 0.8761061946902655),\n",
       " ('CEM', 0.875),\n",
       " ('HKB', 0.875),\n",
       " ('VEL', 0.875),\n",
       " ('FKL', 0.875),\n",
       " ('GUP', 0.875),\n",
       " ('PDB', 0.8705882352941177),\n",
       " ('KPY', 0.868421052631579),\n",
       " ('PTA', 0.8672566371681416),\n",
       " ('KPB', 0.8672566371681416),\n",
       " ('TLJ', 0.8662790697674418),\n",
       " ('LIJ', 0.8636363636363636),\n",
       " ('MTM', 0.863013698630137),\n",
       " ('NKI', 0.8628318584070797),\n",
       " ('KCQ', 0.8551724137931035),\n",
       " ('CLP', 0.8536585365853658),\n",
       " ('KQA', 0.8461538461538461),\n",
       " ('HNM', 0.8461538461538461),\n",
       " ('LIH', 0.8436578171091446),\n",
       " ('BKG', 0.8434343434343434),\n",
       " ('LVD', 0.8421052631578947),\n",
       " ('TKE', 0.84),\n",
       " ('1G4', 0.84),\n",
       " ('HVC', 0.8360655737704918),\n",
       " ('KPR', 0.8333333333333334),\n",
       " ('AIA', 0.8333333333333334),\n",
       " ('WJF', 0.8333333333333334),\n",
       " ('ERI', 0.8292682926829268),\n",
       " ('SNP', 0.8275862068965517),\n",
       " ('KOY', 0.82),\n",
       " ('KBC', 0.819672131147541),\n",
       " ('YAK', 0.8163265306122449),\n",
       " ('RBW', 0.8157894736842105),\n",
       " ('ISO', 0.813953488372093),\n",
       " ('SBY', 0.8115384615384615),\n",
       " ('DBQ', 0.8095238095238095),\n",
       " ('SUS', 0.8091482649842271),\n",
       " ('KXA', 0.8080808080808081),\n",
       " ('MHM', 0.8076923076923077),\n",
       " ('LGU', 0.8055555555555556),\n",
       " ('SGY', 0.8048780487804879),\n",
       " ('DCU', 0.8018867924528302),\n",
       " ('EGE', 0.8013565891472868),\n",
       " ('MYU', 0.8005464480874317),\n",
       " ('KVL', 0.8),\n",
       " ('ZNC', 0.8),\n",
       " ('IPL', 0.8),\n",
       " ('MMH', 0.8),\n",
       " ('EAT', 0.8),\n",
       " ('AOO', 0.8),\n",
       " ('CGI', 0.8),\n",
       " ('FRY', 0.8),\n",
       " ('KZB', 0.7976190476190477),\n",
       " ('MKG', 0.7941176470588235),\n",
       " ('DOF', 0.7941176470588235),\n",
       " ('SXQ', 0.7894736842105263),\n",
       " ('SLK', 0.7894736842105263),\n",
       " ('OCF', 0.7887931034482759),\n",
       " ('BKL', 0.7861842105263158),\n",
       " ('PIZ', 0.7859424920127795),\n",
       " ('NUI', 0.7857142857142857),\n",
       " ('DQH', 0.7830188679245284),\n",
       " ('RME', 0.782608695652174),\n",
       " ('WWA', 0.7777777777777778),\n",
       " ('KYK', 0.7777777777777778),\n",
       " ('CEZ', 0.7777777777777778),\n",
       " ('SXP', 0.7751371115173674),\n",
       " ('VDZ', 0.7692307692307693),\n",
       " ('EAU', 0.7673267326732673),\n",
       " ('EDA', 0.7668711656441718),\n",
       " ('TNK', 0.7659963436928702),\n",
       " ('MCN', 0.7651515151515151),\n",
       " ('MHR', 0.7650602409638554),\n",
       " ('SRQ', 0.7648835202761001),\n",
       " ('KFP', 0.7647058823529411),\n",
       " ('LAR', 0.7623318385650224),\n",
       " ('ATK', 0.7610619469026548),\n",
       " ('CLU', 0.7592592592592593),\n",
       " ('RBG', 0.7575757575757576),\n",
       " ('WMO', 0.7575187969924813),\n",
       " ('KOT', 0.7565485362095532),\n",
       " ('CDL', 0.7560975609756098),\n",
       " ('KYU', 0.7527173913043478),\n",
       " ('ABL', 0.7507987220447284),\n",
       " ('ADK', 0.75),\n",
       " ('KEB', 0.75),\n",
       " ('INL', 0.75),\n",
       " ('LPR', 0.75),\n",
       " ('UKI', 0.75),\n",
       " ('OTS', 0.75),\n",
       " ('CPS', 0.7484848484848485),\n",
       " ('KOA', 0.7441634241245136),\n",
       " ('MTJ', 0.7433920704845814),\n",
       " ('EFD', 0.7405405405405405),\n",
       " ('KCL', 0.739010989010989),\n",
       " ('BTI', 0.7375565610859729),\n",
       " ('WWP', 0.7363013698630136),\n",
       " ('EYW', 0.7356194690265486),\n",
       " ('FWL', 0.7352941176470589),\n",
       " ('WKK', 0.7325581395348837),\n",
       " ('WRI', 0.7294685990338164),\n",
       " ('RDV', 0.7294117647058823),\n",
       " ('NLG', 0.7265625),\n",
       " ('ABY', 0.7260869565217392),\n",
       " ('TRM', 0.725),\n",
       " ('MKC', 0.7245762711864406),\n",
       " ('JAC', 0.7235401459854015),\n",
       " ('IKO', 0.7222222222222222),\n",
       " ('MCE', 0.7222222222222222),\n",
       " ('CEC', 0.7211538461538461),\n",
       " ('WRL', 0.72),\n",
       " ('DVL', 0.72),\n",
       " ('ELV', 0.72),\n",
       " ('GST', 0.72),\n",
       " ('CYF', 0.7182044887780549),\n",
       " ('KPV', 0.7178217821782178),\n",
       " ('ORI', 0.7171717171717171),\n",
       " ('PAH', 0.7171052631578947),\n",
       " ('FCA', 0.7169811320754716),\n",
       " ('GBH', 0.7142857142857143),\n",
       " ('PPC', 0.7142857142857143),\n",
       " ('BLV', 0.7142857142857143),\n",
       " ('SVA', 0.7093023255813954),\n",
       " ('ASE', 0.7089552238805971),\n",
       " ('HNS', 0.7073170731707317),\n",
       " ('SLQ', 0.7071823204419889),\n",
       " ('OSC', 0.7058823529411765),\n",
       " ('GNU', 0.7039586919104991),\n",
       " ('BJI', 0.7027027027027027),\n",
       " ('KCG', 0.7016574585635359),\n",
       " ('GCC', 0.7),\n",
       " ('CDR', 0.7),\n",
       " ('WSX', 0.7),\n",
       " ('OAJ', 0.6986607142857143),\n",
       " ('KKA', 0.6985294117647058),\n",
       " ('UMT', 0.698170731707317),\n",
       " ('INT', 0.6977739726027398),\n",
       " ('KWK', 0.6973848069738481),\n",
       " ('FLT', 0.696969696969697),\n",
       " ('HON', 0.696969696969697),\n",
       " ('HYG', 0.6941176470588235),\n",
       " ('IGM', 0.6923076923076923),\n",
       " ('LMA', 0.6911764705882353),\n",
       " ('BGM', 0.69),\n",
       " ('SYB', 0.6875),\n",
       " ('PTD', 0.6875),\n",
       " ('MHT', 0.6869431394783736),\n",
       " ('SDM', 0.6857142857142857),\n",
       " ('WNA', 0.6832512315270935),\n",
       " ('AOS', 0.6824324324324325),\n",
       " ('WTL', 0.6811091854419411),\n",
       " ('JMS', 0.68),\n",
       " ('MRY', 0.6785195936139332),\n",
       " ('KKH', 0.6771653543307087),\n",
       " ('RDB', 0.6767515923566879),\n",
       " ('PKA', 0.6751968503937008),\n",
       " ('KGK', 0.6741803278688525),\n",
       " ('ELM', 0.6702702702702703),\n",
       " ('HYL', 0.6687116564417178),\n",
       " ('ECP', 0.6674008810572687),\n",
       " ('BMG', 0.6672051696284329),\n",
       " ('VIK', 0.6666666666666666),\n",
       " ('NZY', 0.6666666666666666),\n",
       " ('SSI', 0.6666666666666666),\n",
       " ('CVN', 0.6666666666666666),\n",
       " ('DVT', 0.6666666666666666),\n",
       " ('TDF', 0.6666666666666666),\n",
       " ('LNY', 0.6666666666666666),\n",
       " ('BHB', 0.6666666666666666),\n",
       " ('NJK', 0.6666666666666666),\n",
       " ('DXR', 0.6666666666666666),\n",
       " ('PSF', 0.6666666666666666),\n",
       " ('GDV', 0.6666666666666666),\n",
       " ('POB', 0.6666666666666666),\n",
       " ('RDM', 0.6650943396226415),\n",
       " ('WWT', 0.66429418742586),\n",
       " ('KEK', 0.6639344262295082),\n",
       " ('PIP', 0.6616541353383458),\n",
       " ('YUM', 0.6609195402298851),\n",
       " ('KGX', 0.6608775137111518),\n",
       " ('WLK', 0.6607565011820331),\n",
       " ('AVP', 0.6586774473000289),\n",
       " ('EXI', 0.6585365853658537),\n",
       " ('TEX', 0.6578947368421053),\n",
       " ('MKK', 0.65625),\n",
       " ('LEB', 0.6554054054054054),\n",
       " ('DIK', 0.6550387596899225),\n",
       " ('SWF', 0.6542768273716951),\n",
       " ('KTS', 0.6538461538461539),\n",
       " ('GCK', 0.6533333333333333),\n",
       " ('BVU', 0.65),\n",
       " ('BVO', 0.65),\n",
       " ('MLB', 0.649890590809628),\n",
       " ('BTV', 0.6490510471204188),\n",
       " ('APC', 0.6481481481481481),\n",
       " ('PEC', 0.6470588235294118),\n",
       " ('LGC', 0.646551724137931),\n",
       " ('SCK', 0.6463414634146342),\n",
       " ('LYH', 0.6460176991150443),\n",
       " ('IMT', 0.645),\n",
       " ('NGU', 0.6449704142011834),\n",
       " ('PGV', 0.6448275862068965),\n",
       " ('APN', 0.6438356164383562),\n",
       " ('RHI', 0.6438356164383562),\n",
       " ('ANV', 0.6436688311688312),\n",
       " ('CIC', 0.6428571428571429),\n",
       " ('NME', 0.6414201183431952),\n",
       " ('SWO', 0.6412556053811659),\n",
       " ('PSP', 0.6412449945394977),\n",
       " ('TLT', 0.6406896551724138),\n",
       " ('RST', 0.63916015625),\n",
       " ('EVV', 0.6386603995299648),\n",
       " ('ROC', 0.6384671005061461),\n",
       " ('COD', 0.6363636363636364),\n",
       " ('AND', 0.6363636363636364),\n",
       " ('KPN', 0.6362456747404844),\n",
       " ('VIS', 0.6346153846153846),\n",
       " ('IAN', 0.6336996336996337),\n",
       " ('PWM', 0.6334255533199196),\n",
       " ('PML', 0.6318407960199005),\n",
       " ('AKB', 0.631578947368421),\n",
       " ('OWB', 0.631578947368421),\n",
       " ('MOU', 0.6315270935960591),\n",
       " ('SUN', 0.6310975609756098),\n",
       " ('BDL', 0.6301519468186135),\n",
       " ('KMY', 0.6290322580645161),\n",
       " ('SMO', 0.6270270270270271),\n",
       " ('GGG', 0.6256684491978609),\n",
       " ('KNK', 0.625),\n",
       " ('MSL', 0.625),\n",
       " ('LGD', 0.625),\n",
       " ('DRG', 0.6228373702422145),\n",
       " ('BFL', 0.6224385245901639),\n",
       " ('MSO', 0.6216361679224973),\n",
       " ('CMI', 0.6215545755237045),\n",
       " ('KKB', 0.6212121212121212),\n",
       " ('AHN', 0.6212121212121212),\n",
       " ('ISP', 0.6206826493295409),\n",
       " ('BIH', 0.62),\n",
       " ('MIE', 0.6190476190476191),\n",
       " ('LAF', 0.6188524590163934),\n",
       " ('NUL', 0.6181015452538632),\n",
       " ('CIU', 0.6176470588235294),\n",
       " ('ORV', 0.6169590643274854),\n",
       " ('ABE', 0.6166666666666667),\n",
       " ('COU', 0.6163079470198676),\n",
       " ('RSW', 0.615771971496437),\n",
       " ('DAB', 0.615695067264574),\n",
       " ('FOE', 0.6154639175257732),\n",
       " ('MEI', 0.6153846153846154),\n",
       " ('HDN', 0.6136363636363636),\n",
       " ('FAY', 0.6136363636363636),\n",
       " ('ENN', 0.6129032258064516),\n",
       " ('WSN', 0.6128048780487805),\n",
       " ('ELI', 0.6127717391304348),\n",
       " ('SGU', 0.6127049180327869),\n",
       " ('TRI', 0.6123376623376623),\n",
       " ('PVD', 0.611268603827073),\n",
       " ('LNI', 0.6104651162790697),\n",
       " ('SHR', 0.6097560975609756),\n",
       " ('SOW', 0.6097560975609756),\n",
       " ('JHM', 0.6097560975609756),\n",
       " ('ATT', 0.6085122699386503),\n",
       " ('HVN', 0.6078431372549019),\n",
       " ('PUW', 0.6076233183856502),\n",
       " ('AUK', 0.6074380165289256),\n",
       " ('AFW', 0.6059589581689029),\n",
       " ('CRW', 0.6056795131845841),\n",
       " ('IYK', 0.6052631578947368),\n",
       " ('GLV', 0.6052009456264775),\n",
       " ('BQK', 0.6029411764705882),\n",
       " ('OOK', 0.6021699819168174),\n",
       " ('SAV', 0.6019332161687171),\n",
       " ('NNL', 0.6017699115044248),\n",
       " ('PDK', 0.6),\n",
       " ('CHD', 0.6),\n",
       " ('EKO', 0.6),\n",
       " ('OGS', 0.6),\n",
       " ('OLF', 0.6),\n",
       " ('ONP', 0.6),\n",
       " ('CHU', 0.5997067448680352),\n",
       " ('TVC', 0.5985699693564862),\n",
       " ('LUR', 0.5980392156862745),\n",
       " ('TTN', 0.5975254730713246),\n",
       " ('AKI', 0.5975130890052356),\n",
       " ('EAA', 0.5967741935483871),\n",
       " ('KWP', 0.5952380952380952),\n",
       " ('DHN', 0.5952380952380952),\n",
       " ('RIW', 0.5952380952380952),\n",
       " ('HGR', 0.5952380952380952),\n",
       " ('CZF', 0.595),\n",
       " ('KWT', 0.5948509485094851),\n",
       " ('KKI', 0.5947653429602888),\n",
       " ('WBB', 0.5934150076569679),\n",
       " ('SKK', 0.593198992443325),\n",
       " ('ADW', 0.5927536231884057),\n",
       " ('WBQ', 0.5925925925925926),\n",
       " ('KCC', 0.5924528301886792),\n",
       " ('PTU', 0.5919243986254296),\n",
       " ('CKD', 0.5915841584158416),\n",
       " ('ABR', 0.5909090909090909),\n",
       " ('ATY', 0.5901639344262295),\n",
       " ('AGN', 0.5901639344262295),\n",
       " ('PSC', 0.5893011216566005),\n",
       " ('DCK', 0.5882352941176471),\n",
       " ('PLN', 0.5873983739837398),\n",
       " ('LSE', 0.5871446229913473),\n",
       " ('HOT', 0.5853658536585366),\n",
       " ('HPB', 0.5842754367934224),\n",
       " ('RMP', 0.584070796460177),\n",
       " ('IAB', 0.5813953488372093),\n",
       " ('LBL', 0.5813953488372093),\n",
       " ('SBP', 0.5813253012048193),\n",
       " ('HSV', 0.5813015753938484),\n",
       " ('PHF', 0.5807899461400359),\n",
       " ('PNS', 0.5804501175680215),\n",
       " ('LCK', 0.57984496124031),\n",
       " ('DRO', 0.579295154185022),\n",
       " ('JAN', 0.5780386740331491),\n",
       " ('MFE', 0.5775784753363229),\n",
       " ('PIH', 0.5775401069518716),\n",
       " ('CHO', 0.5764966740576497),\n",
       " ('ITH', 0.5752032520325203),\n",
       " ('LGB', 0.5748818611414032),\n",
       " ('CAK', 0.5744054626795385),\n",
       " ('PBI', 0.5743899805657525),\n",
       " ('MQT', 0.5740740740740741),\n",
       " ('SCE', 0.5730568011958147),\n",
       " ('WAA', 0.572139303482587),\n",
       " ('SHX', 0.5721231766612642),\n",
       " ('GAM', 0.5717213114754098),\n",
       " ('L41', 0.5714285714285714),\n",
       " ('IPT', 0.5714285714285714),\n",
       " ('RKS', 0.5696969696969697),\n",
       " ('ESC', 0.5680272108843537),\n",
       " ('LMT', 0.5675675675675675),\n",
       " ('DDC', 0.5673076923076923),\n",
       " ('NUP', 0.5665557404326124),\n",
       " ('CHA', 0.5653474459272895),\n",
       " ('EEK', 0.5653241650294696),\n",
       " ('MWA', 0.563953488372093),\n",
       " ('TLA', 0.5637860082304527),\n",
       " ('LCH', 0.5633408071748879),\n",
       " ('AEX', 0.5625268586162441),\n",
       " ('KVC', 0.5621890547263682),\n",
       " ('FNT', 0.5618627721135299),\n",
       " ('OTH', 0.5612244897959183),\n",
       " ('KLW', 0.5609756097560976),\n",
       " ('SYR', 0.5608781342384759),\n",
       " ('LBF', 0.5606060606060606),\n",
       " ('MLU', 0.5591939546599496),\n",
       " ('RNO', 0.5580458322840595),\n",
       " ('BLD', 0.5573770491803278),\n",
       " ('JST', 0.5564516129032258),\n",
       " ('ROW', 0.556390977443609),\n",
       " ('TCT', 0.5560109289617486),\n",
       " ('IGG', 0.5555555555555556),\n",
       " ('CNO', 0.5555555555555556),\n",
       " ('ORF', 0.5552194953335637),\n",
       " ('MDT', 0.5551176792556103),\n",
       " ('AZO', 0.55420054200542),\n",
       " ('SHG', 0.5540838852097131),\n",
       " ('ILN', 0.5540540540540541),\n",
       " ('FYV', 0.5538922155688623),\n",
       " ('ATW', 0.5537974683544303),\n",
       " ('ALB', 0.551956428264297),\n",
       " ('GTF', 0.5515084621044886),\n",
       " ('ILG', 0.5492424242424242),\n",
       " ('KMO', 0.5486725663716814),\n",
       " ('ACV', 0.5482456140350878),\n",
       " ('NPT', 0.5472972972972973),\n",
       " ('SGF', 0.5470552519732848),\n",
       " ('BMI', 0.5453053184504267),\n",
       " ('RSH', 0.5451263537906137),\n",
       " ('PQS', 0.5449826989619377),\n",
       " ('AIN', 0.5446265938069217),\n",
       " ('CIK', 0.5439560439560439),\n",
       " ('GJT', 0.5432030820033021),\n",
       " ('DTO', 0.5428571428571428),\n",
       " ('KUK', 0.5425531914893617),\n",
       " ('RWI', 0.5405405405405406),\n",
       " ('ROA', 0.5404471544715447),\n",
       " ('KLL', 0.5402843601895735),\n",
       " ('OGG', 0.5401563610518835),\n",
       " ('JAX', 0.5397081469531422),\n",
       " ('CON', 0.5392156862745098),\n",
       " ('FOD', 0.5392156862745098),\n",
       " ('NYL', 0.5392156862745098),\n",
       " ('MAF', 0.5386740331491713),\n",
       " ('HRO', 0.5384615384615384),\n",
       " ('DRT', 0.5377551020408163),\n",
       " ('TWF', 0.5369369369369369),\n",
       " ('SDP', 0.5366430260047281),\n",
       " ('WTK', 0.5365853658536586),\n",
       " ('MLL', 0.5362017804154303),\n",
       " ('IDA', 0.536075036075036),\n",
       " ('BUF', 0.5358228547740777),\n",
       " ('LBE', 0.5355805243445693),\n",
       " ('FAT', 0.5354984894259819),\n",
       " ('TNC', 0.5344827586206896),\n",
       " ('MGM', 0.5338345864661654),\n",
       " ('GNV', 0.5331550802139038),\n",
       " ('AKK', 0.532967032967033),\n",
       " ('ILM', 0.5327586206896552),\n",
       " ('HTS', 0.5318602261048304),\n",
       " ('CWA', 0.5318396226415094),\n",
       " ('IRC', 0.5310344827586206),\n",
       " ('ALZ', 0.5310077519379846),\n",
       " ('HLN', 0.5304878048780488),\n",
       " ('AVL', 0.5295717199184229),\n",
       " ('RBY', 0.5295508274231678),\n",
       " ('ALS', 0.5294117647058824),\n",
       " ('HTO', 0.5292682926829269),\n",
       " ('XNA', 0.5287009063444109),\n",
       " ('VPS', 0.5281090289608177),\n",
       " ('SDY', 0.5263157894736842),\n",
       " ('HOU', 0.5258341213021748),\n",
       " ('MLY', 0.525),\n",
       " ('MYR', 0.5247700978938),\n",
       " ('HYS', 0.524390243902439),\n",
       " ('AMA', 0.5231347106026977),\n",
       " ('KAL', 0.5231116121758738),\n",
       " ('JLN', 0.5203252032520326),\n",
       " ('RKD', 0.52),\n",
       " ('HUS', 0.5189873417721519),\n",
       " ('BFM', 0.5183673469387755),\n",
       " ('SBN', 0.5156443618339529),\n",
       " ('BKC', 0.5154905335628227),\n",
       " ('MBS', 0.515370705244123),\n",
       " ('MGW', 0.5151515151515151),\n",
       " ('CMX', 0.515),\n",
       " ('SHH', 0.5149863760217984),\n",
       " ('GRB', 0.5148193260251726),\n",
       " ('LBB', 0.5146520146520146),\n",
       " ('GTR', 0.5137221269296741),\n",
       " ('DLH', 0.5129770992366413),\n",
       " ('AGS', 0.5118728456530065),\n",
       " ('SCM', 0.5118499012508229),\n",
       " ('HKS', 0.5112781954887218),\n",
       " ('NIB', 0.5079113924050633),\n",
       " ('HUF', 0.5074349442379182),\n",
       " ('HSL', 0.5070754716981132),\n",
       " ('TYE', 0.5068493150684932),\n",
       " ('SAF', 0.5065645514223195),\n",
       " ('EWN', 0.5060240963855421),\n",
       " ('HRL', 0.5054505813953488),\n",
       " ('LWS', 0.5048143053645117),\n",
       " ('TXK', 0.5042372881355932),\n",
       " ('TLH', 0.5034740092640247),\n",
       " ('PTH', 0.5030674846625767),\n",
       " ('HCR', 0.5020554984583762),\n",
       " ('LFT', 0.5013796909492274),\n",
       " ('PIA', 0.501151257527453),\n",
       " ('SAN', 0.5001979675333246),\n",
       " ('SVW', 0.5),\n",
       " ('VGC', 0.5),\n",
       " ('HII', 0.5),\n",
       " ('STC', 0.5),\n",
       " ('YKM', 0.5),\n",
       " ('FDY', 0.5),\n",
       " ('LZU', 0.5),\n",
       " ('PYM', 0.5),\n",
       " ('LWM', 0.5),\n",
       " ('UST', 0.5),\n",
       " ('BJC', 0.5),\n",
       " ('UOX', 0.5),\n",
       " ('PQI', 0.5),\n",
       " ('EKX', 0.5),\n",
       " ('DAY', 0.4992619926199262),\n",
       " ('EGX', 0.4991883116883117),\n",
       " ('MOB', 0.4991755976916735),\n",
       " ('BWG', 0.49744463373083475),\n",
       " ('MOT', 0.4967490247074122),\n",
       " ('LIT', 0.49667604193300946),\n",
       " ('CXF', 0.496551724137931),\n",
       " ('KNW', 0.49633699633699635),\n",
       " ('PRC', 0.4956140350877193),\n",
       " ('MNT', 0.4941860465116279),\n",
       " ('EAR', 0.4941860465116279),\n",
       " ('KAE', 0.4931506849315068),\n",
       " ('HNL', 0.49279981114258736),\n",
       " ('GSO', 0.49275035684771995),\n",
       " ('ABQ', 0.49121454993834773),\n",
       " ('CHS', 0.49019774974428915),\n",
       " ('SVS', 0.49014778325123154),\n",
       " ('SUX', 0.49),\n",
       " ('JHW', 0.4880952380952381),\n",
       " ('RDD', 0.4876237623762376),\n",
       " ('BGR', 0.48710558252427183),\n",
       " ('HYA', 0.4844290657439446),\n",
       " ('PIT', 0.48438156899016227),\n",
       " ('UGI', 0.484375),\n",
       " ('TPA', 0.48389968838106545),\n",
       " ('WRG', 0.48360655737704916),\n",
       " ('SBA', 0.48269809428284854),\n",
       " ('BIF', 0.4818181818181818),\n",
       " ('BHM', 0.48178084870608173),\n",
       " ('OWD', 0.48),\n",
       " ('BPT', 0.4798387096774194),\n",
       " ('GSP', 0.4793722638569415),\n",
       " ('MFR', 0.4788819875776398),\n",
       " ('KWN', 0.4788083538083538),\n",
       " ('BZN', 0.47856806406029206),\n",
       " ('FLG', 0.47844827586206895),\n",
       " ('MSY', 0.4767431713063967),\n",
       " ('SNA', 0.47655794991263833),\n",
       " ('LWB', 0.47619047619047616),\n",
       " ('VEE', 0.47544642857142855),\n",
       " ('VGT', 0.47540983606557374),\n",
       " ('FNL', 0.4752941176470588),\n",
       " ('PSG', 0.4752475247524752),\n",
       " ('PVU', 0.47418244406196214),\n",
       " ('VAK', 0.47259136212624586),\n",
       " ('ORH', 0.4722222222222222),\n",
       " ('CNY', 0.47115384615384615),\n",
       " ('FID', 0.47058823529411764),\n",
       " ('TUL', 0.4701117955738079),\n",
       " ('MHK', 0.4697125256673511),\n",
       " ('CMH', 0.4695420506912442),\n",
       " ('SHD', 0.4695121951219512),\n",
       " ('ESD', 0.46938775510204084),\n",
       " ('BOI', 0.4682698064258631),\n",
       " ('OBU', 0.4672131147540984),\n",
       " ('TOG', 0.4672131147540984),\n",
       " ('MOD', 0.46710526315789475),\n",
       " ('NTD', 0.4666666666666667),\n",
       " ('ACY', 0.46628613666228647),\n",
       " ('CPR', 0.46594827586206894),\n",
       " ('FRG', 0.4653710247349823),\n",
       " ('SJT', 0.464735516372796),\n",
       " ('OKK', 0.4642857142857143),\n",
       " ('LUK', 0.46405228758169936),\n",
       " ('OLH', 0.46396396396396394),\n",
       " ('BIS', 0.462890625),\n",
       " ('RAP', 0.46287593984962405),\n",
       " ('SMK', 0.46274834437086093),\n",
       " ('AKP', 0.46264744429882043),\n",
       " ('TYS', 0.4624247400109469),\n",
       " ('CAE', 0.46210006441915397),\n",
       " ('CID', 0.46184262554369315),\n",
       " ('PBG', 0.46174863387978143),\n",
       " ('APA', 0.46153846153846156),\n",
       " ('BDR', 0.46153846153846156),\n",
       " ('PHO', 0.4613947696139477),\n",
       " ('PKB', 0.46),\n",
       " ('SPI', 0.4598290598290598),\n",
       " ('CVG', 0.4596127920910725),\n",
       " ('LGA', 0.4587022598123431),\n",
       " ('SPS', 0.45851917930419267),\n",
       " ('OKC', 0.45536684782608694),\n",
       " ('BRO', 0.4541577825159915),\n",
       " ('BNA', 0.45367677606979645),\n",
       " ('RDU', 0.45356948722594675),\n",
       " ('ABI', 0.45258776692001446),\n",
       " ('TAL', 0.45095367847411444),\n",
       " ('GLH', 0.45),\n",
       " ('BAF', 0.45),\n",
       " ('SLE', 0.45),\n",
       " ('ISN', 0.449874686716792),\n",
       " ('OMA', 0.44961730850358583),\n",
       " ('RFD', 0.4482145503037487),\n",
       " ('CKB', 0.4480682388359257),\n",
       " ('FWA', 0.44793913251857176),\n",
       " ('CVO', 0.4473684210526316),\n",
       " ('DPA', 0.4470198675496689),\n",
       " ('DSM', 0.4469721660908676),\n",
       " ('BRD', 0.44696969696969696),\n",
       " ('SAT', 0.44519431107890206),\n",
       " ('FSD', 0.4450731707317073),\n",
       " ('RIC', 0.4450278109892395),\n",
       " ('TUS', 0.44502374561222385),\n",
       " ('EHM', 0.4444444444444444),\n",
       " ('HKY', 0.4444444444444444),\n",
       " ('JQF', 0.4440268183665177),\n",
       " ('TCL', 0.4438976377952756),\n",
       " ('LAW', 0.4434782608695652),\n",
       " ('CRP', 0.4433628318584071),\n",
       " ('BLI', 0.44333748443337484),\n",
       " ('EUG', 0.442889454339836),\n",
       " ('EKA', 0.4423076923076923),\n",
       " ('GRR', 0.44183579661975814),\n",
       " ('GEG', 0.4412775968150561),\n",
       " ('ONT', 0.440975387420237),\n",
       " ('KEH', 0.44),\n",
       " ('MSN', 0.4397661310675528),\n",
       " ('MDW', 0.4389039468310251),\n",
       " ('COS', 0.4381340142157201),\n",
       " ('MLI', 0.4377462568951931),\n",
       " ('HHH', 0.4375),\n",
       " ('ICT', 0.4347646573080099),\n",
       " ('LNK', 0.4335963923337091),\n",
       " ('MWH', 0.43333333333333335),\n",
       " ('BED', 0.432372270510918),\n",
       " ('KTB', 0.4323583180987203),\n",
       " ('SJC', 0.43164047073690864),\n",
       " ('DUJ', 0.43137254901960786),\n",
       " ('LAN', 0.4304014997656616),\n",
       " ('SLN', 0.43028322440087147),\n",
       " ('GPT', 0.42813087626927415),\n",
       " ('SMX', 0.42806603773584906),\n",
       " ('CSG', 0.4273371732388126),\n",
       " ('SMF', 0.4268837803320562),\n",
       " ('ARC', 0.4264305177111717),\n",
       " ('ANB', 0.4255952380952381),\n",
       " ('DOV', 0.42452830188679247),\n",
       " ('CLL', 0.42442188381274676),\n",
       " ('FMN', 0.4222222222222222),\n",
       " ('LEW', 0.42105263157894735),\n",
       " ('AET', 0.4208211143695015),\n",
       " ('PSM', 0.42003853564547206),\n",
       " ('STL', 0.4192932351524327),\n",
       " ('FSM', 0.41875),\n",
       " ('ME3', 0.4166666666666667),\n",
       " ('KLG', 0.41524265208475736),\n",
       " ('GRI', 0.4144981412639405),\n",
       " ('STP', 0.4117647058823529),\n",
       " ('FLL', 0.41163266051027486),\n",
       " ('TYR', 0.4111519607843137),\n",
       " ('GCN', 0.40853658536585363),\n",
       " ('GRK', 0.40843465045592703),\n",
       " ('PAQ', 0.40641711229946526),\n",
       " ('GLR', 0.40625),\n",
       " ('AUS', 0.40593563235457886),\n",
       " ('ACT', 0.4054480852743782),\n",
       " ('CGA', 0.4051094890510949),\n",
       " ('GYY', 0.4046153846153846),\n",
       " ('IND', 0.4029067632089826),\n",
       " ('LKE', 0.4027777777777778),\n",
       " ('MCO', 0.40202660504621535),\n",
       " ('BIL', 0.40186271127975165),\n",
       " ('UTM', 0.4015239477503628),\n",
       " ('MCI', 0.40111940298507465),\n",
       " ('CLE', 0.40080328247803976),\n",
       " ('OLM', 0.4),\n",
       " ('KLN', 0.3978201634877384),\n",
       " ('JFK', 0.3975674512055109),\n",
       " ('BTR', 0.3975080951710545),\n",
       " ('DCA', 0.3973590016445777),\n",
       " ('EMK', 0.39642549526270454),\n",
       " ('UTO', 0.39622641509433965),\n",
       " ('CEF', 0.39591836734693875),\n",
       " ('LEX', 0.3952963917525773),\n",
       " ('TUP', 0.3948339483394834),\n",
       " ('PUB', 0.39288522012578614),\n",
       " ('MMU', 0.39285714285714285),\n",
       " ('MKE', 0.39264037734540286),\n",
       " ('PIR', 0.38963963963963966),\n",
       " ('OLS', 0.38922155688622756),\n",
       " ('JBR', 0.3888888888888889),\n",
       " ('PIE', 0.386517199017199),\n",
       " ('HNH', 0.38650306748466257),\n",
       " ('CDC', 0.38650306748466257),\n",
       " ('BOS', 0.3860376434368878),\n",
       " ('BFI', 0.3855567509413663),\n",
       " ('BLM', 0.38461538461538464),\n",
       " ('GFK', 0.3839920948616601),\n",
       " ('TOL', 0.382641252552757),\n",
       " ('BRW', 0.3823818897637795),\n",
       " ('PDX', 0.38092997508995297),\n",
       " ('DUT', 0.38064046579330424),\n",
       " ('FRD', 0.38),\n",
       " ('BWI', 0.3783526445660337),\n",
       " ('PHL', 0.37779275532738693),\n",
       " ('LAL', 0.37755102040816324),\n",
       " ('PAE', 0.3763440860215054),\n",
       " ('OAK', 0.37520810890216433),\n",
       " ('ALO', 0.37479806138933763),\n",
       " ('PIB', 0.37475728155339805),\n",
       " ('DAL', 0.374643536121673),\n",
       " ('NNK', 0.37404580152671757),\n",
       " ('ELP', 0.3703402419183702),\n",
       " ('IAG', 0.3695652173913043),\n",
       " ('SHV', 0.36944245889921373),\n",
       " ('CDB', 0.3689538807649044),\n",
       " ('SIT', 0.36885245901639346),\n",
       " ('KSM', 0.3677161005247169),\n",
       " ('CLT', 0.3664476274857255),\n",
       " ('PTK', 0.3639812446717818),\n",
       " ('GAI', 0.36363636363636365),\n",
       " ('MCW', 0.36363636363636365),\n",
       " ('CYS', 0.3630926954293037),\n",
       " ('TVF', 0.35784313725490197),\n",
       " ('DET', 0.35714285714285715),\n",
       " ('CDV', 0.3569620253164557),\n",
       " ('OGD', 0.3537234042553192),\n",
       " ('MKL', 0.35294117647058826),\n",
       " ('BVY', 0.35294117647058826),\n",
       " ('EWR', 0.35207620351357516),\n",
       " ('SFO', 0.34822498502097066),\n",
       " ('YNG', 0.347970173985087),\n",
       " ('PHX', 0.3477478576438657),\n",
       " ('MQY', 0.3469015795868773),\n",
       " ('VLD', 0.34615384615384615),\n",
       " ('BTT', 0.3447024673439768),\n",
       " ('SDF', 0.344687532712237),\n",
       " ('VNY', 0.3438003220611916),\n",
       " ('FAR', 0.34345945945945944),\n",
       " ('MIA', 0.3418760608843254),\n",
       " ('OPF', 0.33967391304347827),\n",
       " ('GAL', 0.33946251768033947),\n",
       " ('PDT', 0.33653846153846156),\n",
       " ('ADS', 0.3364695340501792),\n",
       " ('FYU', 0.3344240837696335),\n",
       " ('GKN', 0.3333333333333333),\n",
       " ('ASN', 0.3333333333333333),\n",
       " ('OLV', 0.3333333333333333),\n",
       " ('ISM', 0.3333333333333333),\n",
       " ('MTO', 0.3333333333333333),\n",
       " ('SLC', 0.33282287759386076),\n",
       " ('FLO', 0.32706766917293234),\n",
       " ('IAD', 0.3262724264457601),\n",
       " ('FOK', 0.32575757575757575),\n",
       " ('SCC', 0.32238547968885045),\n",
       " ('BFD', 0.32061068702290074),\n",
       " ('RIV', 0.3202247191011236),\n",
       " ('FBK', 0.32018779342723),\n",
       " ('MEM', 0.31334898390738686),\n",
       " ('SEA', 0.31213527625157833),\n",
       " ('DTW', 0.309604571013967),\n",
       " ('UNK', 0.30764163372859027),\n",
       " ('IAH', 0.3055754110078628),\n",
       " ('VCV', 0.3),\n",
       " ('TTD', 0.3),\n",
       " ('PGD', 0.29931972789115646),\n",
       " ('LAS', 0.2943872171303431),\n",
       " ('ART', 0.29069767441860467),\n",
       " ('BFF', 0.2886690647482014),\n",
       " ('ENA', 0.2842712842712843),\n",
       " ('DFW', 0.2841813749691434),\n",
       " ('WFB', 0.2826086956521739),\n",
       " ('GON', 0.28),\n",
       " ('PGA', 0.2797074954296161),\n",
       " ('ILI', 0.27533718689788056),\n",
       " ('DLG', 0.2729314863347061),\n",
       " ('ANI', 0.2706889081455806),\n",
       " ('LRD', 0.26691407365115616),\n",
       " ('LAX', 0.2665544787316005),\n",
       " ('SFB', 0.25971162595366415),\n",
       " ('KTN', 0.2589453860640301),\n",
       " ('ORD', 0.2538382462885827),\n",
       " ('TCM', 0.25),\n",
       " ('EDF', 0.24528301886792453),\n",
       " ('OTZ', 0.2451830443159923),\n",
       " ('OXC', 0.24390243902439024),\n",
       " ('LSV', 0.24285714285714285),\n",
       " ('MCG', 0.24284844796104688),\n",
       " ('HOM', 0.24088541666666666),\n",
       " ('IFP', 0.23877162355181716),\n",
       " ('ATL', 0.2373366293575042),\n",
       " ('MSP', 0.22176584083995218),\n",
       " ('PNE', 0.21951219512195122),\n",
       " ('AKN', 0.21533638775018085),\n",
       " ('MRI', 0.21311475409836064),\n",
       " ('HPN', 0.21149286718906973),\n",
       " ('DEN', 0.20700321702548874),\n",
       " ('OME', 0.20474106491611962),\n",
       " ('MVY', 0.20389773679798825),\n",
       " ('BET', 0.19041287613715885),\n",
       " ('JNU', 0.1882494004796163),\n",
       " ('TEB', 0.18741450068399454),\n",
       " ('YIP', 0.1863188444924406),\n",
       " ('TKJ', 0.18181818181818182),\n",
       " ('ENV', 0.17974916207157532),\n",
       " ('BUR', 0.17837511730795014),\n",
       " ('HOP', 0.16666666666666666),\n",
       " ('NUQ', 0.16666666666666666),\n",
       " ('LFI', 0.16666666666666666),\n",
       " ('SZL', 0.16666666666666666),\n",
       " ('ADQ', 0.14404202377661046),\n",
       " ('FXE', 0.14285714285714285),\n",
       " ('ACK', 0.13218978102189782),\n",
       " ('SUU', 0.1),\n",
       " ('HAO', 0.1),\n",
       " ('FAI', 0.09012875536480687),\n",
       " ('ANC', 0.08461760657910387),\n",
       " ('FTW', 0.07692307692307693),\n",
       " ('ARA', 0.07692307692307693),\n",
       " ('CIL', 0),\n",
       " ('GMT', 0),\n",
       " ('A27', 0),\n",
       " ('AK7', 0),\n",
       " ('CKU', 0),\n",
       " ('SYA', 0),\n",
       " ('A40', 0),\n",
       " ('06A', 0),\n",
       " ('NIN', 0),\n",
       " ('A14', 0),\n",
       " ('MDH', 0),\n",
       " ('COE', 0),\n",
       " ('DWA', 0),\n",
       " ('FWS', 0),\n",
       " ('IN2', 0),\n",
       " ('TX1', 0),\n",
       " ('ELY', 0),\n",
       " ('IWD', 0),\n",
       " ('MOP', 0),\n",
       " ('CYM', 0),\n",
       " ('FNR', 0),\n",
       " ('HBH', 0),\n",
       " ('MYK', 0),\n",
       " ('OXR', 0),\n",
       " ('NUW', 0),\n",
       " ('MUE', 0),\n",
       " ('BYA', 0),\n",
       " ('TKA', 0),\n",
       " ('SKW', 0),\n",
       " ('BCE', 0),\n",
       " ('1N7', 0),\n",
       " ('BFT', 0),\n",
       " ('CEU', 0),\n",
       " ('CKV', 0),\n",
       " ('CNM', 0),\n",
       " ('LAM', 0),\n",
       " ('HEZ', 0),\n",
       " ('UGN', 0),\n",
       " ('BID', 0),\n",
       " ('NKT', 0),\n",
       " ('EDE', 0),\n",
       " ('SGR', 0),\n",
       " ('ROG', 0),\n",
       " ('IRK', 0),\n",
       " ('TBN', 0),\n",
       " ('UIN', 0),\n",
       " ('MSS', 0),\n",
       " ('MFI', 0),\n",
       " ('ASH', 0),\n",
       " ('SEG', 0),\n",
       " ('OLU', 0),\n",
       " ('APF', 0),\n",
       " ('EDW', 0),\n",
       " ('GFL', 0),\n",
       " ('PBF', 0),\n",
       " ('HFD', 0),\n",
       " ('POU', 0),\n",
       " ('PGC', 0),\n",
       " ('RBN', 0),\n",
       " ('WST', 0),\n",
       " ('MJX', 0),\n",
       " ('HAR', 0),\n",
       " ('DMA', 0),\n",
       " ('ANP', 0),\n",
       " ('IJX', 0),\n",
       " ('WYB', 0),\n",
       " ('CCR', 0),\n",
       " ('TMB', 0)]"
      ]
     },
     "execution_count": 34,
     "metadata": {},
     "output_type": "execute_result"
    }
   ],
   "source": [
    "#Clustering for nodes\n",
    "clustering = nx.clustering(G)\n",
    "clustering_sorted = sorted(clustering.items(), key=lambda x: x[1], reverse=True)\n",
    "clustering_sorted"
   ]
  },
  {
   "cell_type": "code",
   "execution_count": 35,
   "metadata": {},
   "outputs": [],
   "source": [
    "#Clustering coefficient plottet"
   ]
  },
  {
   "cell_type": "code",
   "execution_count": 36,
   "metadata": {},
   "outputs": [
    {
     "data": {
      "image/png": "[encoded data removed]",
      "text/plain": [
       "<Figure size 720x720 with 1 Axes>"
      ]
     },
     "metadata": {
      "needs_background": "light"
     },
     "output_type": "display_data"
    }
   ],
   "source": [
    "t = [x[1] for x in clustering_sorted]\n",
    "fig = plt.figure(figsize = (10,10))\n",
    "plt.hist(t, bins = 50,color = 'gray',edgecolor = 'black')\n",
    "plt.xlabel('Clustering coefficient',fontsize = 15)\n",
    "plt.ylabel('No. of nodes',fontsize = 15)\n",
    "plt.title('Histogram of clustering coefficient distribution',fontsize = 15);"
   ]
  },
  {
   "cell_type": "code",
   "execution_count": 37,
   "metadata": {
    "scrolled": false
   },
   "outputs": [
    {
     "data": {
      "image/png": "[encoded data removed]",
      "text/plain": [
       "<Figure size 720x720 with 1 Axes>"
      ]
     },
     "metadata": {
      "needs_background": "light"
     },
     "output_type": "display_data"
    }
   ],
   "source": [
    "plot_degree_dist_hist(G)"
   ]
  },
  {
   "cell_type": "code",
   "execution_count": 39,
   "metadata": {},
   "outputs": [
    {
     "ename": "NameError",
     "evalue": "name 'x' is not defined",
     "output_type": "error",
     "traceback": [
      "\u001b[1;31m---------------------------------------------------------------------------\u001b[0m",
      "\u001b[1;31mNameError\u001b[0m                                 Traceback (most recent call last)",
      "\u001b[1;32m<ipython-input-39-958c0a347ace>\u001b[0m in \u001b[0;36m<module>\u001b[1;34m\u001b[0m\n\u001b[1;32m----> 1\u001b[1;33m \u001b[0msum\u001b[0m\u001b[1;33m(\u001b[0m\u001b[0mi\u001b[0m \u001b[1;33m>\u001b[0m \u001b[0mx\u001b[0m \u001b[1;32mfor\u001b[0m \u001b[0mi\u001b[0m \u001b[1;32min\u001b[0m \u001b[0mli\u001b[0m\u001b[1;33m)\u001b[0m\u001b[1;33m\u001b[0m\u001b[1;33m\u001b[0m\u001b[0m\n\u001b[0m",
      "\u001b[1;32m<ipython-input-39-958c0a347ace>\u001b[0m in \u001b[0;36m<genexpr>\u001b[1;34m(.0)\u001b[0m\n\u001b[1;32m----> 1\u001b[1;33m \u001b[0msum\u001b[0m\u001b[1;33m(\u001b[0m\u001b[0mi\u001b[0m \u001b[1;33m>\u001b[0m \u001b[0mx\u001b[0m \u001b[1;32mfor\u001b[0m \u001b[0mi\u001b[0m \u001b[1;32min\u001b[0m \u001b[0mli\u001b[0m\u001b[1;33m)\u001b[0m\u001b[1;33m\u001b[0m\u001b[1;33m\u001b[0m\u001b[0m\n\u001b[0m",
      "\u001b[1;31mNameError\u001b[0m: name 'x' is not defined"
     ]
    }
   ],
   "source": [
    "\n"
   ]
  },
  {
   "cell_type": "code",
   "execution_count": 42,
   "metadata": {},
   "outputs": [],
   "source": [
    "def helper(li, x):\n",
    "    return sum(i > x for i in li)"
   ]
  },
  {
   "cell_type": "code",
   "execution_count": 43,
   "metadata": {},
   "outputs": [],
   "source": [
    "def plot_degree_dist_log(G):\n",
    "    degrees = [G.out_degree(n) for n in G.nodes()]\n",
    "    \n",
    "    fig = plt.figure(figsize = (10,10))\n",
    "    degrees = sorted(degrees, reverse= True)\n",
    "    \n",
    "    temp = []\n",
    "    for i in range(max(degrees)):\n",
    "        temp.append(helper(degrees,i))\n",
    "    \n",
    "    plt.loglog(temp,color = 'gray')\n",
    "    plt.title('Out-degree distribution using a loglog plot',fontsize = 15)\n",
    "    plt.show()"
   ]
  },
  {
   "cell_type": "code",
   "execution_count": 44,
   "metadata": {},
   "outputs": [
    {
     "data": {
      "image/png": "[encoded data removed]",
      "text/plain": [
       "<Figure size 720x720 with 1 Axes>"
      ]
     },
     "metadata": {
      "needs_background": "light"
     },
     "output_type": "display_data"
    }
   ],
   "source": [
    "#Degree distribution using a loglog plot.\n",
    "#If it were to be a straight line it would follow a power law, since it is not a straight line, it does not follow a power law\n",
    "plot_degree_dist_log(G)"
   ]
  },
  {
   "cell_type": "markdown",
   "metadata": {},
   "source": [
    "### Assortative analysis"
   ]
  },
  {
   "cell_type": "code",
   "execution_count": null,
   "metadata": {},
   "outputs": [],
   "source": [
    "#nx.degree_assortativity_coefficient(G)"
   ]
  },
  {
   "cell_type": "code",
   "execution_count": null,
   "metadata": {},
   "outputs": [],
   "source": [
    "#nx.average_neighbor_degree(G)"
   ]
  },
  {
   "cell_type": "code",
   "execution_count": null,
   "metadata": {},
   "outputs": [],
   "source": [
    "#homophilu, Configuration Network "
   ]
  },
  {
   "cell_type": "markdown",
   "metadata": {},
   "source": [
    "# IV. Possible measures of importance / centrality"
   ]
  },
  {
   "cell_type": "markdown",
   "metadata": {},
   "source": [
    "### Generating a weighted graph"
   ]
  },
  {
   "cell_type": "code",
   "execution_count": null,
   "metadata": {},
   "outputs": [],
   "source": [
    "edges = [(row['ORIGIN'], row['DEST'], {'weight': row['PASSENGERS']}) for _, row in data_filtered.iterrows()]"
   ]
  },
  {
   "cell_type": "code",
   "execution_count": null,
   "metadata": {},
   "outputs": [],
   "source": [
    "G_weighted = nx.DiGraph()\n",
    "G_weighted.add_edges_from(edges)"
   ]
  },
  {
   "cell_type": "markdown",
   "metadata": {},
   "source": [
    "## A) Node metrics\n",
    "### _Degree-based_: Degree Centrality\n",
    "The number of links incident upon a node. The degree can be interpreted in terms of the immediate risk of a node for catching whatever is flowing through the network (such as a virus, or some information). Since we have a directed network, we should define both an indegree and outdegree."
   ]
  },
  {
   "cell_type": "markdown",
   "metadata": {},
   "source": [
    "Basicly just the degree "
   ]
  },
  {
   "cell_type": "code",
   "execution_count": null,
   "metadata": {},
   "outputs": [],
   "source": [
    "# Computing in-degree for nodes in G\n",
    "sorted_in_degree = sorted(nx.in_degree_centrality(G_weighted).items(), key=lambda x: x[1], reverse=True)\n",
    "\n",
    "# Selecting 10 highest ranking nodes\n",
    "sorted_in_degree[0:10]"
   ]
  },
  {
   "cell_type": "code",
   "execution_count": null,
   "metadata": {},
   "outputs": [],
   "source": [
    "# Computing out-degree for all nodes in G\n",
    "sorted_out_degree = sorted(nx.out_degree_centrality(G_weighted).items(), key=lambda x: x[1], reverse=True)\n",
    "\n",
    "# Selecting 10 highest ranking nodes\n",
    "sorted_out_degree[:10]"
   ]
  },
  {
   "cell_type": "markdown",
   "metadata": {},
   "source": [
    "### _Degree-based_: Eigenvector centrailty (eigencentrality)\n",
    " - Lecture 2\n",
    " \n",
    "Assigns relative scores to all nodes in the network based on the concept that connections to high-scoring nodes contribute more to the score of the node in question than equal connections to low-scoring nodes.\n",
    "\n",
    "Using the adjacency matrix to find eigenvector centrality: In general, there will be many different eigenvalues \n",
    "$\\lambda$  for which a non-zero eigenvector solution exists. Since the entries in the adjacency matrix are non-negative, there is a unique largest eigenvalue, which is real and positive, by the Perron–Frobenius theorem. This greatest eigenvalue results in the desired centrality measure. The $v$'th component of the related eigenvector then gives the relative centrality score of the vertex $v$ in the network.\n",
    "\n",
    "Can we use the eigenvectors to discover 'bridges' between clusters?\n",
    "\n",
    "For directed graphs, we can use the Eigen Vector Centrality to evaluate the “importance” of a node (based on the out-degree Eigen Vector) and the “prestige” of a node (through the in-degree Eigen Vector).\n",
    "- A node is considered to be more important if it has out-going links to nodes that in turn have a larger out-degree (i.e., more out-going links).\n",
    "- A node is considered to have a higher “prestige”, if it has in-coming links from nodes that themselves have a larger in-degree (i.e., more in-coming links).\n",
    "\n",
    "**OBS**: Is it problematic for directed graphs?? Eigenvector centrality will not take zero in-degree nodes into account in directed graphs. \n",
    "_Example_: A new research paper is published and it references a handful of existing papers. It would not contribute to any of those referenced papers in this citation network because it is not cited by any other papers and has zero eigenvector centrality."
   ]
  },
  {
   "cell_type": "code",
   "execution_count": null,
   "metadata": {},
   "outputs": [],
   "source": []
  },
  {
   "cell_type": "markdown",
   "metadata": {},
   "source": [
    "Basicly this is the un-normalized eigenvectors which the pagerank is made out of"
   ]
  },
  {
   "cell_type": "code",
   "execution_count": null,
   "metadata": {},
   "outputs": [],
   "source": [
    "# Computing in-edges eigenvector centrality for all nodes in G\n",
    "sorted_eigenvector_in = sorted(nx.eigenvector_centrality(G_weighted, weight='weights').items(), \n",
    "                            key=lambda x: x[1], reverse=True)\n",
    "\n",
    "# Selecting 10 highest ranking nodes\n",
    "sorted_eigenvector_in[:10]"
   ]
  },
  {
   "cell_type": "code",
   "execution_count": null,
   "metadata": {},
   "outputs": [],
   "source": [
    "# Computing out-edges eigenvector centrality for all nodes in G\n",
    "sorted_eigenvector_out = sorted(nx.eigenvector_centrality(G_weighted.reverse(), weight='weights').items(), \n",
    "                            key=lambda x: x[1], reverse=True) # G.reverse() = out-edges distance, directions reversed\n",
    "\n",
    "# Selecting 10 highest ranking nodes\n",
    "sorted_eigenvector_out[:10]"
   ]
  },
  {
   "cell_type": "markdown",
   "metadata": {},
   "source": [
    "### _Shortest-path-based_: Closeness centrailty\n",
    "Is a measure of centrality in a network, calculated as the reciprocal of the sum of the length of the shortest paths between the node and all other nodes in the graph. The more central a node is, the closer it is to all other nodes.\n",
    "\n",
    "We must consider taking distances _from_ or _to_ all other nodes, as it can produce very different results in directed graphs (e.g. an airport can have a high closeness centrality from outgoing routes, but low closeness centrality from incoming routes)."
   ]
  },
  {
   "cell_type": "code",
   "execution_count": null,
   "metadata": {},
   "outputs": [],
   "source": []
  },
  {
   "cell_type": "markdown",
   "metadata": {},
   "source": [
    "Closeness centrality indicates how close a node is to all other nodes in the network. It is calculated as the average of the shortest path length from the node to every other node in the network. "
   ]
  },
  {
   "cell_type": "markdown",
   "metadata": {},
   "source": [
    "st is the number of shortest paths from node s to t.\n",
    "st(v) is the amount of those shortest paths going through the node v.\n",
    "We then normalize it using our normalize function\n",
    "$\\frac{g(v)-min(g)}{max(g)-min(g)}$"
   ]
  },
  {
   "cell_type": "markdown",
   "metadata": {},
   "source": [
    "\n",
    "g(v) = $\\sum_{s\\neq v \\neq t}(\\frac{\\sigma_{st}(v)}{\\sigma st})$\n"
   ]
  },
  {
   "cell_type": "code",
   "execution_count": null,
   "metadata": {},
   "outputs": [],
   "source": [
    "# Computing inward distance for all nodes, using edge weights\n",
    "sorted_closeness_centrality_in = sorted(nx.closeness_centrality(G_weighted, distance='weights', wf_improved=False).items(), \n",
    "                                      key=lambda x: x[1], reverse=True) # wf=True only for disconnected graphs\n",
    "\n",
    "# Selecting 10 highest ranking nodes\n",
    "sorted_closeness_centrality_in[:10]"
   ]
  },
  {
   "cell_type": "code",
   "execution_count": null,
   "metadata": {},
   "outputs": [],
   "source": [
    "# Computing outward distance for all nodes, using edge weights\n",
    "sorted_closeness_centrality_out = sorted(nx.closeness_centrality(G_weighted.reverse(), distance='weights', wf_improved=False).items(), \n",
    "                                      key=lambda x: x[1], reverse=True) # G.reverse() = outward distance, directions reversed\n",
    "\n",
    "# Selecting 10 highest ranking nodes\n",
    "sorted_closeness_centrality_out[:10]"
   ]
  },
  {
   "cell_type": "markdown",
   "metadata": {},
   "source": [
    "### _Shortest-path-based_: Betweenness centrailty (node)  \n",
    "- Lecture 3\n",
    "\n",
    "Quantifies the number of times a _node_ acts as a bridge along the shortest path between two other nodes. In his conception, nodes that have a high probability to occur on a randomly chosen shortest path between two randomly chosen vertices have a high betweenness. The measure is related to a network's connectivity - high betweenness nodes have the potential to disconnect graphs if removed.\n",
    "\n",
    "(Find out which algorithm to use for directed, weighted graph)."
   ]
  },
  {
   "cell_type": "code",
   "execution_count": null,
   "metadata": {},
   "outputs": [],
   "source": [
    "#"
   ]
  },
  {
   "cell_type": "markdown",
   "metadata": {},
   "source": [
    "Amount of times a node is in a shortest path"
   ]
  },
  {
   "cell_type": "code",
   "execution_count": null,
   "metadata": {},
   "outputs": [],
   "source": [
    "# Remove edges with weight zero (or use graph with +1 values, Markus)\n",
    "G_nonzero = G_weighted.copy()\n",
    "to_remove = [(a,b) for a, b, attrs in G_weighted.edges(data=True) if attrs[\"weight\"] <= 0.0]\n",
    "G_nonzero.remove_edges_from(to_remove)"
   ]
  },
  {
   "cell_type": "code",
   "execution_count": null,
   "metadata": {},
   "outputs": [],
   "source": [
    "# Computing betweenness centrality for all nodes in G\n",
    "betweenness = sorted(nx.betweenness_centrality(G_nonzero, normalized=True, weight='weights', endpoints=False, seed=0).items(), \n",
    "               key=lambda x: x[1], reverse=True) # set seed to make reproducible \n",
    "\n",
    "# Selecting 10 highest ranking nodes\n",
    "betweenness[:10]"
   ]
  },
  {
   "cell_type": "markdown",
   "metadata": {},
   "source": [
    "## B) Edge measures \n",
    "\n",
    "#### Betweenness centrailty (edge)\n",
    "The number of the shortest paths to go through an _edge_ in a graph or network (Girvan and Newman). An edge with a high edge betweenness centrality score represents a bridge-like connector between two parts of a network (as with node betweenness centrailty), where the removal may affect the 'communication' between many pairs of nodes through the shortest paths between them."
   ]
  },
  {
   "cell_type": "code",
   "execution_count": null,
   "metadata": {},
   "outputs": [],
   "source": [
    "# Computing betweenness centrality for all edges in G\n",
    "edge_betweenness = [(k, v) for k, v in sorted(nx.edge_betweenness_centrality(G_weighted, normalized=True, weight='weights', seed=0).items(), key=lambda item: item[1], reverse=True)]\n",
    "\n",
    "# Selecting 10 highest ranking edges\n",
    "edge_betweenness[:10]"
   ]
  },
  {
   "cell_type": "code",
   "execution_count": null,
   "metadata": {},
   "outputs": [],
   "source": [
    "sorted_page_rank = sorted(nx.pagerank(G_weighted).items(),key = lambda x: x[1], reverse = True)"
   ]
  },
  {
   "cell_type": "markdown",
   "metadata": {},
   "source": [
    "# Community discovery"
   ]
  },
  {
   "cell_type": "markdown",
   "metadata": {},
   "source": [
    "### CD: Girvan-Newman\n",
    "Communities are discovered by iteratively removing the \"most valuable\" edges of the graph. This value is based on the edge betweenness centrality (the number of shortest paths that pass through an edge)"
   ]
  },
  {
   "cell_type": "code",
   "execution_count": null,
   "metadata": {},
   "outputs": [],
   "source": [
    "#G_comm = nx.DiGraph()"
   ]
  },
  {
   "cell_type": "code",
   "execution_count": null,
   "metadata": {},
   "outputs": [],
   "source": [
    "#communities = girvan_newman(G)"
   ]
  },
  {
   "cell_type": "code",
   "execution_count": null,
   "metadata": {},
   "outputs": [],
   "source": [
    "#node_groups = [list(com) for com in next(communities)]"
   ]
  },
  {
   "cell_type": "code",
   "execution_count": null,
   "metadata": {},
   "outputs": [],
   "source": [
    "#print('no. of communities:', len(node_groups))"
   ]
  },
  {
   "cell_type": "code",
   "execution_count": null,
   "metadata": {},
   "outputs": [],
   "source": [
    "#node_groups"
   ]
  },
  {
   "cell_type": "markdown",
   "metadata": {},
   "source": [
    "# V. Map visualization"
   ]
  },
  {
   "cell_type": "code",
   "execution_count": null,
   "metadata": {},
   "outputs": [],
   "source": [
    "mask = ~data_filtered_coord['ORIGIN'].isin(['SYA','TNK','RBN']) & ~data_filtered_coord['DEST'].isin(['SYA','TNK','RBN'])"
   ]
  },
  {
   "cell_type": "code",
   "execution_count": null,
   "metadata": {},
   "outputs": [],
   "source": [
    "x_zip = list(zip(data_filtered_coord[mask]['latitude_origin'],data_filtered_coord[mask]['latitude_dest']))\n",
    "y_zip = list(zip(data_filtered_coord[mask]['longitude_origin'],data_filtered_coord[mask]['longitude_dest']))"
   ]
  },
  {
   "cell_type": "code",
   "execution_count": null,
   "metadata": {},
   "outputs": [],
   "source": [
    "coords_name_df = pd.DataFrame()\n",
    "coords_name_df['ORIGIN'] = data_filtered_coord[mask]['ORIGIN']\n",
    "coords_name_df['COORDS'] = list(zip(data_filtered_coord[mask]['latitude_origin'],data_filtered_coord[mask]['longitude_origin']))"
   ]
  },
  {
   "cell_type": "code",
   "execution_count": null,
   "metadata": {},
   "outputs": [],
   "source": [
    "coords_name_df = coords_name_df.drop_duplicates()"
   ]
  },
  {
   "cell_type": "markdown",
   "metadata": {},
   "source": [
    "Using matplotlib and mplleaflet(if you install mplleaflet you need to change something in the source code so remind me to tell you how)"
   ]
  },
  {
   "cell_type": "code",
   "execution_count": null,
   "metadata": {},
   "outputs": [],
   "source": [
    "norm_pass = NormalizeData(data_filtered['PASSENGERS'])\n",
    "pass_count = []\n",
    "for i in norm_pass:\n",
    "    if i < 0.95:\n",
    "        i+= 0.05\n",
    "    pass_count.append(i)"
   ]
  },
  {
   "cell_type": "code",
   "execution_count": null,
   "metadata": {},
   "outputs": [],
   "source": [
    "fig,ax = plt.subplots(figsize = (125,75))\n",
    "for i, (x,y) in enumerate(zip(x_zip,y_zip)):\n",
    "    ax.plot(x,y,'grey',alpha = pass_count[i])\n",
    "ax.scatter(x_zip,y_zip)\n",
    "plt.show()"
   ]
  },
  {
   "cell_type": "markdown",
   "metadata": {},
   "source": [
    "using networkx"
   ]
  },
  {
   "cell_type": "code",
   "execution_count": null,
   "metadata": {},
   "outputs": [],
   "source": [
    "G_coord = nx.DiGraph()"
   ]
  },
  {
   "cell_type": "code",
   "execution_count": null,
   "metadata": {},
   "outputs": [],
   "source": [
    "pos = dict()\n",
    "for i,j in zip(coords_name_df['ORIGIN'],coords_name_df['COORDS']):\n",
    "    pos[i] = (j[0],j[1])\n",
    "    G_coord.add_node(i)"
   ]
  },
  {
   "cell_type": "code",
   "execution_count": null,
   "metadata": {},
   "outputs": [],
   "source": [
    "for i,j in zip(data_filtered_coord[mask]['ORIGIN'],data_filtered_coord[mask]['DEST']):\n",
    "    G_coord.add_edge(i,j,weight = pass_count)"
   ]
  },
  {
   "cell_type": "code",
   "execution_count": null,
   "metadata": {},
   "outputs": [],
   "source": [
    "nx.is_strongly_connected(G_coord)"
   ]
  },
  {
   "cell_type": "code",
   "execution_count": null,
   "metadata": {},
   "outputs": [],
   "source": [
    "color_map = []\n",
    "for node in G_coord:\n",
    "    if node in node_groups[0]:\n",
    "        color_map.append('blue')\n",
    "    elif node in node_groups[1]:\n",
    "        color_map.append('red')\n",
    "    else: \n",
    "        color_map.append('green')  \n",
    "#nx.draw(G, node_color=color_map, with_labels=True)\n",
    "#plt.show()"
   ]
  },
  {
   "cell_type": "code",
   "execution_count": null,
   "metadata": {},
   "outputs": [],
   "source": [
    "fig,ax = plt.subplots(figsize = (125,75))\n",
    "nx.draw(G_coord,pos = pos,ax = ax,with_labels = True,font_color = 'white',node_size = 5000,node_color = 'gray',edge_color = 'lightgray')\n",
    "plt.show()"
   ]
  },
  {
   "cell_type": "markdown",
   "metadata": {},
   "source": [
    "# VI. Research question"
   ]
  },
  {
   "cell_type": "markdown",
   "metadata": {},
   "source": [
    "How we made the probability formula"
   ]
  },
  {
   "cell_type": "markdown",
   "metadata": {},
   "source": [
    "We wanted to make a function where an airport 10 times the size of a smaller airport didn't have 10 times the chance of spreading compared to a smaller function.\n",
    "\n",
    "As an example, if a small airport has two routes with 80 passengers and 20 passengers, a larger airport with 800 and 200 passengers isn't 10 times as likely to spread.\n"
   ]
  },
  {
   "cell_type": "markdown",
   "metadata": {},
   "source": [
    "We have made a function which takes the proportions of the outgoing passengers aswell as the size of the airport into consideration. \n",
    "In short, this function punishes the size of the airport\n",
    "$f(node) = \\frac{node_{neighbor}[weight] +1}{\\sqrt{\\sum_{i \\in node_{neighbors}}(node_{i}[weight])}} $\n",
    "\n",
    "We used this function to generate a lot of data points. We then manually assigned a probability to each datapoint and made a powerlaw regression.\n",
    "The output of the regression is this function\n",
    "$P(infected) = 0.0682x^{0.4729}$"
   ]
  },
  {
   "cell_type": "markdown",
   "metadata": {},
   "source": [
    "The simulation is done using a SI model, so either Susceptible $\\textbf{S}$ or infected $\\textbf{I}$ \n",
    "\n",
    "First step is choosing a node at random.\n",
    "Earch tic S transitions into I with a probability explained above.\n",
    "\n",
    "The stopping criteria is either 250 nodes infected or 500 tics has been reached."
   ]
  },
  {
   "cell_type": "markdown",
   "metadata": {},
   "source": [
    "## Discussion notes\n",
    "\n",
    "Due to the very nature of how we have created our probability function it is biased\n",
    "and not a true equation but only an approximation.\n",
    "The underlying problem is the way we have designed it. Since we have made the model\n",
    "from what we consider a \"realistic\" probability, it is very biased in our viewpoint. \n",
    "\n",
    "We unfortunately have not done any empirical studies or used real world data which shows the\n",
    "an accurate representation of how a decease spreads exclusively throughout airports.\n",
    "This heavily limits us and forces us to make assumptions.\n",
    "\n",
    "However, when that is said the model has what we consider a \"fair\" \n",
    "balance between the clusters and remote airports. \n",
    "\n",
    "\n",
    "how we have removed the airports - what it means?\n",
    "\n",
    "Another problem is the way we control the spread.\n",
    "In our study we are simply removing the top 20 airports within a specific category.\n",
    "In real life, it wouldn't be binary but more of a scale, so that the airports are \n",
    "opperating at a reduced capacity untill it shuts down.\n",
    "Furthermore, once we remove an airport, the amount of people travaling isn't reduced,\n",
    "so therefor some of the neighbooring weights should probably be updated to reflect this behavior\n",
    "\n",
    "\n",
    "\n",
    "Other ways of controling spread\n",
    "\n",
    "Another way could be reducing the capacity of the airport, which would result in\n",
    "us deviding the outgoing passengers by some number, or you could make a \"mask mandated\"\n",
    "which would reduce the likelyhood of the dicease spreading. \n",
    "These would also combat the proble\n",
    "m of the graph no longer being stronly connected,\n",
    "which in our model is not the case.\n",
    "One could also simply remove some of the most \"important\" edges\n",
    "\n",
    "### check if the removal of nodes contains the stronly connected "
   ]
  },
  {
   "cell_type": "markdown",
   "metadata": {},
   "source": [
    "### Infection simulations"
   ]
  },
  {
   "cell_type": "code",
   "execution_count": null,
   "metadata": {
    "scrolled": true
   },
   "outputs": [],
   "source": [
    "def get_prob(airport_code):\n",
    "    subset = data_filtered[data_filtered[\"ORIGIN\"] == airport_code]\n",
    "    n = sum(subset[\"PASSENGERS\"])\n",
    "    for elm in subset.iterrows():\n",
    "       # print(elm)\n",
    "        dest = (elm[1][\"DEST_NAME\"])\n",
    "        passengers = (elm[1][\"PASSENGERS\"]) + 1\n",
    "        print(\"destination: \",dest)\n",
    "        print(\"passengers: \",passengers)\n",
    "        x = inverse_squareroot(passengers, n)\n",
    "        prob = exp_func(x)\n",
    "        print(\"sum: \",n)\n",
    "        print(\"x: \",x)\n",
    "        print(\"prob: \",prob)\n",
    "        print(\"-\"*75)\n",
    "get_prob(\"LAX\")"
   ]
  },
  {
   "cell_type": "code",
   "execution_count": null,
   "metadata": {},
   "outputs": [],
   "source": [
    "sum(data_filtered[data_filtered[\"ORIGIN\"] == \"AIN\"][\"PASSENGERS\"])"
   ]
  },
  {
   "cell_type": "code",
   "execution_count": null,
   "metadata": {
    "scrolled": true
   },
   "outputs": [],
   "source": [
    "data_filtered[data_filtered[\"ORIGIN\"] == \"AIN\"]"
   ]
  },
  {
   "cell_type": "code",
   "execution_count": null,
   "metadata": {},
   "outputs": [],
   "source": []
  },
  {
   "cell_type": "code",
   "execution_count": null,
   "metadata": {
    "scrolled": true
   },
   "outputs": [],
   "source": [
    "x = 0.05*(1/4803.0**0.5)\n",
    "x"
   ]
  },
  {
   "cell_type": "code",
   "execution_count": null,
   "metadata": {},
   "outputs": [],
   "source": [
    "(1-np.exp(-0.03*x))*100"
   ]
  },
  {
   "cell_type": "code",
   "execution_count": 71,
   "metadata": {},
   "outputs": [],
   "source": [
    "edges = [(row['ORIGIN'], row['DEST'], {'weight': row['PASSENGERS']}) for _, row in data_filtered.iterrows()]"
   ]
  },
  {
   "cell_type": "code",
   "execution_count": null,
   "metadata": {},
   "outputs": [],
   "source": [
    "obj_dict = {}\n",
    "obj_dict[\"baseline_random\"] = Simulation(edges)"
   ]
  },
  {
   "cell_type": "code",
   "execution_count": null,
   "metadata": {},
   "outputs": [],
   "source": [
    "obj_dict = {}\n",
    "obj_dict[\"baseline_nothing\"] = Simulation(edges)\n",
    "obj_dict[\"baseline_random\"] = Simulation(edges)\n",
    "#obj_dict[\"node_degree_centrality\"] = Simulation(edges)\n",
    "obj_dict[\"clustering_coefficient_high\"] = Simulation(edges)\n",
    "obj_dict[\"clustering_coefficient_low\"] = Simulation(edges)\n",
    "#obj_dict[\"node_degree\"] = Simulation(edges)\n",
    "obj_dict[\"closeness_centrality_in\"] = Simulation(edges)\n",
    "obj_dict[\"closeness_centrality_out\"] = Simulation(edges)\n",
    "obj_dict[\"betweenness_centrality\"] = Simulation(edges)\n",
    "obj_dict[\"degree_centrality_in\"] = Simulation(edges)\n",
    "obj_dict[\"degree_centrality_out\"] = Simulation(edges)\n",
    "obj_dict[\"eigenvector_in\"] = Simulation(edges)\n",
    "obj_dict[\"eigenvector_out\"] = Simulation(edges)\n",
    "obj_dict[\"pagerank\"] = Simulation(edges)"
   ]
  },
  {
   "cell_type": "code",
   "execution_count": null,
   "metadata": {},
   "outputs": [],
   "source": [
    "obj_dict[\"clustering_coefficient_high\"].Graph.remove_nodes_from([x[0] for x in clustering_sorted][:20])"
   ]
  },
  {
   "cell_type": "code",
   "execution_count": null,
   "metadata": {},
   "outputs": [],
   "source": [
    "obj_dict[\"clustering_coefficient_low\"].Graph.remove_nodes_from([x[0] for x in clustering_sorted][-20:])"
   ]
  },
  {
   "cell_type": "code",
   "execution_count": null,
   "metadata": {},
   "outputs": [],
   "source": [
    "obj_dict[\"baseline_random\"].Graph.remove_nodes_from(random.choices(list(obj_dict[\"baseline_random\"].Graph.nodes), k=20))"
   ]
  },
  {
   "cell_type": "code",
   "execution_count": null,
   "metadata": {},
   "outputs": [],
   "source": [
    "#obj_dict[\"node_degree_centrality\"].Graph.remove_nodes_from(sorted_degree_centrality)"
   ]
  },
  {
   "cell_type": "code",
   "execution_count": null,
   "metadata": {},
   "outputs": [],
   "source": [
    "#obj_dict[\"node_degree\"].Graph.remove_nodes_from([x[0] for x in sorted(obj_dict[\"node_degree\"].Graph.degree(), key = lambda x: x[1],reverse= True)[:20]])"
   ]
  },
  {
   "cell_type": "code",
   "execution_count": null,
   "metadata": {},
   "outputs": [],
   "source": [
    "obj_dict[\"closeness_centrality_in\"].Graph.remove_nodes_from([x[0] for x in sorted_closeness_centrality_in][:20])"
   ]
  },
  {
   "cell_type": "code",
   "execution_count": null,
   "metadata": {},
   "outputs": [],
   "source": [
    "obj_dict[\"closeness_centrality_out\"].Graph.remove_nodes_from([x[0] for x in sorted_closeness_centrality_out][:20])"
   ]
  },
  {
   "cell_type": "code",
   "execution_count": null,
   "metadata": {},
   "outputs": [],
   "source": [
    "obj_dict[\"betweenness_centrality\"].Graph.remove_nodes_from([x[0] for x in betweenness][:20])"
   ]
  },
  {
   "cell_type": "code",
   "execution_count": null,
   "metadata": {},
   "outputs": [],
   "source": [
    "obj_dict[\"degree_centrality_in\"].Graph.remove_nodes_from([x[0] for x in sorted_in_degree][:20])"
   ]
  },
  {
   "cell_type": "code",
   "execution_count": null,
   "metadata": {},
   "outputs": [],
   "source": [
    "obj_dict[\"degree_centrality_out\"].Graph.remove_nodes_from([x[0] for x in sorted_out_degree][:20])"
   ]
  },
  {
   "cell_type": "code",
   "execution_count": null,
   "metadata": {},
   "outputs": [],
   "source": [
    "obj_dict[\"eigenvector_in\"].Graph.remove_nodes_from([x[0] for x in sorted_eigenvector_in][:20])"
   ]
  },
  {
   "cell_type": "code",
   "execution_count": null,
   "metadata": {},
   "outputs": [],
   "source": [
    "obj_dict[\"eigenvector_out\"].Graph.remove_nodes_from([x[0] for x in sorted_eigenvector_out][:20])"
   ]
  },
  {
   "cell_type": "code",
   "execution_count": null,
   "metadata": {},
   "outputs": [],
   "source": [
    "obj_dict[\"pagerank\"].Graph.remove_nodes_from([x[0] for x in sorted_page_rank][:20])"
   ]
  },
  {
   "cell_type": "code",
   "execution_count": null,
   "metadata": {},
   "outputs": [],
   "source": [
    "obj_dict"
   ]
  },
  {
   "cell_type": "code",
   "execution_count": null,
   "metadata": {},
   "outputs": [],
   "source": []
  },
  {
   "cell_type": "code",
   "execution_count": null,
   "metadata": {},
   "outputs": [],
   "source": [
    "del obj_dict[\"baseline_random\"]\n",
    "del obj_dict[\"eigenvector_in\"]\n",
    "del obj_dict[\"eigenvector_out\"]\n",
    "#del obj_dict[\"node_degree_centrality\"]\n",
    "#del obj_dict[\"node_degree\"]"
   ]
  },
  {
   "cell_type": "code",
   "execution_count": null,
   "metadata": {
    "scrolled": true
   },
   "outputs": [],
   "source": [
    "def total_simulation(dictionary, b):\n",
    "    results_dict = {}\n",
    "    for key, value in dictionary.items():\n",
    "        print(key)\n",
    "        simulation = value.threshold_trials(b,250, trials=500)\n",
    "        results_dict[key] = simulation\n",
    "    return results_dict\n",
    "kat = total_simulation(obj_dict,0.005)"
   ]
  },
  {
   "cell_type": "code",
   "execution_count": null,
   "metadata": {},
   "outputs": [],
   "source": [
    "def two_sample_bootstrap(x, y, samples=100):\n",
    "    s_d = np.sqrt((np.var(x) / len(x)) + (np.var(y) / len(y)))\n",
    "    t_d = (np.mean(x) - np.mean(y)) / s_d\n",
    "    \n",
    "    bootstraps = []\n",
    "    for _ in range(samples):\n",
    "        x_s = np.random.choice(x, size=len(x), replace=True)\n",
    "        y_s = np.random.choice(y, size=len(y), replace=True)\n",
    "        s_d_s = np.sqrt((np.var(x_s) / len(x_s)) + (np.var(y_s) / len(y_s)))\n",
    "        t_d_s = ((np.mean(x_s) - np.mean(y_s)) - (np.mean(x) - np.mean(y))) / s_d_s\n",
    "        bootstraps.append(t_d_s)\n",
    "    \n",
    "    return t_d, bootstraps"
   ]
  },
  {
   "cell_type": "code",
   "execution_count": null,
   "metadata": {
    "scrolled": true
   },
   "outputs": [],
   "source": [
    "t_d, bootstraps = two_sample_bootstrap(kat[\"node_degree_centrality\"], kat[\"node_degree\"], samples=10000)"
   ]
  },
  {
   "cell_type": "code",
   "execution_count": null,
   "metadata": {},
   "outputs": [],
   "source": [
    "def mean_of_simulations(dictionary):\n",
    "    for key in dictionary:\n",
    "        if key not in {\"baseline_nothing\",\"baseline_random\"}:\n",
    "            #print(key)\n",
    "            t_d, bootstraps = two_sample_bootstrap(dictionary[\"baseline_nothing\"],dictionary[key] , samples=10000)\n",
    "            print(key, round(t_d,2), [round(x,2) for x in np.quantile(bootstraps, (0.025, 0.975))])\n",
    "    print(\"-\"*100)\n",
    "    for key, value in dictionary.items():\n",
    "        if key not in {\"baseline_random\"}:\n",
    "            print(\"The mean of \", key, int(np.average(value)))"
   ]
  },
  {
   "cell_type": "code",
   "execution_count": null,
   "metadata": {
    "scrolled": false
   },
   "outputs": [],
   "source": [
    "mean_of_simulations(kat)"
   ]
  },
  {
   "cell_type": "code",
   "execution_count": null,
   "metadata": {},
   "outputs": [],
   "source": [
    "x = [exp_func(x) for x in range(300)]"
   ]
  },
  {
   "cell_type": "code",
   "execution_count": null,
   "metadata": {},
   "outputs": [],
   "source": [
    "fig = plt.figure(figsize=(10,10))\n",
    "plt.title(\"Probability Function\")\n",
    "plt.xlabel(\"Normalized value\")\n",
    "plt.ylabel(\"Probability\")\n",
    "plt.plot(x,color = \"gray\");"
   ]
  },
  {
   "cell_type": "code",
   "execution_count": null,
   "metadata": {},
   "outputs": [],
   "source": [
    "kat[\"pagerank\"]"
   ]
  },
  {
   "cell_type": "code",
   "execution_count": 72,
   "metadata": {},
   "outputs": [],
   "source": [
    "obj_baseline = Simulation(edges) "
   ]
  },
  {
   "cell_type": "code",
   "execution_count": null,
   "metadata": {},
   "outputs": [],
   "source": [
    "def f(x):\n",
    "    return (x+1)/np.sqrt(2000000)"
   ]
  },
  {
   "cell_type": "code",
   "execution_count": 66,
   "metadata": {},
   "outputs": [],
   "source": [
    "def p_r(f, i):\n",
    "    print(i)\n",
    "    return f"
   ]
  },
  {
   "cell_type": "code",
   "execution_count": null,
   "metadata": {},
   "outputs": [],
   "source": [
    "fig = plt.figure(figsize=(10,10))\n",
    "plt.title(\"Probability Function\")\n",
    "plt.xlabel(\"Passengers\")\n",
    "plt.ylabel(\"Probability\")\n",
    "plt.plot([f(x) for x in range(10000)],color = \"gray\")"
   ]
  },
  {
   "cell_type": "code",
   "execution_count": null,
   "metadata": {
    "scrolled": true
   },
   "outputs": [],
   "source": [
    "var = [p_r(obj_baseline.threshold_trials(trials=i, threshold=250), i) for i in range(1,500,5)]"
   ]
  },
  {
   "cell_type": "code",
   "execution_count": null,
   "metadata": {},
   "outputs": [],
   "source": [
    "x = [(np.mean(x)) for x in var]"
   ]
  },
  {
   "cell_type": "code",
   "execution_count": null,
   "metadata": {},
   "outputs": [],
   "source": [
    "axes = plt.axes()\n",
    "axes.set_ylim([0, 100])\n",
    "plt.plot(x)"
   ]
  },
  {
   "cell_type": "code",
   "execution_count": null,
   "metadata": {},
   "outputs": [],
   "source": []
  },
  {
   "cell_type": "code",
   "execution_count": null,
   "metadata": {},
   "outputs": [],
   "source": []
  },
  {
   "cell_type": "code",
   "execution_count": 73,
   "metadata": {
    "scrolled": true
   },
   "outputs": [
    {
     "name": "stdout",
     "output_type": "stream",
     "text": [
      "1\n",
      "6\n",
      "11\n",
      "16\n",
      "21\n",
      "26\n",
      "31\n",
      "36\n",
      "41\n",
      "46\n",
      "51\n",
      "56\n",
      "61\n",
      "66\n",
      "71\n",
      "76\n",
      "81\n",
      "86\n",
      "91\n",
      "96\n",
      "101\n",
      "106\n",
      "111\n",
      "116\n",
      "121\n",
      "126\n",
      "131\n",
      "136\n",
      "141\n",
      "146\n",
      "151\n",
      "156\n",
      "161\n",
      "166\n",
      "171\n",
      "176\n",
      "181\n",
      "186\n",
      "191\n",
      "196\n",
      "201\n",
      "206\n",
      "211\n",
      "216\n",
      "221\n",
      "226\n",
      "231\n",
      "236\n",
      "241\n",
      "246\n",
      "251\n",
      "256\n",
      "261\n",
      "266\n",
      "271\n",
      "276\n",
      "281\n",
      "286\n",
      "291\n",
      "296\n",
      "301\n",
      "306\n",
      "311\n",
      "316\n",
      "321\n",
      "326\n",
      "331\n",
      "336\n",
      "341\n",
      "346\n",
      "351\n",
      "356\n",
      "361\n",
      "366\n",
      "371\n",
      "376\n",
      "381\n",
      "386\n",
      "391\n",
      "396\n",
      "401\n",
      "406\n",
      "411\n",
      "416\n",
      "421\n",
      "426\n",
      "431\n",
      "436\n",
      "441\n",
      "446\n",
      "451\n",
      "456\n",
      "461\n",
      "466\n",
      "471\n",
      "476\n",
      "481\n",
      "486\n",
      "491\n",
      "496\n"
     ]
    }
   ],
   "source": [
    "var2 = [p_r(obj_baseline.threshold_trials(trials=i, threshold=400), i) for i in range(1,500,5)]"
   ]
  },
  {
   "cell_type": "code",
   "execution_count": 99,
   "metadata": {},
   "outputs": [
    {
     "data": {
      "text/plain": [
       "100"
      ]
     },
     "execution_count": 99,
     "metadata": {},
     "output_type": "execute_result"
    }
   ],
   "source": [
    "len(var2)"
   ]
  },
  {
   "cell_type": "code",
   "execution_count": 85,
   "metadata": {},
   "outputs": [],
   "source": [
    "x_2 = [(np.mean(x)) for x in var2]"
   ]
  },
  {
   "cell_type": "code",
   "execution_count": 88,
   "metadata": {},
   "outputs": [
    {
     "data": {
      "text/plain": [
       "[<matplotlib.lines.Line2D at 0x7ff6b2b81340>]"
      ]
     },
     "execution_count": 88,
     "metadata": {},
     "output_type": "execute_result"
    },
    {
     "data": {
      "image/png": "[encoded data removed]",
      "text/plain": [
       "<Figure size 432x288 with 1 Axes>"
      ]
     },
     "metadata": {
      "needs_background": "light"
     },
     "output_type": "display_data"
    }
   ],
   "source": [
    "axes = plt.axes()\n",
    "axes.set_ylim([0, 100])\n",
    "plt.plot(x_2)"
   ]
  },
  {
   "cell_type": "code",
   "execution_count": 97,
   "metadata": {},
   "outputs": [
    {
     "data": {
      "image/png": "[encoded data removed]",
      "text/plain": [
       "<Figure size 720x720 with 1 Axes>"
      ]
     },
     "metadata": {
      "needs_background": "light"
     },
     "output_type": "display_data"
    }
   ],
   "source": [
    "fig = plt.figure(figsize=(10,10))\n",
    "axes = plt.axes()\n",
    "axes.set_ylim([0, 100])\n",
    "plt.title(\"Different number of trials\")\n",
    "plt.xlabel(\"Number of trials divided by 5\")\n",
    "plt.ylabel(\"Average no of tics\")\n",
    "plt.plot(x_2,color = \"gray\");"
   ]
  },
  {
   "cell_type": "code",
   "execution_count": 98,
   "metadata": {},
   "outputs": [
    {
     "data": {
      "image/png": "[encoded data removed]",
      "text/plain": [
       "<Figure size 432x288 with 1 Axes>"
      ]
     },
     "metadata": {
      "needs_background": "light"
     },
     "output_type": "display_data"
    }
   ],
   "source": [
    "plt.hist(var2[-1],bins=40);"
   ]
  },
  {
   "cell_type": "code",
   "execution_count": 78,
   "metadata": {
    "scrolled": false
   },
   "outputs": [
    {
     "ename": "NameError",
     "evalue": "name 'kat' is not defined",
     "output_type": "error",
     "traceback": [
      "\u001b[0;31m---------------------------------------------------------------------------\u001b[0m",
      "\u001b[0;31mNameError\u001b[0m                                 Traceback (most recent call last)",
      "\u001b[0;32m<ipython-input-78-5c91667547d3>\u001b[0m in \u001b[0;36m<module>\u001b[0;34m\u001b[0m\n\u001b[0;32m----> 1\u001b[0;31m \u001b[0mplt\u001b[0m\u001b[0;34m.\u001b[0m\u001b[0mhist\u001b[0m\u001b[0;34m(\u001b[0m\u001b[0mkat\u001b[0m\u001b[0;34m[\u001b[0m\u001b[0;34m\"pagerank\"\u001b[0m\u001b[0;34m]\u001b[0m\u001b[0;34m,\u001b[0m\u001b[0mbins\u001b[0m \u001b[0;34m=\u001b[0m \u001b[0;36m40\u001b[0m\u001b[0;34m)\u001b[0m\u001b[0;34m;\u001b[0m\u001b[0;34m\u001b[0m\u001b[0;34m\u001b[0m\u001b[0m\n\u001b[0m",
      "\u001b[0;31mNameError\u001b[0m: name 'kat' is not defined"
     ]
    }
   ],
   "source": [
    "plt.hist(kat[\"pagerank\"],bins = 40);"
   ]
  },
  {
   "cell_type": "code",
   "execution_count": null,
   "metadata": {},
   "outputs": [],
   "source": []
  },
  {
   "cell_type": "markdown",
   "metadata": {},
   "source": [
    "## infection vizualizations"
   ]
  },
  {
   "cell_type": "code",
   "execution_count": null,
   "metadata": {},
   "outputs": [],
   "source": [
    "G_infection = nx.DiGraph()"
   ]
  },
  {
   "cell_type": "code",
   "execution_count": null,
   "metadata": {},
   "outputs": [],
   "source": [
    "pos = dict()\n",
    "for i,j in zip(coords_name_df['ORIGIN'],coords_name_df['COORDS']):\n",
    "    pos[i] = (j[0],j[1])\n",
    "    G_infection.add_node(i)"
   ]
  },
  {
   "cell_type": "code",
   "execution_count": null,
   "metadata": {},
   "outputs": [],
   "source": [
    "for i,j,k in zip(data_filtered_coord[mask]['ORIGIN'],data_filtered_coord[mask]['DEST'],data_filtered_coord[mask]['PASSENGERS']):\n",
    "    G_infection.add_edge(i,j,weight=k)"
   ]
  },
  {
   "cell_type": "code",
   "execution_count": null,
   "metadata": {},
   "outputs": [],
   "source": [
    "for node in G_infection.nodes():\n",
    "    G_infection.nodes[node]['sum_weight_root'] = np.sqrt(sum([G_infection[node][i]['weight'] for i in G_infection.neighbors(node)]) + 0.001)"
   ]
  },
  {
   "cell_type": "code",
   "execution_count": null,
   "metadata": {},
   "outputs": [],
   "source": [
    "edges = [(row['ORIGIN'], row['DEST'], {'weight': row['PASSENGERS']}) for _, row in data_filtered.iterrows()]"
   ]
  },
  {
   "cell_type": "code",
   "execution_count": null,
   "metadata": {},
   "outputs": [],
   "source": [
    "sim1 = Simulation(edges)"
   ]
  },
  {
   "cell_type": "code",
   "execution_count": null,
   "metadata": {},
   "outputs": [],
   "source": [
    "sim1.Graph = G_infection"
   ]
  },
  {
   "cell_type": "code",
   "execution_count": null,
   "metadata": {},
   "outputs": [],
   "source": [
    "sets = sim1.simulate_amount_of_ticks(beta=0.05, ticks=20)"
   ]
  },
  {
   "cell_type": "code",
   "execution_count": null,
   "metadata": {},
   "outputs": [],
   "source": [
    "for index, i in enumerate(sets):\n",
    "    fig = plt.figure(figsize =(300,200))\n",
    "    col_list = ['red' if node in i else 'green' for node in G_infection.nodes]\n",
    "    nx.draw(G_infection,pos = pos,with_labels = True,font_color = 'white',node_size = 5000,node_color = col_list,edge_color = 'lightgray')\n",
    "    plt.savefig('spread'+ str(index) +'.png')"
   ]
  },
  {
   "cell_type": "markdown",
   "metadata": {},
   "source": [
    "# Martin (done by Florian) 😍🤯😤"
   ]
  },
  {
   "cell_type": "code",
   "execution_count": null,
   "metadata": {},
   "outputs": [],
   "source": [
    "infected_nodes = {}\n",
    "infected_nodes.add(random start node)\n",
    "counter = 0\n",
    "while counter < 500 or len(infected_nodes) <= 250:\n",
    "    for nodes in infected_nodes\n",
    "        if probability(node[neighbor]) > random.int(0,100):\n",
    "            infected_nodes.add(node[neighbor])\n",
    "    counter += 1"
   ]
  },
  {
   "cell_type": "markdown",
   "metadata": {},
   "source": [
    "Longest shortest paths\n",
    "redo!!!!!"
   ]
  },
  {
   "cell_type": "code",
   "execution_count": null,
   "metadata": {},
   "outputs": [],
   "source": [
    "data1 = pd.read_csv(\"../Data/to_florian_dataframe_longest_paths.csv\",delimiter=\",\")"
   ]
  },
  {
   "cell_type": "code",
   "execution_count": null,
   "metadata": {},
   "outputs": [],
   "source": [
    "list1 = []\n",
    "for i in data1['coordinates']:\n",
    "    list1.append(eval(i))"
   ]
  },
  {
   "cell_type": "code",
   "execution_count": null,
   "metadata": {},
   "outputs": [],
   "source": [
    "float_coords = []\n",
    "for i in list1:\n",
    "    temp = []\n",
    "    for j in i:\n",
    "        j_0 = eval(j[0])\n",
    "        j_1 = eval(j[1])\n",
    "        temp.append((j_0,j_1))\n",
    "    float_coords.append(temp)"
   ]
  },
  {
   "cell_type": "code",
   "execution_count": null,
   "metadata": {},
   "outputs": [],
   "source": [
    "float_coords = np.array(float_coords)"
   ]
  },
  {
   "cell_type": "code",
   "execution_count": null,
   "metadata": {},
   "outputs": [],
   "source": [
    "coords = []\n",
    "for i in float_coords:\n",
    "    x_values = i[:,0]\n",
    "    y_values = i[:,1]\n",
    "    coords.append(list(zip(x_values,y_values)))\n",
    "    plt.plot(y_values,x_values)\n",
    "    plt.scatter(y_values,x_values)\n",
    "mplleaflet.show()"
   ]
  },
  {
   "cell_type": "code",
   "execution_count": null,
   "metadata": {},
   "outputs": [],
   "source": [
    "coords_list = []\n",
    "for i in coords:\n",
    "    for j in i:\n",
    "        coords_list.append(j)"
   ]
  },
  {
   "cell_type": "code",
   "execution_count": null,
   "metadata": {},
   "outputs": [],
   "source": [
    "split_coords = []\n",
    "for i in range(1,len(coords_list)):\n",
    "    split_coords.append(coords_list[i-1:i+1])"
   ]
  },
  {
   "cell_type": "code",
   "execution_count": null,
   "metadata": {},
   "outputs": [],
   "source": [
    "names = []\n",
    "for i in data1['path']:\n",
    "    names.append(eval(i))"
   ]
  },
  {
   "cell_type": "code",
   "execution_count": null,
   "metadata": {},
   "outputs": [],
   "source": [
    "names_list = []\n",
    "for i in names:\n",
    "    for j in i:\n",
    "        names_list.append(j)"
   ]
  },
  {
   "cell_type": "code",
   "execution_count": null,
   "metadata": {},
   "outputs": [],
   "source": [
    "split_names = []\n",
    "for i in range(1, len(names_list)):\n",
    "    split_names.append(tuple(names_list[i-1:i+1]))"
   ]
  },
  {
   "cell_type": "markdown",
   "metadata": {},
   "source": [
    "Doing stuff because Martin wanted some labels 😘"
   ]
  },
  {
   "cell_type": "code",
   "execution_count": null,
   "metadata": {},
   "outputs": [],
   "source": [
    "map1 = folium.Map()"
   ]
  },
  {
   "cell_type": "code",
   "execution_count": null,
   "metadata": {},
   "outputs": [],
   "source": [
    "for origin,name in zip(coords_list,names_list):\n",
    "        folium.Marker(location= origin ,popup = name,icon=folium.Icon(color='lightgray', icon='plane',prefix = 'fa')).add_to(map1)"
   ]
  },
  {
   "cell_type": "code",
   "execution_count": null,
   "metadata": {},
   "outputs": [],
   "source": [
    "for i in range(len(split_coords)):\n",
    "    folium.PolyLine(split_coords[i],popup = split_names[i],color = 'lightgray').add_to(map1)"
   ]
  },
  {
   "cell_type": "code",
   "execution_count": null,
   "metadata": {},
   "outputs": [],
   "source": [
    "#map1"
   ]
  },
  {
   "cell_type": "markdown",
   "metadata": {},
   "source": [
    "Degree centrality"
   ]
  },
  {
   "cell_type": "code",
   "execution_count": null,
   "metadata": {},
   "outputs": [],
   "source": [
    "data2 = pd.read_csv('../Data/to_florian_dataframe_degree_centrality.csv')"
   ]
  },
  {
   "cell_type": "code",
   "execution_count": null,
   "metadata": {},
   "outputs": [],
   "source": [
    "org = list(zip(data2['ORIGIN_LAT'],data2['ORIGIN_LONG']))"
   ]
  },
  {
   "cell_type": "code",
   "execution_count": null,
   "metadata": {},
   "outputs": [],
   "source": [
    "org = np.array(org)"
   ]
  },
  {
   "cell_type": "code",
   "execution_count": null,
   "metadata": {},
   "outputs": [],
   "source": [
    "plt.scatter(org[:,1],org[:,0])\n",
    "mplleaflet.show()"
   ]
  },
  {
   "cell_type": "markdown",
   "metadata": {},
   "source": [
    "Clustering coefficient"
   ]
  },
  {
   "cell_type": "code",
   "execution_count": null,
   "metadata": {},
   "outputs": [],
   "source": [
    "data3 = pd.read_csv('../Data/to_florian_clustering_coefficient.csv')"
   ]
  },
  {
   "cell_type": "code",
   "execution_count": null,
   "metadata": {},
   "outputs": [],
   "source": [
    "org1 = list(zip(data3['ORIGIN_LAT'],data3['ORIGIN_LONG']))"
   ]
  },
  {
   "cell_type": "code",
   "execution_count": null,
   "metadata": {},
   "outputs": [],
   "source": [
    "org1 = pd.DataFrame(org1)"
   ]
  },
  {
   "cell_type": "code",
   "execution_count": null,
   "metadata": {},
   "outputs": [],
   "source": [
    "org1['weight'] = data3['COEFFICIENT']"
   ]
  },
  {
   "cell_type": "code",
   "execution_count": null,
   "metadata": {},
   "outputs": [],
   "source": [
    "plt.scatter(org1[1],org1[0])\n",
    "mplleaflet.show()"
   ]
  },
  {
   "cell_type": "code",
   "execution_count": null,
   "metadata": {},
   "outputs": [],
   "source": [
    "#heatmap"
   ]
  },
  {
   "cell_type": "code",
   "execution_count": null,
   "metadata": {},
   "outputs": [],
   "source": [
    "map_osm = folium.Map()"
   ]
  },
  {
   "cell_type": "code",
   "execution_count": null,
   "metadata": {},
   "outputs": [],
   "source": [
    "HeatMap(org1).add_to(map_osm);"
   ]
  },
  {
   "cell_type": "code",
   "execution_count": null,
   "metadata": {},
   "outputs": [],
   "source": [
    "map_osm"
   ]
  }
 ],
 "metadata": {
  "kernelspec": {
   "display_name": "Python 3",
   "language": "python",
   "name": "python3"
  },
  "language_info": {
   "codemirror_mode": {
    "name": "ipython",
    "version": 3
   },
   "file_extension": ".py",
   "mimetype": "text/x-python",
   "name": "python",
   "nbconvert_exporter": "python",
   "pygments_lexer": "ipython3",
   "version": "3.7.4"
  }
 },
 "nbformat": 4,
 "nbformat_minor": 5
}

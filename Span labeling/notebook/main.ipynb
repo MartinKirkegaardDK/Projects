{
 "cells": [
  {
   "cell_type": "code",
   "execution_count": 1,
   "metadata": {},
   "outputs": [],
   "source": [
    "import numpy as np\n",
    "import pandas as pd\n",
    "import json\n",
    "#import missingno as msno\n",
    "\n",
    "import tensorflow as tf\n",
    "from tensorflow import keras\n",
    "from tensorflow.keras import layers\n",
    "\n",
    "from sklearn.feature_extraction.text import CountVectorizer\n",
    "from sklearn.metrics import classification_report\n",
    "from sklearn.metrics import f1_score\n",
    "from collections import defaultdict\n",
    "from collections import Counter\n",
    "import pp_functions as pp\n",
    "import nltk\n",
    "from nltk.stem import WordNetLemmatizer\n",
    "from nltk.corpus import wordnet\n",
    "import pp_functions as pp\n",
    "#nltk.download('wordnet')\n",
    "#nltk.download('omw-1.4')\n",
    "#nltk.download('averaged_perceptron_tagger')"
   ]
  },
  {
   "cell_type": "code",
   "execution_count": 2,
   "metadata": {},
   "outputs": [],
   "source": [
    "train_raw = pd.read_csv('../Data/seq_labeling/opener_en-train.conll',sep = '\\t',header = None,encoding = 'utf-8',comment = '#')\n",
    "val_raw = pd.read_csv('../Data/seq_labeling/test_converted.conll',sep = '\\t',header = None,encoding = 'utf-8',comment = '#')"
   ]
  },
  {
   "cell_type": "code",
   "execution_count": 3,
   "metadata": {},
   "outputs": [],
   "source": [
    "train = pp.Preprocessor(train_raw)\n",
    "val = pp.Preprocessor(val_raw)"
   ]
  },
  {
   "cell_type": "markdown",
   "metadata": {},
   "source": [
    "## Baseline model"
   ]
  },
  {
   "cell_type": "code",
   "execution_count": 5,
   "metadata": {},
   "outputs": [],
   "source": [
    "train.fit_word2vec('../glove.6B.100d.txt')"
   ]
  },
  {
   "cell_type": "code",
   "execution_count": 6,
   "metadata": {},
   "outputs": [],
   "source": [
    "X_train_w2v = train.make_word2vec(train)\n",
    "Y_train = train.make_labels(train)\n",
    "\n",
    "X_val_w2v = val.make_word2vec(train)\n",
    "Y_val = val.make_labels(train)"
   ]
  },
  {
   "cell_type": "code",
   "execution_count": 7,
   "metadata": {},
   "outputs": [],
   "source": [
    "epochs = 10\n",
    "no_neurons = 50\n",
    "lr = 0.01"
   ]
  },
  {
   "cell_type": "code",
   "execution_count": 59,
   "metadata": {
    "scrolled": true,
    "tags": []
   },
   "outputs": [
    {
     "name": "stdout",
     "output_type": "stream",
     "text": [
      "Epoch 1/10\n",
      "55/55 [==============================] - 22s 141ms/step - loss: 0.0877 - accuracy: 0.7458\n",
      "Epoch 2/10\n",
      "55/55 [==============================] - 8s 141ms/step - loss: 0.0704 - accuracy: 0.7772\n",
      "Epoch 3/10\n",
      "55/55 [==============================] - 8s 138ms/step - loss: 0.0621 - accuracy: 0.7961\n",
      "Epoch 4/10\n",
      "55/55 [==============================] - 8s 140ms/step - loss: 0.0547 - accuracy: 0.8125\n",
      "Epoch 5/10\n",
      "55/55 [==============================] - 9s 155ms/step - loss: 0.0488 - accuracy: 0.8276\n",
      "Epoch 6/10\n",
      "55/55 [==============================] - 9s 165ms/step - loss: 0.0444 - accuracy: 0.8465\n",
      "Epoch 7/10\n",
      "55/55 [==============================] - 9s 164ms/step - loss: 0.0375 - accuracy: 0.8683\n",
      "Epoch 8/10\n",
      "55/55 [==============================] - 9s 162ms/step - loss: 0.0327 - accuracy: 0.8852\n",
      "Epoch 9/10\n",
      "55/55 [==============================] - 9s 157ms/step - loss: 0.0301 - accuracy: 0.9002\n",
      "Epoch 10/10\n",
      "55/55 [==============================] - 9s 155ms/step - loss: 0.0250 - accuracy: 0.9164\n",
      "Epoch 1/10\n",
      "55/55 [==============================] - 20s 136ms/step - loss: 0.0924 - accuracy: 0.7406\n",
      "Epoch 2/10\n",
      "55/55 [==============================] - 8s 154ms/step - loss: 0.0704 - accuracy: 0.7783\n",
      "Epoch 3/10\n",
      "55/55 [==============================] - 9s 158ms/step - loss: 0.0605 - accuracy: 0.7966\n",
      "Epoch 4/10\n",
      "55/55 [==============================] - 9s 159ms/step - loss: 0.0551 - accuracy: 0.8121\n",
      "Epoch 5/10\n",
      "55/55 [==============================] - 9s 158ms/step - loss: 0.0491 - accuracy: 0.8259\n",
      "Epoch 6/10\n",
      "55/55 [==============================] - 9s 155ms/step - loss: 0.0437 - accuracy: 0.8475\n",
      "Epoch 7/10\n",
      "55/55 [==============================] - 9s 155ms/step - loss: 0.0366 - accuracy: 0.8707\n",
      "Epoch 8/10\n",
      "55/55 [==============================] - 9s 157ms/step - loss: 0.0338 - accuracy: 0.8814\n",
      "Epoch 9/10\n",
      "55/55 [==============================] - 9s 155ms/step - loss: 0.0276 - accuracy: 0.9069\n",
      "Epoch 10/10\n",
      "55/55 [==============================] - 9s 156ms/step - loss: 0.0228 - accuracy: 0.9240\n",
      "Epoch 1/10\n",
      "55/55 [==============================] - 19s 136ms/step - loss: 0.0909 - accuracy: 0.7430\n",
      "Epoch 2/10\n",
      "55/55 [==============================] - 9s 157ms/step - loss: 0.0696 - accuracy: 0.7792\n",
      "Epoch 3/10\n",
      "55/55 [==============================] - 9s 156ms/step - loss: 0.0597 - accuracy: 0.7966\n",
      "Epoch 4/10\n",
      "55/55 [==============================] - 9s 162ms/step - loss: 0.0529 - accuracy: 0.8153\n",
      "Epoch 5/10\n",
      "55/55 [==============================] - 9s 155ms/step - loss: 0.0479 - accuracy: 0.8340\n",
      "Epoch 6/10\n",
      "55/55 [==============================] - 9s 157ms/step - loss: 0.0426 - accuracy: 0.8497\n",
      "Epoch 7/10\n",
      "55/55 [==============================] - 9s 155ms/step - loss: 0.0361 - accuracy: 0.8746\n",
      "Epoch 8/10\n",
      "55/55 [==============================] - 9s 156ms/step - loss: 0.0311 - accuracy: 0.8920\n",
      "Epoch 9/10\n",
      "55/55 [==============================] - 9s 160ms/step - loss: 0.0251 - accuracy: 0.9152\n",
      "Epoch 10/10\n",
      "55/55 [==============================] - 9s 157ms/step - loss: 0.0240 - accuracy: 0.9193\n",
      "Epoch 1/10\n",
      "55/55 [==============================] - 19s 137ms/step - loss: 0.0900 - accuracy: 0.7437\n",
      "Epoch 2/10\n",
      "55/55 [==============================] - 8s 154ms/step - loss: 0.0717 - accuracy: 0.7754\n",
      "Epoch 3/10\n",
      "55/55 [==============================] - 9s 157ms/step - loss: 0.0618 - accuracy: 0.7943\n",
      "Epoch 4/10\n",
      "55/55 [==============================] - 9s 161ms/step - loss: 0.0545 - accuracy: 0.8128\n",
      "Epoch 5/10\n",
      "55/55 [==============================] - 9s 158ms/step - loss: 0.0491 - accuracy: 0.8294\n",
      "Epoch 6/10\n",
      "55/55 [==============================] - 9s 157ms/step - loss: 0.0430 - accuracy: 0.8500\n",
      "Epoch 7/10\n",
      "55/55 [==============================] - 9s 159ms/step - loss: 0.0367 - accuracy: 0.8685\n",
      "Epoch 8/10\n",
      "55/55 [==============================] - 9s 158ms/step - loss: 0.0321 - accuracy: 0.8883\n",
      "Epoch 9/10\n",
      "55/55 [==============================] - 9s 159ms/step - loss: 0.0297 - accuracy: 0.8964\n",
      "Epoch 10/10\n",
      "55/55 [==============================] - 9s 159ms/step - loss: 0.0225 - accuracy: 0.9234\n",
      "Epoch 1/10\n",
      "55/55 [==============================] - 19s 137ms/step - loss: 0.0932 - accuracy: 0.7398\n",
      "Epoch 2/10\n",
      "55/55 [==============================] - 8s 154ms/step - loss: 0.0711 - accuracy: 0.7791\n",
      "Epoch 3/10\n",
      "55/55 [==============================] - 9s 156ms/step - loss: 0.0619 - accuracy: 0.7948\n",
      "Epoch 4/10\n",
      "55/55 [==============================] - 9s 161ms/step - loss: 0.0547 - accuracy: 0.8106\n",
      "Epoch 5/10\n",
      "55/55 [==============================] - 9s 159ms/step - loss: 0.0499 - accuracy: 0.8249\n",
      "Epoch 6/10\n",
      "55/55 [==============================] - 9s 158ms/step - loss: 0.0449 - accuracy: 0.8413\n",
      "Epoch 7/10\n",
      "55/55 [==============================] - 9s 163ms/step - loss: 0.0397 - accuracy: 0.8625\n",
      "Epoch 8/10\n",
      "55/55 [==============================] - 9s 172ms/step - loss: 0.0353 - accuracy: 0.8731\n",
      "Epoch 9/10\n",
      "55/55 [==============================] - 9s 162ms/step - loss: 0.0288 - accuracy: 0.9023\n",
      "Epoch 10/10\n",
      "55/55 [==============================] - 9s 155ms/step - loss: 0.0239 - accuracy: 0.9175\n"
     ]
    }
   ],
   "source": [
    "macro_avg_f1s = []\n",
    "for _ in range(5):\n",
    "    w2v_input = keras.Input(shape = (None,X_train_w2v.shape[2]))\n",
    "    w2v_mask = layers.Masking(mask_value = 0)(w2v_input)\n",
    "\n",
    "    lstm1 = layers.Bidirectional(layers.LSTM(no_neurons, return_sequences = True, activation='tanh'), merge_mode='sum')(w2v_mask)\n",
    "    lstm2 = layers.Bidirectional(layers.LSTM(no_neurons, return_sequences = True, activation='tanh'), merge_mode='sum')(lstm1)\n",
    "\n",
    "    outputs = layers.Dense(9, activation='Softmax')(lstm2)\n",
    "\n",
    "    model = keras.Model(inputs=w2v_input, outputs=outputs)\n",
    "    model.compile(optimizer = keras.optimizers.Adam(learning_rate=lr), loss = keras.losses.CategoricalCrossentropy(), metrics=[\"accuracy\"])\n",
    "    \n",
    "    model.fit(X_train_w2v, Y_train, epochs=epochs);\n",
    "    gt, pred = val.test_model(X_val_w2v, Y_val, model)\n",
    "    macro_avg_f1s.append(f1_score(gt, pred ,average = 'macro'))\n",
    "base_avgs = macro_avg_f1s"
   ]
  },
  {
   "cell_type": "code",
   "execution_count": 60,
   "metadata": {},
   "outputs": [
    {
     "name": "stdout",
     "output_type": "stream",
     "text": [
      "0.5521341614416599\n"
     ]
    }
   ],
   "source": [
    "print(np.mean(base_avgs))"
   ]
  },
  {
   "cell_type": "markdown",
   "metadata": {},
   "source": [
    "## Lemmatisation + Baseline"
   ]
  },
  {
   "cell_type": "code",
   "execution_count": 61,
   "metadata": {},
   "outputs": [
    {
     "name": "stderr",
     "output_type": "stream",
     "text": [
      "[nltk_data] Downloading package averaged_perceptron_tagger to\n",
      "[nltk_data]     C:\\Users\\Bruger\\AppData\\Roaming\\nltk_data...\n",
      "[nltk_data]   Package averaged_perceptron_tagger is already up-to-\n",
      "[nltk_data]       date!\n"
     ]
    },
    {
     "data": {
      "text/plain": [
       "True"
      ]
     },
     "execution_count": 61,
     "metadata": {},
     "output_type": "execute_result"
    }
   ],
   "source": [
    "nltk.download('averaged_perceptron_tagger')"
   ]
  },
  {
   "cell_type": "code",
   "execution_count": 62,
   "metadata": {
    "scrolled": true
   },
   "outputs": [
    {
     "name": "stdout",
     "output_type": "stream",
     "text": [
      "lemmatized done\n",
      "fit complete\n",
      "lemmatized done\n"
     ]
    }
   ],
   "source": [
    "train_obj = pp.Lemmatize_groups(train.X_unencoded)      \n",
    "train_obj.fit_lemmatize()\n",
    "\n",
    "X_train_lem = train_obj.transform(train_obj)\n",
    "X_train_lem = pp.padding(X_train_lem,train.max_len)\n",
    "\n",
    "val_obj = pp.Lemmatize_groups(val.X_unencoded)  \n",
    "X_val_lem = val_obj.transform(train_obj)\n",
    "X_val_lem = pp.padding(X_val_lem, train.max_len)"
   ]
  },
  {
   "cell_type": "code",
   "execution_count": 63,
   "metadata": {},
   "outputs": [],
   "source": [
    "epochs = 10\n",
    "no_neurons = 50\n",
    "lr = 0.01"
   ]
  },
  {
   "cell_type": "code",
   "execution_count": 64,
   "metadata": {
    "scrolled": true
   },
   "outputs": [
    {
     "name": "stdout",
     "output_type": "stream",
     "text": [
      "Epoch 1/10\n",
      "55/55 [==============================] - 20s 149ms/step - loss: 0.0915 - accuracy: 0.7368\n",
      "Epoch 2/10\n",
      "55/55 [==============================] - 9s 169ms/step - loss: 0.0704 - accuracy: 0.7778\n",
      "Epoch 3/10\n",
      "55/55 [==============================] - 9s 173ms/step - loss: 0.0613 - accuracy: 0.7949\n",
      "Epoch 4/10\n",
      "55/55 [==============================] - 9s 172ms/step - loss: 0.0564 - accuracy: 0.8087\n",
      "Epoch 5/10\n",
      "55/55 [==============================] - 10s 173ms/step - loss: 0.0497 - accuracy: 0.8261\n",
      "Epoch 6/10\n",
      "55/55 [==============================] - 10s 173ms/step - loss: 0.0442 - accuracy: 0.8420\n",
      "Epoch 7/10\n",
      "55/55 [==============================] - 10s 174ms/step - loss: 0.0393 - accuracy: 0.8625\n",
      "Epoch 8/10\n",
      "55/55 [==============================] - 10s 173ms/step - loss: 0.0354 - accuracy: 0.8753\n",
      "Epoch 9/10\n",
      "55/55 [==============================] - 10s 174ms/step - loss: 0.0300 - accuracy: 0.8957\n",
      "Epoch 10/10\n",
      "55/55 [==============================] - 9s 172ms/step - loss: 0.0246 - accuracy: 0.9182\n",
      "Epoch 1/10\n",
      "55/55 [==============================] - 20s 164ms/step - loss: 0.0914 - accuracy: 0.7349\n",
      "Epoch 2/10\n",
      "55/55 [==============================] - 9s 166ms/step - loss: 0.0711 - accuracy: 0.7773\n",
      "Epoch 3/10\n",
      "55/55 [==============================] - 9s 166ms/step - loss: 0.0654 - accuracy: 0.7821\n",
      "Epoch 4/10\n",
      "55/55 [==============================] - 9s 171ms/step - loss: 0.0558 - accuracy: 0.8097\n",
      "Epoch 5/10\n",
      "55/55 [==============================] - 9s 169ms/step - loss: 0.0517 - accuracy: 0.8186\n",
      "Epoch 6/10\n",
      "55/55 [==============================] - 9s 170ms/step - loss: 0.0456 - accuracy: 0.8389\n",
      "Epoch 7/10\n",
      "55/55 [==============================] - 9s 168ms/step - loss: 0.0391 - accuracy: 0.8620\n",
      "Epoch 8/10\n",
      "55/55 [==============================] - 9s 165ms/step - loss: 0.0345 - accuracy: 0.8769\n",
      "Epoch 9/10\n",
      "55/55 [==============================] - 9s 166ms/step - loss: 0.0284 - accuracy: 0.9040\n",
      "Epoch 10/10\n",
      "55/55 [==============================] - 9s 168ms/step - loss: 0.0243 - accuracy: 0.9160\n",
      "Epoch 1/10\n",
      "55/55 [==============================] - 20s 151ms/step - loss: 0.0902 - accuracy: 0.7388\n",
      "Epoch 2/10\n",
      "55/55 [==============================] - 9s 171ms/step - loss: 0.0677 - accuracy: 0.7810\n",
      "Epoch 3/10\n",
      "55/55 [==============================] - 10s 177ms/step - loss: 0.0604 - accuracy: 0.7967\n",
      "Epoch 4/10\n",
      "55/55 [==============================] - 9s 172ms/step - loss: 0.0544 - accuracy: 0.8104\n",
      "Epoch 5/10\n",
      "55/55 [==============================] - 9s 173ms/step - loss: 0.0490 - accuracy: 0.8249\n",
      "Epoch 6/10\n",
      "55/55 [==============================] - 10s 173ms/step - loss: 0.0436 - accuracy: 0.8442\n",
      "Epoch 7/10\n",
      "55/55 [==============================] - 10s 173ms/step - loss: 0.0377 - accuracy: 0.8653\n",
      "Epoch 8/10\n",
      "55/55 [==============================] - 9s 172ms/step - loss: 0.0327 - accuracy: 0.8835\n",
      "Epoch 9/10\n",
      "55/55 [==============================] - 9s 173ms/step - loss: 0.0279 - accuracy: 0.9020\n",
      "Epoch 10/10\n",
      "55/55 [==============================] - 11s 207ms/step - loss: 0.0235 - accuracy: 0.9214\n",
      "Epoch 1/10\n",
      "55/55 [==============================] - 20s 163ms/step - loss: 0.0913 - accuracy: 0.7362\n",
      "Epoch 2/10\n",
      "55/55 [==============================] - 10s 178ms/step - loss: 0.0683 - accuracy: 0.7812\n",
      "Epoch 3/10\n",
      "55/55 [==============================] - 10s 175ms/step - loss: 0.0590 - accuracy: 0.8006\n",
      "Epoch 4/10\n",
      "55/55 [==============================] - 10s 178ms/step - loss: 0.0536 - accuracy: 0.8165\n",
      "Epoch 5/10\n",
      "55/55 [==============================] - 9s 170ms/step - loss: 0.0472 - accuracy: 0.8316\n",
      "Epoch 6/10\n",
      "55/55 [==============================] - 10s 175ms/step - loss: 0.0422 - accuracy: 0.8513\n",
      "Epoch 7/10\n",
      "55/55 [==============================] - 9s 171ms/step - loss: 0.0376 - accuracy: 0.8669\n",
      "Epoch 8/10\n",
      "55/55 [==============================] - 9s 171ms/step - loss: 0.0319 - accuracy: 0.8892\n",
      "Epoch 9/10\n",
      "55/55 [==============================] - 9s 170ms/step - loss: 0.0289 - accuracy: 0.8999\n",
      "Epoch 10/10\n",
      "55/55 [==============================] - 10s 173ms/step - loss: 0.0229 - accuracy: 0.9220\n",
      "Epoch 1/10\n",
      "55/55 [==============================] - 21s 159ms/step - loss: 0.0911 - accuracy: 0.7355\n",
      "Epoch 2/10\n",
      "55/55 [==============================] - 10s 177ms/step - loss: 0.0710 - accuracy: 0.7756\n",
      "Epoch 3/10\n",
      "55/55 [==============================] - 10s 177ms/step - loss: 0.0637 - accuracy: 0.7882\n",
      "Epoch 4/10\n",
      "55/55 [==============================] - 10s 179ms/step - loss: 0.0566 - accuracy: 0.8077\n",
      "Epoch 5/10\n",
      "55/55 [==============================] - 10s 175ms/step - loss: 0.0513 - accuracy: 0.8210\n",
      "Epoch 6/10\n",
      "55/55 [==============================] - 10s 175ms/step - loss: 0.0463 - accuracy: 0.8382\n",
      "Epoch 7/10\n",
      "55/55 [==============================] - 10s 176ms/step - loss: 0.0414 - accuracy: 0.8568\n",
      "Epoch 8/10\n",
      "55/55 [==============================] - 10s 180ms/step - loss: 0.0351 - accuracy: 0.8798\n",
      "Epoch 9/10\n",
      "55/55 [==============================] - 10s 183ms/step - loss: 0.0296 - accuracy: 0.8981\n",
      "Epoch 10/10\n",
      "55/55 [==============================] - 10s 179ms/step - loss: 0.0250 - accuracy: 0.9165\n"
     ]
    }
   ],
   "source": [
    "macro_avg_f1s = []\n",
    "for _ in range(5):\n",
    "    w2v_input = keras.Input(shape = (None,X_train_w2v.shape[2]))\n",
    "    w2v_mask = layers.Masking(mask_value = 0)(w2v_input)\n",
    "\n",
    "    lem_input = keras.Input(shape=(None,))\n",
    "    embed_layer = layers.Embedding(input_dim=sorted(train_obj.group_dict.values(),reverse= True)[0]+1, output_dim=10, mask_zero=True)(lem_input)\n",
    "\n",
    "    concat = layers.Concatenate()([w2v_mask] + [embed_layer])\n",
    "\n",
    "    lstm1 = layers.Bidirectional(layers.LSTM(no_neurons, return_sequences = True, activation='tanh'), merge_mode='sum')(concat)\n",
    "    lstm2 = layers.Bidirectional(layers.LSTM(no_neurons, return_sequences = True, activation='tanh'), merge_mode='sum')(lstm1)\n",
    "\n",
    "    outputs = layers.Dense(9, activation='Softmax')(lstm2)\n",
    "\n",
    "    model = keras.Model(inputs=[w2v_input, lem_input], outputs=outputs)\n",
    "    model.compile(optimizer = keras.optimizers.Adam(learning_rate=lr), loss = keras.losses.CategoricalCrossentropy(), metrics=[\"accuracy\"])\n",
    "    \n",
    "    model.fit([X_train_w2v, X_train_lem] , Y_train, epochs=epochs);\n",
    "    gt, pred = val.test_model([X_val_w2v, X_val_lem], Y_val, model)\n",
    "    macro_avg_f1s.append(f1_score(gt, pred, average = 'macro'))\n",
    "lem_avgs = macro_avg_f1s"
   ]
  },
  {
   "cell_type": "code",
   "execution_count": 65,
   "metadata": {},
   "outputs": [
    {
     "name": "stdout",
     "output_type": "stream",
     "text": [
      "0.5495603140367321\n"
     ]
    }
   ],
   "source": [
    "print(np.mean(lem_avgs))"
   ]
  },
  {
   "cell_type": "markdown",
   "metadata": {},
   "source": [
    "## Affixes + Baseline"
   ]
  },
  {
   "cell_type": "code",
   "execution_count": 66,
   "metadata": {},
   "outputs": [],
   "source": [
    "train.fit_affix_int(ngram_lengths=[3], min_occurences=40)"
   ]
  },
  {
   "cell_type": "code",
   "execution_count": 67,
   "metadata": {},
   "outputs": [],
   "source": [
    "X_train_af = train.make_affix_int(train)\n",
    "X_val_af = val.make_affix_int(train)"
   ]
  },
  {
   "cell_type": "code",
   "execution_count": 68,
   "metadata": {},
   "outputs": [],
   "source": [
    "epochs = 10\n",
    "no_neurons = 50\n",
    "lr = 0.01"
   ]
  },
  {
   "cell_type": "code",
   "execution_count": 69,
   "metadata": {},
   "outputs": [
    {
     "name": "stdout",
     "output_type": "stream",
     "text": [
      "Epoch 1/10\n",
      "55/55 [==============================] - 20s 165ms/step - loss: 0.0912 - accuracy: 0.7410\n",
      "Epoch 2/10\n",
      "55/55 [==============================] - 9s 172ms/step - loss: 0.0715 - accuracy: 0.7768\n",
      "Epoch 3/10\n",
      "55/55 [==============================] - 10s 181ms/step - loss: 0.0629 - accuracy: 0.7950\n",
      "Epoch 4/10\n",
      "55/55 [==============================] - 10s 175ms/step - loss: 0.0556 - accuracy: 0.8110\n",
      "Epoch 5/10\n",
      "55/55 [==============================] - 9s 172ms/step - loss: 0.0493 - accuracy: 0.8299\n",
      "Epoch 6/10\n",
      "55/55 [==============================] - 10s 190ms/step - loss: 0.0427 - accuracy: 0.8504\n",
      "Epoch 7/10\n",
      "55/55 [==============================] - 11s 192ms/step - loss: 0.0353 - accuracy: 0.8776\n",
      "Epoch 8/10\n",
      "55/55 [==============================] - 10s 184ms/step - loss: 0.0306 - accuracy: 0.8958\n",
      "Epoch 9/10\n",
      "55/55 [==============================] - 10s 182ms/step - loss: 0.0274 - accuracy: 0.9025\n",
      "Epoch 10/10\n",
      "55/55 [==============================] - 10s 184ms/step - loss: 0.0209 - accuracy: 0.9297\n",
      "Epoch 1/10\n",
      "55/55 [==============================] - 22s 167ms/step - loss: 0.0930 - accuracy: 0.7342\n",
      "Epoch 2/10\n",
      "55/55 [==============================] - 10s 182ms/step - loss: 0.0738 - accuracy: 0.7765\n",
      "Epoch 3/10\n",
      "55/55 [==============================] - 10s 181ms/step - loss: 0.0658 - accuracy: 0.7860\n",
      "Epoch 4/10\n",
      "55/55 [==============================] - 10s 183ms/step - loss: 0.0574 - accuracy: 0.8043\n",
      "Epoch 5/10\n",
      "55/55 [==============================] - 10s 184ms/step - loss: 0.0534 - accuracy: 0.8146\n",
      "Epoch 6/10\n",
      "55/55 [==============================] - 10s 181ms/step - loss: 0.0483 - accuracy: 0.8319\n",
      "Epoch 7/10\n",
      "55/55 [==============================] - 10s 182ms/step - loss: 0.0421 - accuracy: 0.8537\n",
      "Epoch 8/10\n",
      "55/55 [==============================] - 10s 182ms/step - loss: 0.0368 - accuracy: 0.8731\n",
      "Epoch 9/10\n",
      "55/55 [==============================] - 10s 180ms/step - loss: 0.0311 - accuracy: 0.8958\n",
      "Epoch 10/10\n",
      "55/55 [==============================] - 10s 184ms/step - loss: 0.0255 - accuracy: 0.9119\n",
      "Epoch 1/10\n",
      "55/55 [==============================] - 21s 188ms/step - loss: 0.0940 - accuracy: 0.7372\n",
      "Epoch 2/10\n",
      "55/55 [==============================] - 10s 183ms/step - loss: 0.0723 - accuracy: 0.7740\n",
      "Epoch 3/10\n",
      "55/55 [==============================] - 10s 187ms/step - loss: 0.0645 - accuracy: 0.7862\n",
      "Epoch 4/10\n",
      "55/55 [==============================] - 10s 179ms/step - loss: 0.0574 - accuracy: 0.8032\n",
      "Epoch 5/10\n",
      "55/55 [==============================] - 10s 174ms/step - loss: 0.0500 - accuracy: 0.8222\n",
      "Epoch 6/10\n",
      "55/55 [==============================] - 10s 178ms/step - loss: 0.0441 - accuracy: 0.8452\n",
      "Epoch 7/10\n",
      "55/55 [==============================] - 10s 184ms/step - loss: 0.0371 - accuracy: 0.8705\n",
      "Epoch 8/10\n",
      "55/55 [==============================] - 10s 186ms/step - loss: 0.0316 - accuracy: 0.8903\n",
      "Epoch 9/10\n",
      "55/55 [==============================] - 10s 181ms/step - loss: 0.0273 - accuracy: 0.9064\n",
      "Epoch 10/10\n",
      "55/55 [==============================] - 10s 174ms/step - loss: 0.0225 - accuracy: 0.9244\n",
      "Epoch 1/10\n",
      "55/55 [==============================] - 21s 164ms/step - loss: 0.0913 - accuracy: 0.7386\n",
      "Epoch 2/10\n",
      "55/55 [==============================] - 10s 180ms/step - loss: 0.0707 - accuracy: 0.7791\n",
      "Epoch 3/10\n",
      "55/55 [==============================] - 10s 184ms/step - loss: 0.0633 - accuracy: 0.7930\n",
      "Epoch 4/10\n",
      "55/55 [==============================] - 10s 189ms/step - loss: 0.0549 - accuracy: 0.8142\n",
      "Epoch 5/10\n",
      "55/55 [==============================] - 10s 183ms/step - loss: 0.0491 - accuracy: 0.8292\n",
      "Epoch 6/10\n",
      "55/55 [==============================] - 10s 183ms/step - loss: 0.0439 - accuracy: 0.8487\n",
      "Epoch 7/10\n",
      "55/55 [==============================] - 10s 182ms/step - loss: 0.0378 - accuracy: 0.8686\n",
      "Epoch 8/10\n",
      "55/55 [==============================] - 10s 186ms/step - loss: 0.0309 - accuracy: 0.8953\n",
      "Epoch 9/10\n",
      "55/55 [==============================] - 10s 182ms/step - loss: 0.0282 - accuracy: 0.9035\n",
      "Epoch 10/10\n",
      "55/55 [==============================] - 10s 184ms/step - loss: 0.0235 - accuracy: 0.9218\n",
      "Epoch 1/10\n",
      "55/55 [==============================] - 21s 167ms/step - loss: 0.0919 - accuracy: 0.7395\n",
      "Epoch 2/10\n",
      "55/55 [==============================] - 10s 184ms/step - loss: 0.0710 - accuracy: 0.7773\n",
      "Epoch 3/10\n",
      "55/55 [==============================] - 10s 183ms/step - loss: 0.0619 - accuracy: 0.7937\n",
      "Epoch 4/10\n",
      "55/55 [==============================] - 10s 187ms/step - loss: 0.0551 - accuracy: 0.8109\n",
      "Epoch 5/10\n",
      "55/55 [==============================] - 10s 183ms/step - loss: 0.0489 - accuracy: 0.8261\n",
      "Epoch 6/10\n",
      "55/55 [==============================] - 10s 187ms/step - loss: 0.0433 - accuracy: 0.8506\n",
      "Epoch 7/10\n",
      "55/55 [==============================] - 10s 183ms/step - loss: 0.0385 - accuracy: 0.8678\n",
      "Epoch 8/10\n",
      "55/55 [==============================] - 10s 184ms/step - loss: 0.0323 - accuracy: 0.8857\n",
      "Epoch 9/10\n",
      "55/55 [==============================] - 11s 200ms/step - loss: 0.0264 - accuracy: 0.9108\n",
      "Epoch 10/10\n",
      "55/55 [==============================] - 11s 194ms/step - loss: 0.0223 - accuracy: 0.9249\n"
     ]
    }
   ],
   "source": [
    "macro_avg_f1s = []\n",
    "for _ in range(5):\n",
    "    w2v_input = keras.Input(shape = (None,X_train_w2v.shape[2]))\n",
    "    w2v_mask = layers.Masking(mask_value = 0)(w2v_input)\n",
    "\n",
    "    embed_layers = pp.make_embedding_layers(train, output_dim=10)\n",
    "\n",
    "    concat = layers.Concatenate()([w2v_mask] + embed_layers['embeddings'])\n",
    "\n",
    "    lstm1 = layers.Bidirectional(layers.LSTM(no_neurons, return_sequences = True, activation='tanh'), merge_mode='sum')(concat)\n",
    "    lstm2 = layers.Bidirectional(layers.LSTM(no_neurons, return_sequences = True, activation='tanh'), merge_mode='sum')(lstm1)\n",
    "\n",
    "    outputs = layers.Dense(9, activation='Softmax')(lstm2)\n",
    "    \n",
    "    model = keras.Model(inputs=[w2v_input] + embed_layers['inputs'], outputs=outputs)\n",
    "    model.compile(optimizer = keras.optimizers.Adam(learning_rate=lr), loss = keras.losses.CategoricalCrossentropy(), metrics=[\"accuracy\"])\n",
    "    \n",
    "    model.fit([X_train_w2v] + list(X_train_af), Y_train, epochs=epochs);\n",
    "    gt, pred = val.test_model([X_val_w2v] + list(X_val_af), Y_val, model)\n",
    "    macro_avg_f1s.append(f1_score(gt, pred, average = 'macro'))\n",
    "af_avgs = macro_avg_f1s"
   ]
  },
  {
   "cell_type": "code",
   "execution_count": 70,
   "metadata": {},
   "outputs": [
    {
     "name": "stdout",
     "output_type": "stream",
     "text": [
      "0.5637665620675404\n"
     ]
    }
   ],
   "source": [
    "print(np.mean(af_avgs))"
   ]
  },
  {
   "cell_type": "markdown",
   "metadata": {},
   "source": [
    "## POS-tags + Baseline"
   ]
  },
  {
   "cell_type": "code",
   "execution_count": 71,
   "metadata": {},
   "outputs": [],
   "source": [
    "X_train_pos = np.array(pp.pos_tag(train.X_unencoded, train.max_len, 'numbers'))\n",
    "X_val_pos = np.array(pp.pos_tag(val.X_unencoded, train.max_len, 'numbers'))"
   ]
  },
  {
   "cell_type": "code",
   "execution_count": 72,
   "metadata": {},
   "outputs": [],
   "source": [
    "epochs = 10\n",
    "no_neurons = 50\n",
    "lr = 0.01"
   ]
  },
  {
   "cell_type": "code",
   "execution_count": 73,
   "metadata": {
    "scrolled": true
   },
   "outputs": [
    {
     "name": "stdout",
     "output_type": "stream",
     "text": [
      "Epoch 1/10\n",
      "55/55 [==============================] - 23s 193ms/step - loss: 0.0917 - accuracy: 0.7378\n",
      "Epoch 2/10\n",
      "55/55 [==============================] - 10s 189ms/step - loss: 0.0722 - accuracy: 0.7734\n",
      "Epoch 3/10\n",
      "55/55 [==============================] - 10s 175ms/step - loss: 0.0628 - accuracy: 0.7891\n",
      "Epoch 4/10\n",
      "55/55 [==============================] - 10s 174ms/step - loss: 0.0546 - accuracy: 0.8104\n",
      "Epoch 5/10\n",
      "55/55 [==============================] - 10s 175ms/step - loss: 0.0496 - accuracy: 0.8243\n",
      "Epoch 6/10\n",
      "55/55 [==============================] - 10s 175ms/step - loss: 0.0438 - accuracy: 0.8438\n",
      "Epoch 7/10\n",
      "55/55 [==============================] - 10s 178ms/step - loss: 0.0390 - accuracy: 0.8595\n",
      "Epoch 8/10\n",
      "55/55 [==============================] - 10s 176ms/step - loss: 0.0323 - accuracy: 0.8868\n",
      "Epoch 9/10\n",
      "55/55 [==============================] - 10s 175ms/step - loss: 0.0263 - accuracy: 0.9119\n",
      "Epoch 10/10\n",
      "55/55 [==============================] - 10s 175ms/step - loss: 0.0229 - accuracy: 0.9205\n",
      "Epoch 1/10\n",
      "55/55 [==============================] - 22s 183ms/step - loss: 0.0931 - accuracy: 0.7259\n",
      "Epoch 2/10\n",
      "55/55 [==============================] - 9s 168ms/step - loss: 0.0724 - accuracy: 0.7743\n",
      "Epoch 3/10\n",
      "55/55 [==============================] - 9s 167ms/step - loss: 0.0630 - accuracy: 0.7915\n",
      "Epoch 4/10\n",
      "55/55 [==============================] - 9s 170ms/step - loss: 0.0572 - accuracy: 0.8033\n",
      "Epoch 5/10\n",
      "55/55 [==============================] - 9s 172ms/step - loss: 0.0510 - accuracy: 0.8247\n",
      "Epoch 6/10\n",
      "55/55 [==============================] - 10s 188ms/step - loss: 0.0457 - accuracy: 0.8388\n",
      "Epoch 7/10\n",
      "55/55 [==============================] - 10s 190ms/step - loss: 0.0395 - accuracy: 0.8593\n",
      "Epoch 8/10\n",
      "55/55 [==============================] - 10s 181ms/step - loss: 0.0339 - accuracy: 0.8823\n",
      "Epoch 9/10\n",
      "55/55 [==============================] - 9s 169ms/step - loss: 0.0287 - accuracy: 0.8981\n",
      "Epoch 10/10\n",
      "55/55 [==============================] - 9s 169ms/step - loss: 0.0238 - accuracy: 0.9195\n",
      "Epoch 1/10\n",
      "55/55 [==============================] - 21s 172ms/step - loss: 0.0912 - accuracy: 0.7393\n",
      "Epoch 2/10\n",
      "55/55 [==============================] - 10s 175ms/step - loss: 0.0716 - accuracy: 0.7773\n",
      "Epoch 3/10\n",
      "55/55 [==============================] - 10s 180ms/step - loss: 0.0629 - accuracy: 0.7903\n",
      "Epoch 4/10\n",
      "55/55 [==============================] - 11s 193ms/step - loss: 0.0564 - accuracy: 0.8062\n",
      "Epoch 5/10\n",
      "55/55 [==============================] - 10s 175ms/step - loss: 0.0506 - accuracy: 0.8263\n",
      "Epoch 6/10\n",
      "55/55 [==============================] - 10s 174ms/step - loss: 0.0458 - accuracy: 0.8394\n",
      "Epoch 7/10\n",
      "55/55 [==============================] - 10s 176ms/step - loss: 0.0401 - accuracy: 0.8587\n",
      "Epoch 8/10\n",
      "55/55 [==============================] - 10s 179ms/step - loss: 0.0350 - accuracy: 0.8751\n",
      "Epoch 9/10\n",
      "55/55 [==============================] - 10s 179ms/step - loss: 0.0291 - accuracy: 0.8990\n",
      "Epoch 10/10\n",
      "55/55 [==============================] - 10s 186ms/step - loss: 0.0263 - accuracy: 0.9093\n",
      "Epoch 1/10\n",
      "55/55 [==============================] - 20s 170ms/step - loss: 0.0883 - accuracy: 0.7435\n",
      "Epoch 2/10\n",
      "55/55 [==============================] - 10s 179ms/step - loss: 0.0707 - accuracy: 0.7794\n",
      "Epoch 3/10\n",
      "55/55 [==============================] - 9s 172ms/step - loss: 0.0608 - accuracy: 0.7967\n",
      "Epoch 4/10\n",
      "55/55 [==============================] - 9s 170ms/step - loss: 0.0553 - accuracy: 0.8082\n",
      "Epoch 5/10\n",
      "55/55 [==============================] - 9s 171ms/step - loss: 0.0509 - accuracy: 0.8222\n",
      "Epoch 6/10\n",
      "55/55 [==============================] - 10s 173ms/step - loss: 0.0445 - accuracy: 0.8446\n",
      "Epoch 7/10\n",
      "55/55 [==============================] - 9s 169ms/step - loss: 0.0379 - accuracy: 0.8681\n",
      "Epoch 8/10\n",
      "55/55 [==============================] - 10s 173ms/step - loss: 0.0328 - accuracy: 0.8870\n",
      "Epoch 9/10\n",
      "55/55 [==============================] - 9s 169ms/step - loss: 0.0275 - accuracy: 0.9046\n",
      "Epoch 10/10\n",
      "55/55 [==============================] - 9s 168ms/step - loss: 0.0242 - accuracy: 0.9186\n",
      "Epoch 1/10\n",
      "55/55 [==============================] - 21s 161ms/step - loss: 0.0889 - accuracy: 0.7442\n",
      "Epoch 2/10\n",
      "55/55 [==============================] - 10s 176ms/step - loss: 0.0702 - accuracy: 0.7787\n",
      "Epoch 3/10\n",
      "55/55 [==============================] - 10s 182ms/step - loss: 0.0630 - accuracy: 0.7891\n",
      "Epoch 4/10\n",
      "55/55 [==============================] - 10s 177ms/step - loss: 0.0578 - accuracy: 0.8002\n",
      "Epoch 5/10\n",
      "55/55 [==============================] - 10s 177ms/step - loss: 0.0513 - accuracy: 0.8209\n",
      "Epoch 6/10\n",
      "55/55 [==============================] - 10s 176ms/step - loss: 0.0470 - accuracy: 0.8361\n",
      "Epoch 7/10\n",
      "55/55 [==============================] - 10s 174ms/step - loss: 0.0408 - accuracy: 0.8563\n",
      "Epoch 8/10\n",
      "55/55 [==============================] - 10s 179ms/step - loss: 0.0360 - accuracy: 0.8748\n",
      "Epoch 9/10\n",
      "55/55 [==============================] - 10s 176ms/step - loss: 0.0286 - accuracy: 0.8999\n",
      "Epoch 10/10\n",
      "55/55 [==============================] - 10s 175ms/step - loss: 0.0253 - accuracy: 0.9117\n"
     ]
    }
   ],
   "source": [
    "macro_avg_f1s = []\n",
    "for _ in range(5):\n",
    "    w2v_input = keras.Input(shape = (None,X_train_w2v.shape[2]))\n",
    "    w2v_mask = layers.Masking(mask_value = 0)(w2v_input)\n",
    "\n",
    "    pos_input = keras.Input(shape=(None,))\n",
    "    embed_layer = layers.Embedding(input_dim=45+1, output_dim=10, mask_zero=True)(pos_input)\n",
    "\n",
    "    concat = layers.Concatenate()([w2v_mask] + [embed_layer])\n",
    "\n",
    "    lstm1 = layers.Bidirectional(layers.LSTM(no_neurons, return_sequences = True, activation='tanh'), merge_mode='sum')(concat)\n",
    "    lstm2 = layers.Bidirectional(layers.LSTM(no_neurons, return_sequences = True, activation='tanh'), merge_mode='sum')(lstm1)\n",
    "\n",
    "    outputs = layers.Dense(9, activation='Softmax')(lstm2)\n",
    "\n",
    "    model = keras.Model(inputs=[w2v_input, pos_input], outputs=outputs)\n",
    "    \n",
    "    \n",
    "    model.compile(optimizer = keras.optimizers.Adam(learning_rate=lr), loss = keras.losses.CategoricalCrossentropy(), metrics=[\"accuracy\"])\n",
    "    model.fit([X_train_w2v, X_train_pos] , Y_train, epochs=epochs);\n",
    "    gt, pred = val.test_model([X_val_w2v, X_val_pos], Y_val, model)\n",
    "    macro_avg_f1s.append(f1_score(gt, pred, average = 'macro'))\n",
    "pos_avgs = macro_avg_f1s"
   ]
  },
  {
   "cell_type": "code",
   "execution_count": 74,
   "metadata": {},
   "outputs": [
    {
     "name": "stdout",
     "output_type": "stream",
     "text": [
      "0.5650611002908469\n"
     ]
    }
   ],
   "source": [
    "print(np.mean(pos_avgs))"
   ]
  }
 ],
 "metadata": {
  "kernelspec": {
   "display_name": "Python 3",
   "language": "python",
   "name": "python3"
  },
  "language_info": {
   "codemirror_mode": {
    "name": "ipython",
    "version": 3
   },
   "file_extension": ".py",
   "mimetype": "text/x-python",
   "name": "python",
   "nbconvert_exporter": "python",
   "pygments_lexer": "ipython3",
   "version": "3.7.4"
  }
 },
 "nbformat": 4,
 "nbformat_minor": 4
}

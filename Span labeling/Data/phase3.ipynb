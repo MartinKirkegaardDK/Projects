{
 "cells": [
  {
   "cell_type": "markdown",
   "metadata": {},
   "source": [
    "## Phase 3: Project\n",
    "\n",
    "In the first 2 phases, we focused on implementing a sentiment classifier for reviews, and testing its capabilities by generating new samples. The goal of this phase is to design and carry out your own experiment, based on the data from the previous phases. You will identify a relevant/novel research question, and perform experiments and analysis to answer this research question. Deadlines for this phase are:\n",
    "\n",
    "* 04-04: Upload presentation on LearnIt (11:59AM)\n",
    "* 05-04: and 07-04: Present project proposal\n",
    "* 21-04: Hand-in project proposal\n",
    "* 27-05: Deadline research paper+code"
   ]
  },
  {
   "cell_type": "markdown",
   "metadata": {},
   "source": [
    "## Project Proposal\n",
    "In the presentation, you have 2 minutes to present your approach for phase 2, and 5 minutes to present your research proposal. During the presentation, you should explain:\n",
    "* For each category of phase 2: how did you generate the instances?\n",
    "* What is the novel part of your project\n",
    "* Why is the topic relevant/interesting\n",
    "* What is your research question\n",
    "\n",
    "The written proposal should consist of maximum one page in ACL-format (The bibliography does not count for the word limit). In here, you should explain the last three points from the list above and place your project in a larger context (previous work).\n",
    "The ACL style file can be found in the repository, in: `assignments/project/latexstyle`.\n",
    "\n",
    "We have proposed a number of topics in the [slides](https://github.itu.dk/robv/2ndyearproject-2022-material/blob/master/slides/15-checklist-topics.pdf), you can either pick one of these or come up with your own. If you pick your own, we suggest to get a pre-approval with Rob van der Goot on slack before you start on writing the full-fledged proposal. You can use additional/different data in phase 3 (use the data that helps you answer your research question). If you are interested in using other amazon reviews, they can be obtained from here: https://nijianmo.github.io/amazon/index.html \n",
    "\n",
    "Cross-lingual data is available from: https://webis.de/data/webis-cls-10.html\n",
    "\n",
    "Structured sentiment analysis data is available from: https://github.com/jerbarnes/semeval22_structured_sentiment/tree/master/data"
   ]
  },
  {
   "cell_type": "markdown",
   "metadata": {},
   "source": [
    "## Final project\n",
    "The final project has a maximum size of 5 pages (excluding bibliography). A standard structure of a research paper in NLP looks like:\n",
    "\n",
    "1. Introduction. Providing the context, the problem, the motivation and a clear research question (or several,\n",
    "if you break them down into multiple).\n",
    "2. Related Work. Include at least 2 relevant scientific research paper which provide the basis or motivation for\n",
    "(parts of) your work.\n",
    "3. Data. Here you describe your data sources and summarize what they consist of. In the final report, you are allowed to use additional data which you collect/find\n",
    "on your own. Make sure you motivate the choice and provide appropriate references.\n",
    "4. Methodology. Here you define and describe your methods, with precise mathematics where applicable. It is\n",
    "highly recommended to add a visualization of your main model. Make sure it is clear what data it is trained\n",
    "on, what features your use. Include a description of your evaluation setup, including a description of which\n",
    "evaluation metrics you chose.\n",
    "5. Results. Here you provide the technical results of your method over the data. Any tables with numerical\n",
    "results should be put in this section. Consider using figures rather than tables, making sure they contain\n",
    "captions, etc. If you use figures, make sure they contain labels for each axis.\n",
    "6. Discussion and error analysis. Here you interpret the results back into the setting of the original research\n",
    "question and you dig deeper. What were major findings? What were major shortcomings of your methodology/data?\n",
    "7. Concluding remarks and future work. Here you succinctly summarize your work and provide a couple of\n",
    "indications on how the methods/data could be improved.\n",
    "\n",
    "\n",
    "Furthermore, you have to include:\n",
    "* Group contributions. State who was responsible for which part of the project. Here you may state if there\n",
    "were any serious unequal workloads among group members. This should be put in the appendix.\n",
    "* Results of phase 1 and 2, if they don't fit with your research question put them in the appendix.\n",
    "\n",
    "You are allowed to use an appendix for additional results and details. However, the paper itself should be standalone, and understandable without consulting the appendix.\n",
    "\n",
    "Furthermore, the code should be available on www.github.itu.dk , it should include a README with instructions on how to reproduce your results."
   ]
  },
  {
   "cell_type": "markdown",
   "metadata": {},
   "source": [
    "## Analysis\n",
    "\n",
    "Analysis is essential for the interpretation of your results. In this section we will shortly describe some different types of analysis. We strongly suggest to use at least one of these:\n",
    "\n",
    "* **Ablation study**: Leave out a certain part of the model, to study its effects. For example, disable the tokenizer, remove a certain (group of) feature(s), or disable the stop-word removal. If the performance drops a lot, it means that this part of the model contributes heavily to the models final performance. This is commonly done in 1 table, while disabling different parts of the model. Note that you can also do this the other way around, i.e. use only one feature (group) at a time, and test performance\n",
    "* **Learning curve**: Evaluate how much data your model needs to reach a certain performance. Especially for the data augmentation projects this is essential.\n",
    "* **Quantitative analysis**: Automated means of analyzing in which cases your model performs worse. This can for example be done with a confusion matrix (like in [week2](https://github.itu.dk/bapl/2ndyearproject-2021-material/blob/master/assignments/week2/week2.ipynb)).\n",
    "* **Qualitative analysis**: Manually inspect a certain number of errors, and try to categorize them/find trends. Can be combined with the quantitative analysis, i.e., inspect 100 cases of positive reviews predicted to be negative and 100 cases of negative reviews predicted to be positive\n",
    "* **Feature importance**: In traditional machine learning methods, one can often extract and inspect the weights of the features. In sklearn these can be found in: `trained_model.coef_`\n",
    "* **Input words importance**: To gain insight into which words have a impact on prediction performance (positive, negative), we can analyze per-word impact: given a trained model, replace a given word with\n",
    "the unknown word token and observe the change in prediction score (probability for a class). This is\n",
    "shown in Figure 4 of [Rethmeier et al (2018)](https://aclweb.org/anthology/W18-6246) (a paper on controversy detection), also shown below: red-colored\n",
    "tokens were important for controversy detection, blue-colored token decreased prediction scores.\n",
    "\n",
    "<img width=400px src=example.png>\n",
    "\n",
    "Note that this is a non-exhaustive list, and you are encouraged to also explore additional analyses."
   ]
  },
  {
   "cell_type": "markdown",
   "metadata": {},
   "source": [
    "### Checklist final project\n",
    "Please check all these items before handing in your final report. You only have to upload a pdf file on learnit, and make sure a link to the code is included in the report and the code is accesible. \n",
    "\n",
    "* Are all group members and their email addresses specified?\n",
    "* Does the group report include a representative project title?\n",
    "* Does the group report contain an abstract?\n",
    "* Does the introduction clearly specify the research intention and research question?\n",
    "* Does the group report adequately refer to the relevant literature?\n",
    "* Does the group report properly use figure, tables and examples?\n",
    "* Does the group report provide and discuss the empirical results?\n",
    "* Is the group report proofread?\n",
    "* Does the pdf contain the link to the project’s github repo?\n",
    "* Is the github repo accessible to the public?\n",
    "* Is the group report maximum 5 pages long, excluding references and appendix?\n",
    "* Are the group contributions added in the appendix?\n",
    "* Does the repository contain all scripts and code to reproduce the results in the group report? Are instructions\n",
    " provided on how to run the code?\n",
    "* Is all data ready to be uploaded to LearnIt?"
   ]
  }
 ],
 "metadata": {
  "kernelspec": {
   "display_name": "Python 3",
   "language": "python",
   "name": "python3"
  },
  "language_info": {
   "codemirror_mode": {
    "name": "ipython",
    "version": 3
   },
   "file_extension": ".py",
   "mimetype": "text/x-python",
   "name": "python",
   "nbconvert_exporter": "python",
   "pygments_lexer": "ipython3",
   "version": "3.8.10"
  }
 },
 "nbformat": 4,
 "nbformat_minor": 2
}

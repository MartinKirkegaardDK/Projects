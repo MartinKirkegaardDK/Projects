{
 "cells": [
  {
   "cell_type": "code",
   "execution_count": 1,
   "metadata": {},
   "outputs": [],
   "source": [
    "from src.dataset_handling import TextClassificationDataset, textclassification_to_tsv\n",
    "from torch.utils.data import random_split"
   ]
  },
  {
   "cell_type": "code",
   "execution_count": 2,
   "metadata": {},
   "outputs": [],
   "source": [
    "data_path = 'data/parallel/tedtalks.tmx'\n",
    "data = TextClassificationDataset.from_tmx(data_path, 'en', 'da')\n",
    "\n",
    "train, test = random_split(\n",
    "    dataset=data,\n",
    "    lengths=[0.7, 0.3]\n",
    ")\n",
    "\n",
    "out_folder = 'data/split'\n",
    "textclassification_to_tsv(train, out_folder + '/tedtalks_train.tsv')\n",
    "textclassification_to_tsv(test, out_folder + '/tedtalks_test.tsv')"
   ]
  }
 ],
 "metadata": {
  "kernelspec": {
   "display_name": "rp",
   "language": "python",
   "name": "python3"
  },
  "language_info": {
   "codemirror_mode": {
    "name": "ipython",
    "version": 3
   },
   "file_extension": ".py",
   "mimetype": "text/x-python",
   "name": "python",
   "nbconvert_exporter": "python",
   "pygments_lexer": "ipython3",
   "version": "3.11.9"
  }
 },
 "nbformat": 4,
 "nbformat_minor": 2
}

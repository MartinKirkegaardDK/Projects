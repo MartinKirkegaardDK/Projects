{
 "cells": [
  {
   "cell_type": "markdown",
   "id": "15e7d4f0-4a87-44f9-a662-19ff20fd7d42",
   "metadata": {},
   "source": [
    "# Markus Notebook"
   ]
  },
  {
   "cell_type": "markdown",
   "id": "occupational-graphic",
   "metadata": {},
   "source": [
    "Algorithms to try out in NetworkX:\n",
    "- Girvan-Newman \n",
    "- Label propagation\n",
    "- Modularity maximization \n",
    "\n",
    "Measuring partitions: \n",
    "- Modulairty \n",
    "- Maybe the others as well"
   ]
  },
  {
   "cell_type": "markdown",
   "id": "a98ed672-f94b-4d64-aa82-7930ffc5813b",
   "metadata": {},
   "source": [
    "### Imports"
   ]
  },
  {
   "cell_type": "code",
   "execution_count": 1,
   "id": "64c0b262-c94c-44e1-9625-40baf3354e13",
   "metadata": {},
   "outputs": [],
   "source": [
    "import pandas as pd\n",
    "import networkx as nx\n",
    "import matplotlib.pyplot as plt"
   ]
  },
  {
   "cell_type": "markdown",
   "id": "b5c94cfe-f214-45d9-9ad4-6a0a244bd2ea",
   "metadata": {},
   "source": [
    "### reading file\n",
    "\n",
    "has been divided into monthly chunks"
   ]
  },
  {
   "cell_type": "code",
   "execution_count": 2,
   "id": "83c2ac84-967f-4c55-94a0-8dc4e49548cf",
   "metadata": {},
   "outputs": [],
   "source": [
    "df = pd.read_csv('../../../Data/final_cool_dataset.csv')\n",
    "\n",
    "# just taking alaska, to narrow it down\n",
    "#df_m1_AK = df_m1[(df_m1.ORIGIN_STATE_NM =='Alaska') & (df_m1.DEST_STATE_NM == 'Alaska')]"
   ]
  },
  {
   "cell_type": "code",
   "execution_count": 3,
   "id": "14ccbbe0-dbf1-4fde-9b16-849f924ea64f",
   "metadata": {},
   "outputs": [
    {
     "data": {
      "text/html": [
       "<div>\n",
       "<style scoped>\n",
       "    .dataframe tbody tr th:only-of-type {\n",
       "        vertical-align: middle;\n",
       "    }\n",
       "\n",
       "    .dataframe tbody tr th {\n",
       "        vertical-align: top;\n",
       "    }\n",
       "\n",
       "    .dataframe thead th {\n",
       "        text-align: right;\n",
       "    }\n",
       "</style>\n",
       "<table border=\"1\" class=\"dataframe\">\n",
       "  <thead>\n",
       "    <tr style=\"text-align: right;\">\n",
       "      <th></th>\n",
       "      <th>ORIGIN</th>\n",
       "      <th>DEST</th>\n",
       "      <th>PAYLOAD</th>\n",
       "      <th>DISTANCE</th>\n",
       "      <th>SEATS</th>\n",
       "      <th>PASSENGERS</th>\n",
       "      <th>DEPARTURES_PERFORMED</th>\n",
       "      <th>CARRIER_NAME</th>\n",
       "    </tr>\n",
       "  </thead>\n",
       "  <tbody>\n",
       "    <tr>\n",
       "      <th>0</th>\n",
       "      <td>03A</td>\n",
       "      <td>OME</td>\n",
       "      <td>39200.0</td>\n",
       "      <td>147.0</td>\n",
       "      <td>0.0</td>\n",
       "      <td>0.0</td>\n",
       "      <td>7.0</td>\n",
       "      <td>['Arctic Transportation']</td>\n",
       "    </tr>\n",
       "    <tr>\n",
       "      <th>1</th>\n",
       "      <td>03A</td>\n",
       "      <td>OTZ</td>\n",
       "      <td>1275.0</td>\n",
       "      <td>102.0</td>\n",
       "      <td>0.0</td>\n",
       "      <td>0.0</td>\n",
       "      <td>1.0</td>\n",
       "      <td>['Arctic Transportation']</td>\n",
       "    </tr>\n",
       "    <tr>\n",
       "      <th>2</th>\n",
       "      <td>04A</td>\n",
       "      <td>OTZ</td>\n",
       "      <td>22400.0</td>\n",
       "      <td>84.0</td>\n",
       "      <td>0.0</td>\n",
       "      <td>0.0</td>\n",
       "      <td>4.0</td>\n",
       "      <td>['Arctic Transportation']</td>\n",
       "    </tr>\n",
       "    <tr>\n",
       "      <th>3</th>\n",
       "      <td>05A</td>\n",
       "      <td>CXF</td>\n",
       "      <td>11954.0</td>\n",
       "      <td>58.0</td>\n",
       "      <td>45.0</td>\n",
       "      <td>12.0</td>\n",
       "      <td>5.0</td>\n",
       "      <td>['Tatonduk Outfitters Limited d/b/a Everts Air...</td>\n",
       "    </tr>\n",
       "    <tr>\n",
       "      <th>4</th>\n",
       "      <td>05A</td>\n",
       "      <td>FAI</td>\n",
       "      <td>485589.0</td>\n",
       "      <td>191.0</td>\n",
       "      <td>831.0</td>\n",
       "      <td>148.0</td>\n",
       "      <td>118.0</td>\n",
       "      <td>['Tatonduk Outfitters Limited d/b/a Everts Air...</td>\n",
       "    </tr>\n",
       "    <tr>\n",
       "      <th>...</th>\n",
       "      <td>...</td>\n",
       "      <td>...</td>\n",
       "      <td>...</td>\n",
       "      <td>...</td>\n",
       "      <td>...</td>\n",
       "      <td>...</td>\n",
       "      <td>...</td>\n",
       "      <td>...</td>\n",
       "    </tr>\n",
       "    <tr>\n",
       "      <th>21876</th>\n",
       "      <td>ZXN</td>\n",
       "      <td>WFB</td>\n",
       "      <td>130885.0</td>\n",
       "      <td>19.0</td>\n",
       "      <td>651.0</td>\n",
       "      <td>344.0</td>\n",
       "      <td>116.0</td>\n",
       "      <td>['Pacific Airways, Inc.']</td>\n",
       "    </tr>\n",
       "    <tr>\n",
       "      <th>21877</th>\n",
       "      <td>ZXU</td>\n",
       "      <td>ACK</td>\n",
       "      <td>26640.0</td>\n",
       "      <td>74.0</td>\n",
       "      <td>44.0</td>\n",
       "      <td>8.0</td>\n",
       "      <td>6.0</td>\n",
       "      <td>['Tradewind Aviation']</td>\n",
       "    </tr>\n",
       "    <tr>\n",
       "      <th>21878</th>\n",
       "      <td>ZXU</td>\n",
       "      <td>BTV</td>\n",
       "      <td>3450.0</td>\n",
       "      <td>217.0</td>\n",
       "      <td>8.0</td>\n",
       "      <td>2.0</td>\n",
       "      <td>1.0</td>\n",
       "      <td>['Tradewind Aviation']</td>\n",
       "    </tr>\n",
       "    <tr>\n",
       "      <th>21879</th>\n",
       "      <td>ZXU</td>\n",
       "      <td>LBB</td>\n",
       "      <td>2000.0</td>\n",
       "      <td>1745.0</td>\n",
       "      <td>8.0</td>\n",
       "      <td>1.0</td>\n",
       "      <td>1.0</td>\n",
       "      <td>['Avjet Corporation']</td>\n",
       "    </tr>\n",
       "    <tr>\n",
       "      <th>21880</th>\n",
       "      <td>ZXU</td>\n",
       "      <td>TEB</td>\n",
       "      <td>11040.0</td>\n",
       "      <td>147.0</td>\n",
       "      <td>36.0</td>\n",
       "      <td>8.0</td>\n",
       "      <td>4.0</td>\n",
       "      <td>['Tradewind Aviation']</td>\n",
       "    </tr>\n",
       "  </tbody>\n",
       "</table>\n",
       "<p>21881 rows × 8 columns</p>\n",
       "</div>"
      ],
      "text/plain": [
       "      ORIGIN DEST   PAYLOAD  DISTANCE  SEATS  PASSENGERS  \\\n",
       "0        03A  OME   39200.0     147.0    0.0         0.0   \n",
       "1        03A  OTZ    1275.0     102.0    0.0         0.0   \n",
       "2        04A  OTZ   22400.0      84.0    0.0         0.0   \n",
       "3        05A  CXF   11954.0      58.0   45.0        12.0   \n",
       "4        05A  FAI  485589.0     191.0  831.0       148.0   \n",
       "...      ...  ...       ...       ...    ...         ...   \n",
       "21876    ZXN  WFB  130885.0      19.0  651.0       344.0   \n",
       "21877    ZXU  ACK   26640.0      74.0   44.0         8.0   \n",
       "21878    ZXU  BTV    3450.0     217.0    8.0         2.0   \n",
       "21879    ZXU  LBB    2000.0    1745.0    8.0         1.0   \n",
       "21880    ZXU  TEB   11040.0     147.0   36.0         8.0   \n",
       "\n",
       "       DEPARTURES_PERFORMED                                       CARRIER_NAME  \n",
       "0                       7.0                          ['Arctic Transportation']  \n",
       "1                       1.0                          ['Arctic Transportation']  \n",
       "2                       4.0                          ['Arctic Transportation']  \n",
       "3                       5.0  ['Tatonduk Outfitters Limited d/b/a Everts Air...  \n",
       "4                     118.0  ['Tatonduk Outfitters Limited d/b/a Everts Air...  \n",
       "...                     ...                                                ...  \n",
       "21876                 116.0                          ['Pacific Airways, Inc.']  \n",
       "21877                   6.0                             ['Tradewind Aviation']  \n",
       "21878                   1.0                             ['Tradewind Aviation']  \n",
       "21879                   1.0                              ['Avjet Corporation']  \n",
       "21880                   4.0                             ['Tradewind Aviation']  \n",
       "\n",
       "[21881 rows x 8 columns]"
      ]
     },
     "execution_count": 3,
     "metadata": {},
     "output_type": "execute_result"
    }
   ],
   "source": [
    "df"
   ]
  },
  {
   "cell_type": "markdown",
   "id": "7d80f89c-fa6e-4e5c-98e4-e3f7567dd3d9",
   "metadata": {},
   "source": [
    "### creating graph"
   ]
  },
  {
   "cell_type": "code",
   "execution_count": 5,
   "id": "0c34ec6c-9b80-4ca3-8144-f8ef8a93cbec",
   "metadata": {},
   "outputs": [],
   "source": [
    "#edges = [(row['ORIGIN_AIRPORT_ID'], row['DEST_AIRPORT_ID'], {column:row[column] for column in df_m1_AK.columns}) for _, row in df_m1_AK.iterrows()]\n",
    "\n",
    "edges = [(row['ORIGIN'], row['DEST'], {'weight': row['PASSENGERS']}) for _, row in df.iterrows()]"
   ]
  },
  {
   "cell_type": "code",
   "execution_count": 6,
   "id": "cdcaf161-578f-405b-a884-676ceaf762d4",
   "metadata": {},
   "outputs": [],
   "source": [
    "G = nx.DiGraph()\n",
    "G.add_edges_from(edges)"
   ]
  },
  {
   "cell_type": "code",
   "execution_count": 8,
   "id": "c8da6405-ba46-4ad1-9847-d65c5d6aa83f",
   "metadata": {},
   "outputs": [],
   "source": [
    "nx.write_pajek(G, 'Pajek_graph.net')"
   ]
  },
  {
   "cell_type": "code",
   "execution_count": 59,
   "id": "10bc7aaa-e2de-417a-a489-6da1836e2a0b",
   "metadata": {},
   "outputs": [
    {
     "data": {
      "text/plain": [
       "'ORIGIN_STATE_NM'"
      ]
     },
     "execution_count": 59,
     "metadata": {},
     "output_type": "execute_result"
    }
   ],
   "source": [
    "df_m1.columns[26]"
   ]
  }
 ],
 "metadata": {
  "kernelspec": {
   "display_name": "Python 3",
   "language": "python",
   "name": "python3"
  },
  "language_info": {
   "codemirror_mode": {
    "name": "ipython",
    "version": 3
   },
   "file_extension": ".py",
   "mimetype": "text/x-python",
   "name": "python",
   "nbconvert_exporter": "python",
   "pygments_lexer": "ipython3",
   "version": "3.8.5"
  }
 },
 "nbformat": 4,
 "nbformat_minor": 5
}

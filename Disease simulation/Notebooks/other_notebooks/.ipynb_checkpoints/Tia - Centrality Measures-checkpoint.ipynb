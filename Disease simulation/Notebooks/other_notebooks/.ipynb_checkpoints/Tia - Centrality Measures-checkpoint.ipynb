{
 "cells": [
  {
   "cell_type": "code",
   "execution_count": 2,
   "id": "textile-rachel",
   "metadata": {},
   "outputs": [],
   "source": [
    "import pandas as pd\n",
    "import networkx as nx\n",
    "import matplotlib.pyplot as plt\n",
    "\n",
    "import community as community_louvain\n",
    "import matplotlib.cm as cm\n",
    "import matplotlib.pyplot as plt\n",
    "from networkx.algorithms.community.centrality import girvan_newman\n",
    "\n",
    "#from infomap import infomap\n",
    "#from cdlib import algorithms\n",
    "#import igraph as ig\n",
    "#import leidenalg as la"
   ]
  },
  {
   "cell_type": "markdown",
   "id": "considerable-transfer",
   "metadata": {},
   "source": [
    "# Load network"
   ]
  },
  {
   "cell_type": "code",
   "execution_count": 4,
   "id": "excessive-dollar",
   "metadata": {},
   "outputs": [],
   "source": [
    "df = pd.read_csv('../../Data/final_cool_dataset.csv')"
   ]
  },
  {
   "cell_type": "code",
   "execution_count": 5,
   "id": "assumed-tours",
   "metadata": {},
   "outputs": [
    {
     "data": {
      "text/html": [
       "<div>\n",
       "<style scoped>\n",
       "    .dataframe tbody tr th:only-of-type {\n",
       "        vertical-align: middle;\n",
       "    }\n",
       "\n",
       "    .dataframe tbody tr th {\n",
       "        vertical-align: top;\n",
       "    }\n",
       "\n",
       "    .dataframe thead th {\n",
       "        text-align: right;\n",
       "    }\n",
       "</style>\n",
       "<table border=\"1\" class=\"dataframe\">\n",
       "  <thead>\n",
       "    <tr style=\"text-align: right;\">\n",
       "      <th></th>\n",
       "      <th>ORIGIN</th>\n",
       "      <th>DEST</th>\n",
       "      <th>PAYLOAD</th>\n",
       "      <th>DISTANCE</th>\n",
       "      <th>SEATS</th>\n",
       "      <th>PASSENGERS</th>\n",
       "      <th>DEPARTURES_PERFORMED</th>\n",
       "      <th>CARRIER_NAME</th>\n",
       "      <th>ORIGIN_AIRPORT_ID</th>\n",
       "      <th>DEST_AIRPORT_ID</th>\n",
       "      <th>ORIGIN_NAME</th>\n",
       "      <th>DEST_NAME</th>\n",
       "    </tr>\n",
       "  </thead>\n",
       "  <tbody>\n",
       "    <tr>\n",
       "      <th>0</th>\n",
       "      <td>ABL</td>\n",
       "      <td>OME</td>\n",
       "      <td>10500.0</td>\n",
       "      <td>280.0</td>\n",
       "      <td>4.0</td>\n",
       "      <td>0.0</td>\n",
       "      <td>2.0</td>\n",
       "      <td>['Bering Air Inc.']</td>\n",
       "      <td>10139</td>\n",
       "      <td>13873</td>\n",
       "      <td>Ambler, AK: Ambler River</td>\n",
       "      <td>Nome, AK: Nome Airport</td>\n",
       "    </tr>\n",
       "    <tr>\n",
       "      <th>1</th>\n",
       "      <td>AIN</td>\n",
       "      <td>OME</td>\n",
       "      <td>4500.0</td>\n",
       "      <td>448.0</td>\n",
       "      <td>19.0</td>\n",
       "      <td>0.0</td>\n",
       "      <td>1.0</td>\n",
       "      <td>['Hageland Aviation Service']</td>\n",
       "      <td>10225</td>\n",
       "      <td>13873</td>\n",
       "      <td>Wainwright, AK: Wainwright Airport</td>\n",
       "      <td>Nome, AK: Nome Airport</td>\n",
       "    </tr>\n",
       "    <tr>\n",
       "      <th>2</th>\n",
       "      <td>ANC</td>\n",
       "      <td>OME</td>\n",
       "      <td>33729908.0</td>\n",
       "      <td>539.0</td>\n",
       "      <td>31762.0</td>\n",
       "      <td>20623.0</td>\n",
       "      <td>1133.0</td>\n",
       "      <td>['Era Aviation' 'Alaska Airlines Inc.'\\n 'Tato...</td>\n",
       "      <td>10299</td>\n",
       "      <td>13873</td>\n",
       "      <td>Anchorage, AK: Ted Stevens Anchorage Internati...</td>\n",
       "      <td>Nome, AK: Nome Airport</td>\n",
       "    </tr>\n",
       "    <tr>\n",
       "      <th>3</th>\n",
       "      <td>ATK</td>\n",
       "      <td>OME</td>\n",
       "      <td>4500.0</td>\n",
       "      <td>463.0</td>\n",
       "      <td>19.0</td>\n",
       "      <td>0.0</td>\n",
       "      <td>1.0</td>\n",
       "      <td>['Hageland Aviation Service']</td>\n",
       "      <td>10396</td>\n",
       "      <td>13873</td>\n",
       "      <td>Atqasuk, AK: Atqasuk Edward Burnell Sr. Memorial</td>\n",
       "      <td>Nome, AK: Nome Airport</td>\n",
       "    </tr>\n",
       "    <tr>\n",
       "      <th>4</th>\n",
       "      <td>AUK</td>\n",
       "      <td>OME</td>\n",
       "      <td>39300.0</td>\n",
       "      <td>129.0</td>\n",
       "      <td>26.0</td>\n",
       "      <td>7.0</td>\n",
       "      <td>9.0</td>\n",
       "      <td>['Arctic Transportation' 'Bering Air Inc.' 'Ha...</td>\n",
       "      <td>10416</td>\n",
       "      <td>13873</td>\n",
       "      <td>Alakanuk, AK: Alakanuk Airport</td>\n",
       "      <td>Nome, AK: Nome Airport</td>\n",
       "    </tr>\n",
       "  </tbody>\n",
       "</table>\n",
       "</div>"
      ],
      "text/plain": [
       "  ORIGIN DEST     PAYLOAD  DISTANCE    SEATS  PASSENGERS  \\\n",
       "0    ABL  OME     10500.0     280.0      4.0         0.0   \n",
       "1    AIN  OME      4500.0     448.0     19.0         0.0   \n",
       "2    ANC  OME  33729908.0     539.0  31762.0     20623.0   \n",
       "3    ATK  OME      4500.0     463.0     19.0         0.0   \n",
       "4    AUK  OME     39300.0     129.0     26.0         7.0   \n",
       "\n",
       "   DEPARTURES_PERFORMED                                       CARRIER_NAME  \\\n",
       "0                   2.0                                ['Bering Air Inc.']   \n",
       "1                   1.0                      ['Hageland Aviation Service']   \n",
       "2                1133.0  ['Era Aviation' 'Alaska Airlines Inc.'\\n 'Tato...   \n",
       "3                   1.0                      ['Hageland Aviation Service']   \n",
       "4                   9.0  ['Arctic Transportation' 'Bering Air Inc.' 'Ha...   \n",
       "\n",
       "   ORIGIN_AIRPORT_ID  DEST_AIRPORT_ID  \\\n",
       "0              10139            13873   \n",
       "1              10225            13873   \n",
       "2              10299            13873   \n",
       "3              10396            13873   \n",
       "4              10416            13873   \n",
       "\n",
       "                                         ORIGIN_NAME               DEST_NAME  \n",
       "0                           Ambler, AK: Ambler River  Nome, AK: Nome Airport  \n",
       "1                 Wainwright, AK: Wainwright Airport  Nome, AK: Nome Airport  \n",
       "2  Anchorage, AK: Ted Stevens Anchorage Internati...  Nome, AK: Nome Airport  \n",
       "3   Atqasuk, AK: Atqasuk Edward Burnell Sr. Memorial  Nome, AK: Nome Airport  \n",
       "4                     Alakanuk, AK: Alakanuk Airport  Nome, AK: Nome Airport  "
      ]
     },
     "execution_count": 5,
     "metadata": {},
     "output_type": "execute_result"
    }
   ],
   "source": [
    "df.head()"
   ]
  },
  {
   "cell_type": "code",
   "execution_count": 6,
   "id": "artificial-header",
   "metadata": {},
   "outputs": [
    {
     "data": {
      "text/plain": [
       "(21149, 12)"
      ]
     },
     "execution_count": 6,
     "metadata": {},
     "output_type": "execute_result"
    }
   ],
   "source": [
    "df.shape"
   ]
  },
  {
   "cell_type": "code",
   "execution_count": 7,
   "id": "challenging-found",
   "metadata": {},
   "outputs": [],
   "source": [
    "edges = [(row['ORIGIN'], row['DEST'], {'weight': row['PASSENGERS']}) for _, row in df.iterrows()]"
   ]
  },
  {
   "cell_type": "code",
   "execution_count": 8,
   "id": "military-utilization",
   "metadata": {},
   "outputs": [],
   "source": [
    "G = nx.DiGraph()\n",
    "G.add_edges_from(edges[0:1000])"
   ]
  },
  {
   "cell_type": "code",
   "execution_count": 135,
   "id": "separated-northeast",
   "metadata": {},
   "outputs": [
    {
     "data": {
      "text/plain": [
       "OutEdgeDataView([('ABL', 'OME', {'weight': 0.0}), ('ABL', 'OTZ', {'weight': 1787.0}), ('ABL', 'FAI', {'weight': 4.0}), ('OME', 'OTZ', {'weight': 11468.0}), ('OME', 'FAI', {'weight': 0.0}), ('OME', 'SCC', {'weight': 0.0}), ('OME', 'HOM', {'weight': 0.0}), ('OME', 'ANC', {'weight': 37415.0}), ('OME', 'BET', {'weight': 240.0}), ('OME', 'BRW', {'weight': 111.0}), ('AIN', 'OME', {'weight': 0.0}), ('AIN', 'OTZ', {'weight': 32.0}), ('AIN', 'FAI', {'weight': 59.0}), ('AIN', 'SCC', {'weight': 0.0}), ('AIN', 'ANC', {'weight': 70.0}), ('AIN', 'BRW', {'weight': 2913.0}), ('ANC', 'OME', {'weight': 20623.0}), ('ANC', 'OTZ', {'weight': 35269.0}), ('ANC', 'FAI', {'weight': 211339.0}), ('ANC', 'SCC', {'weight': 16918.0}), ('ANC', 'ADQ', {'weight': 63521.0}), ('ANC', 'HOM', {'weight': 27024.0}), ('ANC', 'CDB', {'weight': 5406.0}), ('ANC', 'DUT', {'weight': 11023.0}), ('ANC', 'SDP', {'weight': 4386.0}), ('ANC', 'BET', {'weight': 52292.0}), ('ANC', 'BRW', {'weight': 5160.0}), ('ANC', 'ANI', {'weight': 6281.0}), ('ATK', 'OME', {'weight': 0.0}), ('ATK', 'OTZ', {'weight': 9.0}), ('ATK', 'FAI', {'weight': 1.0}), ('ATK', 'SCC', {'weight': 0.0}), ('ATK', 'ANC', {'weight': 0.0}), ('ATK', 'BRW', {'weight': 2239.0}), ('AUK', 'OME', {'weight': 7.0}), ('AUK', 'ANC', {'weight': 0.0}), ('AUK', 'BET', {'weight': 667.0}), ('BET', 'OME', {'weight': 260.0}), ('BET', 'OTZ', {'weight': 29.0}), ('BET', 'FAI', {'weight': 25.0}), ('BET', 'ADQ', {'weight': 0.0}), ('BET', 'HOM', {'weight': 26.0}), ('BET', 'ANC', {'weight': 52392.0}), ('BET', 'CDB', {'weight': 0.0}), ('BET', 'DUT', {'weight': 0.0}), ('BET', 'SDP', {'weight': 7.0}), ('BET', 'BRW', {'weight': 38.0}), ('BET', 'ANI', {'weight': 1329.0}), ('BET', 'KKI', {'weight': 2033.0}), ('BKC', 'OME', {'weight': 6.0}), ('BKC', 'OTZ', {'weight': 1870.0}), ('BKC', 'ANC', {'weight': 0.0}), ('BKC', 'BET', {'weight': 0.0}), ('BRW', 'OME', {'weight': 132.0}), ('BRW', 'OTZ', {'weight': 213.0}), ('BRW', 'CXF', {'weight': 16.0}), ('BRW', 'FAI', {'weight': 22539.0}), ('BRW', 'SCC', {'weight': 2921.0}), ('BRW', 'ANC', {'weight': 24264.0}), ('BRW', 'BET', {'weight': 38.0}), ('CIL', 'OME', {'weight': 0.0}), ('DIO', 'OME', {'weight': 14.0}), ('DRG', 'OME', {'weight': 19.0}), ('DRG', 'OTZ', {'weight': 1687.0}), ('ELI', 'OME', {'weight': 1109.0}), ('ELI', 'OTZ', {'weight': 0.0}), ('ELI', 'SCC', {'weight': 0.0}), ('ELI', 'ANC', {'weight': 23.0}), ('EMK', 'OME', {'weight': 29.0}), ('EMK', 'FAI', {'weight': 1.0}), ('EMK', 'HOM', {'weight': 0.0}), ('EMK', 'ANC', {'weight': 14.0}), ('EMK', 'BET', {'weight': 2845.0}), ('EMK', 'ANI', {'weight': 0.0}), ('EMK', 'KKI', {'weight': 3.0}), ('FAI', 'OME', {'weight': 0.0}), ('FAI', 'OTZ', {'weight': 40.0}), ('FAI', 'CXF', {'weight': 5790.0}), ('FAI', 'FYU', {'weight': 8221.0}), ('FAI', 'SCC', {'weight': 36825.0}), ('FAI', 'VEE', {'weight': 978.0}), ('FAI', 'ADQ', {'weight': 0.0}), ('FAI', 'ANC', {'weight': 196571.0}), ('FAI', 'BET', {'weight': 37.0}), ('FAI', 'BRW', {'weight': 8818.0}), ('FAI', 'ANI', {'weight': 0.0}), ('FBK', 'OME', {'weight': 0.0}), ('FBK', 'FAI', {'weight': 3.0}), ('FBK', 'FYU', {'weight': 35.0}), ('FBK', 'VEE', {'weight': 30.0}), ('FBK', 'ANC', {'weight': 16.0}), ('FBK', 'ANI', {'weight': 0.0}), ('GAL', 'OME', {'weight': 0.0}), ('GAL', 'OTZ', {'weight': 46.0}), ('GAL', 'FAI', {'weight': 8277.0}), ('GAL', 'SCC', {'weight': 0.0}), ('GAL', 'VEE', {'weight': 16.0}), ('GAL', 'ANC', {'weight': 557.0}), ('GAL', 'BET', {'weight': 39.0}), ('GAL', 'ANI', {'weight': 18.0}), ('GAM', 'OME', {'weight': 2590.0}), ('GAM', 'OTZ', {'weight': 0.0}), ('GAM', 'ANC', {'weight': 23.0}), ('GLV', 'OME', {'weight': 1189.0}), ('GLV', 'ANC', {'weight': 34.0}), ('GLV', 'BET', {'weight': 3.0}), ('GMT', 'OME', {'weight': 3.0}), ('HPB', 'OME', {'weight': 0.0}), ('HPB', 'BET', {'weight': 3142.0}), ('HPB', 'KKI', {'weight': 0.0}), ('HSL', 'OME', {'weight': 0.0}), ('HSL', 'OTZ', {'weight': 0.0}), ('HSL', 'FAI', {'weight': 1263.0}), ('HSL', 'SCC', {'weight': 0.0}), ('IAN', 'OME', {'weight': 0.0}), ('IAN', 'OTZ', {'weight': 3014.0}), ('IAN', 'FAI', {'weight': 6.0}), ('KAL', 'OME', {'weight': 0.0}), ('KAL', 'OTZ', {'weight': 0.0}), ('KAL', 'FAI', {'weight': 317.0}), ('KAL', 'ANC', {'weight': 0.0}), ('KAL', 'BET', {'weight': 0.0}), ('KAL', 'ANI', {'weight': 0.0}), ('KKA', 'OME', {'weight': 661.0}), ('KKA', 'OTZ', {'weight': 0.0}), ('KKA', 'ANC', {'weight': 13.0}), ('KKA', 'BET', {'weight': 0.0}), ('KOT', 'OME', {'weight': 11.0}), ('KOT', 'ANC', {'weight': 0.0}), ('KOT', 'BET', {'weight': 1135.0}), ('KPC', 'OME', {'weight': 17.0}), ('KSM', 'OME', {'weight': 13.0}), ('KSM', 'FAI', {'weight': 16.0}), ('KSM', 'HOM', {'weight': 19.0}), ('KSM', 'ANC', {'weight': 5281.0}), ('KSM', 'BET', {'weight': 703.0}), ('KSM', 'ANI', {'weight': 18.0}), ('KTS', 'OME', {'weight': 1384.0}), ('KTS', 'OTZ', {'weight': 0.0}), ('KTS', 'ANC', {'weight': 10.0}), ('KVL', 'OME', {'weight': 13.0}), ('KVL', 'OTZ', {'weight': 2425.0}), ('KVL', 'BRW', {'weight': 3.0}), ('MCG', 'OME', {'weight': 0.0}), ('MCG', 'FAI', {'weight': 106.0}), ('MCG', 'ANC', {'weight': 2346.0}), ('MCG', 'BET', {'weight': 0.0}), ('MCG', 'ANI', {'weight': 17.0}), ('MCG', 'KKI', {'weight': 9.0}), ('MLL', 'OME', {'weight': 10.0}), ('MLL', 'ANC', {'weight': 9.0}), ('MLL', 'BET', {'weight': 1278.0}), ('MLL', 'ANI', {'weight': 4.0}), ('MLL', 'KKI', {'weight': 5.0}), ('MOS', 'OME', {'weight': 2.0}), ('MOU', 'OME', {'weight': 0.0}), ('MOU', 'ANC', {'weight': 0.0}), ('MOU', 'BET', {'weight': 2697.0}), ('MOU', 'ANI', {'weight': 0.0}), ('MRI', 'OME', {'weight': 5.0}), ('MRI', 'HOM', {'weight': 3.0}), ('MRI', 'ANC', {'weight': 9.0}), ('OBU', 'OME', {'weight': 2.0}), ('OBU', 'OTZ', {'weight': 1052.0}), ('OBU', 'FAI', {'weight': 44.0}), ('OBU', 'SCC', {'weight': 0.0}), ('OBU', 'ANC', {'weight': 0.0}), ('OHC', 'OME', {'weight': 57.0}), ('ORV', 'OME', {'weight': 6.0}), ('ORV', 'OTZ', {'weight': 3370.0}), ('ORV', 'FAI', {'weight': 20.0}), ('OTZ', 'OME', {'weight': 28244.0}), ('OTZ', 'FAI', {'weight': 99.0}), ('OTZ', 'SCC', {'weight': 105.0}), ('OTZ', 'ADQ', {'weight': 0.0}), ('OTZ', 'ANC', {'weight': 18303.0}), ('OTZ', 'BRW', {'weight': 190.0}), ('OTZ', 'ANI', {'weight': 0.0}), ('PHO', 'OME', {'weight': 0.0}), ('PHO', 'OTZ', {'weight': 3282.0}), ('PHO', 'FAI', {'weight': 1.0}), ('PHO', 'HOM', {'weight': 6.0}), ('PHO', 'ANC', {'weight': 13.0}), ('PHO', 'BRW', {'weight': 326.0}), ('PQS', 'OME', {'weight': 0.0}), ('PQS', 'FAI', {'weight': 0.0}), ('PQS', 'BET', {'weight': 2918.0}), ('PQS', 'ANI', {'weight': 0.0}), ('PQS', 'KKI', {'weight': 0.0}), ('RBY', 'OME', {'weight': 0.0}), ('RBY', 'OTZ', {'weight': 0.0}), ('RBY', 'FAI', {'weight': 2182.0}), ('RBY', 'ANI', {'weight': 0.0}), ('SCM', 'OME', {'weight': 1.0}), ('SCM', 'ANC', {'weight': 7.0}), ('SCM', 'BET', {'weight': 3405.0}), ('SHH', 'OME', {'weight': 2120.0}), ('SHH', 'OTZ', {'weight': 48.0}), ('SKK', 'OME', {'weight': 987.0}), ('SKK', 'OTZ', {'weight': 0.0}), ('SKK', 'FAI', {'weight': 0.0}), ('SKK', 'ANC', {'weight': 17.0}), ('SKK', 'ANI', {'weight': 0.0}), ('SMK', 'OME', {'weight': 624.0}), ('SMK', 'FAI', {'weight': 16.0}), ('SMK', 'ANC', {'weight': 17.0}), ('SMK', 'BET', {'weight': 5.0}), ('SMK', 'ANI', {'weight': 0.0}), ('SVA', 'OME', {'weight': 2554.0}), ('SVA', 'OTZ', {'weight': 8.0}), ('SVA', 'ANC', {'weight': 19.0}), ('SXP', 'OME', {'weight': 1.0}), ('SXP', 'BET', {'weight': 421.0}), ('TLA', 'OME', {'weight': 984.0}), ('TLA', 'OTZ', {'weight': 0.0}), ('TNC', 'OME', {'weight': 171.0}), ('TNC', 'FAI', {'weight': 0.0}), ('TNC', 'ANC', {'weight': 0.0}), ('UNK', 'OME', {'weight': 907.0}), ('UNK', 'OTZ', {'weight': 32.0}), ('UNK', 'FAI', {'weight': 3.0}), ('UNK', 'ADQ', {'weight': 0.0}), ('UNK', 'HOM', {'weight': 0.0}), ('UNK', 'ANC', {'weight': 7173.0}), ('UNK', 'BET', {'weight': 2.0}), ('UNK', 'ANI', {'weight': 322.0}), ('VAK', 'OME', {'weight': 30.0}), ('VAK', 'ANC', {'weight': 9.0}), ('VAK', 'BET', {'weight': 3989.0}), ('VEE', 'OME', {'weight': 0.0}), ('VEE', 'FAI', {'weight': 1009.0}), ('VEE', 'FYU', {'weight': 1658.0}), ('VEE', 'SCC', {'weight': 0.0}), ('VEE', 'ANC', {'weight': 0.0}), ('WAA', 'OME', {'weight': 1101.0}), ('WAA', 'OTZ', {'weight': 0.0}), ('WAA', 'ANC', {'weight': 0.0}), ('WBB', 'OME', {'weight': 2209.0}), ('WBB', 'OTZ', {'weight': 0.0}), ('WBB', 'ANC', {'weight': 12.0}), ('WBB', 'BET', {'weight': 10.0}), ('WBB', 'ANI', {'weight': 0.0}), ('WLK', 'OME', {'weight': 0.0}), ('WLK', 'OTZ', {'weight': 3646.0}), ('WLK', 'FAI', {'weight': 16.0}), ('WMO', 'OME', {'weight': 1683.0}), ('WMO', 'OTZ', {'weight': 0.0}), ('WMO', 'ANC', {'weight': 4.0}), ('WTK', 'OME', {'weight': 6.0}), ('WTK', 'OTZ', {'weight': 3132.0}), ('WTK', 'FAI', {'weight': 2.0}), ('WTK', 'SCC', {'weight': 0.0}), ('WTK', 'ANC', {'weight': 0.0}), ('WTK', 'BRW', {'weight': 0.0}), ('04A', 'OTZ', {'weight': 0.0}), ('AKP', 'OTZ', {'weight': 19.0}), ('AKP', 'CXF', {'weight': 397.0}), ('AKP', 'FAI', {'weight': 2490.0}), ('AKP', 'FYU', {'weight': 0.0}), ('AKP', 'SCC', {'weight': 0.0}), ('AKP', 'ANC', {'weight': 0.0}), ('AKP', 'BRW', {'weight': 317.0}), ('CDL', 'OTZ', {'weight': 0.0}), ('CDL', 'FAI', {'weight': 3.0}), ('CDL', 'ANC', {'weight': 0.0}), ('HCR', 'OTZ', {'weight': 12.0}), ('HCR', 'FAI', {'weight': 5.0}), ('HCR', 'ANC', {'weight': 12.0}), ('HCR', 'BET', {'weight': 27.0}), ('HCR', 'ANI', {'weight': 1369.0}), ('HCR', 'KKI', {'weight': 9.0}), ('KYU', 'OTZ', {'weight': 0.0}), ('KYU', 'FAI', {'weight': 279.0}), ('KYU', 'BET', {'weight': 0.0}), ('KYU', 'ANI', {'weight': 0.0}), ('LUR', 'OTZ', {'weight': 85.0}), ('LUR', 'ANC', {'weight': 0.0}), ('NUI', 'OTZ', {'weight': 0.0}), ('NUI', 'FAI', {'weight': 87.0}), ('NUI', 'SCC', {'weight': 1393.0}), ('NUI', 'ANC', {'weight': 14.0}), ('NUI', 'BRW', {'weight': 2486.0}), ('NUL', 'OTZ', {'weight': 0.0}), ('NUL', 'FAI', {'weight': 339.0}), ('NUL', 'ANI', {'weight': 0.0}), ('PIZ', 'OTZ', {'weight': 19.0}), ('PIZ', 'FAI', {'weight': 0.0}), ('PIZ', 'SCC', {'weight': 0.0}), ('PIZ', 'ANC', {'weight': 12.0}), ('PIZ', 'BRW', {'weight': 1827.0}), ('RDB', 'OTZ', {'weight': 1253.0}), ('RDB', 'ANC', {'weight': 7420.0}), ('RLU', 'OTZ', {'weight': 8.0}), ('RLU', 'FAI', {'weight': 115.0}), ('SCC', 'OTZ', {'weight': 169.0}), ('SCC', 'CXF', {'weight': 8.0}), ('SCC', 'FAI', {'weight': 9903.0}), ('SCC', 'FYU', {'weight': 11.0}), ('SCC', 'ANC', {'weight': 10879.0}), ('SCC', 'BRW', {'weight': 35769.0}), ('SHG', 'OTZ', {'weight': 898.0}), ('SHG', 'FAI', {'weight': 11.0}), ('SHG', 'SCC', {'weight': 0.0}), ('SHG', 'ANC', {'weight': 0.0}), ('AET', 'CXF', {'weight': 7.0}), ('AET', 'FAI', {'weight': 1564.0}), ('CXF', 'FAI', {'weight': 5488.0}), ('CXF', 'FYU', {'weight': 0.0}), ('CXF', 'SCC', {'weight': 18.0}), ('CXF', 'BRW', {'weight': 346.0}), ('ARC', 'CXF', {'weight': 12.0}), ('ARC', 'FAI', {'weight': 632.0}), ('ARC', 'FYU', {'weight': 257.0}), ('ARC', 'VEE', {'weight': 823.0}), ('ARC', 'ANC', {'weight': 0.0}), ('BTT', 'CXF', {'weight': 75.0}), ('BTT', 'FAI', {'weight': 2102.0}), ('BTT', 'FYU', {'weight': 0.0}), ('BTT', 'BRW', {'weight': 14.0}), ('FYU', 'CXF', {'weight': 0.0}), ('FYU', 'FAI', {'weight': 7549.0}), ('FYU', 'SCC', {'weight': 44.0}), ('FYU', 'VEE', {'weight': 1600.0}), ('FYU', 'BRW', {'weight': 0.0}), ('TAL', 'CXF', {'weight': 2.0}), ('TAL', 'FAI', {'weight': 3485.0}), ('TAL', 'ANC', {'weight': 0.0}), ('WBQ', 'CXF', {'weight': 4.0}), ('WBQ', 'FAI', {'weight': 710.0}), ('WBQ', 'FYU', {'weight': 33.0}), ('WBQ', 'VEE', {'weight': 28.0}), ('WCR', 'CXF', {'weight': 17.0}), ('WCR', 'FAI', {'weight': 8.0}), ('A26', 'FAI', {'weight': 3.0}), ('A26', 'BRW', {'weight': 0.0}), ('A27', 'FAI', {'weight': 97.0}), ('A63', 'FAI', {'weight': 9.0}), ('ADQ', 'FAI', {'weight': 40.0}), ('ADQ', 'HOM', {'weight': 81.0}), ('ADQ', 'ANC', {'weight': 64059.0}), ('ADQ', 'CDB', {'weight': 0.0}), ('ADQ', 'DUT', {'weight': 213.0}), ('ADQ', 'SDP', {'weight': 29.0}), ('ADQ', 'ALZ', {'weight': 106.0}), ('ADQ', 'KOY', {'weight': 110.0}), ('ADQ', 'OLH', {'weight': 2814.0}), ('AK5', 'FAI', {'weight': 274.0}), ('AK5', 'SCC', {'weight': 54.0}), ('AK5', 'ANC', {'weight': 96.0}), ('AK7', 'FAI', {'weight': 0.0}), ('ANI', 'FAI', {'weight': 0.0}), ('ANI', 'ADQ', {'weight': 0.0}), ('ANI', 'HOM', {'weight': 26.0}), ('ANI', 'ANC', {'weight': 5786.0}), ('ANI', 'CDB', {'weight': 0.0}), ('ANI', 'DUT', {'weight': 0.0}), ('ANI', 'BET', {'weight': 1429.0}), ('ANI', 'KKI', {'weight': 47.0}), ('ANI', 'RSH', {'weight': 290.0}), ('ANV', 'FAI', {'weight': 14.0}), ('ANV', 'ANC', {'weight': 248.0}), ('ANV', 'BET', {'weight': 7.0}), ('ANV', 'ANI', {'weight': 415.0}), ('BTI', 'FAI', {'weight': 557.0}), ('BTI', 'FYU', {'weight': 391.0}), ('BTI', 'SCC', {'weight': 1347.0}), ('BTI', 'ANC', {'weight': 17.0}), ('BTI', 'BRW', {'weight': 174.0}), ('BUR', 'FAI', {'weight': 2.0}), ('BUR', 'GCN', {'weight': 9.0}), ('BUR', 'PGA', {'weight': 12.0}), ('BUR', 'HPN', {'weight': 1.0}), ('BUR', 'ANC', {'weight': 5.0}), ('BUR', 'CDB', {'weight': 3.0}), ('CDV', 'FAI', {'weight': 0.0}), ('CDV', 'ADQ', {'weight': 29.0}), ('CDV', 'ANC', {'weight': 17130.0}), ('CEM', 'FAI', {'weight': 121.0}), ('CEM', 'FYU', {'weight': 0.0}), ('CIK', 'FAI', {'weight': 126.0}), ('CIK', 'FYU', {'weight': 576.0}), ('CIK', 'VEE', {'weight': 2.0}), ('CKU', 'FAI', {'weight': 4.0}), ('CKX', 'FAI', {'weight': 9.0}), ('CZN', 'FAI', {'weight': 2.0}), ('DCK', 'FAI', {'weight': 112.0}), ('DCK', 'ANC', {'weight': 0.0}), ('DEN', 'FAI', {'weight': 21727.0}), ('DEN', 'PGA', {'weight': 2616.0}), ('DEN', 'HPN', {'weight': 3.0}), ('DEN', 'ANC', {'weight': 65547.0}), ('EAA', 'FAI', {'weight': 490.0}), ('EAA', 'FYU', {'weight': 0.0}), ('ENN', 'FAI', {'weight': 5.0}), ('ENN', 'SCC', {'weight': 0.0}), ('ENN', 'ANC', {'weight': 268.0}), ('ENN', 'ANI', {'weight': 7.0}), ('FWL', 'FAI', {'weight': 0.0}), ('FWL', 'ANC', {'weight': 0.0}), ('GBH', 'FAI', {'weight': 566.0}), ('GBH', 'ANC', {'weight': 4.0}), ('GEK', 'FAI', {'weight': 0.0}), ('HGZ', 'FAI', {'weight': 4.0}), ('HKB', 'FAI', {'weight': 14.0}), ('HUS', 'FAI', {'weight': 907.0}), ('HUS', 'ANC', {'weight': 0.0}), ('IGG', 'FAI', {'weight': 2.0}), ('IGG', 'HOM', {'weight': 1.0}), ('IGG', 'ANC', {'weight': 36.0}), ('ILI', 'FAI', {'weight': 0.0}), ('ILI', 'ADQ', {'weight': 8.0}), ('ILI', 'HOM', {'weight': 21.0}), ('ILI', 'ANC', {'weight': 3241.0}), ('ILI', 'CDB', {'weight': 0.0}), ('ILI', 'DUT', {'weight': 2.0}), ('ILI', 'SDP', {'weight': 0.0}), ('ILI', 'BET', {'weight': 13.0}), ('IND', 'FAI', {'weight': 0.0}), ('IND', 'ANC', {'weight': 165.0}), ('IRC', 'FAI', {'weight': 352.0}), ('IRC', 'FYU', {'weight': 30.0}), ('JNU', 'FAI', {'weight': 83.0}), ('JNU', 'ADQ', {'weight': 0.0}), ('JNU', 'ANC', {'weight': 99118.0}), ('KBC', 'FAI', {'weight': 692.0}), ('KBC', 'FYU', {'weight': 427.0}), ('KBC', 'VEE', {'weight': 12.0}), ('KGX', 'FAI', {'weight': 4.0}), ('KGX', 'ANC', {'weight': 6.0}), ('KGX', 'BET', {'weight': 16.0}), ('KGX', 'ANI', {'weight': 355.0}), ('LIV', 'FAI', {'weight': 2.0}), ('LIV', 'BRW', {'weight': 8.0}), ('LMA', 'FAI', {'weight': 115.0}), ('LNI', 'FAI', {'weight': 28.0}), ('LNI', 'SCC', {'weight': 4.0}), ('LNI', 'BRW', {'weight': 39.0}), ('MEM', 'FAI', {'weight': 0.0}), ('MEM', 'HPN', {'weight': 164.0}), ('MEM', 'ANC', {'weight': 0.0}), ('MHM', 'FAI', {'weight': 47.0}), ('MLY', 'FAI', {'weight': 125.0}), ('MNT', 'FAI', {'weight': 174.0}), ('MSP', 'FAI', {'weight': 26504.0}), ('MSP', 'HPN', {'weight': 74.0}), ('MSP', 'ANC', {'weight': 130666.0}), ('NIB', 'FAI', {'weight': 13.0}), ('NIB', 'ANC', {'weight': 0.0}), ('NIB', 'ANI', {'weight': 3.0}), ('ORD', 'FAI', {'weight': 9791.0}), ('ORD', 'HPN', {'weight': 85655.0}), ('ORD', 'ANC', {'weight': 73409.0}), ('ORT', 'FAI', {'weight': 9.0}), ('PDX', 'FAI', {'weight': 9552.0}), ('PDX', 'ANC', {'weight': 102495.0}), ('PPC', 'FAI', {'weight': 532.0}), ('PPC', 'ANC', {'weight': 25.0}), ('RMP', 'FAI', {'weight': 233.0}), ('SEA', 'FAI', {'weight': 117207.0}), ('SEA', 'ANC', {'weight': 670488.0}), ('SEA', 'CDB', {'weight': 0.0}), ('SVS', 'FAI', {'weight': 708.0}), ('SVS', 'FYU', {'weight': 2.0}), ('TCT', 'FAI', {'weight': 8.0}), ('TCT', 'ANC', {'weight': 2.0}), ('TCT', 'ANI', {'weight': 0.0}), ('TKJ', 'FAI', {'weight': 150.0}), ('TKJ', 'ANC', {'weight': 88.0}), ('TLJ', 'FAI', {'weight': 0.0}), ('UMT', 'FAI', {'weight': 428.0}), ('UMT', 'SCC', {'weight': 193.0}), ('UMT', 'ANC', {'weight': 35.0}), ('UMT', 'BRW', {'weight': 23.0}), ('UTO', 'FAI', {'weight': 107.0}), ('UTO', 'FYU', {'weight': 0.0}), ('VIK', 'FAI', {'weight': 30.0}), ('VIK', 'SCC', {'weight': 13.0}), ('YAK', 'FAI', {'weight': 1.0}), ('YAK', 'ANC', {'weight': 66.0}), ('CHP', 'FYU', {'weight': 7.0}), ('DQH', 'SCC', {'weight': 0.0}), ('DQH', 'ANC', {'weight': 0.0}), ('UUK', 'SCC', {'weight': 71.0}), ('UUK', 'ANC', {'weight': 0.0}), ('06A', 'ADQ', {'weight': 0.0}), ('A29', 'ADQ', {'weight': 75.0}), ('A29', 'ALZ', {'weight': 0.0}), ('A29', 'OLH', {'weight': 0.0}), ('AKK', 'ADQ', {'weight': 816.0}), ('AKK', 'ALZ', {'weight': 0.0}), ('AKK', 'OLH', {'weight': 146.0}), ('AKN', 'ADQ', {'weight': 301.0}), ('AKN', 'ANC', {'weight': 25198.0}), ('AKN', 'CDB', {'weight': 1983.0}), ('AKN', 'DUT', {'weight': 9299.0}), ('AKN', 'SDP', {'weight': 1054.0}), ('AKN', 'BET', {'weight': 44.0}), ('AKN', 'ANI', {'weight': 0.0}), ('ALZ', 'ADQ', {'weight': 146.0}), ('ALZ', 'KOY', {'weight': 9.0}), ('ALZ', 'OLH', {'weight': 5.0}), ('AOS', 'ADQ', {'weight': 14.0}), ('AOS', 'ALZ', {'weight': 3.0}), ('AOS', 'KOY', {'weight': 0.0}), ('BFB', 'ADQ', {'weight': 5.0}), ('CDB', 'ADQ', {'weight': 0.0}), ('CDB', 'HOM', {'weight': 14.0}), ('CDB', 'ANC', {'weight': 5255.0}), ('CDB', 'DUT', {'weight': 2350.0}), ('CDB', 'SDP', {'weight': 552.0}), ('DGB', 'ADQ', {'weight': 19.0}), ('DLG', 'ADQ', {'weight': 0.0}), ('DLG', 'HOM', {'weight': 12.0}), ('DLG', 'ANC', {'weight': 20764.0}), ('DLG', 'CDB', {'weight': 0.0}), ('DLG', 'DUT', {'weight': 204.0}), ('DLG', 'SDP', {'weight': 0.0}), ('DLG', 'BET', {'weight': 193.0}), ('DUT', 'ADQ', {'weight': 9.0}), ('DUT', 'HOM', {'weight': 0.0}), ('DUT', 'ANC', {'weight': 24520.0}), ('DUT', 'CDB', {'weight': 96.0}), ('DUT', 'SDP', {'weight': 263.0}), ('EGX', 'ADQ', {'weight': 9.0}), ('EGX', 'ANC', {'weight': 183.0}), ('EGX', 'CDB', {'weight': 0.0}), ('EGX', 'SDP', {'weight': 4.0}), ('EGX', 'BET', {'weight': 2.0}), ('ENA', 'ADQ', {'weight': 439.0}), ('ENA', 'HOM', {'weight': 22.0}), ('ENA', 'ANC', {'weight': 91516.0}), ('HOM', 'ADQ', {'weight': 59.0}), ('HOM', 'KEB', {'weight': 1120.0}), ('HOM', 'ANC', {'weight': 28010.0}), ('HOM', 'DUT', {'weight': 32.0}), ('HOM', 'SOV', {'weight': 4551.0}), ('KCG', 'ADQ', {'weight': 6.0}), ('KKB', 'ADQ', {'weight': 43.0}), ('KLN', 'ADQ', {'weight': 2286.0}), ('KLN', 'ANC', {'weight': 40.0}), ('KLN', 'ALZ', {'weight': 0.0}), ('KLN', 'KOY', {'weight': 0.0}), ('KLN', 'OLH', {'weight': 10.0}), ('KMY', 'ADQ', {'weight': 38.0}), ('KMY', 'ALZ', {'weight': 74.0}), ('KMY', 'KOY', {'weight': 10.0}), ('KMY', 'OLH', {'weight': 4.0}), ('KOY', 'ADQ', {'weight': 36.0}), ('KOY', 'ALZ', {'weight': 16.0}), ('KOZ', 'ADQ', {'weight': 1667.0}), ('KOZ', 'OLH', {'weight': 16.0}), ('KPR', 'ADQ', {'weight': 47.0}), ('KPY', 'ADQ', {'weight': 14.0}), ('KWP', 'ADQ', {'weight': 69.0}), ('KYK', 'ADQ', {'weight': 305.0}), ('KYK', 'OLH', {'weight': 2.0}), ('KZB', 'ADQ', {'weight': 25.0}), ('KZB', 'ALZ', {'weight': 7.0}), ('NNK', 'ADQ', {'weight': 3.0}), ('NNK', 'BET', {'weight': 16.0}), ('OLH', 'ADQ', {'weight': 2691.0}), ('OLH', 'HOM', {'weight': 8.0}), ('OLH', 'ALZ', {'weight': 0.0}), ('ORI', 'ADQ', {'weight': 1884.0}), ('ORI', 'HOM', {'weight': 0.0}), ('ORI', 'ANC', {'weight': 1.0}), ('ORI', 'OLH', {'weight': 17.0}), ('PIP', 'ADQ', {'weight': 0.0}), ('PIP', 'ANC', {'weight': 0.0}), ('PIP', 'SDP', {'weight': 0.0}), ('PTH', 'ADQ', {'weight': 0.0}), ('PTH', 'HOM', {'weight': 0.0}), ('PTH', 'ANC', {'weight': 19.0}), ('PTH', 'CDB', {'weight': 0.0}), ('PTH', 'DUT', {'weight': 0.0}), ('PTH', 'SDP', {'weight': 0.0}), ('SDP', 'ADQ', {'weight': 0.0}), ('SDP', 'ANC', {'weight': 3667.0}), ('SDP', 'CDB', {'weight': 600.0}), ('SDP', 'DUT', {'weight': 1707.0}), ('SDP', 'BET', {'weight': 7.0}), ('SKJ', 'ADQ', {'weight': 5.0}), ('SKJ', 'OLH', {'weight': 0.0}), ('SXQ', 'ADQ', {'weight': 4.0}), ('SXQ', 'ANC', {'weight': 1.0}), ('SYB', 'ADQ', {'weight': 26.0}), ('SYB', 'HOM', {'weight': 1.0}), ('TOG', 'ADQ', {'weight': 0.0}), ('TOG', 'ANC', {'weight': 48.0}), ('TOG', 'BET', {'weight': 27.0}), ('UGI', 'ADQ', {'weight': 34.0}), ('UGI', 'ALZ', {'weight': 0.0}), ('WSJ', 'ADQ', {'weight': 0.0}), ('08A', 'HOM', {'weight': 6.0}), ('08A', 'KEB', {'weight': 0.0}), ('KEB', 'HOM', {'weight': 1019.0}), ('KEB', 'SOV', {'weight': 747.0}), ('NIN', 'HOM', {'weight': 0.0}), ('NNL', 'HOM', {'weight': 4.0}), ('NNL', 'ANC', {'weight': 167.0}), ('PGM', 'HOM', {'weight': 1024.0}), ('PGM', 'KEB', {'weight': 1295.0}), ('PGM', 'SOV', {'weight': 665.0}), ('SNP', 'HOM', {'weight': 9.0}), ('SNP', 'ANC', {'weight': 1343.0}), ('SNP', 'CDB', {'weight': 37.0}), ('SNP', 'DUT', {'weight': 7.0}), ('SNP', 'SDP', {'weight': 16.0}), ('SNP', 'BET', {'weight': 10.0}), ('SOV', 'HOM', {'weight': 4592.0}), ('SOV', 'KEB', {'weight': 567.0}), ('1B1', 'ACK', {'weight': 5.0}), ('ACK', 'HPN', {'weight': 4008.0}), ('6B0', 'ACK', {'weight': 2.0}), ('ALB', 'ACK', {'weight': 2.0}), ('ALB', 'HPN', {'weight': 0.0}), ('AUG', 'ACK', {'weight': 9.0}), ('AUG', 'HPN', {'weight': 10.0}), ('BDR', 'ACK', {'weight': 81.0}), ('BDR', 'HPN', {'weight': 4.0}), ('BED', 'ACK', {'weight': 100.0}), ('BED', 'HPN', {'weight': 27.0}), ('BHB', 'ACK', {'weight': 3.0}), ('BHB', 'HPN', {'weight': 7.0}), ('BOS', 'ACK', {'weight': 34424.0}), ('BOS', 'HPN', {'weight': 52.0}), ('BTV', 'ACK', {'weight': 1.0}), ('BTV', 'HPN', {'weight': 2.0}), ('BVY', 'ACK', {'weight': 16.0}), ('BWI', 'ACK', {'weight': 6.0}), ('CON', 'ACK', {'weight': 37.0}), ('CON', 'HPN', {'weight': 37.0}), ('DCA', 'ACK', {'weight': 4366.0}), ('DCA', 'HPN', {'weight': 33836.0}), ('DXR', 'ACK', {'weight': 14.0}), ('EWB', 'ACK', {'weight': 6555.0}), ('EWR', 'ACK', {'weight': 7859.0}), ('EWR', 'HPN', {'weight': 0.0}), ('EWR', 'ANC', {'weight': 1281.0}), ('FID', 'ACK', {'weight': 12.0}), ('FID', 'HPN', {'weight': 18.0}), ('FOK', 'ACK', {'weight': 20.0}), ('FRG', 'ACK', {'weight': 28.0}), ('FRY', 'ACK', {'weight': 2.0}), ('GAI', 'ACK', {'weight': 15.0}), ('GED', 'ACK', {'weight': 1.0}), ('GON', 'ACK', {'weight': 6.0}), ('HFD', 'ACK', {'weight': 10.0}), ('HPN', 'ACK', {'weight': 3619.0}), ('HTO', 'ACK', {'weight': 23.0}), ('HTO', 'HPN', {'weight': 15.0}), ('HVN', 'ACK', {'weight': 4.0}), ('HYA', 'ACK', {'weight': 77954.0}), ('HYA', 'HPN', {'weight': 312.0}), ('IAD', 'ACK', {'weight': 19.0}), ('IAD', 'HPN', {'weight': 43.0}), ('ISP', 'ACK', {'weight': 4.0}), ('ISS', 'ACK', {'weight': 14.0}), ('JFK', 'ACK', {'weight': 25704.0}), ('JFK', 'HPN', {'weight': 65.0}), ('JFK', 'ANC', {'weight': 285.0}), ('LCI', 'ACK', {'weight': 20.0}), ('LCI', 'HPN', {'weight': 2.0}), ('LEB', 'ACK', {'weight': 3.0}), ('LEB', 'HPN', {'weight': 3517.0}), ('LGA', 'ACK', {'weight': 1359.0}), ('LGA', 'HPN', {'weight': 67.0}), ('MDW', 'ACK', {'weight': 12.0}), ('MMU', 'ACK', {'weight': 34.0}), ('MTP', 'ACK', {'weight': 2.0}), ('MVY', 'ACK', {'weight': 5444.0}), ('MVY', 'HPN', {'weight': 1676.0}), ('NAD', 'ACK', {'weight': 9.0}), ('NHZ', 'ACK', {'weight': 4.0}), ('NHZ', 'HPN', {'weight': 9.0}), ('NPT', 'ACK', {'weight': 5.0}), ('NPT', 'HPN', {'weight': 27.0}), ('NY1', 'ACK', {'weight': 3.0}), ('OWD', 'ACK', {'weight': 45.0}), ('OWD', 'HPN', {'weight': 6.0}), ('OXC', 'ACK', {'weight': 19.0}), ('PCT', 'ACK', {'weight': 7.0}), ('PHL', 'ACK', {'weight': 10.0}), ('PHL', 'HPN', {'weight': 39670.0}), ('PNE', 'ACK', {'weight': 9.0}), ('POU', 'ACK', {'weight': 5.0}), ('PSM', 'ACK', {'weight': 1.0}), ('PSM', 'HPN', {'weight': 5.0}), ('PVC', 'ACK', {'weight': 3.0}), ('PVC', 'HPN', {'weight': 507.0}), ('PVD', 'ACK', {'weight': 2090.0}), ('PVD', 'HPN', {'weight': 1.0}), ('PWM', 'ACK', {'weight': 4.0}), ('PWM', 'HPN', {'weight': 16.0}), ('PYM', 'ACK', {'weight': 4.0}), ('PYM', 'HPN', {'weight': 4.0}), ('RKD', 'ACK', {'weight': 16.0}), ('RKD', 'HPN', {'weight': 5.0}), ('RUT', 'ACK', {'weight': 2.0}), ('TEB', 'ACK', {'weight': 960.0}), ('TEB', 'HPN', {'weight': 0.0}), ('TTN', 'ACK', {'weight': 19.0}), ('1G4', 'BLD', {'weight': 46148.0}), ('1G4', 'GCN', {'weight': 70.0}), ('1G4', 'L41', {'weight': 24.0}), ('1G4', 'PGA', {'weight': 0.0}), ('1G4', 'VGT', {'weight': 10344.0}), ('BLD', 'GCN', {'weight': 23776.0}), ('BLD', 'PGA', {'weight': 52.0}), ('BLD', 'VGT', {'weight': 8.0}), ('GCN', 'BLD', {'weight': 23860.0}), ('GCN', 'L41', {'weight': 64.0}), ('GCN', 'PGA', {'weight': 3774.0}), ('GCN', 'VGT', {'weight': 17518.0}), ('MVM', 'BLD', {'weight': 8.0}), ('MVM', 'PGA', {'weight': 77.0}), ('PGA', 'BLD', {'weight': 74.0}), ('PGA', 'GCN', {'weight': 175.0}), ('PGA', 'L41', {'weight': 87.0}), ('PGA', 'VGT', {'weight': 12.0}), ('SGU', 'BLD', {'weight': 30.0}), ('VGT', 'BLD', {'weight': 0.0}), ('VGT', 'GCN', {'weight': 17588.0}), ('VGT', 'L41', {'weight': 2299.0}), ('VGT', 'PGA', {'weight': 56.0}), ('HSH', 'GCN', {'weight': 1.0}), ('ICT', 'GCN', {'weight': 1.0}), ('LAS', 'GCN', {'weight': 4876.0}), ('LAS', 'PGA', {'weight': 694.0}), ('LAS', 'ANC', {'weight': 300.0}), ('PHX', 'GCN', {'weight': 0.0}), ('PHX', 'PGA', {'weight': 2801.0}), ('PHX', 'ANC', {'weight': 38469.0}), ('SMO', 'GCN', {'weight': 6.0}), ('L41', 'PGA', {'weight': 3.0}), ('FLG', 'L41', {'weight': 6.0}), ('BCE', 'PGA', {'weight': 44.0}), ('CNY', 'PGA', {'weight': 6.0}), ('FMN', 'PGA', {'weight': 601.0}), ('LAX', 'PGA', {'weight': 15.0}), ('LAX', 'ANC', {'weight': 49837.0}), ('PRC', 'PGA', {'weight': 1735.0}), ('SOW', 'PGA', {'weight': 37.0}), ('VNY', 'PGA', {'weight': 0.0}), ('RNO', 'VGT', {'weight': 146.0}), ('1N7', 'HPN', {'weight': 2.0}), ('ABE', 'HPN', {'weight': 86.0}), ('ACY', 'HPN', {'weight': 146.0}), ('AFK', 'HPN', {'weight': 4.0}), ('AGC', 'HPN', {'weight': 6.0}), ('AGS', 'HPN', {'weight': 7.0}), ('ATL', 'HPN', {'weight': 111932.0}), ('ATL', 'ANC', {'weight': 12411.0}), ('AVP', 'HPN', {'weight': 0.0}), ('BDL', 'HPN', {'weight': 63.0}), ('BEH', 'HPN', {'weight': 4.0}), ('BFT', 'HPN', {'weight': 4.0}), ('BGR', 'HPN', {'weight': 14.0}), ('BLM', 'HPN', {'weight': 6.0}), ('BUF', 'HPN', {'weight': 7.0}), ('BZN', 'HPN', {'weight': 319.0}), ('CEU', 'HPN', {'weight': 6.0}), ('CHO', 'HPN', {'weight': 26.0}), ('CKV', 'HPN', {'weight': 4.0}), ('CLE', 'HPN', {'weight': 44.0}), ('CLT', 'HPN', {'weight': 35688.0}), ('CMH', 'HPN', {'weight': 2.0}), ('DAY', 'HPN', {'weight': 69.0}), ('DET', 'HPN', {'weight': 1.0}), ('DTW', 'HPN', {'weight': 33433.0}), ('DTW', 'ANC', {'weight': 1110.0}), ('FLL', 'HPN', {'weight': 70259.0}), ('FWA', 'HPN', {'weight': 12.0}), ('GRR', 'HPN', {'weight': 2.0}), ('GSP', 'HPN', {'weight': 54.0}), ('HDN', 'HPN', {'weight': 51.0}), ('HGR', 'HPN', {'weight': 1.0}), ('HOT', 'HPN', {'weight': 3.0}), ('ILM', 'HPN', {'weight': 104.0}), ('ITH', 'HPN', {'weight': 120.0}), ('LAL', 'HPN', {'weight': 4.0}), ('LAN', 'HPN', {'weight': 51.0}), ('LBE', 'HPN', {'weight': 4.0}), ('LSE', 'HPN', {'weight': 2.0}), ('LWM', 'HPN', {'weight': 10.0}), ('MAF', 'HPN', {'weight': 0.0}), ('MCO', 'HPN', {'weight': 108512.0}), ('MHK', 'HPN', {'weight': 82.0}), ('MHT', 'HPN', {'weight': 58.0}), ('MIA', 'HPN', {'weight': 0.0}), ('MKE', 'HPN', {'weight': 1.0}), ('MLI', 'HPN', {'weight': 4.0}), ('MNZ', 'HPN', {'weight': 16.0}), ('MVL', 'HPN', {'weight': 7.0}), ('OKC', 'HPN', {'weight': 2.0}), ('OMA', 'HPN', {'weight': 1.0}), ('OPF', 'HPN', {'weight': 1.0}), ('ORF', 'HPN', {'weight': 115.0}), ('PBI', 'HPN', {'weight': 91994.0}), ('PIT', 'HPN', {'weight': 82.0}), ('RBW', 'HPN', {'weight': 3.0}), ('RDU', 'HPN', {'weight': 90.0}), ('RIC', 'HPN', {'weight': 18.0}), ('RME', 'HPN', {'weight': 1.0}), ('RME', 'ANC', {'weight': 0.0}), ('ROA', 'HPN', {'weight': 3.0}), ('ROC', 'HPN', {'weight': 48.0}), ('RSW', 'HPN', {'weight': 27926.0}), ('SDF', 'HPN', {'weight': 20.0}), ('SDF', 'ANC', {'weight': 0.0}), ('SFM', 'HPN', {'weight': 8.0}), ('STL', 'HPN', {'weight': 1.0}), ('STP', 'HPN', {'weight': 6.0}), ('SWF', 'HPN', {'weight': 38.0}), ('TPA', 'HPN', {'weight': 27686.0}), ('TPA', 'ANC', {'weight': 0.0}), ('UST', 'HPN', {'weight': 5.0}), ('VRB', 'HPN', {'weight': 5.0}), ('YIP', 'HPN', {'weight': 11.0}), ('7AK', 'ANC', {'weight': 0.0}), ('7AK', 'CDB', {'weight': 0.0}), ('7AK', 'DUT', {'weight': 360.0}), ('7AK', 'SDP', {'weight': 2.0}), ('ADK', 'ANC', {'weight': 1708.0}), ('ADK', 'DUT', {'weight': 4.0}), ('AUS', 'ANC', {'weight': 0.0}), ('BFI', 'ANC', {'weight': 66.0}), ('BIS', 'ANC', {'weight': 130.0}), ('BVU', 'ANC', {'weight': 327.0}), ('CHS', 'ANC', {'weight': 0.0}), ('CHU', 'ANC', {'weight': 3.0}), ('CHU', 'BET', {'weight': 19.0}), ('CHU', 'ANI', {'weight': 334.0}), ('CKD', 'ANC', {'weight': 0.0}), ('CKD', 'BET', {'weight': 7.0}), ('CKD', 'ANI', {'weight': 301.0}), ('CVG', 'ANC', {'weight': 0.0}), ('CZF', 'ANC', {'weight': 0.0}), ('CZF', 'BET', {'weight': 64.0}), ('DFW', 'ANC', {'weight': 24310.0}), ('DRF', 'ANC', {'weight': 46.0}), ('EDF', 'ANC', {'weight': 0.0}), ('EEK', 'ANC', {'weight': 0.0}), ('EEK', 'BET', {'weight': 3676.0}), ('GEG', 'ANC', {'weight': 0.0}), ('GKN', 'ANC', {'weight': 136.0}), ('GNU', 'ANC', {'weight': 0.0}), ('GNU', 'BET', {'weight': 479.0}), ('HNH', 'ANC', {'weight': 0.0}), ('HNL', 'ANC', {'weight': 43075.0}), ('IAB', 'ANC', {'weight': 0.0}), ('IAH', 'ANC', {'weight': 22057.0}), ('ILN', 'ANC', {'weight': 0.0}), ('KCL', 'ANC', {'weight': 9.0}), ('KEK', 'ANC', {'weight': 0.0}), ('KEK', 'BET', {'weight': 6.0}), ('KMO', 'ANC', {'weight': 0.0}), ('KMO', 'BET', {'weight': 16.0}), ('KNK', 'ANC', {'weight': 632.0}), ('KNW', 'ANC', {'weight': 34.0}), ('KNW', 'CDB', {'weight': 9.0}), ('KNW', 'BET', {'weight': 8.0}), ('KNW', 'ANI', {'weight': 36.0}), ('KOA', 'ANC', {'weight': 2553.0}), ('KPN', 'ANC', {'weight': 5.0}), ('KPN', 'BET', {'weight': 3840.0}), ('KQA', 'ANC', {'weight': 0.0}), ('KQA', 'CDB', {'weight': 0.0}), ('KQA', 'DUT', {'weight': 63.0}), ('KTN', 'ANC', {'weight': 1167.0}), ('KVC', 'ANC', {'weight': 6.0}), ('KVC', 'CDB', {'weight': 2848.0}), ('KVC', 'DUT', {'weight': 2.0}), ('KVC', 'SDP', {'weight': 36.0}), ('KWN', 'ANC', {'weight': 0.0}), ('KWN', 'BET', {'weight': 4907.0}), ('KWN', 'KKI', {'weight': 0.0}), ('LGB', 'ANC', {'weight': 12095.0}), ('LVD', 'ANC', {'weight': 0.0}), ('LVD', 'BET', {'weight': 6.0}), ('MCI', 'ANC', {'weight': 0.0}), ('MDO', 'ANC', {'weight': 9.0}), ('MSY', 'ANC', {'weight': 0.0}), ('MXY', 'ANC', {'weight': 1.0}), ('MYU', 'ANC', {'weight': 8.0}), ('MYU', 'BET', {'weight': 1407.0}), ('NCN', 'ANC', {'weight': 0.0}), ('NLG', 'ANC', {'weight': 30.0}), ('NLG', 'CDB', {'weight': 189.0}), ('NLG', 'SDP', {'weight': 9.0}), ('NME', 'ANC', {'weight': 9.0}), ('NME', 'BET', {'weight': 1850.0}), ('NME', 'KKI', {'weight': 0.0}), ('NZY', 'ANC', {'weight': 0.0}), ('OAK', 'ANC', {'weight': 85.0}), ('OGG', 'ANC', {'weight': 7562.0}), ('ONT', 'ANC', {'weight': 0.0}), ('OSC', 'ANC', {'weight': 0.0}), ('PAE', 'ANC', {'weight': 0.0}), ('PAQ', 'ANC', {'weight': 0.0}), ('PAQ', 'BET', {'weight': 0.0}), ('PDB', 'ANC', {'weight': 31.0}), ('PML', 'ANC', {'weight': 0.0}), ('PML', 'CDB', {'weight': 112.0}), ('PSG', 'ANC', {'weight': 69.0}), ('PTA', 'ANC', {'weight': 0.0}), ('PTU', 'ANC', {'weight': 0.0}), ('PTU', 'BET', {'weight': 506.0}), ('PTU', 'KKI', {'weight': 0.0}), ('PUO', 'ANC', {'weight': 0.0}), ('RFD', 'ANC', {'weight': 0.0}), ('SAT', 'ANC', {'weight': 35.0}), ('SFO', 'ANC', {'weight': 31766.0}), ('SHX', 'ANC', {'weight': 59.0}), ('SHX', 'BET', {'weight': 16.0}), ('SHX', 'ANI', {'weight': 514.0}), ('SIT', 'ANC', {'weight': 614.0}), ('SLC', 'ANC', {'weight': 45403.0}), ('SLQ', 'ANC', {'weight': 9.0}), ('SLQ', 'BET', {'weight': 4.0}), ('SLQ', 'ANI', {'weight': 153.0}), ('STG', 'ANC', {'weight': 1213.0}), ('STG', 'CDB', {'weight': 16.0}), ('STG', 'DUT', {'weight': 0.0}), ('STG', 'SDP', {'weight': 0.0}), ('STG', 'BET', {'weight': 0.0}), ('SYA', 'ANC', {'weight': 0.0}), ('TEK', 'ANC', {'weight': 0.0}), ('TYE', 'ANC', {'weight': 2.0}), ('TYE', 'BET', {'weight': 0.0}), ('VDZ', 'ANC', {'weight': 12529.0}), ('WRG', 'ANC', {'weight': 0.0}), ('WWA', 'ANC', {'weight': 16.0}), ('ZNC', 'ANC', {'weight': 0.0}), ('ZNC', 'BET', {'weight': 11.0}), ('ZNC', 'ANI', {'weight': 3.0}), ('AKB', 'CDB', {'weight': 0.0}), ('AKB', 'DUT', {'weight': 141.0}), ('IKO', 'CDB', {'weight': 2.0}), ('IKO', 'DUT', {'weight': 83.0}), ('IKO', 'SDP', {'weight': 11.0}), ('KFP', 'CDB', {'weight': 370.0}), ('KFP', 'DUT', {'weight': 0.0}), ('KPV', 'CDB', {'weight': 0.0}), ('A14', 'BET', {'weight': 0.0}), ('AKI', 'BET', {'weight': 1596.0}), ('AKI', 'ANI', {'weight': 11.0}), ('AKI', 'KKI', {'weight': 410.0}), ('ATT', 'BET', {'weight': 2414.0}), ('ATT', 'ANI', {'weight': 10.0}), ('ATT', 'KKI', {'weight': 3.0}), ('CYF', 'BET', {'weight': 3403.0}), ('CYF', 'KKI', {'weight': 0.0}), ('EHM', 'BET', {'weight': 60.0}), ('KGK', 'BET', {'weight': 17.0}), ('KKH', 'BET', {'weight': 2303.0}), ('KKH', 'KKI', {'weight': 16.0}), ('KKI', 'BET', {'weight': 2364.0}), ('KKI', 'ANI', {'weight': 71.0}), ('KLG', 'BET', {'weight': 2040.0}), ('KLG', 'ANI', {'weight': 2045.0}), ('KLG', 'KKI', {'weight': 100.0}), ('KUK', 'BET', {'weight': 4463.0}), ('KUK', 'ANI', {'weight': 17.0}), ('KUK', 'KKI', {'weight': 10.0}), ('KWK', 'BET', {'weight': 2725.0}), ('KWK', 'ANI', {'weight': 12.0}), ('KWK', 'KKI', {'weight': 0.0}), ('KWT', 'BET', {'weight': 3514.0}), ('KWT', 'ANI', {'weight': 17.0}), ('KWT', 'KKI', {'weight': 723.0}), ('NUP', 'BET', {'weight': 2808.0}), ('NUP', 'ANI', {'weight': 5.0}), ('NUP', 'KKI', {'weight': 19.0}), ('OOK', 'BET', {'weight': 2282.0}), ('PKA', 'BET', {'weight': 1382.0}), ('PKA', 'KKI', {'weight': 32.0}), ('RDV', 'BET', {'weight': 3.0}), ('RDV', 'ANI', {'weight': 87.0}), ('RSH', 'BET', {'weight': 2004.0}), ('RSH', 'ANI', {'weight': 255.0}), ('RSH', 'KKI', {'weight': 5.0}), ('SRV', 'BET', {'weight': 0.0}), ('SRV', 'ANI', {'weight': 33.0}), ('SVW', 'BET', {'weight': 0.0}), ('TLT', 'BET', {'weight': 1975.0}), ('TLT', 'ANI', {'weight': 26.0}), ('TLT', 'KKI', {'weight': 530.0}), ('TNK', 'BET', {'weight': 817.0}), ('TWA', 'BET', {'weight': 9.0}), ('WNA', 'BET', {'weight': 1489.0}), ('WNA', 'KKI', {'weight': 2.0}), ('WSN', 'BET', {'weight': 3.0}), ('WTL', 'BET', {'weight': 3101.0}), ('WTL', 'ANI', {'weight': 8.0}), ('WTL', 'KKI', {'weight': 3.0}), ('WWT', 'BET', {'weight': 2161.0}), ('A40', 'BRW', {'weight': 11.0}), ('FLT', 'ANI', {'weight': 2.0}), ('KPM', 'ANI', {'weight': 1.0})])"
      ]
     },
     "execution_count": 135,
     "metadata": {},
     "output_type": "execute_result"
    }
   ],
   "source": [
    "G.edges.data()"
   ]
  },
  {
   "cell_type": "code",
   "execution_count": 173,
   "id": "major-antigua",
   "metadata": {},
   "outputs": [
    {
     "data": {
      "text/plain": [
       "[('ANC', 190),\n",
       " ('FAI', 113),\n",
       " ('HPN', 106),\n",
       " ('BET', 95),\n",
       " ('OME', 64),\n",
       " ('ACK', 59),\n",
       " ('ANI', 57),\n",
       " ('ADQ', 55),\n",
       " ('OTZ', 53),\n",
       " ('SCC', 33)]"
      ]
     },
     "execution_count": 173,
     "metadata": {},
     "output_type": "execute_result"
    }
   ],
   "source": [
    "degrees = sorted(G.degree, key=lambda x: x[1], reverse=True) # not considering weights\n",
    "degrees[:10]"
   ]
  },
  {
   "cell_type": "markdown",
   "id": "characteristic-pressing",
   "metadata": {},
   "source": [
    "# Describing our network\n",
    "- Degree distribution\n",
    "- Clustring coefficient (global + local)\n",
    "- Diameter + average path length (small diameter - everyone is reachable. Large diameter - traversal might be impossible)\n",
    "\n",
    "Show that our graph is dense, tightly connected."
   ]
  },
  {
   "cell_type": "markdown",
   "id": "ancient-guide",
   "metadata": {},
   "source": [
    "# Possible measures of importance / centrality\n",
    "\n",
    "Figure out which nodes / edges are central and peripheral. "
   ]
  },
  {
   "cell_type": "markdown",
   "id": "private-hamburg",
   "metadata": {},
   "source": [
    "## A) Node measures \n",
    "### _Degree-based_: Degree Centrality\n",
    "The number of links incident upon a node. The degree can be interpreted in terms of the immediate risk of a node for catching whatever is flowing through the network (such as a virus, or some information). Since we have a directed network, we should define both an indegree and outdegree."
   ]
  },
  {
   "cell_type": "code",
   "execution_count": 81,
   "id": "legal-grave",
   "metadata": {},
   "outputs": [
    {
     "data": {
      "text/plain": [
       "[('ANC', 0.40825688073394495),\n",
       " ('HPN', 0.2408256880733945),\n",
       " ('FAI', 0.23394495412844038),\n",
       " ('BET', 0.19036697247706424),\n",
       " ('ACK', 0.13302752293577982),\n",
       " ('OME', 0.13073394495412843),\n",
       " ('ANI', 0.11009174311926606),\n",
       " ('OTZ', 0.10550458715596331),\n",
       " ('ADQ', 0.10550458715596331),\n",
       " ('SCC', 0.06192660550458716)]"
      ]
     },
     "execution_count": 81,
     "metadata": {},
     "output_type": "execute_result"
    }
   ],
   "source": [
    "# Computing in-degree for nodes in G\n",
    "sorted_in_degree = sorted(nx.in_degree_centrality(G).items(), key=lambda x: x[1], reverse=True)\n",
    "\n",
    "# Selecting 10 highest ranking nodes\n",
    "sorted_in_degree[0:10]"
   ]
  },
  {
   "cell_type": "code",
   "execution_count": 105,
   "id": "environmental-friend",
   "metadata": {},
   "outputs": [
    {
     "data": {
      "text/plain": [
       "[('ANC', 0.027522935779816515),\n",
       " ('BET', 0.027522935779816515),\n",
       " ('FAI', 0.02522935779816514),\n",
       " ('ADQ', 0.020642201834862386),\n",
       " ('ANI', 0.020642201834862386),\n",
       " ('GAL', 0.01834862385321101),\n",
       " ('UNK', 0.01834862385321101),\n",
       " ('ILI', 0.01834862385321101),\n",
       " ('OME', 0.016055045871559634),\n",
       " ('BRW', 0.016055045871559634)]"
      ]
     },
     "execution_count": 105,
     "metadata": {},
     "output_type": "execute_result"
    }
   ],
   "source": [
    "# Computing out-degree for nodes in G\n",
    "sorted_out_degree = sorted(nx.out_degree_centrality(G).items(), key=lambda x: x[1], reverse=True)\n",
    "\n",
    "# Selecting 10 highest ranking nodes\n",
    "sorted_out_degree[:10]"
   ]
  },
  {
   "cell_type": "markdown",
   "id": "pressed-mountain",
   "metadata": {},
   "source": [
    "### _Degree-based_: Eigenvector centrailty (eigencentrality)\n",
    " - Lecture 2\n",
    " \n",
    "Assigns relative scores to all nodes in the network based on the concept that connections to high-scoring nodes contribute more to the score of the node in question than equal connections to low-scoring nodes.\n",
    "\n",
    "Using the adjacency matrix to find eigenvector centrality: In general, there will be many different eigenvalues \n",
    "$\\lambda$  for which a non-zero eigenvector solution exists. Since the entries in the adjacency matrix are non-negative, there is a unique largest eigenvalue, which is real and positive, by the Perron–Frobenius theorem. This greatest eigenvalue results in the desired centrality measure. The $v$'th component of the related eigenvector then gives the relative centrality score of the vertex $v$ in the network.\n",
    "\n",
    "Can we use the eigenvectors to discover 'bridges' between clusters?\n",
    "\n",
    "For directed graphs, we can use the Eigen Vector Centrality to evaluate the “importance” of a node (based on the out-degree Eigen Vector) and the “prestige” of a node (through the in-degree Eigen Vector).\n",
    "- A node is considered to be more important if it has out-going links to nodes that in turn have a larger out-degree (i.e., more out-going links).\n",
    "- A node is considered to have a higher “prestige”, if it has in-coming links from nodes that themselves have a larger in-degree (i.e., more in-coming links).\n",
    "\n",
    "**OBS**: Is it problematic for directed graphs?? Eigenvector centrality will not take zero in-degree nodes into account in directed graphs. \n",
    "_Example_: A new research paper is published and it references a handful of existing papers. It would not contribute to any of those referenced papers in this citation network because it is not cited by any other papers and has zero eigenvector centrality."
   ]
  },
  {
   "cell_type": "code",
   "execution_count": 15,
   "id": "operating-watch",
   "metadata": {},
   "outputs": [
    {
     "data": {
      "text/plain": [
       "[('ANC', 0.4177852525625643),\n",
       " ('ADQ', 0.3467189583867634),\n",
       " ('FAI', 0.32968454006805864),\n",
       " ('HOM', 0.2762865252253226),\n",
       " ('BRW', 0.2588266992288438),\n",
       " ('DUT', 0.2582012057211751),\n",
       " ('SCC', 0.2375655034691226),\n",
       " ('BET', 0.23588162833321916),\n",
       " ('OTZ', 0.2311207165438594),\n",
       " ('CDB', 0.22495487413104534)]"
      ]
     },
     "execution_count": 15,
     "metadata": {},
     "output_type": "execute_result"
    }
   ],
   "source": [
    "# Computing in-edges eigenvector centrality for nodes in G\n",
    "sorted_eigenvector = sorted(nx.eigenvector_centrality(G, weight='weights').items(), \n",
    "                            key=lambda x: x[1], reverse=True)\n",
    "\n",
    "# Selecting 10 highest ranking nodes\n",
    "sorted_eigenvector[:10]"
   ]
  },
  {
   "cell_type": "code",
   "execution_count": 16,
   "id": "animal-transcription",
   "metadata": {},
   "outputs": [
    {
     "data": {
      "text/plain": [
       "[('ANC', 0.18019438821685368),\n",
       " ('FAI', 0.1784697669839753),\n",
       " ('BET', 0.17813628537890944),\n",
       " ('GAL', 0.15232496722017),\n",
       " ('UNK', 0.14439918352703268),\n",
       " ('BRW', 0.13235460920644151),\n",
       " ('OME', 0.12996954783332587),\n",
       " ('OTZ', 0.12836561475088928),\n",
       " ('KAL', 0.1254193199802783),\n",
       " ('ANI', 0.12164917912351314)]"
      ]
     },
     "execution_count": 16,
     "metadata": {},
     "output_type": "execute_result"
    }
   ],
   "source": [
    "# Computing out-edges eigenvector centrality for nodes in G\n",
    "sorted_eigenvector = sorted(nx.eigenvector_centrality(G.reverse(), weight='weights').items(), \n",
    "                            key=lambda x: x[1], reverse=True) # G.reverse() = out-edges distance, directions reversed\n",
    "\n",
    "# Selecting 10 highest ranking nodes\n",
    "sorted_eigenvector[:10]"
   ]
  },
  {
   "cell_type": "markdown",
   "id": "expired-kansas",
   "metadata": {},
   "source": [
    "### _Shortest-path-based_: Closeness centrailty\n",
    "Is a measure of centrality in a network, calculated as the reciprocal of the sum of the length of the shortest paths between the node and all other nodes in the graph. The more central a node is, the closer it is to all other nodes.\n",
    "\n",
    "We must consider taking distances _from_ or _to_ all other nodes, as it can produce very different results in directed graphs (e.g. an airport can have a high closeness centrality from outgoing routes, but low closeness centrality from incoming routes)."
   ]
  },
  {
   "cell_type": "code",
   "execution_count": 104,
   "id": "cross-lawrence",
   "metadata": {
    "scrolled": true
   },
   "outputs": [
    {
     "data": {
      "text/plain": [
       "[('HPN', 0.8301886792452831),\n",
       " ('PGA', 0.7931034482758621),\n",
       " ('ANC', 0.7132530120481928),\n",
       " ('ACK', 0.6407766990291263),\n",
       " ('GCN', 0.6216216216216216),\n",
       " ('FAI', 0.593186372745491),\n",
       " ('BLD', 0.5609756097560976),\n",
       " ('VGT', 0.5476190476190477),\n",
       " ('L41', 0.5476190476190477),\n",
       " ('BET', 0.5471349353049908)]"
      ]
     },
     "execution_count": 104,
     "metadata": {},
     "output_type": "execute_result"
    }
   ],
   "source": [
    "# Computing inward distance to a node, using edge weights\n",
    "sorted_closeness_centraility = sorted(nx.closeness_centrality(G, distance='weights', wf_improved=False).items(), \n",
    "                                      key=lambda x: x[1], reverse=True) # wf=True only for disconnected graphs\n",
    "\n",
    "# Selecting 10 highest ranking nodes\n",
    "sorted_closeness_centraility[:10]"
   ]
  },
  {
   "cell_type": "code",
   "execution_count": 103,
   "id": "devoted-temperature",
   "metadata": {},
   "outputs": [
    {
     "data": {
      "text/plain": [
       "[('ACK', 1.0),\n",
       " ('ALB', 1.0),\n",
       " ('AUG', 1.0),\n",
       " ('BDR', 1.0),\n",
       " ('BED', 1.0),\n",
       " ('BHB', 1.0),\n",
       " ('BOS', 1.0),\n",
       " ('BTV', 1.0),\n",
       " ('CON', 1.0),\n",
       " ('DCA', 1.0)]"
      ]
     },
     "execution_count": 103,
     "metadata": {},
     "output_type": "execute_result"
    }
   ],
   "source": [
    "# Computing outward distance to a node, using edge weights\n",
    "sorted_closeness_centraility = sorted(nx.closeness_centrality(G.reverse(), distance='weights', wf_improved=False).items(), \n",
    "                                      key=lambda x: x[1], reverse=True) # G.reverse() = outward distance, directions reversed\n",
    "\n",
    "# Selecting 10 highest ranking nodes\n",
    "sorted_closeness_centraility[:10]"
   ]
  },
  {
   "cell_type": "markdown",
   "id": "widespread-loading",
   "metadata": {},
   "source": [
    "### _Shortest-path-based_: Betweenness centrailty (node)  \n",
    "- Lecture 3\n",
    "\n",
    "Quantifies the number of times a _node_ acts as a bridge along the shortest path between two other nodes. In his conception, nodes that have a high probability to occur on a randomly chosen shortest path between two randomly chosen vertices have a high betweenness. The measure is related to a network's connectivity - high betweenness nodes have the potential to disconnect graphs if removed.\n",
    "\n",
    "(Find out which algorithm to use for directed, weighted graph)."
   ]
  },
  {
   "cell_type": "code",
   "execution_count": 141,
   "id": "micro-lotus",
   "metadata": {},
   "outputs": [],
   "source": [
    "# Remove edges with weight zero (or use graph with +1 values, Markus)\n",
    "G_nonzero = G.copy()\n",
    "to_remove = [(a,b) for a, b, attrs in G.edges(data=True) if attrs[\"weight\"] <= 0.0]\n",
    "G_nonzero.remove_edges_from(to_remove)"
   ]
  },
  {
   "cell_type": "code",
   "execution_count": 142,
   "id": "forced-exchange",
   "metadata": {},
   "outputs": [
    {
     "data": {
      "text/plain": [
       "[('ANC', 0.01484295204953228),\n",
       " ('FAI', 0.007875536256191093),\n",
       " ('BET', 0.006517412529354955),\n",
       " ('ADQ', 0.006094341335957912),\n",
       " ('HOM', 0.0037865127069492788),\n",
       " ('ANI', 0.0024296108826320786),\n",
       " ('OME', 0.001401869510854009),\n",
       " ('BRW', 0.0009881592624395544),\n",
       " ('OTZ', 0.0008466780152955401),\n",
       " ('SCC', 0.0006964697897155966)]"
      ]
     },
     "execution_count": 142,
     "metadata": {},
     "output_type": "execute_result"
    }
   ],
   "source": [
    "# Computing betweenness centrality for nodes in G\n",
    "betweenness = sorted(nx.betweenness_centrality(G_nonzero, normalized=True, weight='weights', endpoints=False, seed=0).items(), \n",
    "               key=lambda x: x[1], reverse=True) # set seed to make reproducible \n",
    "\n",
    "# Selecting 10 highest ranking nodes\n",
    "betweenness[:10]"
   ]
  },
  {
   "cell_type": "markdown",
   "id": "european-infrared",
   "metadata": {},
   "source": [
    "### Percolation centrality - Not covered?\n",
    "Specifically measures the importance of nodes in terms of aiding the percolation through the network. It is defined for a given node, at a given time, as the proportion of ‘percolated paths’ that go through that node. A ‘percolated path’ is a shortest path between a pair of nodes, where the source node is percolated (e.g., infected). The target node can be percolated or non-percolated, or in a partially percolated state.\n",
    "\n",
    "When all nodes are in the same percolated state this measure is equivalent to betweenness centrality."
   ]
  },
  {
   "cell_type": "code",
   "execution_count": null,
   "id": "fixed-minneapolis",
   "metadata": {},
   "outputs": [],
   "source": []
  },
  {
   "cell_type": "markdown",
   "id": "beautiful-hungarian",
   "metadata": {},
   "source": [
    "### Local Clustering coefficcient\n",
    "The global version gives an overall indication of the clustering in the network, whereas the local gives an indication of the embeddedness of single nodes."
   ]
  },
  {
   "cell_type": "code",
   "execution_count": null,
   "id": "industrial-month",
   "metadata": {},
   "outputs": [],
   "source": []
  },
  {
   "cell_type": "markdown",
   "id": "pacific-affiliate",
   "metadata": {},
   "source": [
    "## B) Edge measures \n",
    "\n",
    "#### Betweenness centrailty (edge)\n",
    "The number of the shortest paths to go through an _edge_ in a graph or network (Girvan and Newman). An edge with a high edge betweenness centrality score represents a bridge-like connector between two parts of a network (as with node betweenness centrailty), where the removal may affect the 'communication' between many pairs of nodes through the shortest paths between them."
   ]
  },
  {
   "cell_type": "code",
   "execution_count": 170,
   "id": "immediate-freeze",
   "metadata": {},
   "outputs": [
    {
     "data": {
      "text/plain": [
       "[(('ANC', 'ADQ'), 0.002080490416308021),\n",
       " (('ANC', 'HOM'), 0.0019401985672743336),\n",
       " (('ANC', 'ANI'), 0.0016687985420271864),\n",
       " (('ANI', 'RSH'), 0.0015535448113702687),\n",
       " (('HOM', 'SOV'), 0.0015404236558688306),\n",
       " (('HOM', 'KEB'), 0.0015377994247685429),\n",
       " (('ADQ', 'KOY'), 0.0015194298070665296),\n",
       " (('ADQ', 'ALZ'), 0.0014958117271639411),\n",
       " (('ADQ', 'OLH'), 0.0014958117271639411),\n",
       " (('FAI', 'ADQ'), 0.0014927368705211802)]"
      ]
     },
     "execution_count": 170,
     "metadata": {},
     "output_type": "execute_result"
    }
   ],
   "source": [
    "# Computing betweenness centrality for edges in G\n",
    "edge_betweenness = [(k, v) for k, v in sorted(nx.edge_betweenness_centrality(G, normalized=True, weight='weights', seed=0).items(), key=lambda item: item[1], reverse=True)]\n",
    "\n",
    "# Selecting 10 highest ranking edges\n",
    "edge_betweenness[:10]"
   ]
  }
 ],
 "metadata": {
  "kernelspec": {
   "display_name": "Python 3",
   "language": "python",
   "name": "python3"
  },
  "language_info": {
   "codemirror_mode": {
    "name": "ipython",
    "version": 3
   },
   "file_extension": ".py",
   "mimetype": "text/x-python",
   "name": "python",
   "nbconvert_exporter": "python",
   "pygments_lexer": "ipython3",
   "version": "3.8.5"
  }
 },
 "nbformat": 4,
 "nbformat_minor": 5
}

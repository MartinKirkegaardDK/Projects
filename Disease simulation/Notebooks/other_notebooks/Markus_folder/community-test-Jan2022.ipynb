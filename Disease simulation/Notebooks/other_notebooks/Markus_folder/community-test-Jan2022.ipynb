{
 "cells": [
  {
   "cell_type": "code",
   "execution_count": 14,
   "id": "owned-nylon",
   "metadata": {},
   "outputs": [],
   "source": [
    "import pandas as pd\n",
    "import networkx as nx\n",
    "import matplotlib.pyplot as plt\n",
    "from collections import Counter\n",
    "\n",
    "import community as community_louvain\n",
    "import matplotlib.cm as cm\n",
    "import matplotlib.pyplot as plt\n",
    "from networkx.algorithms.community.centrality import girvan_newman\n",
    "from networkx.algorithms.reciprocity import reciprocity\n",
    "\n",
    "#from infomap import infomap\n",
    "#from cdlib import algorithms\n",
    "#import igraph as ig\n",
    "#import leidenalg as la"
   ]
  },
  {
   "cell_type": "code",
   "execution_count": 4,
   "id": "female-creek",
   "metadata": {},
   "outputs": [],
   "source": [
    "df = pd.read_csv('../../../Data/final_cool_dataset.csv')"
   ]
  },
  {
   "cell_type": "code",
   "execution_count": 5,
   "id": "obvious-multimedia",
   "metadata": {},
   "outputs": [],
   "source": [
    "edges = [(row['ORIGIN'], row['DEST'], {'weight': row['PASSENGERS']}) for _, row in df.iterrows()]"
   ]
  },
  {
   "cell_type": "code",
   "execution_count": 6,
   "id": "composite-sacrifice",
   "metadata": {},
   "outputs": [],
   "source": [
    "G = nx.DiGraph()\n",
    "G.add_edges_from(edges)"
   ]
  },
  {
   "cell_type": "code",
   "execution_count": 7,
   "id": "adult-mistress",
   "metadata": {},
   "outputs": [
    {
     "data": {
      "text/plain": [
       "21149"
      ]
     },
     "execution_count": 7,
     "metadata": {},
     "output_type": "execute_result"
    }
   ],
   "source": [
    "G.number_of_edges()"
   ]
  },
  {
   "cell_type": "code",
   "execution_count": 8,
   "id": "consecutive-logan",
   "metadata": {},
   "outputs": [
    {
     "name": "stdout",
     "output_type": "stream",
     "text": [
      "('ABL', 'OME', {'weight': 0.0})\n"
     ]
    }
   ],
   "source": [
    "for edge in G.edges.data():\n",
    "    print(edge)\n",
    "    break"
   ]
  },
  {
   "cell_type": "code",
   "execution_count": 9,
   "id": "boring-identifier",
   "metadata": {},
   "outputs": [
    {
     "data": {
      "text/plain": [
       "[('ATL', 419),\n",
       " ('MSP', 412),\n",
       " ('DEN', 403),\n",
       " ('ORD', 388),\n",
       " ('DFW', 361),\n",
       " ('ANC', 344),\n",
       " ('MEM', 335),\n",
       " ('DTW', 333),\n",
       " ('IAH', 327),\n",
       " ('LAS', 315)]"
      ]
     },
     "execution_count": 9,
     "metadata": {},
     "output_type": "execute_result"
    }
   ],
   "source": [
    "degrees = sorted(G.degree, key=lambda x: x[1], reverse=True) # not considering weights\n",
    "degrees[:10]"
   ]
  },
  {
   "cell_type": "code",
   "execution_count": 10,
   "id": "removed-shock",
   "metadata": {},
   "outputs": [],
   "source": [
    "G_undir = G.to_undirected()"
   ]
  },
  {
   "cell_type": "code",
   "execution_count": 11,
   "id": "ranging-genetics",
   "metadata": {},
   "outputs": [
    {
     "data": {
      "text/plain": [
       "13389"
      ]
     },
     "execution_count": 11,
     "metadata": {},
     "output_type": "execute_result"
    }
   ],
   "source": [
    "G_undir.number_of_edges()"
   ]
  },
  {
   "cell_type": "code",
   "execution_count": 16,
   "id": "ethical-costume",
   "metadata": {},
   "outputs": [
    {
     "data": {
      "text/plain": [
       "0.7338408435387016"
      ]
     },
     "execution_count": 16,
     "metadata": {},
     "output_type": "execute_result"
    }
   ],
   "source": [
    "# fraction of edges going both ways\n",
    "reciprocity(G)"
   ]
  },
  {
   "cell_type": "code",
   "execution_count": 17,
   "id": "nutritional-bunch",
   "metadata": {},
   "outputs": [
    {
     "data": {
      "text/plain": [
       "[('MSP', 227),\n",
       " ('ATL', 226),\n",
       " ('DEN', 220),\n",
       " ('ORD', 214),\n",
       " ('ANC', 201),\n",
       " ('DFW', 197),\n",
       " ('YIP', 196),\n",
       " ('MEM', 192),\n",
       " ('IAH', 188),\n",
       " ('DTW', 185)]"
      ]
     },
     "execution_count": 17,
     "metadata": {},
     "output_type": "execute_result"
    }
   ],
   "source": [
    "degrees_undir = sorted(G_undir.degree, key=lambda x: x[1], reverse=True) # not considering weights\n",
    "degrees_undir[:10]"
   ]
  },
  {
   "cell_type": "markdown",
   "id": "powered-stand",
   "metadata": {},
   "source": [
    "GIRVAN NEWMAN"
   ]
  },
  {
   "cell_type": "code",
   "execution_count": 18,
   "id": "acting-compensation",
   "metadata": {},
   "outputs": [],
   "source": [
    "communities_gn = girvan_newman(G)"
   ]
  },
  {
   "cell_type": "code",
   "execution_count": null,
   "id": "genetic-registrar",
   "metadata": {},
   "outputs": [],
   "source": [
    "node_groups = []\n",
    "for com in next(communities_gn):\n",
    "    node_groups.append(list(com))"
   ]
  },
  {
   "cell_type": "code",
   "execution_count": null,
   "id": "aboriginal-cleveland",
   "metadata": {},
   "outputs": [],
   "source": [
    "print('no. of communities:', len(node_groups))"
   ]
  },
  {
   "cell_type": "code",
   "execution_count": null,
   "id": "anticipated-disney",
   "metadata": {},
   "outputs": [],
   "source": [
    "node_groups[0]"
   ]
  },
  {
   "cell_type": "code",
   "execution_count": null,
   "id": "aquatic-siemens",
   "metadata": {},
   "outputs": [],
   "source": [
    "# modularity directed - GN\n",
    "nx.algorithms.community.quality.modularity(G, node_groups)"
   ]
  },
  {
   "cell_type": "code",
   "execution_count": null,
   "id": "solid-hayes",
   "metadata": {},
   "outputs": [],
   "source": [
    "com_gn_undir = girvan_newman(G_undir)"
   ]
  },
  {
   "cell_type": "code",
   "execution_count": null,
   "id": "sharp-voltage",
   "metadata": {},
   "outputs": [],
   "source": [
    "node_groups_undir = []\n",
    "for com in next(com_gn_undir):\n",
    "    node_groups_undir.append(list(com))"
   ]
  },
  {
   "cell_type": "code",
   "execution_count": null,
   "id": "talented-median",
   "metadata": {},
   "outputs": [],
   "source": [
    "print('no. of communities:', len(node_groups_undir))"
   ]
  },
  {
   "cell_type": "code",
   "execution_count": null,
   "id": "durable-dating",
   "metadata": {},
   "outputs": [],
   "source": [
    "node_groups_undir[0]"
   ]
  },
  {
   "cell_type": "code",
   "execution_count": null,
   "id": "hearing-strip",
   "metadata": {},
   "outputs": [],
   "source": [
    "# modularity undirected - GN\n",
    "nx.algorithms.community.quality.modularity(G_undir, node_groups_undir)"
   ]
  },
  {
   "cell_type": "markdown",
   "id": "seventh-breathing",
   "metadata": {},
   "source": [
    "LABEL PROP."
   ]
  },
  {
   "cell_type": "code",
   "execution_count": null,
   "id": "dirty-satin",
   "metadata": {},
   "outputs": [],
   "source": [
    "def majority_lp_com(G,iterations): \n",
    "    communities = []\n",
    "    #border_nodes = []\n",
    "    \n",
    "    node_dict = dict(G.nodes)\n",
    "    dictresult = dict()\n",
    "    dict_shared = dict()\n",
    "    dict_nested = dict()\n",
    "    \n",
    "    for _ in range(iterations):\n",
    "        lp_test = list(nx.community.label_propagation.asyn_lpa_communities(G, weight='weight')) # don't set seed\n",
    "        for i in G.nodes():\n",
    "            for j in range(len(lp_test)):\n",
    "                if i in lp_test[j]:\n",
    "                    dictresult.setdefault(i,[]).append(j)\n",
    "\n",
    "    for i in range(iterations):\n",
    "        for A1 in dictresult.keys():\n",
    "            for A2 in dictresult.keys():\n",
    "                if dictresult[A1][i] == dictresult[A2][i]:\n",
    "                    dict_shared.setdefault(A1, []).append(A2)\n",
    "                    \n",
    "    for i,j in dict_shared.items():\n",
    "        dict_nested[i] = Counter(j)\n",
    "\n",
    "    for node in G.nodes:\n",
    "        if node in node_dict.keys():\n",
    "            key_list = []\n",
    "            border_list = []\n",
    "\n",
    "            for k,v in dict_nested[node].items():\n",
    "                if v == iterations:\n",
    "                    key_list.append(k)\n",
    "                    del node_dict[k]\n",
    "                else:\n",
    "                    pass # append to border list here\n",
    "            if key_list:\n",
    "                communities.append(key_list)\n",
    "        else:\n",
    "            pass\n",
    "    \n",
    "    return communities"
   ]
  },
  {
   "cell_type": "code",
   "execution_count": null,
   "id": "concrete-passing",
   "metadata": {},
   "outputs": [],
   "source": [
    "# set number of interations to 100 for final run\n",
    "com_lp = majority_lp_com(G,10)"
   ]
  },
  {
   "cell_type": "code",
   "execution_count": null,
   "id": "unlike-boards",
   "metadata": {},
   "outputs": [],
   "source": [
    "len(com_lp)"
   ]
  },
  {
   "cell_type": "code",
   "execution_count": null,
   "id": "treated-merchant",
   "metadata": {},
   "outputs": [],
   "source": [
    "coms_len = []\n",
    "for i in range(len(com_lp)):\n",
    "    print(len(com_lp[i]))\n",
    "    coms_len.append(len(com_lp[i]))\n",
    "coms_len.sort(reverse=True)"
   ]
  },
  {
   "cell_type": "code",
   "execution_count": null,
   "id": "found-referral",
   "metadata": {},
   "outputs": [],
   "source": [
    "print(coms_len)"
   ]
  },
  {
   "cell_type": "code",
   "execution_count": null,
   "id": "worldwide-harmony",
   "metadata": {},
   "outputs": [],
   "source": [
    "# number of possible border nodes? these are never consistently within the same community \n",
    "1000-(866+36+29+19+11)"
   ]
  },
  {
   "cell_type": "code",
   "execution_count": null,
   "id": "asian-anaheim",
   "metadata": {},
   "outputs": [],
   "source": [
    "# directed modularity - LP\n",
    "nx.algorithms.community.quality.modularity(G, com_lp)"
   ]
  },
  {
   "cell_type": "code",
   "execution_count": null,
   "id": "typical-arbitration",
   "metadata": {},
   "outputs": [],
   "source": [
    "# run same for undirected graph\n",
    "com_lp_undir = majority_lp_com(G_undir,10)"
   ]
  },
  {
   "cell_type": "code",
   "execution_count": null,
   "id": "duplicate-astrology",
   "metadata": {},
   "outputs": [],
   "source": [
    "len(com_lp_undir)"
   ]
  },
  {
   "cell_type": "code",
   "execution_count": null,
   "id": "informed-trick",
   "metadata": {},
   "outputs": [],
   "source": [
    "coms_len_undir = []\n",
    "for i in range(len(com_lp_undir)):\n",
    "    print(len(com_lp_undir[i]))\n",
    "    coms_len_undir.append(len(com_lp_undir[i]))\n",
    "coms_len_undir.sort(reverse=True)"
   ]
  },
  {
   "cell_type": "code",
   "execution_count": null,
   "id": "residential-theme",
   "metadata": {},
   "outputs": [],
   "source": [
    "# modularity undirected\n",
    "nx.algorithms.community.quality.modularity(G_undir, com_lp_undir)"
   ]
  }
 ],
 "metadata": {
  "kernelspec": {
   "display_name": "Python 3",
   "language": "python",
   "name": "python3"
  },
  "language_info": {
   "codemirror_mode": {
    "name": "ipython",
    "version": 3
   },
   "file_extension": ".py",
   "mimetype": "text/x-python",
   "name": "python",
   "nbconvert_exporter": "python",
   "pygments_lexer": "ipython3",
   "version": "3.8.5"
  }
 },
 "nbformat": 4,
 "nbformat_minor": 5
}

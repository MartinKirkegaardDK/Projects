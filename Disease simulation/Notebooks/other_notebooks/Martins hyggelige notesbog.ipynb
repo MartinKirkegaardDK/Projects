{
 "cells": [
  {
   "cell_type": "code",
   "execution_count": 1,
   "metadata": {},
   "outputs": [],
   "source": [
    "import pandas  as pd\n",
    "import networkx as nx\n",
    "import re\n",
    "import json\n",
    "import matplotlib.pyplot as plt"
   ]
  },
  {
   "cell_type": "markdown",
   "metadata": {},
   "source": [
    "## DATA THINGY"
   ]
  },
  {
   "cell_type": "code",
   "execution_count": 2,
   "metadata": {},
   "outputs": [],
   "source": [
    "#Our flitered dataset"
   ]
  },
  {
   "cell_type": "code",
   "execution_count": 3,
   "metadata": {},
   "outputs": [],
   "source": [
    "data = pd.read_csv(\"../../Data/final_cool_dataset.csv\")"
   ]
  },
  {
   "cell_type": "code",
   "execution_count": 4,
   "metadata": {},
   "outputs": [],
   "source": [
    "#Coordinates from 1st dataset"
   ]
  },
  {
   "cell_type": "code",
   "execution_count": 5,
   "metadata": {},
   "outputs": [
    {
     "name": "stderr",
     "output_type": "stream",
     "text": [
      "/opt/anaconda3/lib/python3.8/site-packages/IPython/core/interactiveshell.py:3165: DtypeWarning: Columns (51,52,53) have mixed types.Specify dtype option on import or set low_memory=False.\n",
      "  has_raised = await self.run_ast_nodes(code_ast.body, cell_name,\n"
     ]
    }
   ],
   "source": [
    "coordinates_df = pd.read_csv(\"../../Data/Airports.csv\")"
   ]
  },
  {
   "cell_type": "code",
   "execution_count": 6,
   "metadata": {},
   "outputs": [],
   "source": [
    "coordinates_df = coordinates_df.rename(columns={'Y': 'LAT', 'X': 'LONG'})\n",
    "coordinates_df = coordinates_df[[\"LONG\",\"LAT\",\"Loc_Id\"]]"
   ]
  },
  {
   "cell_type": "code",
   "execution_count": 7,
   "metadata": {
    "scrolled": true
   },
   "outputs": [],
   "source": [
    "s_1 = set(coordinates_df[\"Loc_Id\"])"
   ]
  },
  {
   "cell_type": "code",
   "execution_count": 8,
   "metadata": {},
   "outputs": [],
   "source": [
    "#2nd dataset"
   ]
  },
  {
   "cell_type": "code",
   "execution_count": 9,
   "metadata": {},
   "outputs": [],
   "source": [
    "new_names = pd.read_csv(\"../../Data/us-airports.csv\")\n",
    "new_names = new_names[[\"latitude_deg\",\"longitude_deg\",\"local_code\"]]\n",
    "new_names = new_names.iloc[1: , :]\n",
    "new_names = new_names[new_names['local_code'].notna()]\n",
    "new_names = new_names.rename(columns = {\"local_code\" :\"ORIGIN\"})"
   ]
  },
  {
   "cell_type": "code",
   "execution_count": 10,
   "metadata": {
    "scrolled": true
   },
   "outputs": [],
   "source": [
    "s_2 = set(new_names[\"ORIGIN\"])"
   ]
  },
  {
   "cell_type": "markdown",
   "metadata": {},
   "source": [
    "## Airports which we do not have coordinates for"
   ]
  },
  {
   "cell_type": "code",
   "execution_count": 11,
   "metadata": {},
   "outputs": [
    {
     "data": {
      "text/plain": [
       "{'ABL',\n",
       " 'AET',\n",
       " 'AIN',\n",
       " 'AKB',\n",
       " 'AOS',\n",
       " 'ATT',\n",
       " 'BFB',\n",
       " 'BFT',\n",
       " 'BKC',\n",
       " 'BKG',\n",
       " 'BLD',\n",
       " 'CDL',\n",
       " 'CIL',\n",
       " 'CKD',\n",
       " 'CLD',\n",
       " 'CLU',\n",
       " 'CYF',\n",
       " 'CYM',\n",
       " 'DGB',\n",
       " 'DIO',\n",
       " 'DJN',\n",
       " 'DOF',\n",
       " 'DRF',\n",
       " 'DRG',\n",
       " 'EDA',\n",
       " 'EGX',\n",
       " 'EMK',\n",
       " 'ESD',\n",
       " 'FCA',\n",
       " 'FID',\n",
       " 'FRD',\n",
       " 'FRY',\n",
       " 'FWL',\n",
       " 'GEK',\n",
       " 'GMT',\n",
       " 'HAR',\n",
       " 'HBH',\n",
       " 'HGZ',\n",
       " 'HHH',\n",
       " 'HKB',\n",
       " 'HLI',\n",
       " 'HSH',\n",
       " 'HSL',\n",
       " 'IRC',\n",
       " 'ISS',\n",
       " 'KBC',\n",
       " 'KCG',\n",
       " 'KCQ',\n",
       " 'KEH',\n",
       " 'KGK',\n",
       " 'KKH',\n",
       " 'KLL',\n",
       " 'KLN',\n",
       " 'KLW',\n",
       " 'KMO',\n",
       " 'KNK',\n",
       " 'KOT',\n",
       " 'KOZ',\n",
       " 'KPM',\n",
       " 'KPN',\n",
       " 'KPV',\n",
       " 'KUK',\n",
       " 'KWN',\n",
       " 'LIJ',\n",
       " 'LIV',\n",
       " 'LKE',\n",
       " 'LMA',\n",
       " 'LNI',\n",
       " 'LPS',\n",
       " 'LVD',\n",
       " 'MDR',\n",
       " 'MEO',\n",
       " 'MLL',\n",
       " 'MNT',\n",
       " 'MQT',\n",
       " 'MVW',\n",
       " 'MXY',\n",
       " 'NAD',\n",
       " 'NCN',\n",
       " 'NHZ',\n",
       " 'NIB',\n",
       " 'NKI',\n",
       " 'NLG',\n",
       " 'NME',\n",
       " 'NNK',\n",
       " 'NNL',\n",
       " 'NPT',\n",
       " 'NUP',\n",
       " 'ODW',\n",
       " 'OHC',\n",
       " 'OLH',\n",
       " 'ORV',\n",
       " 'OTS',\n",
       " 'PBK',\n",
       " 'PCT',\n",
       " 'PDB',\n",
       " 'PGC',\n",
       " 'PIP',\n",
       " 'PML',\n",
       " 'PPV',\n",
       " 'PQS',\n",
       " 'PTA',\n",
       " 'PUO',\n",
       " 'RBH',\n",
       " 'RBN',\n",
       " 'RDB',\n",
       " 'RLU',\n",
       " 'RSJ',\n",
       " 'SCE',\n",
       " 'SCF',\n",
       " 'SKK',\n",
       " 'STG',\n",
       " 'SYB',\n",
       " 'TEH',\n",
       " 'TEK',\n",
       " 'TLA',\n",
       " 'TNK',\n",
       " 'TWA',\n",
       " 'TWD',\n",
       " 'UGI',\n",
       " 'UST',\n",
       " 'UTM',\n",
       " 'UUK',\n",
       " 'VIK',\n",
       " 'WAA',\n",
       " 'WFB',\n",
       " 'WHD',\n",
       " 'WKK',\n",
       " 'WMK',\n",
       " 'WOW',\n",
       " 'WSX',\n",
       " 'WTL',\n",
       " 'WWA',\n",
       " 'WWP',\n",
       " 'WYB',\n",
       " 'XXU',\n",
       " 'YUM'}"
      ]
     },
     "execution_count": 11,
     "metadata": {},
     "output_type": "execute_result"
    }
   ],
   "source": [
    "all_airpor_keys = s_1.union(s_2)\n",
    "set(data[\"ORIGIN\"]) - all_airpor_keys"
   ]
  },
  {
   "cell_type": "code",
   "execution_count": 12,
   "metadata": {},
   "outputs": [],
   "source": [
    "#Merge coordinates to dataset"
   ]
  },
  {
   "cell_type": "code",
   "execution_count": 13,
   "metadata": {},
   "outputs": [],
   "source": [
    "data = data.merge(new_names, on = \"ORIGIN\")\n",
    "data = data.rename(columns = {\"latitude_deg\": \"ORIGIN_LAT\", \"longitude_deg\": \"ORIGIN_LONG\"})\n",
    "new_names = new_names.rename(columns = {\"ORIGIN\" :\"DEST\"})\n",
    "data = data.merge(new_names, on = \"DEST\")\n",
    "data = data.rename(columns = {\"latitude_deg\": \"DEST_LAT\", \"longitude_deg\": \"DEST_LONG\"})"
   ]
  },
  {
   "cell_type": "code",
   "execution_count": 14,
   "metadata": {},
   "outputs": [
    {
     "data": {
      "text/html": [
       "<div>\n",
       "<style scoped>\n",
       "    .dataframe tbody tr th:only-of-type {\n",
       "        vertical-align: middle;\n",
       "    }\n",
       "\n",
       "    .dataframe tbody tr th {\n",
       "        vertical-align: top;\n",
       "    }\n",
       "\n",
       "    .dataframe thead th {\n",
       "        text-align: right;\n",
       "    }\n",
       "</style>\n",
       "<table border=\"1\" class=\"dataframe\">\n",
       "  <thead>\n",
       "    <tr style=\"text-align: right;\">\n",
       "      <th></th>\n",
       "      <th>ORIGIN</th>\n",
       "      <th>DEST</th>\n",
       "      <th>PAYLOAD</th>\n",
       "      <th>DISTANCE</th>\n",
       "      <th>SEATS</th>\n",
       "      <th>PASSENGERS</th>\n",
       "      <th>DEPARTURES_PERFORMED</th>\n",
       "      <th>CARRIER_NAME</th>\n",
       "      <th>ORIGIN_AIRPORT_ID</th>\n",
       "      <th>DEST_AIRPORT_ID</th>\n",
       "      <th>ORIGIN_NAME</th>\n",
       "      <th>DEST_NAME</th>\n",
       "      <th>ORIGIN_LAT</th>\n",
       "      <th>ORIGIN_LONG</th>\n",
       "      <th>DEST_LAT</th>\n",
       "      <th>DEST_LONG</th>\n",
       "    </tr>\n",
       "  </thead>\n",
       "  <tbody>\n",
       "    <tr>\n",
       "      <th>0</th>\n",
       "      <td>ANC</td>\n",
       "      <td>OME</td>\n",
       "      <td>33729908.0</td>\n",
       "      <td>539.0</td>\n",
       "      <td>31762.0</td>\n",
       "      <td>20623.0</td>\n",
       "      <td>1133.0</td>\n",
       "      <td>['Era Aviation' 'Alaska Airlines Inc.'\\n 'Tato...</td>\n",
       "      <td>10299.0</td>\n",
       "      <td>13873.0</td>\n",
       "      <td>Anchorage, AK: Ted Stevens Anchorage Internati...</td>\n",
       "      <td>Nome, AK: Nome Airport</td>\n",
       "      <td>61.1744</td>\n",
       "      <td>-149.996002</td>\n",
       "      <td>64.51219940185547</td>\n",
       "      <td>-165.44500732421875</td>\n",
       "    </tr>\n",
       "    <tr>\n",
       "      <th>1</th>\n",
       "      <td>ATK</td>\n",
       "      <td>OME</td>\n",
       "      <td>4500.0</td>\n",
       "      <td>463.0</td>\n",
       "      <td>19.0</td>\n",
       "      <td>0.0</td>\n",
       "      <td>1.0</td>\n",
       "      <td>['Hageland Aviation Service']</td>\n",
       "      <td>10396.0</td>\n",
       "      <td>13873.0</td>\n",
       "      <td>Atqasuk, AK: Atqasuk Edward Burnell Sr. Memorial</td>\n",
       "      <td>Nome, AK: Nome Airport</td>\n",
       "      <td>70.46704</td>\n",
       "      <td>-157.436013</td>\n",
       "      <td>64.51219940185547</td>\n",
       "      <td>-165.44500732421875</td>\n",
       "    </tr>\n",
       "    <tr>\n",
       "      <th>2</th>\n",
       "      <td>AUK</td>\n",
       "      <td>OME</td>\n",
       "      <td>39300.0</td>\n",
       "      <td>129.0</td>\n",
       "      <td>26.0</td>\n",
       "      <td>7.0</td>\n",
       "      <td>9.0</td>\n",
       "      <td>['Arctic Transportation' 'Bering Air Inc.' 'Ha...</td>\n",
       "      <td>10416.0</td>\n",
       "      <td>13873.0</td>\n",
       "      <td>Alakanuk, AK: Alakanuk Airport</td>\n",
       "      <td>Nome, AK: Nome Airport</td>\n",
       "      <td>62.680042266799994</td>\n",
       "      <td>-164.659927368</td>\n",
       "      <td>64.51219940185547</td>\n",
       "      <td>-165.44500732421875</td>\n",
       "    </tr>\n",
       "    <tr>\n",
       "      <th>3</th>\n",
       "      <td>BET</td>\n",
       "      <td>OME</td>\n",
       "      <td>84200.0</td>\n",
       "      <td>283.0</td>\n",
       "      <td>346.0</td>\n",
       "      <td>260.0</td>\n",
       "      <td>18.0</td>\n",
       "      <td>['Hageland Aviation Service' 'Bering Air Inc.'...</td>\n",
       "      <td>10551.0</td>\n",
       "      <td>13873.0</td>\n",
       "      <td>Bethel, AK: Bethel Airport</td>\n",
       "      <td>Nome, AK: Nome Airport</td>\n",
       "      <td>60.77980042</td>\n",
       "      <td>-161.8379974</td>\n",
       "      <td>64.51219940185547</td>\n",
       "      <td>-165.44500732421875</td>\n",
       "    </tr>\n",
       "    <tr>\n",
       "      <th>4</th>\n",
       "      <td>BRW</td>\n",
       "      <td>OME</td>\n",
       "      <td>59180.0</td>\n",
       "      <td>520.0</td>\n",
       "      <td>253.0</td>\n",
       "      <td>132.0</td>\n",
       "      <td>13.0</td>\n",
       "      <td>['Bering Air Inc.' 'Era Aviation' 'Hageland Av...</td>\n",
       "      <td>10754.0</td>\n",
       "      <td>13873.0</td>\n",
       "      <td>Barrow, AK: Wiley Post/Will Rogers Memorial</td>\n",
       "      <td>Nome, AK: Nome Airport</td>\n",
       "      <td>71.285402</td>\n",
       "      <td>-156.766008</td>\n",
       "      <td>64.51219940185547</td>\n",
       "      <td>-165.44500732421875</td>\n",
       "    </tr>\n",
       "    <tr>\n",
       "      <th>...</th>\n",
       "      <td>...</td>\n",
       "      <td>...</td>\n",
       "      <td>...</td>\n",
       "      <td>...</td>\n",
       "      <td>...</td>\n",
       "      <td>...</td>\n",
       "      <td>...</td>\n",
       "      <td>...</td>\n",
       "      <td>...</td>\n",
       "      <td>...</td>\n",
       "      <td>...</td>\n",
       "      <td>...</td>\n",
       "      <td>...</td>\n",
       "      <td>...</td>\n",
       "      <td>...</td>\n",
       "      <td>...</td>\n",
       "    </tr>\n",
       "    <tr>\n",
       "      <th>19004</th>\n",
       "      <td>MTM</td>\n",
       "      <td>KPB</td>\n",
       "      <td>1850.0</td>\n",
       "      <td>116.0</td>\n",
       "      <td>6.0</td>\n",
       "      <td>0.0</td>\n",
       "      <td>1.0</td>\n",
       "      <td>['Venture Travel LLC d/b/a Taquan Air Service']</td>\n",
       "      <td>13504.0</td>\n",
       "      <td>12773.0</td>\n",
       "      <td>Metlakatla, AK: Metlakatala</td>\n",
       "      <td>Point Baker, AK: Point Baker Airport</td>\n",
       "      <td>55.131001</td>\n",
       "      <td>-131.578003</td>\n",
       "      <td>56.3518981934</td>\n",
       "      <td>-133.623001099</td>\n",
       "    </tr>\n",
       "    <tr>\n",
       "      <th>19005</th>\n",
       "      <td>LGD</td>\n",
       "      <td>HES</td>\n",
       "      <td>6900.0</td>\n",
       "      <td>71.0</td>\n",
       "      <td>0.0</td>\n",
       "      <td>0.0</td>\n",
       "      <td>2.0</td>\n",
       "      <td>['Empire Airlines Inc.' 'Federal Express Corpo...</td>\n",
       "      <td>12956.0</td>\n",
       "      <td>12103.0</td>\n",
       "      <td>La Grande, OR: La Grande/Union County</td>\n",
       "      <td>Hermiston, OR: Hermiston Municipal</td>\n",
       "      <td>45.2901992798</td>\n",
       "      <td>-118.007003784</td>\n",
       "      <td>38.6534996033</td>\n",
       "      <td>-122.899002075</td>\n",
       "    </tr>\n",
       "    <tr>\n",
       "      <th>19006</th>\n",
       "      <td>OXR</td>\n",
       "      <td>CCR</td>\n",
       "      <td>2000.0</td>\n",
       "      <td>306.0</td>\n",
       "      <td>8.0</td>\n",
       "      <td>3.0</td>\n",
       "      <td>1.0</td>\n",
       "      <td>['Avjet Corporation']</td>\n",
       "      <td>13988.0</td>\n",
       "      <td>10910.0</td>\n",
       "      <td>Oxnard/Ventura, CA: Oxnard</td>\n",
       "      <td>Concord, CA: Buchanan Field</td>\n",
       "      <td>34.200801849365</td>\n",
       "      <td>-119.20700073242</td>\n",
       "      <td>37.9897003174</td>\n",
       "      <td>-122.056999207</td>\n",
       "    </tr>\n",
       "    <tr>\n",
       "      <th>19007</th>\n",
       "      <td>HAO</td>\n",
       "      <td>UOX</td>\n",
       "      <td>2000.0</td>\n",
       "      <td>442.0</td>\n",
       "      <td>8.0</td>\n",
       "      <td>2.0</td>\n",
       "      <td>1.0</td>\n",
       "      <td>['Avjet Corporation']</td>\n",
       "      <td>12068.0</td>\n",
       "      <td>15481.0</td>\n",
       "      <td>Hamilton, OH: Butler County Regional Hogan Field</td>\n",
       "      <td>Oxford, MS: University-Oxford</td>\n",
       "      <td>39.363800048799995</td>\n",
       "      <td>-84.5220031738</td>\n",
       "      <td>34.384300231934</td>\n",
       "      <td>-89.536796569824</td>\n",
       "    </tr>\n",
       "    <tr>\n",
       "      <th>19008</th>\n",
       "      <td>IJX</td>\n",
       "      <td>MFI</td>\n",
       "      <td>2000.0</td>\n",
       "      <td>336.0</td>\n",
       "      <td>8.0</td>\n",
       "      <td>2.0</td>\n",
       "      <td>1.0</td>\n",
       "      <td>['Avjet Corporation']</td>\n",
       "      <td>12310.0</td>\n",
       "      <td>13260.0</td>\n",
       "      <td>Jacksonville, IL: Jacksonville Municipal</td>\n",
       "      <td>Marshfield, WI: Marshfield Municipal</td>\n",
       "      <td>39.774600982666016</td>\n",
       "      <td>-90.23829650878906</td>\n",
       "      <td>44.6369018555</td>\n",
       "      <td>-90.18930053710001</td>\n",
       "    </tr>\n",
       "  </tbody>\n",
       "</table>\n",
       "<p>19009 rows × 16 columns</p>\n",
       "</div>"
      ],
      "text/plain": [
       "      ORIGIN DEST     PAYLOAD  DISTANCE    SEATS  PASSENGERS  \\\n",
       "0        ANC  OME  33729908.0     539.0  31762.0     20623.0   \n",
       "1        ATK  OME      4500.0     463.0     19.0         0.0   \n",
       "2        AUK  OME     39300.0     129.0     26.0         7.0   \n",
       "3        BET  OME     84200.0     283.0    346.0       260.0   \n",
       "4        BRW  OME     59180.0     520.0    253.0       132.0   \n",
       "...      ...  ...         ...       ...      ...         ...   \n",
       "19004    MTM  KPB      1850.0     116.0      6.0         0.0   \n",
       "19005    LGD  HES      6900.0      71.0      0.0         0.0   \n",
       "19006    OXR  CCR      2000.0     306.0      8.0         3.0   \n",
       "19007    HAO  UOX      2000.0     442.0      8.0         2.0   \n",
       "19008    IJX  MFI      2000.0     336.0      8.0         2.0   \n",
       "\n",
       "       DEPARTURES_PERFORMED  \\\n",
       "0                    1133.0   \n",
       "1                       1.0   \n",
       "2                       9.0   \n",
       "3                      18.0   \n",
       "4                      13.0   \n",
       "...                     ...   \n",
       "19004                   1.0   \n",
       "19005                   2.0   \n",
       "19006                   1.0   \n",
       "19007                   1.0   \n",
       "19008                   1.0   \n",
       "\n",
       "                                            CARRIER_NAME  ORIGIN_AIRPORT_ID  \\\n",
       "0      ['Era Aviation' 'Alaska Airlines Inc.'\\n 'Tato...            10299.0   \n",
       "1                          ['Hageland Aviation Service']            10396.0   \n",
       "2      ['Arctic Transportation' 'Bering Air Inc.' 'Ha...            10416.0   \n",
       "3      ['Hageland Aviation Service' 'Bering Air Inc.'...            10551.0   \n",
       "4      ['Bering Air Inc.' 'Era Aviation' 'Hageland Av...            10754.0   \n",
       "...                                                  ...                ...   \n",
       "19004    ['Venture Travel LLC d/b/a Taquan Air Service']            13504.0   \n",
       "19005  ['Empire Airlines Inc.' 'Federal Express Corpo...            12956.0   \n",
       "19006                              ['Avjet Corporation']            13988.0   \n",
       "19007                              ['Avjet Corporation']            12068.0   \n",
       "19008                              ['Avjet Corporation']            12310.0   \n",
       "\n",
       "       DEST_AIRPORT_ID                                        ORIGIN_NAME  \\\n",
       "0              13873.0  Anchorage, AK: Ted Stevens Anchorage Internati...   \n",
       "1              13873.0   Atqasuk, AK: Atqasuk Edward Burnell Sr. Memorial   \n",
       "2              13873.0                     Alakanuk, AK: Alakanuk Airport   \n",
       "3              13873.0                         Bethel, AK: Bethel Airport   \n",
       "4              13873.0        Barrow, AK: Wiley Post/Will Rogers Memorial   \n",
       "...                ...                                                ...   \n",
       "19004          12773.0                        Metlakatla, AK: Metlakatala   \n",
       "19005          12103.0              La Grande, OR: La Grande/Union County   \n",
       "19006          10910.0                         Oxnard/Ventura, CA: Oxnard   \n",
       "19007          15481.0   Hamilton, OH: Butler County Regional Hogan Field   \n",
       "19008          13260.0           Jacksonville, IL: Jacksonville Municipal   \n",
       "\n",
       "                                  DEST_NAME          ORIGIN_LAT  \\\n",
       "0                    Nome, AK: Nome Airport             61.1744   \n",
       "1                    Nome, AK: Nome Airport            70.46704   \n",
       "2                    Nome, AK: Nome Airport  62.680042266799994   \n",
       "3                    Nome, AK: Nome Airport         60.77980042   \n",
       "4                    Nome, AK: Nome Airport           71.285402   \n",
       "...                                     ...                 ...   \n",
       "19004  Point Baker, AK: Point Baker Airport           55.131001   \n",
       "19005    Hermiston, OR: Hermiston Municipal       45.2901992798   \n",
       "19006           Concord, CA: Buchanan Field     34.200801849365   \n",
       "19007         Oxford, MS: University-Oxford  39.363800048799995   \n",
       "19008  Marshfield, WI: Marshfield Municipal  39.774600982666016   \n",
       "\n",
       "              ORIGIN_LONG           DEST_LAT            DEST_LONG  \n",
       "0             -149.996002  64.51219940185547  -165.44500732421875  \n",
       "1             -157.436013  64.51219940185547  -165.44500732421875  \n",
       "2          -164.659927368  64.51219940185547  -165.44500732421875  \n",
       "3            -161.8379974  64.51219940185547  -165.44500732421875  \n",
       "4             -156.766008  64.51219940185547  -165.44500732421875  \n",
       "...                   ...                ...                  ...  \n",
       "19004         -131.578003      56.3518981934       -133.623001099  \n",
       "19005      -118.007003784      38.6534996033       -122.899002075  \n",
       "19006    -119.20700073242      37.9897003174       -122.056999207  \n",
       "19007      -84.5220031738    34.384300231934     -89.536796569824  \n",
       "19008  -90.23829650878906      44.6369018555   -90.18930053710001  \n",
       "\n",
       "[19009 rows x 16 columns]"
      ]
     },
     "execution_count": 14,
     "metadata": {},
     "output_type": "execute_result"
    }
   ],
   "source": [
    "data"
   ]
  },
  {
   "cell_type": "markdown",
   "metadata": {},
   "source": [
    "## Create json lookup tables"
   ]
  },
  {
   "cell_type": "code",
   "execution_count": 15,
   "metadata": {},
   "outputs": [],
   "source": [
    "#Abbreviation (Local code) "
   ]
  },
  {
   "cell_type": "code",
   "execution_count": 16,
   "metadata": {},
   "outputs": [],
   "source": [
    "abv_list = list(zip(data[\"ORIGIN\"],data[\"ORIGIN_LAT\"], data[\"ORIGIN_LONG\"]))"
   ]
  },
  {
   "cell_type": "code",
   "execution_count": 17,
   "metadata": {},
   "outputs": [],
   "source": [
    "abv_lookup_table = dict()\n",
    "for elm in abv_list:\n",
    "    abv_lookup_table[elm[0]] = (elm[1], elm[2])"
   ]
  },
  {
   "cell_type": "code",
   "execution_count": 18,
   "metadata": {},
   "outputs": [],
   "source": [
    "with open(\"../../Data/abv_lookup_table.json\", \"w\") as outfile:\n",
    "    json.dump(abv_lookup_table, outfile)"
   ]
  },
  {
   "cell_type": "code",
   "execution_count": 19,
   "metadata": {},
   "outputs": [],
   "source": [
    "#Names (Full airport name incl state)"
   ]
  },
  {
   "cell_type": "code",
   "execution_count": 20,
   "metadata": {},
   "outputs": [],
   "source": [
    "name_list = list(zip(data[\"ORIGIN_NAME\"],data[\"ORIGIN_LAT\"], data[\"ORIGIN_LONG\"]))"
   ]
  },
  {
   "cell_type": "code",
   "execution_count": 21,
   "metadata": {},
   "outputs": [],
   "source": [
    "airport_lookup_table = dict()\n",
    "for elm in name_list:\n",
    "    airport_lookup_table[elm[0]] = (elm[1], elm[2])"
   ]
  },
  {
   "cell_type": "code",
   "execution_count": 22,
   "metadata": {},
   "outputs": [],
   "source": [
    "with open(\"../../Data/airport_names_lookup_table.json\", \"w\") as outfile:\n",
    "    json.dump(airport_lookup_table, outfile)"
   ]
  },
  {
   "cell_type": "markdown",
   "metadata": {},
   "source": [
    "## Graph"
   ]
  },
  {
   "cell_type": "code",
   "execution_count": 23,
   "metadata": {},
   "outputs": [],
   "source": [
    "edges = [(row['ORIGIN_NAME'], row['DEST_NAME'], {'weight': row['PASSENGERS']}) for _, row in data.iterrows()]"
   ]
  },
  {
   "cell_type": "code",
   "execution_count": 24,
   "metadata": {},
   "outputs": [],
   "source": [
    "G = nx.DiGraph()\n",
    "G.add_edges_from(edges)"
   ]
  },
  {
   "cell_type": "code",
   "execution_count": 25,
   "metadata": {},
   "outputs": [
    {
     "data": {
      "text/plain": [
       "False"
      ]
     },
     "execution_count": 25,
     "metadata": {},
     "output_type": "execute_result"
    }
   ],
   "source": [
    "nx.is_strongly_connected(G)"
   ]
  },
  {
   "cell_type": "code",
   "execution_count": 26,
   "metadata": {},
   "outputs": [],
   "source": [
    "#Isolated nodes"
   ]
  },
  {
   "cell_type": "code",
   "execution_count": 27,
   "metadata": {},
   "outputs": [
    {
     "data": {
      "text/plain": [
       "[{'Circle Hot Springs, AK: Circle Hot Springs Airport'}]"
      ]
     },
     "execution_count": 27,
     "metadata": {},
     "output_type": "execute_result"
    }
   ],
   "source": [
    "components = sorted(nx.strongly_connected_components(G), key=len, reverse=True)\n",
    "components[1:]"
   ]
  },
  {
   "cell_type": "code",
   "execution_count": 28,
   "metadata": {},
   "outputs": [
    {
     "data": {
      "text/plain": [
       "True"
      ]
     },
     "execution_count": 28,
     "metadata": {},
     "output_type": "execute_result"
    }
   ],
   "source": [
    "to_removed = [list(x) for x in components  if x != max(components)]\n",
    "flat_list = [item for sublist in to_removed for item in sublist]\n",
    "G.remove_nodes_from(flat_list)\n",
    "nx.is_strongly_connected(G)"
   ]
  },
  {
   "cell_type": "markdown",
   "metadata": {},
   "source": [
    "Here we find that the diameter of the graph is 7\n",
    "This means that you can get from any airport to any airport in at most 7 steps. \n",
    "The longest shortest path is 7"
   ]
  },
  {
   "cell_type": "code",
   "execution_count": 29,
   "metadata": {},
   "outputs": [
    {
     "data": {
      "text/plain": [
       "7"
      ]
     },
     "execution_count": 29,
     "metadata": {},
     "output_type": "execute_result"
    }
   ],
   "source": [
    "nx.diameter(G)"
   ]
  },
  {
   "cell_type": "markdown",
   "metadata": {},
   "source": [
    "This is the average shortest path of the network. Meaning on average if you pick two nodes at random the distance is a path with the length of 3"
   ]
  },
  {
   "cell_type": "code",
   "execution_count": 30,
   "metadata": {},
   "outputs": [
    {
     "data": {
      "text/plain": [
       "2.975030774994648"
      ]
     },
     "execution_count": 30,
     "metadata": {},
     "output_type": "execute_result"
    }
   ],
   "source": [
    "nx.average_shortest_path_length(G)"
   ]
  },
  {
   "cell_type": "markdown",
   "metadata": {},
   "source": [
    "Finding the longest shortest paths"
   ]
  },
  {
   "cell_type": "code",
   "execution_count": 31,
   "metadata": {},
   "outputs": [],
   "source": [
    "li = []\n",
    "for node in G.nodes():\n",
    "    start_end_nodes = [(node, k) for k,v in nx.shortest_path_length(G, node).items() if v == 7]\n",
    "    if start_end_nodes != []:\n",
    "        li.append(start_end_nodes)"
   ]
  },
  {
   "cell_type": "code",
   "execution_count": 32,
   "metadata": {
    "scrolled": true
   },
   "outputs": [],
   "source": [
    "routes = dict()\n",
    "coord = dict()\n",
    "for elm in li:\n",
    "    from_ = elm[0][0]\n",
    "    #routes[from_] = []\n",
    "    routes_dict = dict()\n",
    "    coord_dict = dict()\n",
    "    for i in elm:\n",
    "        to_ = i[1]\n",
    "        shortest_path = nx.shortest_path(G, from_, to_)\n",
    "        \n",
    "        routes_dict[to_] = shortest_path\n",
    "        coord_dict[to_] = [airport_lookup_table[x] for x in shortest_path]\n",
    "        #airport_name_coordinates\n",
    "        #coord_dict[to_] = [airport_name_coordinates(x) for x in shortest_path]\n",
    "    coord[from_] = coord_dict\n",
    "    routes[from_] = routes_dict"
   ]
  },
  {
   "cell_type": "code",
   "execution_count": 34,
   "metadata": {},
   "outputs": [],
   "source": [
    "from_ = []\n",
    "dest_ = []\n",
    "coordinates = []\n",
    "path = []\n",
    "for elm in coord.items():\n",
    "    fr = elm[0]\n",
    "    \n",
    "    for i in elm[1].keys():\n",
    "        dest_.append(i)\n",
    "        path.append(routes[fr][i])\n",
    "        from_.append(fr)\n",
    "    for i in elm[1].values():\n",
    "        coordinates.append(i)"
   ]
  },
  {
   "cell_type": "code",
   "execution_count": 35,
   "metadata": {},
   "outputs": [],
   "source": [
    "d = {\"from\": from_, \"dest\": dest_, \"path\": path, \"coordinates\": coordinates}\n",
    "df_paths = pd.DataFrame(data=d)\n",
    "#df_paths.to_csv('../../Data/to_florian_dataframe_longest_paths.csv', index=False)"
   ]
  },
  {
   "cell_type": "code",
   "execution_count": 54,
   "metadata": {},
   "outputs": [],
   "source": [
    "float_coords = []\n",
    "for i in df_paths['coordinates']:\n",
    "    temp = []\n",
    "    for j in i:\n",
    "        j_0 = [eval(j[0])]\n",
    "        j_1 = [eval(j[1])]\n",
    "        temp.append(list(zip(j_0,j_1)))\n",
    "    float_coords.append(temp)"
   ]
  },
  {
   "cell_type": "code",
   "execution_count": 55,
   "metadata": {},
   "outputs": [
    {
     "data": {
      "text/plain": [
       "[[[(62.320499420166, -150.09399414062)],\n",
       "  [(61.7881011963, -157.350006104)],\n",
       "  [(60.77980042, -161.8379974)],\n",
       "  [(61.1744, -149.996002)],\n",
       "  [(33.6367, -84.428101)],\n",
       "  [(40.27669906616211, -74.8134994506836)],\n",
       "  [(41.47859954834, -73.135200500488)],\n",
       "  [(38.942902, -76.568398)]],\n",
       " [[(62.320499420166, -150.09399414062)],\n",
       "  [(61.7881011963, -157.350006104)],\n",
       "  [(60.77980042, -161.8379974)],\n",
       "  [(64.81510162, -147.8560028)],\n",
       "  [(41.9786, -87.9048)],\n",
       "  [(42.74829864501953, -73.80169677734375)],\n",
       "  [(41.66930008, -70.28040314)],\n",
       "  [(44.53459930419999, -72.6139984131)]],\n",
       " [[(62.320499420166, -150.09399414062)],\n",
       "  [(61.7881011963, -157.350006104)],\n",
       "  [(60.77980042, -161.8379974)],\n",
       "  [(64.81510162, -147.8560028)],\n",
       "  [(41.9786, -87.9048)],\n",
       "  [(41.06700134277344, -73.70760345458984)],\n",
       "  [(39.168300628699996, -77.1660003662)],\n",
       "  [(39.92750168, -74.29239655)]],\n",
       " [[(62.320499420166, -150.09399414062)],\n",
       "  [(61.7881011963, -157.350006104)],\n",
       "  [(60.77980042, -161.8379974)],\n",
       "  [(64.81510162, -147.8560028)],\n",
       "  [(41.9786, -87.9048)],\n",
       "  [(40.97850037, -85.19509888)],\n",
       "  [(39.774600982666016, -90.23829650878906)],\n",
       "  [(44.6369018555, -90.18930053710001)]],\n",
       " [[(62.320499420166, -150.09399414062)],\n",
       "  [(61.7881011963, -157.350006104)],\n",
       "  [(60.77980042, -161.8379974)],\n",
       "  [(61.1744, -149.996002)],\n",
       "  [(39.861698150635, -104.672996521)],\n",
       "  [(29.6900997162, -82.2717971802)],\n",
       "  [(26.1972999573, -80.1707000732)],\n",
       "  [(25.6479, -80.4328)]],\n",
       " [[(62.320499420166, -150.09399414062)],\n",
       "  [(61.7881011963, -157.350006104)],\n",
       "  [(60.77980042, -161.8379974)],\n",
       "  [(61.1744, -149.996002)],\n",
       "  [(32.896801, -97.038002)],\n",
       "  [(40.27590179, -79.40480042)],\n",
       "  [(42.7817, -71.514801)],\n",
       "  [(43.3412017822, -73.6102981567)]],\n",
       " [[(62.320499420166, -150.09399414062)],\n",
       "  [(61.7881011963, -157.350006104)],\n",
       "  [(60.77980042, -161.8379974)],\n",
       "  [(64.81510162, -147.8560028)],\n",
       "  [(41.9786, -87.9048)],\n",
       "  [(37.362598, -121.929001)],\n",
       "  [(39.363800048799995, -84.5220031738)],\n",
       "  [(34.384300231934, -89.536796569824)]],\n",
       " [[(62.320499420166, -150.09399414062)],\n",
       "  [(61.7881011963, -157.350006104)],\n",
       "  [(60.77980042, -161.8379974)],\n",
       "  [(64.81510162, -147.8560028)],\n",
       "  [(41.9786, -87.9048)],\n",
       "  [(41.06700134277344, -73.70760345458984)],\n",
       "  [(40.081902, -75.010597)],\n",
       "  [(41.3496017456, -71.8033981323)]],\n",
       " [[(64.66570282, -147.102005)],\n",
       "  [(65.99279785, -153.7039948)],\n",
       "  [(64.81510162, -147.8560028)],\n",
       "  [(39.861698150635, -104.672996521)],\n",
       "  [(41.06700134277344, -73.70760345458984)],\n",
       "  [(40.081902, -75.010597)],\n",
       "  [(41.47859954834, -73.135200500488)],\n",
       "  [(38.942902, -76.568398)]],\n",
       " [[(39.363800048799995, -84.5220031738)],\n",
       "  [(40.18690109, -74.12490082)],\n",
       "  [(41.06700134277344, -73.70760345458984)],\n",
       "  [(34.197703, -118.356378)],\n",
       "  [(61.1744, -149.996002)],\n",
       "  [(62.95289993, -155.6060028)],\n",
       "  [(61.2135009765625, -149.843994140625)],\n",
       "  [(61.9653015137, -151.190994263)]],\n",
       " [[(41.3496017456, -71.8033981323)],\n",
       "  [(41.1680984497, -71.577796936)],\n",
       "  [(40.7288017273, -73.4133987427)],\n",
       "  [(34.197703, -118.356378)],\n",
       "  [(61.1744, -149.996002)],\n",
       "  [(55.35559845, -131.7140045)],\n",
       "  [(55.47880172729492, -133.1479949951172)],\n",
       "  [(55.206298828125, -132.8280029296875)]],\n",
       " [[(41.3496017456, -71.8033981323)],\n",
       "  [(41.1680984497, -71.577796936)],\n",
       "  [(40.7288017273, -73.4133987427)],\n",
       "  [(34.197703, -118.356378)],\n",
       "  [(61.1744, -149.996002)],\n",
       "  [(55.35559845, -131.7140045)],\n",
       "  [(56.003200531, -132.841995239)],\n",
       "  [(56.3518981934, -133.623001099)]],\n",
       " [[(41.3496017456, -71.8033981323)],\n",
       "  [(41.1680984497, -71.577796936)],\n",
       "  [(40.7288017273, -73.4133987427)],\n",
       "  [(39.7173, -86.294403)],\n",
       "  [(64.81510162, -147.8560028)],\n",
       "  [(62.95289993, -155.6060028)],\n",
       "  [(61.2135009765625, -149.843994140625)],\n",
       "  [(61.9653015137, -151.190994263)]],\n",
       " [[(38.942902, -76.568398)],\n",
       "  [(41.47859954834, -73.135200500488)],\n",
       "  [(40.85010147089999, -74.060798645)],\n",
       "  [(34.197703, -118.356378)],\n",
       "  [(61.1744, -149.996002)],\n",
       "  [(55.35559845, -131.7140045)],\n",
       "  [(55.47880172729492, -133.1479949951172)],\n",
       "  [(55.206298828125, -132.8280029296875)]],\n",
       " [[(38.942902, -76.568398)],\n",
       "  [(41.47859954834, -73.135200500488)],\n",
       "  [(40.85010147089999, -74.060798645)],\n",
       "  [(34.197703, -118.356378)],\n",
       "  [(61.1744, -149.996002)],\n",
       "  [(55.35559845, -131.7140045)],\n",
       "  [(56.003200531, -132.841995239)],\n",
       "  [(56.3518981934, -133.623001099)]],\n",
       " [[(38.942902, -76.568398)],\n",
       "  [(41.47859954834, -73.135200500488)],\n",
       "  [(40.85010147089999, -74.060798645)],\n",
       "  [(34.197703, -118.356378)],\n",
       "  [(61.1744, -149.996002)],\n",
       "  [(62.95289993, -155.6060028)],\n",
       "  [(61.2135009765625, -149.843994140625)],\n",
       "  [(61.9653015137, -151.190994263)]],\n",
       " [[(39.774600982666016, -90.23829650878906)],\n",
       "  [(44.6369018555, -90.18930053710001)],\n",
       "  [(40.47710037, -88.91590118)],\n",
       "  [(33.6367, -84.428101)],\n",
       "  [(61.1744, -149.996002)],\n",
       "  [(62.95289993, -155.6060028)],\n",
       "  [(61.2135009765625, -149.843994140625)],\n",
       "  [(61.9653015137, -151.190994263)]],\n",
       " [[(55.206298828125, -132.8280029296875)],\n",
       "  [(55.4816017151, -132.645996094)],\n",
       "  [(55.35559845, -131.7140045)],\n",
       "  [(47.449001, -122.308998)],\n",
       "  [(33.6367, -84.428101)],\n",
       "  [(40.97850037, -85.19509888)],\n",
       "  [(39.774600982666016, -90.23829650878906)],\n",
       "  [(44.6369018555, -90.18930053710001)]],\n",
       " [[(55.206298828125, -132.8280029296875)],\n",
       "  [(55.4816017151, -132.645996094)],\n",
       "  [(55.35559845, -131.7140045)],\n",
       "  [(47.449001, -122.308998)],\n",
       "  [(26.072599, -80.152702)],\n",
       "  [(40.27590179, -79.40480042)],\n",
       "  [(42.7817, -71.514801)],\n",
       "  [(43.3412017822, -73.6102981567)]],\n",
       " [[(56.3518981934, -133.623001099)],\n",
       "  [(56.003200531, -132.841995239)],\n",
       "  [(55.35559845, -131.7140045)],\n",
       "  [(47.449001, -122.308998)],\n",
       "  [(33.6367, -84.428101)],\n",
       "  [(40.97850037, -85.19509888)],\n",
       "  [(39.774600982666016, -90.23829650878906)],\n",
       "  [(44.6369018555, -90.18930053710001)]],\n",
       " [[(56.3518981934, -133.623001099)],\n",
       "  [(56.003200531, -132.841995239)],\n",
       "  [(55.35559845, -131.7140045)],\n",
       "  [(47.449001, -122.308998)],\n",
       "  [(26.072599, -80.152702)],\n",
       "  [(40.27590179, -79.40480042)],\n",
       "  [(42.7817, -71.514801)],\n",
       "  [(43.3412017822, -73.6102981567)]]]"
      ]
     },
     "execution_count": 55,
     "metadata": {},
     "output_type": "execute_result"
    }
   ],
   "source": [
    "float_coords"
   ]
  },
  {
   "cell_type": "code",
   "execution_count": 53,
   "metadata": {},
   "outputs": [
    {
     "name": "stdout",
     "output_type": "stream",
     "text": [
      "[('62.320499420166', '-150.09399414062'), ('61.7881011963', '-157.350006104'), ('60.77980042', '-161.8379974'), ('61.1744', '-149.996002'), ('33.6367', '-84.428101'), ('40.27669906616211', '-74.8134994506836'), ('41.47859954834', '-73.135200500488'), ('38.942902', '-76.568398')]\n"
     ]
    }
   ],
   "source": [
    "for i in df_paths['coordinates']:\n",
    "    print(i)\n",
    "    break"
   ]
  },
  {
   "cell_type": "markdown",
   "metadata": {},
   "source": [
    "Centrality\n",
    "\n",
    "In graph theory and network analysis, indicators of centrality assign numbers or rankings to nodes within a graph corresponding to their network position. Applications include identifying the most influential person(s) in a social network,"
   ]
  },
  {
   "cell_type": "code",
   "execution_count": null,
   "metadata": {},
   "outputs": [],
   "source": []
  },
  {
   "cell_type": "code",
   "execution_count": null,
   "metadata": {},
   "outputs": [],
   "source": [
    "sorted_degree_centrality = sorted(nx.degree_centrality(G).items(), key=lambda x: x[1], reverse=True)\n",
    "sorted_degree_centrality = [x[0] for x in sorted_degree_centrality[0:20]]\n",
    "#These are the most \"central\" nodes in the graph\n",
    "sorted_degree_centrality"
   ]
  },
  {
   "cell_type": "code",
   "execution_count": null,
   "metadata": {},
   "outputs": [],
   "source": [
    "mask = data[\"ORIGIN_NAME\"].isin(sorted_degree_centrality)\n",
    "to_florian_dataframe_degree_centrality = data[mask][[\"ORIGIN_NAME\",\"ORIGIN_LAT\", \"ORIGIN_LONG\"]].drop_duplicates('ORIGIN_NAME', keep='last')\n",
    "to_florian_dataframe_degree_centrality.to_csv('../../Data/to_florian_dataframe_degree_centrality.csv', index=False)"
   ]
  },
  {
   "cell_type": "markdown",
   "metadata": {},
   "source": [
    "Clustering coefficient"
   ]
  },
  {
   "cell_type": "code",
   "execution_count": null,
   "metadata": {},
   "outputs": [],
   "source": [
    "#The average clustering coefficient of the network is 0.56\n",
    "nx.average_clustering(G)"
   ]
  },
  {
   "cell_type": "code",
   "execution_count": null,
   "metadata": {},
   "outputs": [],
   "source": [
    "#Clustering for nodes\n",
    "clustering = nx.clustering(G)\n",
    "clustering_sorted = sorted(clustering.items(), key=lambda x: x[1], reverse=True)\n",
    "clustering_sorted"
   ]
  },
  {
   "cell_type": "code",
   "execution_count": null,
   "metadata": {
    "scrolled": true
   },
   "outputs": [],
   "source": [
    "data"
   ]
  },
  {
   "cell_type": "code",
   "execution_count": null,
   "metadata": {},
   "outputs": [],
   "source": [
    "li = []\n",
    "coef = []\n",
    "for elm in clustering_sorted:\n",
    "    if elm[1] in [1,0]:\n",
    "        li.append(elm[0])\n",
    "        coef.append(elm[1])"
   ]
  },
  {
   "cell_type": "code",
   "execution_count": null,
   "metadata": {},
   "outputs": [],
   "source": [
    "d = {\"ORIGIN_NAME\": li, \"COEFFICIENT\": coef}\n",
    "df_coef = pd.DataFrame(data=d)"
   ]
  },
  {
   "cell_type": "code",
   "execution_count": null,
   "metadata": {},
   "outputs": [],
   "source": [
    "mask = data[\"ORIGIN_NAME\"].isin(li)"
   ]
  },
  {
   "cell_type": "code",
   "execution_count": null,
   "metadata": {},
   "outputs": [],
   "source": [
    "to_florian_dataframe = data[mask][[\"ORIGIN_NAME\",\"ORIGIN_LAT\",\"ORIGIN_LONG\"]].drop_duplicates('ORIGIN_NAME', keep='last')"
   ]
  },
  {
   "cell_type": "code",
   "execution_count": null,
   "metadata": {},
   "outputs": [],
   "source": [
    "to_florian_dataframe = pd.merge(to_florian_dataframe, df_coef, on = [\"ORIGIN_NAME\"])"
   ]
  },
  {
   "cell_type": "code",
   "execution_count": null,
   "metadata": {},
   "outputs": [],
   "source": [
    "to_florian_dataframe.to_csv('../../Data/to_florian_clustering_coefficient.csv', index=False)"
   ]
  },
  {
   "cell_type": "code",
   "execution_count": null,
   "metadata": {},
   "outputs": [],
   "source": [
    "#Clustering coefficient plottet"
   ]
  },
  {
   "cell_type": "code",
   "execution_count": null,
   "metadata": {
    "scrolled": true
   },
   "outputs": [],
   "source": [
    "t = [x[1] for x in clustering_sorted]\n",
    "plt.hist(t, bins = 50);"
   ]
  },
  {
   "cell_type": "code",
   "execution_count": null,
   "metadata": {},
   "outputs": [],
   "source": [
    "#Degree distribution"
   ]
  },
  {
   "cell_type": "code",
   "execution_count": null,
   "metadata": {},
   "outputs": [],
   "source": [
    "\n",
    "def plot_degree_dist(G):\n",
    "    degrees = [G.degree(n) for n in G.nodes()]\n",
    "    plt.hist(degrees, bins = 30)\n",
    "    plt.show()\n",
    "\n",
    "plot_degree_dist(G)"
   ]
  },
  {
   "cell_type": "code",
   "execution_count": null,
   "metadata": {},
   "outputs": [],
   "source": [
    "#Degree distribution\n",
    "def plot_degree_dist(G):\n",
    "    degrees = [G.degree(n) for n in G.nodes()]\n",
    "    plt.loglog(degrees)\n",
    "    plt.show()\n",
    "\n",
    "plot_degree_dist(G)"
   ]
  },
  {
   "cell_type": "code",
   "execution_count": null,
   "metadata": {},
   "outputs": [],
   "source": [
    "#Degree distribution\n",
    "#It does not follow the power law\n",
    "def plot_degree_dist(G):\n",
    "    degrees = [n[1] for n in G.degree]\n",
    "    plt.loglog(degrees)\n",
    "    plt.gca().invert_yaxis()\n",
    "    plt.show()\n",
    "\n",
    "plot_degree_dist(G)"
   ]
  },
  {
   "cell_type": "code",
   "execution_count": null,
   "metadata": {},
   "outputs": [],
   "source": []
  }
 ],
 "metadata": {
  "kernelspec": {
   "display_name": "Python 3",
   "language": "python",
   "name": "python3"
  },
  "language_info": {
   "codemirror_mode": {
    "name": "ipython",
    "version": 3
   },
   "file_extension": ".py",
   "mimetype": "text/x-python",
   "name": "python",
   "nbconvert_exporter": "python",
   "pygments_lexer": "ipython3",
   "version": "3.8.8"
  }
 },
 "nbformat": 4,
 "nbformat_minor": 4
}

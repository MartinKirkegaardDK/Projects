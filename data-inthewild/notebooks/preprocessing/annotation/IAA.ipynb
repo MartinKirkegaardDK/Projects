{
 "cells": [
  {
   "cell_type": "code",
   "execution_count": null,
   "metadata": {},
   "outputs": [],
   "source": [
    "from itertools import combinations\n",
    "from statistics import mean\n",
    "import json"
   ]
  },
  {
   "cell_type": "markdown",
   "metadata": {},
   "source": [
    "### Inter Annotator Agreement\n",
    "\n",
    "Using the _positive specific agreement_ (equal to the _F-measure_) as described in Hripcsak and Rothschild (2005), since negative cases, which are needed for _Cohen's Kappa_, are poorly defined for span-labeling. For our definition of agreement, we consider _exact span matches_ (as used in Wang et al. 2021). This leads to a definition \n",
    "\n",
    "$$\n",
    "p_{pos} = \\frac{2a}{2a + b + c} \n",
    "$$\n",
    "\n",
    "where $a$ is the amount of spans both agree on exactly and $b$ is the amount of spans identified by annotator 1, not identified by annotator 2, and vice versa for $c$. This measure can, of course, only accommodate 2 annotators, so we measure the pairwise agreement for each pair of annotators."
   ]
  },
  {
   "cell_type": "code",
   "execution_count": null,
   "metadata": {},
   "outputs": [],
   "source": [
    "ANNOTATION_FOLDER = '../../../data/interim/annotation/'\n",
    "\n",
    "ANNOTATED_FILES = [\n",
    "    'bogdan.jsonl',\n",
    "    'gino.jsonl',\n",
    "    'veron.jsonl'\n",
    "]"
   ]
  },
  {
   "cell_type": "code",
   "execution_count": null,
   "metadata": {},
   "outputs": [],
   "source": [
    "def p_pos(a, b, c):\n",
    "    return (2 * a) / (2 * a + b + c)\n",
    "\n",
    "def get_agreement_datapoint(datapoint_1, datapoint_2):\n",
    "    '''\n",
    "    returns agreement (a, b and c) for two annotators at a single datapoint\n",
    "    assumes that there is only one label class\n",
    "    '''\n",
    "\n",
    "    if datapoint_1['text'] != datapoint_2['text']: # something in the text alignment has gone wrong\n",
    "        raise Exception(\"Text not equal!\")\n",
    "    \n",
    "    # spans found by annotator 1\n",
    "    spans_1 = set( \n",
    "        [\n",
    "            (label[0], label[1]) # start and end of span\n",
    "            for label in datapoint_1['label']\n",
    "        ]\n",
    "    )\n",
    "\n",
    "    # spans found by annotator 2\n",
    "    spans_2 = set(\n",
    "        [\n",
    "            (label[0], label[1]) # start and end of span\n",
    "            for label in datapoint_2['label']\n",
    "        ]\n",
    "    )\n",
    "\n",
    "    a = len(\n",
    "        spans_1.intersection(spans_2) # spans both annotators share\n",
    "    )\n",
    "\n",
    "    b = len(spans_1) - a\n",
    "    c = len(spans_2) - a\n",
    "\n",
    "    return a, b, c\n",
    "\n",
    "def get_agreement(annotator_1, annotator_2):\n",
    "    '''\n",
    "    returns p_pos for all datapoints of two annotators\n",
    "    '''\n",
    "    annotator_1 = sorted(annotator_1, key=lambda x: x['id'])\n",
    "    annotator_2 = sorted(annotator_2, key=lambda x: x['id'])\n",
    "\n",
    "    a = 0\n",
    "    b = 0\n",
    "    c = 0\n",
    "\n",
    "    for datapoint_1, datapoint_2 in zip(annotator_1, annotator_2):\n",
    "        a_i, b_i, c_i = get_agreement_datapoint(datapoint_1, datapoint_2)\n",
    "\n",
    "        a += a_i\n",
    "        b += b_i\n",
    "        c += c_i\n",
    "\n",
    "    return p_pos(a, b, c)\n",
    "\n",
    "\n",
    "def pairwise_agreement(annotators):\n",
    "    ''' \n",
    "    returns the p_pos for all combinations of two annotators\n",
    "    '''\n",
    "\n",
    "    agreements = [\n",
    "\n",
    "        (\n",
    "            (annotator_1[1], annotator_2[1]), # indexes of the compared annotators\n",
    "            get_agreement(annotator_1[0], annotator_2[0])\n",
    "        )\n",
    "\n",
    "        for annotator_1, annotator_2\n",
    "            in combinations(\n",
    "                zip(\n",
    "                    annotators,\n",
    "                    range(1, len(annotators) + 1)\n",
    "                ), \n",
    "                2\n",
    "            )\n",
    "    ]\n",
    "\n",
    "    return agreements"
   ]
  },
  {
   "cell_type": "code",
   "execution_count": null,
   "metadata": {},
   "outputs": [],
   "source": [
    "# runs above calculations on our data\n",
    "\n",
    "annotator_lists = []\n",
    "\n",
    "for annotator_file in ANNOTATED_FILES:\n",
    "    with open(ANNOTATION_FOLDER + 'annotations/' + annotator_file, 'r', encoding='utf-8') as file:\n",
    "        annotator_list = [\n",
    "            json.loads(line)\n",
    "            for line in file.readlines()\n",
    "        ]\n",
    "        annotator_lists.append(sorted(annotator_list, key=lambda x: x['id']))\n",
    "\n",
    "\n",
    "print(pairwise_agreement(annotator_lists))\n",
    "print(mean(x[1] for x in pairwise_agreement(annotator_lists)))"
   ]
  },
  {
   "cell_type": "code",
   "execution_count": null,
   "metadata": {},
   "outputs": [],
   "source": []
  },
  {
   "cell_type": "code",
   "execution_count": null,
   "metadata": {},
   "outputs": [],
   "source": []
  },
  {
   "cell_type": "code",
   "execution_count": null,
   "metadata": {},
   "outputs": [],
   "source": []
  }
 ],
 "metadata": {
  "kernelspec": {
   "display_name": "Python 3",
   "language": "python",
   "name": "python3"
  },
  "language_info": {
   "codemirror_mode": {
    "name": "ipython",
    "version": 3
   },
   "file_extension": ".py",
   "mimetype": "text/x-python",
   "name": "python",
   "nbconvert_exporter": "python",
   "pygments_lexer": "ipython3",
   "version": "3.10.11"
  }
 },
 "nbformat": 4,
 "nbformat_minor": 2
}

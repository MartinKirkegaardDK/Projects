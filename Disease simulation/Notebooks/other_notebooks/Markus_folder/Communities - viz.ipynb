{
 "cells": [
  {
   "cell_type": "code",
   "execution_count": 1,
   "id": "02a82edc",
   "metadata": {},
   "outputs": [],
   "source": [
    "import pandas as pd\n",
    "import networkx as nx\n",
    "import matplotlib.pyplot as plt\n",
    "\n",
    "import community as community_louvain\n",
    "import matplotlib.cm as cm\n",
    "import matplotlib.pyplot as plt\n",
    "from networkx.algorithms.community.centrality import girvan_newman\n",
    "from collections import Counter"
   ]
  },
  {
   "cell_type": "code",
   "execution_count": 2,
   "id": "1e982515",
   "metadata": {},
   "outputs": [],
   "source": [
    "df = pd.read_csv('../../../Data/final_cool_dataset.csv')"
   ]
  },
  {
   "cell_type": "code",
   "execution_count": 3,
   "id": "4a1df9b3",
   "metadata": {},
   "outputs": [],
   "source": [
    "coords = pd.read_json('../../../Data/total.json')"
   ]
  },
  {
   "cell_type": "code",
   "execution_count": 4,
   "id": "c139bf69",
   "metadata": {},
   "outputs": [],
   "source": [
    "coords = coords.T.reset_index()\n",
    "\n",
    "coords_origin = coords.rename(columns = {'index':'ORIGIN',0:'longitude_origin',1:'latitude_origin'})\n",
    "coords_dest = coords.rename(columns = {'index':'DEST',0:'longitude_dest',1:'latitude_dest'})\n",
    "\n",
    "data_filtered_coord = pd.merge(df,coords_origin, on = ['ORIGIN'])\n",
    "\n",
    "data_filtered_coord = pd.merge(data_filtered_coord,coords_dest, on = [\"DEST\"])\n",
    "\n",
    "mask1 = ~data_filtered_coord['ORIGIN'].isin(['SYA','TNK','RBN']) & ~data_filtered_coord['DEST'].isin(['SYA','TNK','RBN'])\n",
    "\n",
    "coords_name_df = pd.DataFrame()\n",
    "coords_name_df['ORIGIN'] = data_filtered_coord[mask1]['ORIGIN']\n",
    "coords_name_df['COORDS'] = list(zip(data_filtered_coord[mask1]['latitude_origin'],data_filtered_coord[mask1]['longitude_origin']))"
   ]
  },
  {
   "cell_type": "code",
   "execution_count": 5,
   "id": "45b53721",
   "metadata": {},
   "outputs": [],
   "source": [
    "G = nx.DiGraph()"
   ]
  },
  {
   "cell_type": "code",
   "execution_count": 6,
   "id": "09dc173f",
   "metadata": {},
   "outputs": [],
   "source": [
    "pos = dict()\n",
    "for i,j in zip(coords_name_df['ORIGIN'],coords_name_df['COORDS']):\n",
    "    pos[i] = (j[0],j[1])\n",
    "    G.add_node(i)"
   ]
  },
  {
   "cell_type": "code",
   "execution_count": 7,
   "id": "c34875c8",
   "metadata": {},
   "outputs": [],
   "source": [
    "for i,j in zip(data_filtered_coord[mask1]['ORIGIN'],data_filtered_coord[mask1]['DEST']):\n",
    "    G.add_edge(i,j)"
   ]
  },
  {
   "cell_type": "code",
   "execution_count": 8,
   "id": "bc7b24f9",
   "metadata": {},
   "outputs": [],
   "source": [
    "colors = ['red', 'green', '#ffe119', '#4363d8', '#f58231', '#911eb4', '#46f0f0', '#f032e6', '#bcf60c', '#fabebe', '#008080', '#e6beff', '#9a6324', '#fffac8', '#800000', '#aaffc3', '#808000', '#ffd8b1', '#000075', '#808080', '#ffffff', '#000000']"
   ]
  },
  {
   "cell_type": "code",
   "execution_count": 9,
   "id": "954e3e57",
   "metadata": {},
   "outputs": [],
   "source": [
    "dictresult = dict()\n",
    "list_comm = []\n",
    "for _ in range(10):\n",
    "    lp_test = list(nx.community.label_propagation.asyn_lpa_communities(G))\n",
    "    for i in G.nodes():\n",
    "        for j in range(len(lp_test)):\n",
    "            if i in lp_test[j]:\n",
    "                dictresult.setdefault(i,[]).append(j)"
   ]
  },
  {
   "cell_type": "code",
   "execution_count": 10,
   "id": "217b559d",
   "metadata": {},
   "outputs": [],
   "source": [
    "df1 = pd.DataFrame.from_dict(dictresult, dtype=object)"
   ]
  },
  {
   "cell_type": "code",
   "execution_count": 11,
   "id": "44130d2a",
   "metadata": {},
   "outputs": [],
   "source": [
    "df1 = df1.transpose()"
   ]
  },
  {
   "cell_type": "code",
   "execution_count": 12,
   "id": "bc8585be",
   "metadata": {},
   "outputs": [],
   "source": [
    "df2 = df1.copy()"
   ]
  },
  {
   "cell_type": "code",
   "execution_count": 13,
   "id": "56a1b9de",
   "metadata": {},
   "outputs": [],
   "source": [
    "for i in df2.iterrows():\n",
    "    for j in range(len(i[1])):\n",
    "        i[1][j] = colors[i[1][j]]"
   ]
  },
  {
   "cell_type": "code",
   "execution_count": null,
   "id": "17437aa9",
   "metadata": {},
   "outputs": [],
   "source": [
    "fig = plt.figure(figsize =(300,200))\n",
    "for _ in range(len(df2.columns)):\n",
    "    col_list = [df2.loc[node][_] for node in G.nodes]\n",
    "    nx.draw(G,pos = pos,with_labels = True,font_color = 'white',node_size = 5000,node_color = col_list,edge_color = 'lightgray')\n",
    "    plt.savefig('comm'+ str(_) +'.png')"
   ]
  },
  {
   "cell_type": "markdown",
   "id": "27f9806e",
   "metadata": {},
   "source": [
    "## TEST"
   ]
  },
  {
   "cell_type": "code",
   "execution_count": null,
   "id": "4373cbf5",
   "metadata": {},
   "outputs": [],
   "source": [
    "col_list = [df2.loc[node][0] for node in G.nodes]"
   ]
  },
  {
   "cell_type": "code",
   "execution_count": null,
   "id": "f4b73df9",
   "metadata": {},
   "outputs": [],
   "source": [
    "fig = plt.figure(figsize = (300,200))\n",
    "nx.draw(G,pos = pos,with_labels = True,font_color = 'white',node_size = 5000,node_color = col_list,edge_color = 'lightgray')"
   ]
  },
  {
   "cell_type": "markdown",
   "id": "6b8a3680",
   "metadata": {},
   "source": [
    "## OTHER IDEA"
   ]
  },
  {
   "cell_type": "code",
   "execution_count": null,
   "id": "b3996cd9",
   "metadata": {},
   "outputs": [],
   "source": [
    "dict_shared = dict()\n",
    "for i in range(10):\n",
    "    for A1 in dictresult.keys():\n",
    "        for A2 in dictresult.keys():\n",
    "            if dictresult[A1][i] == dictresult[A2][i]:\n",
    "                dict_shared.setdefault(A1, []).append(A2)"
   ]
  },
  {
   "cell_type": "code",
   "execution_count": null,
   "id": "5773d182",
   "metadata": {},
   "outputs": [],
   "source": [
    "dict_final = dict()\n",
    "for i,j in dict_shared.items():\n",
    "    dict_final[i] = Counter(j)"
   ]
  }
 ],
 "metadata": {
  "kernelspec": {
   "display_name": "Python 3",
   "language": "python",
   "name": "python3"
  },
  "language_info": {
   "codemirror_mode": {
    "name": "ipython",
    "version": 3
   },
   "file_extension": ".py",
   "mimetype": "text/x-python",
   "name": "python",
   "nbconvert_exporter": "python",
   "pygments_lexer": "ipython3",
   "version": "3.8.8"
  }
 },
 "nbformat": 4,
 "nbformat_minor": 5
}

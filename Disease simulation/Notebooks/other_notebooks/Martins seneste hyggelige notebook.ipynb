{
 "cells": [
  {
   "cell_type": "code",
   "execution_count": 1,
   "metadata": {},
   "outputs": [],
   "source": [
    "from bs4 import BeautifulSoup\n",
    "import requests\n",
    "import re"
   ]
  },
  {
   "cell_type": "code",
   "execution_count": 2,
   "metadata": {},
   "outputs": [],
   "source": [
    "airports = {'03A',\n",
    " '05A',\n",
    " '1NY',\n",
    " 'A02',\n",
    " 'A03',\n",
    " 'A37',\n",
    " 'A52',\n",
    " 'A71',\n",
    " 'A72',\n",
    " 'A73',\n",
    " 'A83',\n",
    " 'AA5',\n",
    " 'AA8',\n",
    " 'ABL',\n",
    " 'AET',\n",
    " 'AIN',\n",
    " 'AK3',\n",
    " 'AK6',\n",
    " 'AKB',\n",
    " 'AOS',\n",
    " 'ATT',\n",
    " 'AZ3',\n",
    " 'AZA',\n",
    " 'BFB',\n",
    " 'BFT',\n",
    " 'BKC',\n",
    " 'BKG',\n",
    " 'BLD',\n",
    " 'CDL',\n",
    " 'CIL',\n",
    " 'CKD',\n",
    " 'CLD',\n",
    " 'CLU',\n",
    " 'CT1',\n",
    " 'CT3',\n",
    " 'CYF',\n",
    " 'CYM',\n",
    " 'DGB',\n",
    " 'DIO',\n",
    " 'DJN',\n",
    " 'DOF',\n",
    " 'DQL',\n",
    " 'DQS',\n",
    " 'DQV',\n",
    " 'DRF',\n",
    " 'DRG',\n",
    " 'EDA',\n",
    " 'EGX',\n",
    " 'EMK',\n",
    " 'ESD',\n",
    " 'FCA',\n",
    " 'FID',\n",
    " 'FRD',\n",
    " 'FRY',\n",
    " 'FVQ',\n",
    " 'FVZ',\n",
    " 'FWL',\n",
    " 'GA5',\n",
    " 'GDC',\n",
    " 'GEK',\n",
    " 'GMT',\n",
    " 'HAR',\n",
    " 'HBH',\n",
    " 'HGZ',\n",
    " 'HHH',\n",
    " 'HKB',\n",
    " 'HLI',\n",
    " 'HSH',\n",
    " 'HSL',\n",
    " 'II3',\n",
    " 'IRC',\n",
    " 'ISS',\n",
    " 'JRV',\n",
    " 'JZE',\n",
    " 'JZM',\n",
    " 'JZT',\n",
    " 'KBC',\n",
    " 'KCG',\n",
    " 'KCQ',\n",
    " 'KEH',\n",
    " 'KGK',\n",
    " 'KKH',\n",
    " 'KLL',\n",
    " 'KLN',\n",
    " 'KLW',\n",
    " 'KMO',\n",
    " 'KNK',\n",
    " 'KOT',\n",
    " 'KOZ',\n",
    " 'KPN',\n",
    " 'KPV',\n",
    " 'KUK',\n",
    " 'KWN',\n",
    " 'KY1',\n",
    " 'KY3',\n",
    " 'LIJ',\n",
    " 'LIV',\n",
    " 'LKE',\n",
    " 'LMA',\n",
    " 'LNI',\n",
    " 'LPS',\n",
    " 'LVD',\n",
    " 'MA4',\n",
    " 'MA5',\n",
    " 'MDR',\n",
    " 'MEO',\n",
    " 'MI2',\n",
    " 'MLL',\n",
    " 'MNT',\n",
    " 'MQT',\n",
    " 'MVW',\n",
    " 'MXY',\n",
    " 'NCN',\n",
    " 'NHZ',\n",
    " 'NIB',\n",
    " 'NJ1',\n",
    " 'NJ5',\n",
    " 'NKI',\n",
    " 'NLG',\n",
    " 'NME',\n",
    " 'NNK',\n",
    " 'NNL',\n",
    " 'NPT',\n",
    " 'NUP',\n",
    " 'NV3',\n",
    " 'NY4',\n",
    " 'NY8',\n",
    " 'NZC',\n",
    " 'ODW',\n",
    " 'OHC',\n",
    " 'OLH',\n",
    " 'OPH',\n",
    " 'OR2',\n",
    " 'ORV',\n",
    " 'OTS',\n",
    " 'PBK',\n",
    " 'PCT',\n",
    " 'PDB',\n",
    " 'PGC',\n",
    " 'PIP',\n",
    " 'PML',\n",
    " 'PPV',\n",
    " 'PQS',\n",
    " 'PTA',\n",
    " 'PUO',\n",
    " 'QMN',\n",
    " 'QQB',\n",
    " 'QQN',\n",
    " 'RBH',\n",
    " 'RBN',\n",
    " 'RDB',\n",
    " 'RLU',\n",
    " 'ROP',\n",
    " 'RQI',\n",
    " 'RQZ',\n",
    " 'RSJ',\n",
    " 'SC4',\n",
    " 'SC5',\n",
    " 'SCE',\n",
    " 'SCF',\n",
    " 'SKK',\n",
    " 'SPN',\n",
    " 'STG',\n",
    " 'SYB',\n",
    " 'TEH',\n",
    " 'TEK',\n",
    " 'TIQ',\n",
    " 'TLA',\n",
    " 'TLF',\n",
    " 'TN4',\n",
    " 'TN6',\n",
    " 'TNK',\n",
    " 'TWA',\n",
    " 'TWD',\n",
    " 'UBF',\n",
    " 'UGI',\n",
    " 'UGS',\n",
    " 'UST',\n",
    " 'UTM',\n",
    " 'UUK',\n",
    " 'UXA',\n",
    " 'UXI',\n",
    " 'UXM',\n",
    " 'UXO',\n",
    " 'UXR',\n",
    " 'VIK',\n",
    " 'VT1',\n",
    " 'VWK',\n",
    " 'VWZ',\n",
    " 'VZY',\n",
    " 'WAA',\n",
    " 'WFB',\n",
    " 'WHD',\n",
    " 'WKK',\n",
    " 'WMK',\n",
    " 'WOW',\n",
    " 'WQZ',\n",
    " 'WSX',\n",
    " 'WTL',\n",
    " 'WWA',\n",
    " 'WWP',\n",
    " 'WYB',\n",
    " 'XXP',\n",
    " 'XXT',\n",
    " 'XXY',\n",
    " 'YUM',\n",
    " 'ZXH',\n",
    " 'ZXM',\n",
    " 'ZXN',\n",
    " 'ZXU'}"
   ]
  },
  {
   "cell_type": "code",
   "execution_count": 3,
   "metadata": {},
   "outputs": [],
   "source": [
    "webpage = \"https://www.myskymap.com/airport/details/\""
   ]
  },
  {
   "cell_type": "code",
   "execution_count": 4,
   "metadata": {},
   "outputs": [],
   "source": [
    "dictionary = dict()\n",
    "for elm in airports:\n",
    "    \n",
    "    source = requests.get(webpage + elm).text\n",
    "    soup = BeautifulSoup(source, \"html\")\n",
    "    for script in soup([\"script\",\"style\"]):\n",
    "        script.extract()\n",
    "    string = soup.get_text()\n",
    "    string = string.lower()\n",
    "    \n",
    "    string = re.sub(\"\\n\",\"\",string)\n",
    "    string = re.sub('[°\\'\"]', \"-\", string)\n",
    "    t_dict = dict()\n",
    "    latitude = re.search(\"latitude:(.*?)longitude:\",string).group(1)\n",
    "    latitude = re.sub('n', \"N\", latitude)\n",
    "    \n",
    "    # string[:idx_to_remove] + string[idx_to_remove_plus_1:]\n",
    "   \n",
    "    if latitude != '---':\n",
    "        latitude = latitude[:-2] + latitude[-1:]\n",
    "        #print(latitude)\n",
    "        t_dict[\"latitude\"] = latitude\n",
    "       # print(\"latitude\", latitude)\n",
    "        longitude = re.search(\"longitude:(.*?)altitude\",string).group(1)\n",
    "        longitude = re.sub('w', \"W\", longitude)\n",
    "        longitude = longitude[:-2] + longitude[-1:]\n",
    "        t_dict[\"longitude\"] = longitude\n",
    "       # print(\"longitude\", longitude)\n",
    "        dictionary[elm] = t_dict"
   ]
  },
  {
   "cell_type": "code",
   "execution_count": 5,
   "metadata": {
    "scrolled": true
   },
   "outputs": [
    {
     "data": {
      "text/plain": [
       "{'latitude': '44-1-0N', 'longitude': '70-59-0W'}"
      ]
     },
     "execution_count": 5,
     "metadata": {},
     "output_type": "execute_result"
    }
   ],
   "source": [
    "dictionary[\"FRY\"]"
   ]
  },
  {
   "cell_type": "code",
   "execution_count": 6,
   "metadata": {},
   "outputs": [
    {
     "data": {
      "text/plain": [
       "{'latitude': '34-12-0s', 'longitude': '150-37-0e'}"
      ]
     },
     "execution_count": 6,
     "metadata": {},
     "output_type": "execute_result"
    }
   ],
   "source": [
    "dictionary[\"PBK\"]"
   ]
  },
  {
   "cell_type": "code",
   "execution_count": null,
   "metadata": {},
   "outputs": [],
   "source": []
  },
  {
   "cell_type": "code",
   "execution_count": 7,
   "metadata": {},
   "outputs": [],
   "source": [
    "import json\n",
    "import pandas as pd"
   ]
  },
  {
   "cell_type": "code",
   "execution_count": 8,
   "metadata": {},
   "outputs": [],
   "source": [
    "def coordinates(lat,long):\n",
    "    #latitude = \"20-55-70.010N\"\n",
    "    latitude = lat\n",
    "    N = 'N' in latitude\n",
    "    d, m, s = map(float, latitude[:-1].split('-'))\n",
    "    latitude = (d + m / 60. + s / 3600.) * (1 if N else -1)\n",
    "    longitude = long\n",
    "    #longitude = \"32-11-50.000W\"\n",
    "    W = 'W' in longitude\n",
    "    d, m, s = map(float, longitude[:-1].split('-'))\n",
    "    longitude = (d + m / 60. + s / 3600.) * (-1 if W else 1)    \n",
    "    return [str(latitude), str(longitude)]"
   ]
  },
  {
   "cell_type": "code",
   "execution_count": null,
   "metadata": {},
   "outputs": [],
   "source": []
  },
  {
   "cell_type": "code",
   "execution_count": null,
   "metadata": {},
   "outputs": [],
   "source": []
  },
  {
   "cell_type": "code",
   "execution_count": 9,
   "metadata": {},
   "outputs": [],
   "source": [
    "for elm in dictionary.items():\n",
    "    t = coordinates(elm[1][\"latitude\"], elm[1][\"longitude\"])\n",
    "    dictionary[elm[0]] = t\n",
    "    "
   ]
  },
  {
   "cell_type": "code",
   "execution_count": 10,
   "metadata": {},
   "outputs": [],
   "source": [
    "dictionary[\"PBK\"] = [\"57.8\",\"-134.4\"]"
   ]
  },
  {
   "cell_type": "code",
   "execution_count": 11,
   "metadata": {},
   "outputs": [],
   "source": [
    "dictionary[\"TEH\"] = [\"63.1\", \"-142.5\"]"
   ]
  },
  {
   "cell_type": "code",
   "execution_count": 12,
   "metadata": {},
   "outputs": [],
   "source": [
    "dictionary[\"VIK\"] = coordinates(\"69-40-36.3950N\",\"146-54-00.1650W\")"
   ]
  },
  {
   "cell_type": "code",
   "execution_count": 13,
   "metadata": {},
   "outputs": [],
   "source": [
    "dictionary[\"TEK\"] = coordinates(\"60-52-21N\",\"146-41-28W\")"
   ]
  },
  {
   "cell_type": "code",
   "execution_count": 14,
   "metadata": {},
   "outputs": [],
   "source": [
    "dictionary[\"TWA\"] = coordinates(\"59-04-28N\",\"160-16-30W\")"
   ]
  },
  {
   "cell_type": "code",
   "execution_count": 15,
   "metadata": {},
   "outputs": [],
   "source": [
    "dictionary[\"NHZ\"] = coordinates(\"43-53-32N\",\"69-56-20W\")"
   ]
  },
  {
   "cell_type": "code",
   "execution_count": 16,
   "metadata": {},
   "outputs": [],
   "source": [
    "dictionary[\"PUO\"] = [\"70.2519\", \"-148.343\"]"
   ]
  },
  {
   "cell_type": "code",
   "execution_count": 17,
   "metadata": {},
   "outputs": [],
   "source": [
    "dictionary[\"AHM\"] = [\"42.1903\", \"-122.6610031\"]"
   ]
  },
  {
   "cell_type": "code",
   "execution_count": 18,
   "metadata": {},
   "outputs": [],
   "source": [
    "dictionary[\"RBN\"] = [\"19.833\", \"-72.5\"]"
   ]
  },
  {
   "cell_type": "code",
   "execution_count": 24,
   "metadata": {},
   "outputs": [],
   "source": [
    "dictionary[\"TNK\"] = [\"60.570833\", \"-165.266667\"]"
   ]
  },
  {
   "cell_type": "code",
   "execution_count": 19,
   "metadata": {},
   "outputs": [],
   "source": [
    "dictionary[\"BLD\"] = coordinates(\"35-56-50N\" ,\"114-51-37W\")"
   ]
  },
  {
   "cell_type": "code",
   "execution_count": 20,
   "metadata": {},
   "outputs": [],
   "source": [
    "dictionary[\"WTL\"] = coordinates(\"60-20-07N\", \"162-40-01W\")"
   ]
  },
  {
   "cell_type": "code",
   "execution_count": 21,
   "metadata": {},
   "outputs": [],
   "source": [
    "with open(\"../../Data/more_airports.json\", \"w\") as outfile:\n",
    "    json.dump(dictionary, outfile)"
   ]
  },
  {
   "cell_type": "code",
   "execution_count": 23,
   "metadata": {},
   "outputs": [
    {
     "data": {
      "text/plain": [
       "['60.33527777777778', '-162.66694444444443']"
      ]
     },
     "execution_count": 23,
     "metadata": {},
     "output_type": "execute_result"
    }
   ],
   "source": [
    "coordinates(\"60-20-07N\", \"162-40-01W\")"
   ]
  },
  {
   "cell_type": "code",
   "execution_count": null,
   "metadata": {},
   "outputs": [],
   "source": [
    "#THis under here is T R A S H"
   ]
  },
  {
   "cell_type": "code",
   "execution_count": null,
   "metadata": {},
   "outputs": [],
   "source": []
  },
  {
   "cell_type": "code",
   "execution_count": null,
   "metadata": {},
   "outputs": [],
   "source": []
  },
  {
   "cell_type": "code",
   "execution_count": null,
   "metadata": {},
   "outputs": [],
   "source": [
    "airport_info = pd.read_csv(\"../../Data/us-airports.csv\",delimiter=\",\")"
   ]
  },
  {
   "cell_type": "code",
   "execution_count": null,
   "metadata": {},
   "outputs": [],
   "source": [
    "airport_info[airport_info[\"local_code\"] == \"PDB\"]"
   ]
  },
  {
   "cell_type": "code",
   "execution_count": null,
   "metadata": {},
   "outputs": [],
   "source": []
  },
  {
   "cell_type": "code",
   "execution_count": null,
   "metadata": {},
   "outputs": [],
   "source": [
    "data = pd.read_csv(\"../../Data/final_cool_dataset.csv\")"
   ]
  },
  {
   "cell_type": "code",
   "execution_count": null,
   "metadata": {},
   "outputs": [],
   "source": [
    "data[data[\"ORIGIN\"] == \"BLD\"]"
   ]
  },
  {
   "cell_type": "code",
   "execution_count": null,
   "metadata": {},
   "outputs": [],
   "source": []
  },
  {
   "cell_type": "code",
   "execution_count": null,
   "metadata": {},
   "outputs": [],
   "source": [
    "coordinates_df = pd.read_csv(\"../../Data/Airports.csv\")"
   ]
  },
  {
   "cell_type": "code",
   "execution_count": null,
   "metadata": {},
   "outputs": [],
   "source": [
    "coordinates_df = coordinates_df.rename(columns={'Y': 'LAT', 'X': 'LONG'})\n",
    "coordinates_df = coordinates_df[[\"LONG\",\"LAT\",\"Loc_Id\"]]"
   ]
  },
  {
   "cell_type": "code",
   "execution_count": null,
   "metadata": {},
   "outputs": [],
   "source": [
    "new_names = pd.read_csv(\"../../Data/us-airports.csv\")\n",
    "new_names = new_names[[\"latitude_deg\",\"longitude_deg\",\"local_code\"]]\n",
    "new_names = new_names.iloc[1: , :]\n",
    "new_names = new_names[new_names['local_code'].notna()]\n",
    "new_names = new_names.rename(columns = {\"local_code\" :\"ORIGIN\"})"
   ]
  },
  {
   "cell_type": "code",
   "execution_count": null,
   "metadata": {},
   "outputs": [],
   "source": []
  }
 ],
 "metadata": {
  "kernelspec": {
   "display_name": "Python 3",
   "language": "python",
   "name": "python3"
  },
  "language_info": {
   "codemirror_mode": {
    "name": "ipython",
    "version": 3
   },
   "file_extension": ".py",
   "mimetype": "text/x-python",
   "name": "python",
   "nbconvert_exporter": "python",
   "pygments_lexer": "ipython3",
   "version": "3.7.4"
  }
 },
 "nbformat": 4,
 "nbformat_minor": 4
}

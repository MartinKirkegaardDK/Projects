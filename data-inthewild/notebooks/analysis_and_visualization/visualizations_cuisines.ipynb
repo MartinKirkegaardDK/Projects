{
 "cells": [
  {
   "cell_type": "code",
   "execution_count": null,
   "metadata": {},
   "outputs": [],
   "source": [
    "import json\n",
    "from collections import defaultdict\n",
    "\n",
    "import matplotlib.pyplot as plt\n",
    "from matplotlib.colors import LinearSegmentedColormap\n",
    "import pandas as pd\n",
    "import seaborn as sns\n",
    "\n",
    "rc = {'axes.facecolor':'white',\n",
    "      'axes.grid' : False,\n",
    "      'axes.spines.bottom': False,\n",
    "      'axes.spines.left': False,\n",
    "      'axes.spines.right': False,\n",
    "      'axes.spines.top': False,\n",
    "      'savefig.transparent': False}\n",
    "plt.rcParams.update(rc)"
   ]
  },
  {
   "cell_type": "code",
   "execution_count": null,
   "metadata": {},
   "outputs": [],
   "source": [
    "DATA_PATH = '../../data/processed/data.json'\n",
    "VISUALIZATION_FOLDER = '../../visualizations/geographical_tags/'"
   ]
  },
  {
   "cell_type": "code",
   "execution_count": null,
   "metadata": {},
   "outputs": [],
   "source": [
    "with open(DATA_PATH, 'r', encoding='utf-8') as f:\n",
    "    data = json.load(f)"
   ]
  },
  {
   "cell_type": "code",
   "execution_count": null,
   "metadata": {},
   "outputs": [],
   "source": [
    "flattened = {'recipe': [], 'geo_tag': []}\n",
    "\n",
    "for recipe in data:\n",
    "    for geo_tag in data[recipe]['geographical_tags_updated']:\n",
    "        flattened['recipe'].append(recipe)\n",
    "        flattened['geo_tag'].append(geo_tag)\n",
    "\n",
    "df_flattened = pd.DataFrame(flattened)"
   ]
  },
  {
   "cell_type": "code",
   "execution_count": null,
   "metadata": {},
   "outputs": [],
   "source": [
    "plt.figure(figsize=(8, 8))\n",
    "sns.countplot(y='geo_tag', data=df_flattened, order=df_flattened['geo_tag'].value_counts().index, color='#86c29f')\n",
    "plt.xlabel('Count')\n",
    "plt.ylabel('')\n",
    "plt.savefig(VISUALIZATION_FOLDER + 'geo_tags.png', dpi=300, bbox_inches='tight')\n",
    "plt.show()\n"
   ]
  },
  {
   "cell_type": "code",
   "execution_count": null,
   "metadata": {},
   "outputs": [],
   "source": [
    "geo_tags = set()\n",
    "amount_each = defaultdict(lambda: 0)\n",
    "\n",
    "for val in data.values():\n",
    "    for geo_tag in val['geographical_tags_updated']:\n",
    "        geo_tags.add(geo_tag)\n",
    "        amount_each[geo_tag] += 1"
   ]
  },
  {
   "cell_type": "code",
   "execution_count": null,
   "metadata": {},
   "outputs": [],
   "source": [
    "label_matrix = pd.DataFrame(0.0, index=list(geo_tags), columns=list(geo_tags))\n",
    "\n",
    "\n",
    "for recipe, val in data.items():\n",
    "    for tag in val['geographical_tags_updated']:\n",
    "        for other_tag in val['geographical_tags_updated']:\n",
    "            if tag == other_tag:\n",
    "                continue\n",
    "            label_matrix.at[tag, other_tag] += 1 / amount_each[tag] \n",
    "\n",
    "\n",
    "plt.figure(figsize=(12, 10))\n",
    "#cmap_ = sns.color_palette(\"light:green\", as_cmap=True)\n",
    "cmap_colors = [(1, 1, 1), (0, 0.5, 0.2)] \n",
    "cmap_ = LinearSegmentedColormap.from_list('white_to_green', cmap_colors, N=256)\n",
    "heatmap = sns.heatmap(label_matrix, annot=False, linewidths=.5, cmap=cmap_)\n",
    "cbar = heatmap.collections[0].colorbar\n",
    "cbar.ax.tick_params(labelsize='x-large')\n",
    "plt.xticks(fontsize='x-large')\n",
    "plt.yticks(fontsize='x-large')\n",
    "plt.savefig(VISUALIZATION_FOLDER + \"tag_cooccurrence.png\", dpi=300, bbox_inches='tight')\n",
    "plt.show()"
   ]
  },
  {
   "cell_type": "code",
   "execution_count": null,
   "metadata": {},
   "outputs": [],
   "source": [
    "len(geo_tags)"
   ]
  },
  {
   "cell_type": "code",
   "execution_count": null,
   "metadata": {},
   "outputs": [],
   "source": []
  }
 ],
 "metadata": {
  "kernelspec": {
   "display_name": "Python 3",
   "language": "python",
   "name": "python3"
  },
  "language_info": {
   "codemirror_mode": {
    "name": "ipython",
    "version": 3
   },
   "file_extension": ".py",
   "mimetype": "text/x-python",
   "name": "python",
   "nbconvert_exporter": "python",
   "pygments_lexer": "ipython3",
   "version": "3.10.11"
  }
 },
 "nbformat": 4,
 "nbformat_minor": 2
}

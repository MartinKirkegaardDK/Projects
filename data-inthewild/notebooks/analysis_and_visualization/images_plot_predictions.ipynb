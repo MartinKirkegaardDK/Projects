{
 "cells": [
  {
   "cell_type": "code",
   "execution_count": null,
   "metadata": {},
   "outputs": [],
   "source": [
    "import yaml\n",
    "import sys\n",
    "sys.path.append(\"../../src\")\n",
    "from images import get_predictions\n",
    "from images import plot_predictions\n",
    "from images import create_train_test\n",
    "from images import to_tensorflow\n",
    "from images import create_model\n",
    "import os"
   ]
  },
  {
   "cell_type": "code",
   "execution_count": null,
   "metadata": {},
   "outputs": [],
   "source": [
    "with open(\"../../ml_models/images/image_model.yaml\", \"r\") as f:\n",
    "    macro_soft_f1_config = yaml.safe_load(f)\n",
    "\n",
    "INPUT_SHAPE = (224,224,3)\n",
    "\n",
    "data_path = \"../../data/processed/data.json\"\n",
    "#This splits the recepies into train and test. This doesn't actually load the features of the data\n",
    "X_train, X_val, y_train, y_val = create_train_test(macro_soft_f1_config,data_path, \"geographical_tags_updated\")\n",
    "\n",
    "#This part loads in the data as tensorflow objects\n",
    "train_ds, val_ds, N_LABELS, y_val_bin, mlb = to_tensorflow(X_train, X_val, y_train, y_val, macro_soft_f1_config)"
   ]
  },
  {
   "cell_type": "code",
   "execution_count": null,
   "metadata": {},
   "outputs": [],
   "source": [
    "#model_path = f\"../ML Models/tags/{macro_soft_f1_config['LOSS_FUNCTION']}/\"\n",
    "#number = str(len(os.listdir(model_path)))\n",
    "#model_path += \"final_model_50_epochs.h5\"\n",
    "\n",
    "model_path = '../../ml_models/images/final_model_25_epochs.h5'\n",
    "\n",
    "#Load weights\n",
    "model = create_model(macro_soft_f1_config, INPUT_SHAPE, N_LABELS)\n",
    "model.load_weights(model_path)"
   ]
  },
  {
   "cell_type": "code",
   "execution_count": null,
   "metadata": {},
   "outputs": [],
   "source": [
    "predictions = get_predictions(model, mlb, val_ds, boundary = 0.95)"
   ]
  },
  {
   "cell_type": "code",
   "execution_count": null,
   "metadata": {},
   "outputs": [],
   "source": [
    "plot_predictions(predictions,X_val,y_val,\"macro_soft_f1\",5)"
   ]
  },
  {
   "cell_type": "code",
   "execution_count": null,
   "metadata": {},
   "outputs": [],
   "source": []
  }
 ],
 "metadata": {
  "kernelspec": {
   "display_name": "tensorflow",
   "language": "python",
   "name": "python3"
  },
  "language_info": {
   "codemirror_mode": {
    "name": "ipython",
    "version": 3
   },
   "file_extension": ".py",
   "mimetype": "text/x-python",
   "name": "python",
   "nbconvert_exporter": "python",
   "pygments_lexer": "ipython3",
   "version": "3.10.11"
  },
  "orig_nbformat": 4
 },
 "nbformat": 4,
 "nbformat_minor": 2
}
